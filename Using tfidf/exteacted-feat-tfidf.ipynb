{
 "cells": [
  {
   "cell_type": "code",
   "execution_count": 1,
   "id": "4f64cd7f",
   "metadata": {
    "_cell_guid": "b1076dfc-b9ad-4769-8c92-a6c4dae69d19",
    "_uuid": "8f2839f25d086af736a60e9eeb907d3b93b6e0e5",
    "execution": {
     "iopub.execute_input": "2022-11-21T13:43:51.084040Z",
     "iopub.status.busy": "2022-11-21T13:43:51.082643Z",
     "iopub.status.idle": "2022-11-21T13:43:51.100795Z",
     "shell.execute_reply": "2022-11-21T13:43:51.099533Z"
    },
    "papermill": {
     "duration": 0.035344,
     "end_time": "2022-11-21T13:43:51.103757",
     "exception": false,
     "start_time": "2022-11-21T13:43:51.068413",
     "status": "completed"
    },
    "tags": []
   },
   "outputs": [
    {
     "name": "stdout",
     "output_type": "stream",
     "text": [
      "/kaggle/input/feedback-prize-english-language-learning/sample_submission.csv\n",
      "/kaggle/input/feedback-prize-english-language-learning/train.csv\n",
      "/kaggle/input/feedback-prize-english-language-learning/test.csv\n"
     ]
    }
   ],
   "source": [
    "# This Python 3 environment comes with many helpful analytics libraries installed\n",
    "# It is defined by the kaggle/python Docker image: https://github.com/kaggle/docker-python\n",
    "# For example, here's several helpful packages to load\n",
    "\n",
    "import numpy as np # linear algebra\n",
    "import pandas as pd # data processing, CSV file I/O (e.g. pd.read_csv)\n",
    "\n",
    "# Input data files are available in the read-only \"../input/\" directory\n",
    "# For example, running this (by clicking run or pressing Shift+Enter) will list all files under the input directory\n",
    "\n",
    "import os\n",
    "for dirname, _, filenames in os.walk('/kaggle/input'):\n",
    "    for filename in filenames:\n",
    "        print(os.path.join(dirname, filename))\n",
    "\n",
    "# You can write up to 20GB to the current directory (/kaggle/working/) that gets preserved as output when you create a version using \"Save & Run All\" \n",
    "# You can also write temporary files to /kaggle/temp/, but they won't be saved outside of the current session"
   ]
  },
  {
   "cell_type": "code",
   "execution_count": 2,
   "id": "ceb728ea",
   "metadata": {
    "execution": {
     "iopub.execute_input": "2022-11-21T13:43:51.127717Z",
     "iopub.status.busy": "2022-11-21T13:43:51.126966Z",
     "iopub.status.idle": "2022-11-21T13:43:51.131775Z",
     "shell.execute_reply": "2022-11-21T13:43:51.130959Z"
    },
    "papermill": {
     "duration": 0.019378,
     "end_time": "2022-11-21T13:43:51.133903",
     "exception": false,
     "start_time": "2022-11-21T13:43:51.114525",
     "status": "completed"
    },
    "tags": []
   },
   "outputs": [],
   "source": [
    "import pandas as pd\n",
    "import numpy as np"
   ]
  },
  {
   "cell_type": "code",
   "execution_count": 3,
   "id": "7f3a8e5c",
   "metadata": {
    "execution": {
     "iopub.execute_input": "2022-11-21T13:43:51.159731Z",
     "iopub.status.busy": "2022-11-21T13:43:51.158456Z",
     "iopub.status.idle": "2022-11-21T13:43:51.413686Z",
     "shell.execute_reply": "2022-11-21T13:43:51.412424Z"
    },
    "papermill": {
     "duration": 0.272517,
     "end_time": "2022-11-21T13:43:51.416936",
     "exception": false,
     "start_time": "2022-11-21T13:43:51.144419",
     "status": "completed"
    },
    "tags": []
   },
   "outputs": [],
   "source": [
    "X1=pd.read_csv(\"/kaggle/input/feedback-prize-english-language-learning/train.csv\")\n",
    "test=pd.read_csv(\"/kaggle/input/feedback-prize-english-language-learning/test.csv\")"
   ]
  },
  {
   "cell_type": "code",
   "execution_count": 4,
   "id": "f8e49de6",
   "metadata": {
    "execution": {
     "iopub.execute_input": "2022-11-21T13:43:51.440664Z",
     "iopub.status.busy": "2022-11-21T13:43:51.440177Z",
     "iopub.status.idle": "2022-11-21T13:43:51.446271Z",
     "shell.execute_reply": "2022-11-21T13:43:51.445151Z"
    },
    "papermill": {
     "duration": 0.02084,
     "end_time": "2022-11-21T13:43:51.448672",
     "exception": false,
     "start_time": "2022-11-21T13:43:51.427832",
     "status": "completed"
    },
    "tags": []
   },
   "outputs": [
    {
     "name": "stdout",
     "output_type": "stream",
     "text": [
      "(3911, 8)\n"
     ]
    }
   ],
   "source": [
    "print(X1.shape)"
   ]
  },
  {
   "cell_type": "code",
   "execution_count": 5,
   "id": "676fbeba",
   "metadata": {
    "execution": {
     "iopub.execute_input": "2022-11-21T13:43:51.472134Z",
     "iopub.status.busy": "2022-11-21T13:43:51.471659Z",
     "iopub.status.idle": "2022-11-21T13:43:51.476906Z",
     "shell.execute_reply": "2022-11-21T13:43:51.475590Z"
    },
    "papermill": {
     "duration": 0.020409,
     "end_time": "2022-11-21T13:43:51.479729",
     "exception": false,
     "start_time": "2022-11-21T13:43:51.459320",
     "status": "completed"
    },
    "tags": []
   },
   "outputs": [],
   "source": [
    "#y = X1[['syntax','cohesion','vocabulary','phraseology','grammar','conventions']] "
   ]
  },
  {
   "cell_type": "code",
   "execution_count": null,
   "id": "b47a1a4d",
   "metadata": {
    "papermill": {
     "duration": 0.010724,
     "end_time": "2022-11-21T13:43:51.501360",
     "exception": false,
     "start_time": "2022-11-21T13:43:51.490636",
     "status": "completed"
    },
    "tags": []
   },
   "outputs": [],
   "source": []
  },
  {
   "cell_type": "code",
   "execution_count": 6,
   "id": "acae3d68",
   "metadata": {
    "execution": {
     "iopub.execute_input": "2022-11-21T13:43:51.526498Z",
     "iopub.status.busy": "2022-11-21T13:43:51.526026Z",
     "iopub.status.idle": "2022-11-21T13:43:51.575870Z",
     "shell.execute_reply": "2022-11-21T13:43:51.574348Z"
    },
    "papermill": {
     "duration": 0.066147,
     "end_time": "2022-11-21T13:43:51.578827",
     "exception": false,
     "start_time": "2022-11-21T13:43:51.512680",
     "status": "completed"
    },
    "tags": []
   },
   "outputs": [
    {
     "name": "stdout",
     "output_type": "stream",
     "text": [
      "(3911, 8)\n"
     ]
    },
    {
     "data": {
      "text/html": [
       "<div>\n",
       "<style scoped>\n",
       "    .dataframe tbody tr th:only-of-type {\n",
       "        vertical-align: middle;\n",
       "    }\n",
       "\n",
       "    .dataframe tbody tr th {\n",
       "        vertical-align: top;\n",
       "    }\n",
       "\n",
       "    .dataframe thead th {\n",
       "        text-align: right;\n",
       "    }\n",
       "</style>\n",
       "<table border=\"1\" class=\"dataframe\">\n",
       "  <thead>\n",
       "    <tr style=\"text-align: right;\">\n",
       "      <th></th>\n",
       "      <th>text_id</th>\n",
       "      <th>full_text</th>\n",
       "      <th>cohesion</th>\n",
       "      <th>syntax</th>\n",
       "      <th>vocabulary</th>\n",
       "      <th>phraseology</th>\n",
       "      <th>grammar</th>\n",
       "      <th>conventions</th>\n",
       "    </tr>\n",
       "  </thead>\n",
       "  <tbody>\n",
       "    <tr>\n",
       "      <th>0</th>\n",
       "      <td>0016926B079C</td>\n",
       "      <td>I think that students would benefit from learn...</td>\n",
       "      <td>3.5</td>\n",
       "      <td>3.5</td>\n",
       "      <td>3.0</td>\n",
       "      <td>3.0</td>\n",
       "      <td>4.0</td>\n",
       "      <td>3.0</td>\n",
       "    </tr>\n",
       "    <tr>\n",
       "      <th>1</th>\n",
       "      <td>0022683E9EA5</td>\n",
       "      <td>When a problem is a change you have to let it ...</td>\n",
       "      <td>2.5</td>\n",
       "      <td>2.5</td>\n",
       "      <td>3.0</td>\n",
       "      <td>2.0</td>\n",
       "      <td>2.0</td>\n",
       "      <td>2.5</td>\n",
       "    </tr>\n",
       "    <tr>\n",
       "      <th>2</th>\n",
       "      <td>00299B378633</td>\n",
       "      <td>Dear, Principal\\n\\nIf u change the school poli...</td>\n",
       "      <td>3.0</td>\n",
       "      <td>3.5</td>\n",
       "      <td>3.0</td>\n",
       "      <td>3.0</td>\n",
       "      <td>3.0</td>\n",
       "      <td>2.5</td>\n",
       "    </tr>\n",
       "    <tr>\n",
       "      <th>3</th>\n",
       "      <td>003885A45F42</td>\n",
       "      <td>The best time in life is when you become yours...</td>\n",
       "      <td>4.5</td>\n",
       "      <td>4.5</td>\n",
       "      <td>4.5</td>\n",
       "      <td>4.5</td>\n",
       "      <td>4.0</td>\n",
       "      <td>5.0</td>\n",
       "    </tr>\n",
       "    <tr>\n",
       "      <th>4</th>\n",
       "      <td>0049B1DF5CCC</td>\n",
       "      <td>Small act of kindness can impact in other peop...</td>\n",
       "      <td>2.5</td>\n",
       "      <td>3.0</td>\n",
       "      <td>3.0</td>\n",
       "      <td>3.0</td>\n",
       "      <td>2.5</td>\n",
       "      <td>2.5</td>\n",
       "    </tr>\n",
       "  </tbody>\n",
       "</table>\n",
       "</div>"
      ],
      "text/plain": [
       "        text_id                                          full_text  cohesion  \\\n",
       "0  0016926B079C  I think that students would benefit from learn...       3.5   \n",
       "1  0022683E9EA5  When a problem is a change you have to let it ...       2.5   \n",
       "2  00299B378633  Dear, Principal\\n\\nIf u change the school poli...       3.0   \n",
       "3  003885A45F42  The best time in life is when you become yours...       4.5   \n",
       "4  0049B1DF5CCC  Small act of kindness can impact in other peop...       2.5   \n",
       "\n",
       "   syntax  vocabulary  phraseology  grammar  conventions  \n",
       "0     3.5         3.0          3.0      4.0          3.0  \n",
       "1     2.5         3.0          2.0      2.0          2.5  \n",
       "2     3.5         3.0          3.0      3.0          2.5  \n",
       "3     4.5         4.5          4.5      4.0          5.0  \n",
       "4     3.0         3.0          3.0      2.5          2.5  "
      ]
     },
     "execution_count": 6,
     "metadata": {},
     "output_type": "execute_result"
    }
   ],
   "source": [
    "X1 = X1.dropna(axis=1)        \n",
    "#X1 = X1.drop(columns=['syntax','cohesion','vocabulary','phraseology','grammar','conventions'])\n",
    "print(X1.shape)\n",
    "X1.head()"
   ]
  },
  {
   "cell_type": "code",
   "execution_count": 7,
   "id": "964ed723",
   "metadata": {
    "execution": {
     "iopub.execute_input": "2022-11-21T13:43:51.602526Z",
     "iopub.status.busy": "2022-11-21T13:43:51.602037Z",
     "iopub.status.idle": "2022-11-21T13:43:51.616624Z",
     "shell.execute_reply": "2022-11-21T13:43:51.615603Z"
    },
    "papermill": {
     "duration": 0.02942,
     "end_time": "2022-11-21T13:43:51.619117",
     "exception": false,
     "start_time": "2022-11-21T13:43:51.589697",
     "status": "completed"
    },
    "tags": []
   },
   "outputs": [],
   "source": [
    "X1_train = X1.loc[:int(len(X1.index)*0.8)]\n",
    "y_train = X1_train[['syntax','cohesion','vocabulary','phraseology','grammar','conventions']]\n",
    "X1_val = X1.loc[int(len(X1.index)*0.8)+1:int(len(X1.index)*0.9)]\n",
    "y_val = X1_val[['syntax','cohesion','vocabulary','phraseology','grammar','conventions']]\n",
    "X1_test = X1.loc[int(len(X1.index)*0.9)+1:]\n",
    "y_test = X1_test[['syntax','cohesion','vocabulary','phraseology','grammar','conventions']]\n",
    "\n",
    "#y_train = np.asarray(y1_train)\n",
    "#y_val = np.asarray(y1_val)  "
   ]
  },
  {
   "cell_type": "code",
   "execution_count": 8,
   "id": "1a805407",
   "metadata": {
    "execution": {
     "iopub.execute_input": "2022-11-21T13:43:51.642735Z",
     "iopub.status.busy": "2022-11-21T13:43:51.642283Z",
     "iopub.status.idle": "2022-11-21T13:43:51.660168Z",
     "shell.execute_reply": "2022-11-21T13:43:51.658786Z"
    },
    "papermill": {
     "duration": 0.032759,
     "end_time": "2022-11-21T13:43:51.662664",
     "exception": false,
     "start_time": "2022-11-21T13:43:51.629905",
     "status": "completed"
    },
    "tags": []
   },
   "outputs": [
    {
     "data": {
      "text/html": [
       "<div>\n",
       "<style scoped>\n",
       "    .dataframe tbody tr th:only-of-type {\n",
       "        vertical-align: middle;\n",
       "    }\n",
       "\n",
       "    .dataframe tbody tr th {\n",
       "        vertical-align: top;\n",
       "    }\n",
       "\n",
       "    .dataframe thead th {\n",
       "        text-align: right;\n",
       "    }\n",
       "</style>\n",
       "<table border=\"1\" class=\"dataframe\">\n",
       "  <thead>\n",
       "    <tr style=\"text-align: right;\">\n",
       "      <th></th>\n",
       "      <th>text_id</th>\n",
       "      <th>full_text</th>\n",
       "      <th>cohesion</th>\n",
       "      <th>syntax</th>\n",
       "      <th>vocabulary</th>\n",
       "      <th>phraseology</th>\n",
       "      <th>grammar</th>\n",
       "      <th>conventions</th>\n",
       "    </tr>\n",
       "  </thead>\n",
       "  <tbody>\n",
       "    <tr>\n",
       "      <th>0</th>\n",
       "      <td>0016926B079C</td>\n",
       "      <td>I think that students would benefit from learn...</td>\n",
       "      <td>3.5</td>\n",
       "      <td>3.5</td>\n",
       "      <td>3.0</td>\n",
       "      <td>3.0</td>\n",
       "      <td>4.0</td>\n",
       "      <td>3.0</td>\n",
       "    </tr>\n",
       "    <tr>\n",
       "      <th>1</th>\n",
       "      <td>0022683E9EA5</td>\n",
       "      <td>When a problem is a change you have to let it ...</td>\n",
       "      <td>2.5</td>\n",
       "      <td>2.5</td>\n",
       "      <td>3.0</td>\n",
       "      <td>2.0</td>\n",
       "      <td>2.0</td>\n",
       "      <td>2.5</td>\n",
       "    </tr>\n",
       "    <tr>\n",
       "      <th>2</th>\n",
       "      <td>00299B378633</td>\n",
       "      <td>Dear, Principal\\n\\nIf u change the school poli...</td>\n",
       "      <td>3.0</td>\n",
       "      <td>3.5</td>\n",
       "      <td>3.0</td>\n",
       "      <td>3.0</td>\n",
       "      <td>3.0</td>\n",
       "      <td>2.5</td>\n",
       "    </tr>\n",
       "    <tr>\n",
       "      <th>3</th>\n",
       "      <td>003885A45F42</td>\n",
       "      <td>The best time in life is when you become yours...</td>\n",
       "      <td>4.5</td>\n",
       "      <td>4.5</td>\n",
       "      <td>4.5</td>\n",
       "      <td>4.5</td>\n",
       "      <td>4.0</td>\n",
       "      <td>5.0</td>\n",
       "    </tr>\n",
       "    <tr>\n",
       "      <th>4</th>\n",
       "      <td>0049B1DF5CCC</td>\n",
       "      <td>Small act of kindness can impact in other peop...</td>\n",
       "      <td>2.5</td>\n",
       "      <td>3.0</td>\n",
       "      <td>3.0</td>\n",
       "      <td>3.0</td>\n",
       "      <td>2.5</td>\n",
       "      <td>2.5</td>\n",
       "    </tr>\n",
       "  </tbody>\n",
       "</table>\n",
       "</div>"
      ],
      "text/plain": [
       "        text_id                                          full_text  cohesion  \\\n",
       "0  0016926B079C  I think that students would benefit from learn...       3.5   \n",
       "1  0022683E9EA5  When a problem is a change you have to let it ...       2.5   \n",
       "2  00299B378633  Dear, Principal\\n\\nIf u change the school poli...       3.0   \n",
       "3  003885A45F42  The best time in life is when you become yours...       4.5   \n",
       "4  0049B1DF5CCC  Small act of kindness can impact in other peop...       2.5   \n",
       "\n",
       "   syntax  vocabulary  phraseology  grammar  conventions  \n",
       "0     3.5         3.0          3.0      4.0          3.0  \n",
       "1     2.5         3.0          2.0      2.0          2.5  \n",
       "2     3.5         3.0          3.0      3.0          2.5  \n",
       "3     4.5         4.5          4.5      4.0          5.0  \n",
       "4     3.0         3.0          3.0      2.5          2.5  "
      ]
     },
     "execution_count": 8,
     "metadata": {},
     "output_type": "execute_result"
    }
   ],
   "source": [
    "X1_train.head()"
   ]
  },
  {
   "cell_type": "code",
   "execution_count": 9,
   "id": "a7d23e6a",
   "metadata": {
    "execution": {
     "iopub.execute_input": "2022-11-21T13:43:51.686743Z",
     "iopub.status.busy": "2022-11-21T13:43:51.686246Z",
     "iopub.status.idle": "2022-11-21T13:43:51.695297Z",
     "shell.execute_reply": "2022-11-21T13:43:51.694417Z"
    },
    "papermill": {
     "duration": 0.023828,
     "end_time": "2022-11-21T13:43:51.697612",
     "exception": false,
     "start_time": "2022-11-21T13:43:51.673784",
     "status": "completed"
    },
    "tags": []
   },
   "outputs": [],
   "source": [
    "X1_train = X1_train.drop(columns=['syntax','cohesion','vocabulary','phraseology','grammar','conventions'])\n",
    "X1_test = X1_test.drop(columns=['syntax','cohesion','vocabulary','phraseology','grammar','conventions'])\n",
    "X1_val = X1_val.drop(columns=['syntax','cohesion','vocabulary','phraseology','grammar','conventions'])"
   ]
  },
  {
   "cell_type": "code",
   "execution_count": 10,
   "id": "6432398b",
   "metadata": {
    "execution": {
     "iopub.execute_input": "2022-11-21T13:43:51.721656Z",
     "iopub.status.busy": "2022-11-21T13:43:51.721172Z",
     "iopub.status.idle": "2022-11-21T13:43:51.732510Z",
     "shell.execute_reply": "2022-11-21T13:43:51.731494Z"
    },
    "papermill": {
     "duration": 0.026297,
     "end_time": "2022-11-21T13:43:51.734962",
     "exception": false,
     "start_time": "2022-11-21T13:43:51.708665",
     "status": "completed"
    },
    "tags": []
   },
   "outputs": [
    {
     "data": {
      "text/html": [
       "<div>\n",
       "<style scoped>\n",
       "    .dataframe tbody tr th:only-of-type {\n",
       "        vertical-align: middle;\n",
       "    }\n",
       "\n",
       "    .dataframe tbody tr th {\n",
       "        vertical-align: top;\n",
       "    }\n",
       "\n",
       "    .dataframe thead th {\n",
       "        text-align: right;\n",
       "    }\n",
       "</style>\n",
       "<table border=\"1\" class=\"dataframe\">\n",
       "  <thead>\n",
       "    <tr style=\"text-align: right;\">\n",
       "      <th></th>\n",
       "      <th>text_id</th>\n",
       "      <th>full_text</th>\n",
       "    </tr>\n",
       "  </thead>\n",
       "  <tbody>\n",
       "    <tr>\n",
       "      <th>0</th>\n",
       "      <td>0016926B079C</td>\n",
       "      <td>I think that students would benefit from learn...</td>\n",
       "    </tr>\n",
       "    <tr>\n",
       "      <th>1</th>\n",
       "      <td>0022683E9EA5</td>\n",
       "      <td>When a problem is a change you have to let it ...</td>\n",
       "    </tr>\n",
       "    <tr>\n",
       "      <th>2</th>\n",
       "      <td>00299B378633</td>\n",
       "      <td>Dear, Principal\\n\\nIf u change the school poli...</td>\n",
       "    </tr>\n",
       "    <tr>\n",
       "      <th>3</th>\n",
       "      <td>003885A45F42</td>\n",
       "      <td>The best time in life is when you become yours...</td>\n",
       "    </tr>\n",
       "    <tr>\n",
       "      <th>4</th>\n",
       "      <td>0049B1DF5CCC</td>\n",
       "      <td>Small act of kindness can impact in other peop...</td>\n",
       "    </tr>\n",
       "  </tbody>\n",
       "</table>\n",
       "</div>"
      ],
      "text/plain": [
       "        text_id                                          full_text\n",
       "0  0016926B079C  I think that students would benefit from learn...\n",
       "1  0022683E9EA5  When a problem is a change you have to let it ...\n",
       "2  00299B378633  Dear, Principal\\n\\nIf u change the school poli...\n",
       "3  003885A45F42  The best time in life is when you become yours...\n",
       "4  0049B1DF5CCC  Small act of kindness can impact in other peop..."
      ]
     },
     "execution_count": 10,
     "metadata": {},
     "output_type": "execute_result"
    }
   ],
   "source": [
    "X1_train.head()"
   ]
  },
  {
   "cell_type": "code",
   "execution_count": 11,
   "id": "a318f604",
   "metadata": {
    "execution": {
     "iopub.execute_input": "2022-11-21T13:43:51.759896Z",
     "iopub.status.busy": "2022-11-21T13:43:51.759354Z",
     "iopub.status.idle": "2022-11-21T13:43:53.619033Z",
     "shell.execute_reply": "2022-11-21T13:43:53.618033Z"
    },
    "papermill": {
     "duration": 1.875791,
     "end_time": "2022-11-21T13:43:53.621914",
     "exception": false,
     "start_time": "2022-11-21T13:43:51.746123",
     "status": "completed"
    },
    "tags": []
   },
   "outputs": [],
   "source": [
    "import nltk\n",
    "import statistics"
   ]
  },
  {
   "cell_type": "code",
   "execution_count": 12,
   "id": "1e93c37a",
   "metadata": {
    "execution": {
     "iopub.execute_input": "2022-11-21T13:43:53.647467Z",
     "iopub.status.busy": "2022-11-21T13:43:53.646053Z",
     "iopub.status.idle": "2022-11-21T13:43:53.657827Z",
     "shell.execute_reply": "2022-11-21T13:43:53.656975Z"
    },
    "papermill": {
     "duration": 0.027041,
     "end_time": "2022-11-21T13:43:53.660286",
     "exception": false,
     "start_time": "2022-11-21T13:43:53.633245",
     "status": "completed"
    },
    "tags": []
   },
   "outputs": [],
   "source": [
    "def tokenize_sentences(data):\n",
    "    sent_token = nltk.tokenize.sent_tokenize(data)\n",
    "    return sent_token, len(sent_token)\n",
    "\n",
    "# calls the tokenize_sentences method and returns the total number of sentences\n",
    "def sent_count(data):\n",
    "    return tokenize_sentences(data)[1]\n",
    "\n",
    "def tokenize_words(data, punc=False, remove_stop_words=False, lower=True):\n",
    "    if lower:\n",
    "        word_tokens = nltk.tokenize.word_tokenize(data.lower())\n",
    "    else:\n",
    "        word_tokens = nltk.tokenize.word_tokenize(data)\n",
    "    if punc:\n",
    "        word_tokens = [word for word in word_tokens if word.isalnum()]\n",
    "    if remove_stop_words:\n",
    "        stop_words = get_stop_words()\n",
    "        word_tokens = [word for word in word_tokens if word not in stop_words]\n",
    "        \n",
    "    return word_tokens, list(set(word_tokens)), len(word_tokens)\n",
    "\n",
    "# calls the tokenize_words method and returns the total number of tokens\n",
    "def word_count(data):\n",
    "    return tokenize_words(data)[2]\n",
    "\n",
    "def token_frequency(words):\n",
    "    frequency_of_tokens = nltk.FreqDist(words)\n",
    "    return frequency_of_tokens\n",
    "\n",
    "def token_length(data):\n",
    "    words = tokenize_words(data)[0]\n",
    "    len_of_tokens = {}\n",
    "    for word in words:\n",
    "        len_of_tokens[word] = len(word)\n",
    "    return len_of_tokens\n",
    "# calls the token_length method and returns the average of token lengths\n",
    "def avg_length(words):\n",
    "    return statistics.mean(token_length(words).values())"
   ]
  },
  {
   "cell_type": "code",
   "execution_count": 13,
   "id": "ce8f5aff",
   "metadata": {
    "execution": {
     "iopub.execute_input": "2022-11-21T13:43:53.685178Z",
     "iopub.status.busy": "2022-11-21T13:43:53.684434Z",
     "iopub.status.idle": "2022-11-21T13:43:53.691470Z",
     "shell.execute_reply": "2022-11-21T13:43:53.690402Z"
    },
    "papermill": {
     "duration": 0.022248,
     "end_time": "2022-11-21T13:43:53.693814",
     "exception": false,
     "start_time": "2022-11-21T13:43:53.671566",
     "status": "completed"
    },
    "tags": []
   },
   "outputs": [],
   "source": [
    "def sentence_length(sent):\n",
    "    len_of_sent = []\n",
    "    for s in sent:\n",
    "        len_of_sent.append(tokenize_words(s)[2])\n",
    "    return len_of_sent, statistics.mean(len_of_sent)\n",
    "def avg_word_sentence(data):\n",
    "        return sentence_length(tokenize_sentences(data)[0])[1]\n",
    "def char_count(data):\n",
    "    return len(data.lower().replace(' ',''))\n"
   ]
  },
  {
   "cell_type": "code",
   "execution_count": 14,
   "id": "91e50b42",
   "metadata": {
    "execution": {
     "iopub.execute_input": "2022-11-21T13:43:53.718066Z",
     "iopub.status.busy": "2022-11-21T13:43:53.717634Z",
     "iopub.status.idle": "2022-11-21T13:43:53.729200Z",
     "shell.execute_reply": "2022-11-21T13:43:53.727830Z"
    },
    "papermill": {
     "duration": 0.026931,
     "end_time": "2022-11-21T13:43:53.731796",
     "exception": false,
     "start_time": "2022-11-21T13:43:53.704865",
     "status": "completed"
    },
    "tags": []
   },
   "outputs": [],
   "source": [
    "def pos_tags(data):\n",
    "    sent = tokenize_sentences(data)[0]\n",
    "    \n",
    "    noun_count = 0\n",
    "    adj_count = 0\n",
    "    verb_count = 0\n",
    "    adv_count = 0\n",
    "    adp_count=0\n",
    "    conj_count = 0\n",
    "    det_count = 0\n",
    "    prt_count = 0\n",
    "    pron_count = 0\n",
    "    punct_count=0\n",
    "    \n",
    "    \n",
    "    for s in sent:\n",
    "        tags = nltk.pos_tag(tokenize_words(s)[0])\n",
    "        #print(tags)\n",
    "        for tag in tags:\n",
    "            if tag[1][0] == 'N':\n",
    "                noun_count += 1\n",
    "            elif tag[1][0] == 'J':\n",
    "                adj_count += 1\n",
    "            elif tag[1][0] == 'V':\n",
    "                verb_count += 1\n",
    "            elif tag[1][0] == 'R':\n",
    "                adv_count += 1\n",
    "            elif tag[1] == 'IN':\n",
    "                adp_count += 1\n",
    "            elif tag[1] == 'CC':\n",
    "                conj_count += 1\n",
    "            elif tag[1] == 'DT':\n",
    "                det_count += 1\n",
    "            elif tag[1] == 'PRT':\n",
    "                prt_count += 1\n",
    "            elif tag[1] == 'PRP' or tag[1] == 'PRP$' :\n",
    "                pron_count += 1\n",
    "            elif tag[1] == '.':\n",
    "                punct_count += 1\n",
    "                \n",
    "    return noun_count,adj_count,verb_count,adv_count , adp_count , conj_count, det_count , pron_count , punct_count\n",
    "\n"
   ]
  },
  {
   "cell_type": "code",
   "execution_count": 15,
   "id": "66f52f0c",
   "metadata": {
    "execution": {
     "iopub.execute_input": "2022-11-21T13:43:53.757524Z",
     "iopub.status.busy": "2022-11-21T13:43:53.756668Z",
     "iopub.status.idle": "2022-11-21T13:46:21.795581Z",
     "shell.execute_reply": "2022-11-21T13:46:21.794106Z"
    },
    "papermill": {
     "duration": 148.05541,
     "end_time": "2022-11-21T13:46:21.799036",
     "exception": false,
     "start_time": "2022-11-21T13:43:53.743626",
     "status": "completed"
    },
    "tags": []
   },
   "outputs": [],
   "source": [
    "X1['num_words'] = X1['full_text'].apply(word_count)\n",
    "X1['num_sents'] = X1['full_text'].apply(sent_count)\n",
    "X1['avg_word_length'] = X1['full_text'].apply(avg_length)\n",
    "X1['avg_word_sent'] = X1['full_text'].apply(avg_word_sentence)\n",
    "X1['noun_count'], X1['adj_count'], X1['verb_count'], X1['adv_count'], X1['adp_count'],X1['conj_count'], X1['det_count'], X1['pron_count'], X1['punct_count']  = zip(*X1['full_text'].map(pos_tags))\n",
    "                                                         \n"
   ]
  },
  {
   "cell_type": "code",
   "execution_count": 16,
   "id": "1bb634e1",
   "metadata": {
    "execution": {
     "iopub.execute_input": "2022-11-21T13:46:21.823851Z",
     "iopub.status.busy": "2022-11-21T13:46:21.823359Z",
     "iopub.status.idle": "2022-11-21T13:46:21.850177Z",
     "shell.execute_reply": "2022-11-21T13:46:21.849090Z"
    },
    "papermill": {
     "duration": 0.042005,
     "end_time": "2022-11-21T13:46:21.852650",
     "exception": false,
     "start_time": "2022-11-21T13:46:21.810645",
     "status": "completed"
    },
    "tags": []
   },
   "outputs": [
    {
     "data": {
      "text/html": [
       "<div>\n",
       "<style scoped>\n",
       "    .dataframe tbody tr th:only-of-type {\n",
       "        vertical-align: middle;\n",
       "    }\n",
       "\n",
       "    .dataframe tbody tr th {\n",
       "        vertical-align: top;\n",
       "    }\n",
       "\n",
       "    .dataframe thead th {\n",
       "        text-align: right;\n",
       "    }\n",
       "</style>\n",
       "<table border=\"1\" class=\"dataframe\">\n",
       "  <thead>\n",
       "    <tr style=\"text-align: right;\">\n",
       "      <th></th>\n",
       "      <th>text_id</th>\n",
       "      <th>full_text</th>\n",
       "      <th>cohesion</th>\n",
       "      <th>syntax</th>\n",
       "      <th>vocabulary</th>\n",
       "      <th>phraseology</th>\n",
       "      <th>grammar</th>\n",
       "      <th>conventions</th>\n",
       "      <th>num_words</th>\n",
       "      <th>num_sents</th>\n",
       "      <th>...</th>\n",
       "      <th>avg_word_sent</th>\n",
       "      <th>noun_count</th>\n",
       "      <th>adj_count</th>\n",
       "      <th>verb_count</th>\n",
       "      <th>adv_count</th>\n",
       "      <th>adp_count</th>\n",
       "      <th>conj_count</th>\n",
       "      <th>det_count</th>\n",
       "      <th>pron_count</th>\n",
       "      <th>punct_count</th>\n",
       "    </tr>\n",
       "  </thead>\n",
       "  <tbody>\n",
       "    <tr>\n",
       "      <th>0</th>\n",
       "      <td>0016926B079C</td>\n",
       "      <td>I think that students would benefit from learn...</td>\n",
       "      <td>3.5</td>\n",
       "      <td>3.5</td>\n",
       "      <td>3.0</td>\n",
       "      <td>3.0</td>\n",
       "      <td>4.0</td>\n",
       "      <td>3.0</td>\n",
       "      <td>283</td>\n",
       "      <td>18</td>\n",
       "      <td>...</td>\n",
       "      <td>15.722222</td>\n",
       "      <td>49</td>\n",
       "      <td>18</td>\n",
       "      <td>63</td>\n",
       "      <td>18</td>\n",
       "      <td>23</td>\n",
       "      <td>16</td>\n",
       "      <td>16</td>\n",
       "      <td>31</td>\n",
       "      <td>18</td>\n",
       "    </tr>\n",
       "    <tr>\n",
       "      <th>1</th>\n",
       "      <td>0022683E9EA5</td>\n",
       "      <td>When a problem is a change you have to let it ...</td>\n",
       "      <td>2.5</td>\n",
       "      <td>2.5</td>\n",
       "      <td>3.0</td>\n",
       "      <td>2.0</td>\n",
       "      <td>2.0</td>\n",
       "      <td>2.5</td>\n",
       "      <td>554</td>\n",
       "      <td>14</td>\n",
       "      <td>...</td>\n",
       "      <td>39.571429</td>\n",
       "      <td>88</td>\n",
       "      <td>42</td>\n",
       "      <td>131</td>\n",
       "      <td>27</td>\n",
       "      <td>59</td>\n",
       "      <td>32</td>\n",
       "      <td>38</td>\n",
       "      <td>57</td>\n",
       "      <td>14</td>\n",
       "    </tr>\n",
       "    <tr>\n",
       "      <th>2</th>\n",
       "      <td>00299B378633</td>\n",
       "      <td>Dear, Principal\\n\\nIf u change the school poli...</td>\n",
       "      <td>3.0</td>\n",
       "      <td>3.5</td>\n",
       "      <td>3.0</td>\n",
       "      <td>3.0</td>\n",
       "      <td>3.0</td>\n",
       "      <td>2.5</td>\n",
       "      <td>356</td>\n",
       "      <td>19</td>\n",
       "      <td>...</td>\n",
       "      <td>18.736842</td>\n",
       "      <td>60</td>\n",
       "      <td>30</td>\n",
       "      <td>71</td>\n",
       "      <td>25</td>\n",
       "      <td>47</td>\n",
       "      <td>13</td>\n",
       "      <td>26</td>\n",
       "      <td>30</td>\n",
       "      <td>19</td>\n",
       "    </tr>\n",
       "    <tr>\n",
       "      <th>3</th>\n",
       "      <td>003885A45F42</td>\n",
       "      <td>The best time in life is when you become yours...</td>\n",
       "      <td>4.5</td>\n",
       "      <td>4.5</td>\n",
       "      <td>4.5</td>\n",
       "      <td>4.5</td>\n",
       "      <td>4.0</td>\n",
       "      <td>5.0</td>\n",
       "      <td>836</td>\n",
       "      <td>36</td>\n",
       "      <td>...</td>\n",
       "      <td>23.222222</td>\n",
       "      <td>92</td>\n",
       "      <td>62</td>\n",
       "      <td>209</td>\n",
       "      <td>52</td>\n",
       "      <td>73</td>\n",
       "      <td>30</td>\n",
       "      <td>46</td>\n",
       "      <td>116</td>\n",
       "      <td>36</td>\n",
       "    </tr>\n",
       "    <tr>\n",
       "      <th>4</th>\n",
       "      <td>0049B1DF5CCC</td>\n",
       "      <td>Small act of kindness can impact in other peop...</td>\n",
       "      <td>2.5</td>\n",
       "      <td>3.0</td>\n",
       "      <td>3.0</td>\n",
       "      <td>3.0</td>\n",
       "      <td>2.5</td>\n",
       "      <td>2.5</td>\n",
       "      <td>237</td>\n",
       "      <td>3</td>\n",
       "      <td>...</td>\n",
       "      <td>79.000000</td>\n",
       "      <td>58</td>\n",
       "      <td>13</td>\n",
       "      <td>51</td>\n",
       "      <td>5</td>\n",
       "      <td>23</td>\n",
       "      <td>6</td>\n",
       "      <td>25</td>\n",
       "      <td>30</td>\n",
       "      <td>3</td>\n",
       "    </tr>\n",
       "  </tbody>\n",
       "</table>\n",
       "<p>5 rows × 21 columns</p>\n",
       "</div>"
      ],
      "text/plain": [
       "        text_id                                          full_text  cohesion  \\\n",
       "0  0016926B079C  I think that students would benefit from learn...       3.5   \n",
       "1  0022683E9EA5  When a problem is a change you have to let it ...       2.5   \n",
       "2  00299B378633  Dear, Principal\\n\\nIf u change the school poli...       3.0   \n",
       "3  003885A45F42  The best time in life is when you become yours...       4.5   \n",
       "4  0049B1DF5CCC  Small act of kindness can impact in other peop...       2.5   \n",
       "\n",
       "   syntax  vocabulary  phraseology  grammar  conventions  num_words  \\\n",
       "0     3.5         3.0          3.0      4.0          3.0        283   \n",
       "1     2.5         3.0          2.0      2.0          2.5        554   \n",
       "2     3.5         3.0          3.0      3.0          2.5        356   \n",
       "3     4.5         4.5          4.5      4.0          5.0        836   \n",
       "4     3.0         3.0          3.0      2.5          2.5        237   \n",
       "\n",
       "   num_sents  ...  avg_word_sent  noun_count  adj_count  verb_count  \\\n",
       "0         18  ...      15.722222          49         18          63   \n",
       "1         14  ...      39.571429          88         42         131   \n",
       "2         19  ...      18.736842          60         30          71   \n",
       "3         36  ...      23.222222          92         62         209   \n",
       "4          3  ...      79.000000          58         13          51   \n",
       "\n",
       "   adv_count  adp_count  conj_count  det_count  pron_count  punct_count  \n",
       "0         18         23          16         16          31           18  \n",
       "1         27         59          32         38          57           14  \n",
       "2         25         47          13         26          30           19  \n",
       "3         52         73          30         46         116           36  \n",
       "4          5         23           6         25          30            3  \n",
       "\n",
       "[5 rows x 21 columns]"
      ]
     },
     "execution_count": 16,
     "metadata": {},
     "output_type": "execute_result"
    }
   ],
   "source": [
    "X1.head()"
   ]
  },
  {
   "cell_type": "code",
   "execution_count": 17,
   "id": "cf0edc13",
   "metadata": {
    "execution": {
     "iopub.execute_input": "2022-11-21T13:46:21.881068Z",
     "iopub.status.busy": "2022-11-21T13:46:21.880094Z",
     "iopub.status.idle": "2022-11-21T13:46:21.888920Z",
     "shell.execute_reply": "2022-11-21T13:46:21.887585Z"
    },
    "papermill": {
     "duration": 0.026069,
     "end_time": "2022-11-21T13:46:21.891402",
     "exception": false,
     "start_time": "2022-11-21T13:46:21.865333",
     "status": "completed"
    },
    "tags": []
   },
   "outputs": [
    {
     "data": {
      "text/plain": [
       "(3911, 21)"
      ]
     },
     "execution_count": 17,
     "metadata": {},
     "output_type": "execute_result"
    }
   ],
   "source": [
    "X1.shape"
   ]
  },
  {
   "cell_type": "code",
   "execution_count": 18,
   "id": "9b1e896b",
   "metadata": {
    "execution": {
     "iopub.execute_input": "2022-11-21T13:46:21.917812Z",
     "iopub.status.busy": "2022-11-21T13:46:21.916890Z",
     "iopub.status.idle": "2022-11-21T13:46:28.665708Z",
     "shell.execute_reply": "2022-11-21T13:46:28.664349Z"
    },
    "papermill": {
     "duration": 6.765614,
     "end_time": "2022-11-21T13:46:28.668895",
     "exception": false,
     "start_time": "2022-11-21T13:46:21.903281",
     "status": "completed"
    },
    "tags": []
   },
   "outputs": [],
   "source": [
    "import tensorflow as tf\n",
    "from tensorflow.keras.layers import Embedding, LSTM, Dense, Dropout, Lambda, Flatten, Bidirectional\n",
    "from tensorflow.keras.models import Sequential, load_model, model_from_config\n",
    "import tensorflow.keras.backend as K \n",
    "from sklearn.metrics import mean_squared_error\n",
    "\n",
    "def get_model_nn():\n",
    "    model = tf.keras.Sequential()\n",
    "    model.add(tf.keras.layers.Dense(10, input_dim=13, activation='tanh'))\n",
    "#     model.add(Dropout(0.2))\n",
    "    model.add(tf.keras.layers.Dense(4, activation='tanh'))\n",
    "#     model.add(Dropout(0.2))\n",
    "    model.add(tf.keras.layers.Dense(1, activation='relu'))\n",
    "    print(model.summary())\n",
    "    model.compile(optimizer='rmsprop', loss='mean_squared_error', metrics=['accuracy'])\n",
    "    return model"
   ]
  },
  {
   "cell_type": "code",
   "execution_count": 19,
   "id": "2a97aaa7",
   "metadata": {
    "execution": {
     "iopub.execute_input": "2022-11-21T13:46:28.696267Z",
     "iopub.status.busy": "2022-11-21T13:46:28.695011Z",
     "iopub.status.idle": "2022-11-21T13:46:28.709021Z",
     "shell.execute_reply": "2022-11-21T13:46:28.707771Z"
    },
    "papermill": {
     "duration": 0.030648,
     "end_time": "2022-11-21T13:46:28.711881",
     "exception": false,
     "start_time": "2022-11-21T13:46:28.681233",
     "status": "completed"
    },
    "tags": []
   },
   "outputs": [],
   "source": [
    "X1_train = X1.loc[:int(len(X1.index)*0.8)]\n",
    "y_train = X1_train[['syntax','cohesion','vocabulary','phraseology','grammar','conventions']]\n",
    "X1_val = X1.loc[int(len(X1.index)*0.8)+1:int(len(X1.index)*0.9)]\n",
    "y_val = X1_val[['syntax','cohesion','vocabulary','phraseology','grammar','conventions']]\n",
    "X1_test = X1.loc[int(len(X1.index)*0.9)+1:]\n",
    "y_test = X1_test[['syntax','cohesion','vocabulary','phraseology','grammar','conventions']]"
   ]
  },
  {
   "cell_type": "code",
   "execution_count": 20,
   "id": "b3a25a5e",
   "metadata": {
    "execution": {
     "iopub.execute_input": "2022-11-21T13:46:28.737798Z",
     "iopub.status.busy": "2022-11-21T13:46:28.737010Z",
     "iopub.status.idle": "2022-11-21T13:46:28.745914Z",
     "shell.execute_reply": "2022-11-21T13:46:28.745043Z"
    },
    "papermill": {
     "duration": 0.024504,
     "end_time": "2022-11-21T13:46:28.748331",
     "exception": false,
     "start_time": "2022-11-21T13:46:28.723827",
     "status": "completed"
    },
    "tags": []
   },
   "outputs": [],
   "source": [
    "X1_train = X1_train.drop(columns=['syntax','cohesion','vocabulary','phraseology','grammar','conventions'])\n",
    "X1_val = X1_val.drop(columns=['syntax','cohesion','vocabulary','phraseology','grammar','conventions'])\n",
    "X1_test = X1_test.drop(columns=['syntax','cohesion','vocabulary','phraseology','grammar','conventions'])"
   ]
  },
  {
   "cell_type": "code",
   "execution_count": 21,
   "id": "e4efcf5f",
   "metadata": {
    "execution": {
     "iopub.execute_input": "2022-11-21T13:46:28.774501Z",
     "iopub.status.busy": "2022-11-21T13:46:28.773691Z",
     "iopub.status.idle": "2022-11-21T13:46:28.779756Z",
     "shell.execute_reply": "2022-11-21T13:46:28.778695Z"
    },
    "papermill": {
     "duration": 0.022216,
     "end_time": "2022-11-21T13:46:28.782309",
     "exception": false,
     "start_time": "2022-11-21T13:46:28.760093",
     "status": "completed"
    },
    "tags": []
   },
   "outputs": [],
   "source": [
    "\n",
    "a1=X1_train.copy()\n",
    "a2=X1_test.copy()\n",
    "a3=X1_val.copy()"
   ]
  },
  {
   "cell_type": "code",
   "execution_count": 22,
   "id": "36865c50",
   "metadata": {
    "execution": {
     "iopub.execute_input": "2022-11-21T13:46:28.807690Z",
     "iopub.status.busy": "2022-11-21T13:46:28.807162Z",
     "iopub.status.idle": "2022-11-21T13:46:28.825858Z",
     "shell.execute_reply": "2022-11-21T13:46:28.824677Z"
    },
    "papermill": {
     "duration": 0.034457,
     "end_time": "2022-11-21T13:46:28.828564",
     "exception": false,
     "start_time": "2022-11-21T13:46:28.794107",
     "status": "completed"
    },
    "tags": []
   },
   "outputs": [
    {
     "data": {
      "text/html": [
       "<div>\n",
       "<style scoped>\n",
       "    .dataframe tbody tr th:only-of-type {\n",
       "        vertical-align: middle;\n",
       "    }\n",
       "\n",
       "    .dataframe tbody tr th {\n",
       "        vertical-align: top;\n",
       "    }\n",
       "\n",
       "    .dataframe thead th {\n",
       "        text-align: right;\n",
       "    }\n",
       "</style>\n",
       "<table border=\"1\" class=\"dataframe\">\n",
       "  <thead>\n",
       "    <tr style=\"text-align: right;\">\n",
       "      <th></th>\n",
       "      <th>text_id</th>\n",
       "      <th>full_text</th>\n",
       "      <th>num_words</th>\n",
       "      <th>num_sents</th>\n",
       "      <th>avg_word_length</th>\n",
       "      <th>avg_word_sent</th>\n",
       "      <th>noun_count</th>\n",
       "      <th>adj_count</th>\n",
       "      <th>verb_count</th>\n",
       "      <th>adv_count</th>\n",
       "      <th>adp_count</th>\n",
       "      <th>conj_count</th>\n",
       "      <th>det_count</th>\n",
       "      <th>pron_count</th>\n",
       "      <th>punct_count</th>\n",
       "    </tr>\n",
       "  </thead>\n",
       "  <tbody>\n",
       "    <tr>\n",
       "      <th>0</th>\n",
       "      <td>0016926B079C</td>\n",
       "      <td>I think that students would benefit from learn...</td>\n",
       "      <td>283</td>\n",
       "      <td>18</td>\n",
       "      <td>4.631579</td>\n",
       "      <td>15.722222</td>\n",
       "      <td>49</td>\n",
       "      <td>18</td>\n",
       "      <td>63</td>\n",
       "      <td>18</td>\n",
       "      <td>23</td>\n",
       "      <td>16</td>\n",
       "      <td>16</td>\n",
       "      <td>31</td>\n",
       "      <td>18</td>\n",
       "    </tr>\n",
       "    <tr>\n",
       "      <th>1</th>\n",
       "      <td>0022683E9EA5</td>\n",
       "      <td>When a problem is a change you have to let it ...</td>\n",
       "      <td>554</td>\n",
       "      <td>14</td>\n",
       "      <td>4.362319</td>\n",
       "      <td>39.571429</td>\n",
       "      <td>88</td>\n",
       "      <td>42</td>\n",
       "      <td>131</td>\n",
       "      <td>27</td>\n",
       "      <td>59</td>\n",
       "      <td>32</td>\n",
       "      <td>38</td>\n",
       "      <td>57</td>\n",
       "      <td>14</td>\n",
       "    </tr>\n",
       "    <tr>\n",
       "      <th>2</th>\n",
       "      <td>00299B378633</td>\n",
       "      <td>Dear, Principal\\n\\nIf u change the school poli...</td>\n",
       "      <td>356</td>\n",
       "      <td>19</td>\n",
       "      <td>4.271930</td>\n",
       "      <td>18.736842</td>\n",
       "      <td>60</td>\n",
       "      <td>30</td>\n",
       "      <td>71</td>\n",
       "      <td>25</td>\n",
       "      <td>47</td>\n",
       "      <td>13</td>\n",
       "      <td>26</td>\n",
       "      <td>30</td>\n",
       "      <td>19</td>\n",
       "    </tr>\n",
       "    <tr>\n",
       "      <th>3</th>\n",
       "      <td>003885A45F42</td>\n",
       "      <td>The best time in life is when you become yours...</td>\n",
       "      <td>836</td>\n",
       "      <td>36</td>\n",
       "      <td>5.004831</td>\n",
       "      <td>23.222222</td>\n",
       "      <td>92</td>\n",
       "      <td>62</td>\n",
       "      <td>209</td>\n",
       "      <td>52</td>\n",
       "      <td>73</td>\n",
       "      <td>30</td>\n",
       "      <td>46</td>\n",
       "      <td>116</td>\n",
       "      <td>36</td>\n",
       "    </tr>\n",
       "    <tr>\n",
       "      <th>4</th>\n",
       "      <td>0049B1DF5CCC</td>\n",
       "      <td>Small act of kindness can impact in other peop...</td>\n",
       "      <td>237</td>\n",
       "      <td>3</td>\n",
       "      <td>4.613208</td>\n",
       "      <td>79.000000</td>\n",
       "      <td>58</td>\n",
       "      <td>13</td>\n",
       "      <td>51</td>\n",
       "      <td>5</td>\n",
       "      <td>23</td>\n",
       "      <td>6</td>\n",
       "      <td>25</td>\n",
       "      <td>30</td>\n",
       "      <td>3</td>\n",
       "    </tr>\n",
       "  </tbody>\n",
       "</table>\n",
       "</div>"
      ],
      "text/plain": [
       "        text_id                                          full_text  num_words  \\\n",
       "0  0016926B079C  I think that students would benefit from learn...        283   \n",
       "1  0022683E9EA5  When a problem is a change you have to let it ...        554   \n",
       "2  00299B378633  Dear, Principal\\n\\nIf u change the school poli...        356   \n",
       "3  003885A45F42  The best time in life is when you become yours...        836   \n",
       "4  0049B1DF5CCC  Small act of kindness can impact in other peop...        237   \n",
       "\n",
       "   num_sents  avg_word_length  avg_word_sent  noun_count  adj_count  \\\n",
       "0         18         4.631579      15.722222          49         18   \n",
       "1         14         4.362319      39.571429          88         42   \n",
       "2         19         4.271930      18.736842          60         30   \n",
       "3         36         5.004831      23.222222          92         62   \n",
       "4          3         4.613208      79.000000          58         13   \n",
       "\n",
       "   verb_count  adv_count  adp_count  conj_count  det_count  pron_count  \\\n",
       "0          63         18         23          16         16          31   \n",
       "1         131         27         59          32         38          57   \n",
       "2          71         25         47          13         26          30   \n",
       "3         209         52         73          30         46         116   \n",
       "4          51          5         23           6         25          30   \n",
       "\n",
       "   punct_count  \n",
       "0           18  \n",
       "1           14  \n",
       "2           19  \n",
       "3           36  \n",
       "4            3  "
      ]
     },
     "execution_count": 22,
     "metadata": {},
     "output_type": "execute_result"
    }
   ],
   "source": [
    "X1_train.head()"
   ]
  },
  {
   "cell_type": "code",
   "execution_count": 23,
   "id": "a9322f11",
   "metadata": {
    "execution": {
     "iopub.execute_input": "2022-11-21T13:46:28.856009Z",
     "iopub.status.busy": "2022-11-21T13:46:28.854683Z",
     "iopub.status.idle": "2022-11-21T13:46:28.872714Z",
     "shell.execute_reply": "2022-11-21T13:46:28.871455Z"
    },
    "papermill": {
     "duration": 0.034529,
     "end_time": "2022-11-21T13:46:28.875287",
     "exception": false,
     "start_time": "2022-11-21T13:46:28.840758",
     "status": "completed"
    },
    "tags": []
   },
   "outputs": [
    {
     "data": {
      "text/html": [
       "<div>\n",
       "<style scoped>\n",
       "    .dataframe tbody tr th:only-of-type {\n",
       "        vertical-align: middle;\n",
       "    }\n",
       "\n",
       "    .dataframe tbody tr th {\n",
       "        vertical-align: top;\n",
       "    }\n",
       "\n",
       "    .dataframe thead th {\n",
       "        text-align: right;\n",
       "    }\n",
       "</style>\n",
       "<table border=\"1\" class=\"dataframe\">\n",
       "  <thead>\n",
       "    <tr style=\"text-align: right;\">\n",
       "      <th></th>\n",
       "      <th>syntax</th>\n",
       "      <th>cohesion</th>\n",
       "      <th>vocabulary</th>\n",
       "      <th>phraseology</th>\n",
       "      <th>grammar</th>\n",
       "      <th>conventions</th>\n",
       "    </tr>\n",
       "  </thead>\n",
       "  <tbody>\n",
       "    <tr>\n",
       "      <th>3129</th>\n",
       "      <td>2.5</td>\n",
       "      <td>3.0</td>\n",
       "      <td>3.0</td>\n",
       "      <td>2.5</td>\n",
       "      <td>2.5</td>\n",
       "      <td>2.5</td>\n",
       "    </tr>\n",
       "    <tr>\n",
       "      <th>3130</th>\n",
       "      <td>3.0</td>\n",
       "      <td>2.0</td>\n",
       "      <td>3.0</td>\n",
       "      <td>3.0</td>\n",
       "      <td>3.0</td>\n",
       "      <td>3.0</td>\n",
       "    </tr>\n",
       "    <tr>\n",
       "      <th>3131</th>\n",
       "      <td>3.5</td>\n",
       "      <td>3.5</td>\n",
       "      <td>4.0</td>\n",
       "      <td>3.0</td>\n",
       "      <td>4.0</td>\n",
       "      <td>4.0</td>\n",
       "    </tr>\n",
       "    <tr>\n",
       "      <th>3132</th>\n",
       "      <td>2.0</td>\n",
       "      <td>2.5</td>\n",
       "      <td>2.5</td>\n",
       "      <td>2.0</td>\n",
       "      <td>2.0</td>\n",
       "      <td>2.5</td>\n",
       "    </tr>\n",
       "    <tr>\n",
       "      <th>3133</th>\n",
       "      <td>3.0</td>\n",
       "      <td>3.0</td>\n",
       "      <td>3.0</td>\n",
       "      <td>2.0</td>\n",
       "      <td>3.0</td>\n",
       "      <td>3.5</td>\n",
       "    </tr>\n",
       "  </tbody>\n",
       "</table>\n",
       "</div>"
      ],
      "text/plain": [
       "      syntax  cohesion  vocabulary  phraseology  grammar  conventions\n",
       "3129     2.5       3.0         3.0          2.5      2.5          2.5\n",
       "3130     3.0       2.0         3.0          3.0      3.0          3.0\n",
       "3131     3.5       3.5         4.0          3.0      4.0          4.0\n",
       "3132     2.0       2.5         2.5          2.0      2.0          2.5\n",
       "3133     3.0       3.0         3.0          2.0      3.0          3.5"
      ]
     },
     "execution_count": 23,
     "metadata": {},
     "output_type": "execute_result"
    }
   ],
   "source": [
    "y_val.head()"
   ]
  },
  {
   "cell_type": "code",
   "execution_count": 24,
   "id": "127cb0cc",
   "metadata": {
    "execution": {
     "iopub.execute_input": "2022-11-21T13:46:28.902283Z",
     "iopub.status.busy": "2022-11-21T13:46:28.901765Z",
     "iopub.status.idle": "2022-11-21T13:46:28.912069Z",
     "shell.execute_reply": "2022-11-21T13:46:28.910770Z"
    },
    "papermill": {
     "duration": 0.026613,
     "end_time": "2022-11-21T13:46:28.914428",
     "exception": false,
     "start_time": "2022-11-21T13:46:28.887815",
     "status": "completed"
    },
    "tags": []
   },
   "outputs": [],
   "source": [
    "y1_train=y_train[\"syntax\"]\n",
    "y2_train=y_train[\"cohesion\"]\n",
    "y3_train=y_train[\"vocabulary\"]\n",
    "y4_train=y_train[\"phraseology\"]\n",
    "y5_train=y_train[\"grammar\"]\n",
    "y6_train=y_train[\"conventions\"]\n",
    "\n",
    "y1_val=y_val[\"syntax\"]\n",
    "y2_val=y_val[\"cohesion\"]\n",
    "y3_val=y_val[\"vocabulary\"]\n",
    "y4_val=y_val[\"phraseology\"]\n",
    "y5_val=y_val[\"grammar\"]\n",
    "y6_val=y_val[\"conventions\"]\n",
    "\n",
    "y1_test=y_test[\"syntax\"]\n",
    "y2_test=y_test[\"cohesion\"]\n",
    "y3_test=y_test[\"vocabulary\"]\n",
    "y4_test=y_test[\"phraseology\"]\n",
    "y5_test=y_test[\"grammar\"]\n",
    "y6_test=y_test[\"conventions\"]"
   ]
  },
  {
   "cell_type": "code",
   "execution_count": 25,
   "id": "a3778e20",
   "metadata": {
    "execution": {
     "iopub.execute_input": "2022-11-21T13:46:28.940996Z",
     "iopub.status.busy": "2022-11-21T13:46:28.940129Z",
     "iopub.status.idle": "2022-11-21T13:46:29.246107Z",
     "shell.execute_reply": "2022-11-21T13:46:29.244603Z"
    },
    "papermill": {
     "duration": 0.323578,
     "end_time": "2022-11-21T13:46:29.250141",
     "exception": false,
     "start_time": "2022-11-21T13:46:28.926563",
     "status": "completed"
    },
    "tags": []
   },
   "outputs": [
    {
     "name": "stderr",
     "output_type": "stream",
     "text": [
      "2022-11-21 13:46:28.988472: I tensorflow/core/common_runtime/process_util.cc:146] Creating new thread pool with default inter op setting: 2. Tune using inter_op_parallelism_threads for best performance.\n"
     ]
    },
    {
     "name": "stdout",
     "output_type": "stream",
     "text": [
      "Model: \"sequential\"\n",
      "_________________________________________________________________\n",
      "Layer (type)                 Output Shape              Param #   \n",
      "=================================================================\n",
      "dense (Dense)                (None, 10)                140       \n",
      "_________________________________________________________________\n",
      "dense_1 (Dense)              (None, 4)                 44        \n",
      "_________________________________________________________________\n",
      "dense_2 (Dense)              (None, 1)                 5         \n",
      "=================================================================\n",
      "Total params: 189\n",
      "Trainable params: 189\n",
      "Non-trainable params: 0\n",
      "_________________________________________________________________\n",
      "None\n",
      "Model: \"sequential_1\"\n",
      "_________________________________________________________________\n",
      "Layer (type)                 Output Shape              Param #   \n",
      "=================================================================\n",
      "dense_3 (Dense)              (None, 10)                140       \n",
      "_________________________________________________________________\n",
      "dense_4 (Dense)              (None, 4)                 44        \n",
      "_________________________________________________________________\n",
      "dense_5 (Dense)              (None, 1)                 5         \n",
      "=================================================================\n",
      "Total params: 189\n",
      "Trainable params: 189\n",
      "Non-trainable params: 0\n",
      "_________________________________________________________________\n",
      "None\n",
      "Model: \"sequential_2\"\n",
      "_________________________________________________________________\n",
      "Layer (type)                 Output Shape              Param #   \n",
      "=================================================================\n",
      "dense_6 (Dense)              (None, 10)                140       \n",
      "_________________________________________________________________\n",
      "dense_7 (Dense)              (None, 4)                 44        \n",
      "_________________________________________________________________\n",
      "dense_8 (Dense)              (None, 1)                 5         \n",
      "=================================================================\n",
      "Total params: 189\n",
      "Trainable params: 189\n",
      "Non-trainable params: 0\n",
      "_________________________________________________________________\n",
      "None\n",
      "Model: \"sequential_3\"\n",
      "_________________________________________________________________\n",
      "Layer (type)                 Output Shape              Param #   \n",
      "=================================================================\n",
      "dense_9 (Dense)              (None, 10)                140       \n",
      "_________________________________________________________________\n",
      "dense_10 (Dense)             (None, 4)                 44        \n",
      "_________________________________________________________________\n",
      "dense_11 (Dense)             (None, 1)                 5         \n",
      "=================================================================\n",
      "Total params: 189\n",
      "Trainable params: 189\n",
      "Non-trainable params: 0\n",
      "_________________________________________________________________\n",
      "None\n",
      "Model: \"sequential_4\"\n",
      "_________________________________________________________________\n",
      "Layer (type)                 Output Shape              Param #   \n",
      "=================================================================\n",
      "dense_12 (Dense)             (None, 10)                140       \n",
      "_________________________________________________________________\n",
      "dense_13 (Dense)             (None, 4)                 44        \n",
      "_________________________________________________________________\n",
      "dense_14 (Dense)             (None, 1)                 5         \n",
      "=================================================================\n",
      "Total params: 189\n",
      "Trainable params: 189\n",
      "Non-trainable params: 0\n",
      "_________________________________________________________________\n",
      "None\n",
      "Model: \"sequential_5\"\n",
      "_________________________________________________________________\n",
      "Layer (type)                 Output Shape              Param #   \n",
      "=================================================================\n",
      "dense_15 (Dense)             (None, 10)                140       \n",
      "_________________________________________________________________\n",
      "dense_16 (Dense)             (None, 4)                 44        \n",
      "_________________________________________________________________\n",
      "dense_17 (Dense)             (None, 1)                 5         \n",
      "=================================================================\n",
      "Total params: 189\n",
      "Trainable params: 189\n",
      "Non-trainable params: 0\n",
      "_________________________________________________________________\n",
      "None\n"
     ]
    }
   ],
   "source": [
    "embedding_model1 = get_model_nn()\n",
    "embedding_model2 = get_model_nn()\n",
    "embedding_model3 = get_model_nn()\n",
    "embedding_model4= get_model_nn()\n",
    "embedding_model5 = get_model_nn()\n",
    "embedding_model6 = get_model_nn()"
   ]
  },
  {
   "cell_type": "code",
   "execution_count": 26,
   "id": "aa9b3bbc",
   "metadata": {
    "execution": {
     "iopub.execute_input": "2022-11-21T13:46:29.279058Z",
     "iopub.status.busy": "2022-11-21T13:46:29.278595Z",
     "iopub.status.idle": "2022-11-21T13:46:29.285173Z",
     "shell.execute_reply": "2022-11-21T13:46:29.283901Z"
    },
    "papermill": {
     "duration": 0.024214,
     "end_time": "2022-11-21T13:46:29.288134",
     "exception": false,
     "start_time": "2022-11-21T13:46:29.263920",
     "status": "completed"
    },
    "tags": []
   },
   "outputs": [
    {
     "name": "stdout",
     "output_type": "stream",
     "text": [
      "(3129, 15)\n",
      "(391, 15)\n",
      "(3129,)\n",
      "(391,)\n"
     ]
    }
   ],
   "source": [
    "print(X1_train.shape)\n",
    "print(X1_val.shape)\n",
    "print(y1_train.shape)\n",
    "print(y1_val.shape)"
   ]
  },
  {
   "cell_type": "code",
   "execution_count": 27,
   "id": "abdd2750",
   "metadata": {
    "execution": {
     "iopub.execute_input": "2022-11-21T13:46:29.316021Z",
     "iopub.status.busy": "2022-11-21T13:46:29.315570Z",
     "iopub.status.idle": "2022-11-21T13:46:29.323815Z",
     "shell.execute_reply": "2022-11-21T13:46:29.322546Z"
    },
    "papermill": {
     "duration": 0.025431,
     "end_time": "2022-11-21T13:46:29.326619",
     "exception": false,
     "start_time": "2022-11-21T13:46:29.301188",
     "status": "completed"
    },
    "tags": []
   },
   "outputs": [],
   "source": [
    "y1_train = np.asarray(y1_train)\n",
    "y1_val = np.asarray(y1_val)  \n",
    "\n",
    "y2_train = np.asarray(y2_train)\n",
    "y2_val = np.asarray(y2_val)  \n",
    "\n",
    "y3_train = np.asarray(y3_train)\n",
    "y3_val = np.asarray(y3_val)  \n",
    "\n",
    "y4_train = np.asarray(y4_train)\n",
    "y4_val = np.asarray(y4_val)  \n",
    "\n",
    "y5_train = np.asarray(y5_train)\n",
    "y5_val = np.asarray(y5_val)  \n",
    "\n",
    "y6_train = np.asarray(y6_train)\n",
    "y6_val = np.asarray(y6_val)  "
   ]
  },
  {
   "cell_type": "code",
   "execution_count": 28,
   "id": "61ccf9b3",
   "metadata": {
    "execution": {
     "iopub.execute_input": "2022-11-21T13:46:29.354594Z",
     "iopub.status.busy": "2022-11-21T13:46:29.354055Z",
     "iopub.status.idle": "2022-11-21T13:46:29.363706Z",
     "shell.execute_reply": "2022-11-21T13:46:29.362076Z"
    },
    "papermill": {
     "duration": 0.026699,
     "end_time": "2022-11-21T13:46:29.366290",
     "exception": false,
     "start_time": "2022-11-21T13:46:29.339591",
     "status": "completed"
    },
    "tags": []
   },
   "outputs": [
    {
     "name": "stdout",
     "output_type": "stream",
     "text": [
      "(3129, 13)\n"
     ]
    }
   ],
   "source": [
    "X1_train = X1_train.drop(columns=['full_text','text_id'])\n",
    "X1_val = X1_val.drop(columns=['full_text','text_id'])\n",
    "print(X1_train.shape)"
   ]
  },
  {
   "cell_type": "code",
   "execution_count": 29,
   "id": "b37de948",
   "metadata": {
    "execution": {
     "iopub.execute_input": "2022-11-21T13:46:29.394584Z",
     "iopub.status.busy": "2022-11-21T13:46:29.393778Z",
     "iopub.status.idle": "2022-11-21T13:46:32.556121Z",
     "shell.execute_reply": "2022-11-21T13:46:32.555219Z"
    },
    "papermill": {
     "duration": 3.179148,
     "end_time": "2022-11-21T13:46:32.558561",
     "exception": false,
     "start_time": "2022-11-21T13:46:29.379413",
     "status": "completed"
    },
    "tags": []
   },
   "outputs": [
    {
     "name": "stderr",
     "output_type": "stream",
     "text": [
      "2022-11-21 13:46:29.494518: I tensorflow/compiler/mlir/mlir_graph_optimization_pass.cc:185] None of the MLIR Optimization Passes are enabled (registered 2)\n"
     ]
    },
    {
     "name": "stdout",
     "output_type": "stream",
     "text": [
      "Epoch 1/10\n",
      "98/98 [==============================] - 1s 4ms/step - loss: 3.3477 - accuracy: 0.0026 - val_loss: 1.7850 - val_accuracy: 0.0026\n",
      "Epoch 2/10\n",
      "98/98 [==============================] - 0s 2ms/step - loss: 1.2470 - accuracy: 0.0029 - val_loss: 0.7083 - val_accuracy: 0.0026\n",
      "Epoch 3/10\n",
      "98/98 [==============================] - 0s 2ms/step - loss: 0.5619 - accuracy: 0.0029 - val_loss: 0.4330 - val_accuracy: 0.0026\n",
      "Epoch 4/10\n",
      "98/98 [==============================] - 0s 2ms/step - loss: 0.4193 - accuracy: 0.0029 - val_loss: 0.4246 - val_accuracy: 0.0026\n",
      "Epoch 5/10\n",
      "98/98 [==============================] - 0s 2ms/step - loss: 0.4118 - accuracy: 0.0029 - val_loss: 0.4286 - val_accuracy: 0.0026\n",
      "Epoch 6/10\n",
      "98/98 [==============================] - 0s 2ms/step - loss: 0.4104 - accuracy: 0.0029 - val_loss: 0.4281 - val_accuracy: 0.0026\n",
      "Epoch 7/10\n",
      "98/98 [==============================] - 0s 2ms/step - loss: 0.4054 - accuracy: 0.0029 - val_loss: 0.4225 - val_accuracy: 0.0026\n",
      "Epoch 8/10\n",
      "98/98 [==============================] - 0s 2ms/step - loss: 0.4014 - accuracy: 0.0029 - val_loss: 0.4217 - val_accuracy: 0.0026\n",
      "Epoch 9/10\n",
      "98/98 [==============================] - 0s 2ms/step - loss: 0.3990 - accuracy: 0.0029 - val_loss: 0.4194 - val_accuracy: 0.0026\n",
      "Epoch 10/10\n",
      "98/98 [==============================] - 0s 2ms/step - loss: 0.3946 - accuracy: 0.0029 - val_loss: 0.4110 - val_accuracy: 0.0026\n"
     ]
    },
    {
     "data": {
      "text/plain": [
       "<keras.callbacks.History at 0x7f47db9f49d0>"
      ]
     },
     "execution_count": 29,
     "metadata": {},
     "output_type": "execute_result"
    }
   ],
   "source": [
    "\n",
    "embedding_model1.fit(X1_train, y1_train, epochs=10,validation_data=(X1_val,y1_val))\n"
   ]
  },
  {
   "cell_type": "code",
   "execution_count": 30,
   "id": "cfbad7ae",
   "metadata": {
    "execution": {
     "iopub.execute_input": "2022-11-21T13:46:32.592791Z",
     "iopub.status.busy": "2022-11-21T13:46:32.591916Z",
     "iopub.status.idle": "2022-11-21T13:46:47.929001Z",
     "shell.execute_reply": "2022-11-21T13:46:47.927551Z"
    },
    "papermill": {
     "duration": 15.356966,
     "end_time": "2022-11-21T13:46:47.932092",
     "exception": false,
     "start_time": "2022-11-21T13:46:32.575126",
     "status": "completed"
    },
    "tags": []
   },
   "outputs": [
    {
     "name": "stdout",
     "output_type": "stream",
     "text": [
      "Epoch 1/10\n",
      "98/98 [==============================] - 1s 4ms/step - loss: 10.2555 - accuracy: 0.0000e+00 - val_loss: 9.9572 - val_accuracy: 0.0000e+00\n",
      "Epoch 2/10\n",
      "98/98 [==============================] - 0s 2ms/step - loss: 10.2555 - accuracy: 0.0000e+00 - val_loss: 9.9572 - val_accuracy: 0.0000e+00\n",
      "Epoch 3/10\n",
      "98/98 [==============================] - 0s 2ms/step - loss: 10.2555 - accuracy: 0.0000e+00 - val_loss: 9.9572 - val_accuracy: 0.0000e+00\n",
      "Epoch 4/10\n",
      "98/98 [==============================] - 0s 2ms/step - loss: 10.2555 - accuracy: 0.0000e+00 - val_loss: 9.9572 - val_accuracy: 0.0000e+00\n",
      "Epoch 5/10\n",
      "98/98 [==============================] - 0s 2ms/step - loss: 10.2555 - accuracy: 0.0000e+00 - val_loss: 9.9572 - val_accuracy: 0.0000e+00\n",
      "Epoch 6/10\n",
      "98/98 [==============================] - 0s 2ms/step - loss: 10.2555 - accuracy: 0.0000e+00 - val_loss: 9.9572 - val_accuracy: 0.0000e+00\n",
      "Epoch 7/10\n",
      "98/98 [==============================] - 0s 2ms/step - loss: 10.2555 - accuracy: 0.0000e+00 - val_loss: 9.9572 - val_accuracy: 0.0000e+00\n",
      "Epoch 8/10\n",
      "98/98 [==============================] - 0s 3ms/step - loss: 10.2555 - accuracy: 0.0000e+00 - val_loss: 9.9572 - val_accuracy: 0.0000e+00\n",
      "Epoch 9/10\n",
      "98/98 [==============================] - 0s 2ms/step - loss: 10.2555 - accuracy: 0.0000e+00 - val_loss: 9.9572 - val_accuracy: 0.0000e+00\n",
      "Epoch 10/10\n",
      "98/98 [==============================] - 0s 2ms/step - loss: 10.2555 - accuracy: 0.0000e+00 - val_loss: 9.9572 - val_accuracy: 0.0000e+00\n",
      "Epoch 1/10\n",
      "98/98 [==============================] - 1s 5ms/step - loss: 10.8513 - accuracy: 0.0000e+00 - val_loss: 10.6618 - val_accuracy: 0.0000e+00\n",
      "Epoch 2/10\n",
      "98/98 [==============================] - 0s 4ms/step - loss: 10.8513 - accuracy: 0.0000e+00 - val_loss: 10.6618 - val_accuracy: 0.0000e+00\n",
      "Epoch 3/10\n",
      "98/98 [==============================] - 0s 3ms/step - loss: 10.8513 - accuracy: 0.0000e+00 - val_loss: 10.6618 - val_accuracy: 0.0000e+00\n",
      "Epoch 4/10\n",
      "98/98 [==============================] - 0s 3ms/step - loss: 10.8513 - accuracy: 0.0000e+00 - val_loss: 10.6618 - val_accuracy: 0.0000e+00\n",
      "Epoch 5/10\n",
      "98/98 [==============================] - 0s 2ms/step - loss: 10.8513 - accuracy: 0.0000e+00 - val_loss: 10.6618 - val_accuracy: 0.0000e+00\n",
      "Epoch 6/10\n",
      "98/98 [==============================] - 0s 2ms/step - loss: 10.8513 - accuracy: 0.0000e+00 - val_loss: 10.6618 - val_accuracy: 0.0000e+00\n",
      "Epoch 7/10\n",
      "98/98 [==============================] - 0s 2ms/step - loss: 10.8513 - accuracy: 0.0000e+00 - val_loss: 10.6618 - val_accuracy: 0.0000e+00\n",
      "Epoch 8/10\n",
      "98/98 [==============================] - 0s 2ms/step - loss: 10.8513 - accuracy: 0.0000e+00 - val_loss: 10.6618 - val_accuracy: 0.0000e+00\n",
      "Epoch 9/10\n",
      "98/98 [==============================] - 0s 2ms/step - loss: 10.8513 - accuracy: 0.0000e+00 - val_loss: 10.6618 - val_accuracy: 0.0000e+00\n",
      "Epoch 10/10\n",
      "98/98 [==============================] - 0s 2ms/step - loss: 10.8513 - accuracy: 0.0000e+00 - val_loss: 10.6618 - val_accuracy: 0.0000e+00\n",
      "Epoch 1/10\n",
      "98/98 [==============================] - 1s 4ms/step - loss: 1.7082 - accuracy: 0.0029 - val_loss: 0.4864 - val_accuracy: 0.0000e+00\n",
      "Epoch 2/10\n",
      "98/98 [==============================] - 0s 2ms/step - loss: 0.4470 - accuracy: 0.0029 - val_loss: 0.4119 - val_accuracy: 0.0000e+00\n",
      "Epoch 3/10\n",
      "98/98 [==============================] - 0s 2ms/step - loss: 0.4323 - accuracy: 0.0029 - val_loss: 0.4054 - val_accuracy: 0.0000e+00\n",
      "Epoch 4/10\n",
      "98/98 [==============================] - 0s 2ms/step - loss: 0.4328 - accuracy: 0.0029 - val_loss: 0.4050 - val_accuracy: 0.0000e+00\n",
      "Epoch 5/10\n",
      "98/98 [==============================] - 0s 2ms/step - loss: 0.4313 - accuracy: 0.0029 - val_loss: 0.4046 - val_accuracy: 0.0000e+00\n",
      "Epoch 6/10\n",
      "98/98 [==============================] - 0s 2ms/step - loss: 0.4291 - accuracy: 0.0029 - val_loss: 0.4062 - val_accuracy: 0.0000e+00\n",
      "Epoch 7/10\n",
      "98/98 [==============================] - 0s 2ms/step - loss: 0.4293 - accuracy: 0.0029 - val_loss: 0.4123 - val_accuracy: 0.0000e+00\n",
      "Epoch 8/10\n",
      "98/98 [==============================] - 0s 2ms/step - loss: 0.4297 - accuracy: 0.0029 - val_loss: 0.4114 - val_accuracy: 0.0000e+00\n",
      "Epoch 9/10\n",
      "98/98 [==============================] - 0s 2ms/step - loss: 0.4290 - accuracy: 0.0029 - val_loss: 0.4046 - val_accuracy: 0.0000e+00\n",
      "Epoch 10/10\n",
      "98/98 [==============================] - 0s 2ms/step - loss: 0.4235 - accuracy: 0.0029 - val_loss: 0.3976 - val_accuracy: 0.0000e+00\n",
      "Epoch 1/10\n",
      "98/98 [==============================] - 1s 4ms/step - loss: 1.3330 - accuracy: 0.0022 - val_loss: 0.5548 - val_accuracy: 0.0000e+00\n",
      "Epoch 2/10\n",
      "98/98 [==============================] - 0s 2ms/step - loss: 0.4997 - accuracy: 0.0022 - val_loss: 0.5534 - val_accuracy: 0.0000e+00\n",
      "Epoch 3/10\n",
      "98/98 [==============================] - 0s 2ms/step - loss: 0.4948 - accuracy: 0.0022 - val_loss: 0.5406 - val_accuracy: 0.0000e+00\n",
      "Epoch 4/10\n",
      "98/98 [==============================] - 0s 2ms/step - loss: 0.4885 - accuracy: 0.0022 - val_loss: 0.5320 - val_accuracy: 0.0000e+00\n",
      "Epoch 5/10\n",
      "98/98 [==============================] - 0s 2ms/step - loss: 0.4867 - accuracy: 0.0022 - val_loss: 0.5250 - val_accuracy: 0.0000e+00\n",
      "Epoch 6/10\n",
      "98/98 [==============================] - 0s 2ms/step - loss: 0.4835 - accuracy: 0.0022 - val_loss: 0.5243 - val_accuracy: 0.0000e+00\n",
      "Epoch 7/10\n",
      "98/98 [==============================] - 0s 2ms/step - loss: 0.4836 - accuracy: 0.0022 - val_loss: 0.5204 - val_accuracy: 0.0000e+00\n",
      "Epoch 8/10\n",
      "98/98 [==============================] - 0s 2ms/step - loss: 0.4837 - accuracy: 0.0022 - val_loss: 0.5223 - val_accuracy: 0.0000e+00\n",
      "Epoch 9/10\n",
      "98/98 [==============================] - 0s 2ms/step - loss: 0.4803 - accuracy: 0.0022 - val_loss: 0.5254 - val_accuracy: 0.0000e+00\n",
      "Epoch 10/10\n",
      "98/98 [==============================] - 0s 2ms/step - loss: 0.4797 - accuracy: 0.0022 - val_loss: 0.5180 - val_accuracy: 0.0000e+00\n",
      "Epoch 1/10\n",
      "98/98 [==============================] - 1s 4ms/step - loss: 10.0063 - accuracy: 0.0000e+00 - val_loss: 9.5761 - val_accuracy: 0.0000e+00\n",
      "Epoch 2/10\n",
      "98/98 [==============================] - 0s 3ms/step - loss: 10.0063 - accuracy: 0.0000e+00 - val_loss: 9.5761 - val_accuracy: 0.0000e+00\n",
      "Epoch 3/10\n",
      "98/98 [==============================] - 0s 2ms/step - loss: 10.0063 - accuracy: 0.0000e+00 - val_loss: 9.5761 - val_accuracy: 0.0000e+00\n",
      "Epoch 4/10\n",
      "98/98 [==============================] - 0s 2ms/step - loss: 10.0063 - accuracy: 0.0000e+00 - val_loss: 9.5761 - val_accuracy: 0.0000e+00\n",
      "Epoch 5/10\n",
      "98/98 [==============================] - 0s 2ms/step - loss: 10.0063 - accuracy: 0.0000e+00 - val_loss: 9.5761 - val_accuracy: 0.0000e+00\n",
      "Epoch 6/10\n",
      "98/98 [==============================] - 0s 2ms/step - loss: 10.0063 - accuracy: 0.0000e+00 - val_loss: 9.5761 - val_accuracy: 0.0000e+00\n",
      "Epoch 7/10\n",
      "98/98 [==============================] - 0s 2ms/step - loss: 10.0063 - accuracy: 0.0000e+00 - val_loss: 9.5761 - val_accuracy: 0.0000e+00\n",
      "Epoch 8/10\n",
      "98/98 [==============================] - 0s 2ms/step - loss: 10.0063 - accuracy: 0.0000e+00 - val_loss: 9.5761 - val_accuracy: 0.0000e+00\n",
      "Epoch 9/10\n",
      "98/98 [==============================] - 0s 2ms/step - loss: 10.0063 - accuracy: 0.0000e+00 - val_loss: 9.5761 - val_accuracy: 0.0000e+00\n",
      "Epoch 10/10\n",
      "98/98 [==============================] - 0s 2ms/step - loss: 10.0063 - accuracy: 0.0000e+00 - val_loss: 9.5761 - val_accuracy: 0.0000e+00\n"
     ]
    },
    {
     "data": {
      "text/plain": [
       "<keras.callbacks.History at 0x7f47bb424a10>"
      ]
     },
     "execution_count": 30,
     "metadata": {},
     "output_type": "execute_result"
    }
   ],
   "source": [
    "embedding_model2.fit(X1_train, y2_train, epochs=10,validation_data=(X1_val,y2_val))\n",
    "embedding_model3.fit(X1_train, y3_train, epochs=10,validation_data=(X1_val,y3_val))\n",
    "embedding_model4.fit(X1_train, y4_train, epochs=10,validation_data=(X1_val,y4_val))\n",
    "embedding_model5.fit(X1_train, y5_train, epochs=10,validation_data=(X1_val,y5_val))\n",
    "embedding_model6.fit(X1_train, y6_train, epochs=10,validation_data=(X1_val,y6_val))"
   ]
  },
  {
   "cell_type": "code",
   "execution_count": 31,
   "id": "6f423127",
   "metadata": {
    "execution": {
     "iopub.execute_input": "2022-11-21T13:46:47.995710Z",
     "iopub.status.busy": "2022-11-21T13:46:47.995199Z",
     "iopub.status.idle": "2022-11-21T13:46:48.828928Z",
     "shell.execute_reply": "2022-11-21T13:46:48.827660Z"
    },
    "papermill": {
     "duration": 0.869449,
     "end_time": "2022-11-21T13:46:48.832506",
     "exception": false,
     "start_time": "2022-11-21T13:46:47.963057",
     "status": "completed"
    },
    "tags": []
   },
   "outputs": [],
   "source": [
    "X1_test = X1_test.drop(columns=['full_text','text_id'])\n",
    "results1 = embedding_model1.predict(X1_test).flatten()\n",
    "results1= [round(r,1) for r in results1]  \n",
    "\n",
    "results2 = embedding_model2.predict(X1_test).flatten()\n",
    "results2 = [round(r,1) for r in results2]  \n",
    "\n",
    "results3 = embedding_model3.predict(X1_test).flatten()\n",
    "results3 = [round(r,1) for r in results3]  \n",
    "\n",
    "results4 = embedding_model4.predict(X1_test).flatten()\n",
    "results4 = [round(r,1) for r in results4]  \n",
    "\n",
    "results5 = embedding_model5.predict(X1_test).flatten()\n",
    "results5 = [round(r,1) for r in results5]  \n",
    "\n",
    "results6 = embedding_model6.predict(X1_test).flatten()\n",
    "results6 = [round(r,1) for r in results6]  "
   ]
  },
  {
   "cell_type": "code",
   "execution_count": 32,
   "id": "fedf3d15",
   "metadata": {
    "execution": {
     "iopub.execute_input": "2022-11-21T13:46:48.897485Z",
     "iopub.status.busy": "2022-11-21T13:46:48.896965Z",
     "iopub.status.idle": "2022-11-21T13:46:48.903626Z",
     "shell.execute_reply": "2022-11-21T13:46:48.902266Z"
    },
    "papermill": {
     "duration": 0.041334,
     "end_time": "2022-11-21T13:46:48.906222",
     "exception": false,
     "start_time": "2022-11-21T13:46:48.864888",
     "status": "completed"
    },
    "tags": []
   },
   "outputs": [],
   "source": [
    "y1_test= list(y1_test)\n",
    "y2_test= list(y2_test)\n",
    "y3_test= list(y3_test)\n",
    "y4_test= list(y4_test)\n",
    "y5_test= list(y5_test)\n",
    "y6_test= list(y6_test)\n"
   ]
  },
  {
   "cell_type": "code",
   "execution_count": 33,
   "id": "3aeabeb9",
   "metadata": {
    "execution": {
     "iopub.execute_input": "2022-11-21T13:46:48.968858Z",
     "iopub.status.busy": "2022-11-21T13:46:48.968355Z",
     "iopub.status.idle": "2022-11-21T13:46:48.978241Z",
     "shell.execute_reply": "2022-11-21T13:46:48.976942Z"
    },
    "papermill": {
     "duration": 0.044449,
     "end_time": "2022-11-21T13:46:48.980893",
     "exception": false,
     "start_time": "2022-11-21T13:46:48.936444",
     "status": "completed"
    },
    "tags": []
   },
   "outputs": [],
   "source": [
    "from sklearn.metrics import mean_squared_error\n",
    "values1 = mean_squared_error(results1,y1_test)\n",
    "values2 = mean_squared_error(results2,y2_test)\n",
    "values3 = mean_squared_error(results3,y3_test)\n",
    "values4 = mean_squared_error(results4,y4_test)\n",
    "values5 = mean_squared_error(results5,y5_test)\n",
    "values6 = mean_squared_error(results6,y6_test)"
   ]
  },
  {
   "cell_type": "code",
   "execution_count": 34,
   "id": "99f8a730",
   "metadata": {
    "execution": {
     "iopub.execute_input": "2022-11-21T13:46:49.044843Z",
     "iopub.status.busy": "2022-11-21T13:46:49.043694Z",
     "iopub.status.idle": "2022-11-21T13:46:49.054318Z",
     "shell.execute_reply": "2022-11-21T13:46:49.053517Z"
    },
    "papermill": {
     "duration": 0.044953,
     "end_time": "2022-11-21T13:46:49.056512",
     "exception": false,
     "start_time": "2022-11-21T13:46:49.011559",
     "status": "completed"
    },
    "tags": []
   },
   "outputs": [
    {
     "data": {
      "text/html": [
       "<div>\n",
       "<style scoped>\n",
       "    .dataframe tbody tr th:only-of-type {\n",
       "        vertical-align: middle;\n",
       "    }\n",
       "\n",
       "    .dataframe tbody tr th {\n",
       "        vertical-align: top;\n",
       "    }\n",
       "\n",
       "    .dataframe thead th {\n",
       "        text-align: right;\n",
       "    }\n",
       "</style>\n",
       "<table border=\"1\" class=\"dataframe\">\n",
       "  <thead>\n",
       "    <tr style=\"text-align: right;\">\n",
       "      <th></th>\n",
       "      <th>text_id</th>\n",
       "      <th>full_text</th>\n",
       "    </tr>\n",
       "  </thead>\n",
       "  <tbody>\n",
       "    <tr>\n",
       "      <th>0</th>\n",
       "      <td>0000C359D63E</td>\n",
       "      <td>when a person has no experience on a job their...</td>\n",
       "    </tr>\n",
       "    <tr>\n",
       "      <th>1</th>\n",
       "      <td>000BAD50D026</td>\n",
       "      <td>Do you think students would benefit from being...</td>\n",
       "    </tr>\n",
       "    <tr>\n",
       "      <th>2</th>\n",
       "      <td>00367BB2546B</td>\n",
       "      <td>Thomas Jefferson once states that \"it is wonde...</td>\n",
       "    </tr>\n",
       "  </tbody>\n",
       "</table>\n",
       "</div>"
      ],
      "text/plain": [
       "        text_id                                          full_text\n",
       "0  0000C359D63E  when a person has no experience on a job their...\n",
       "1  000BAD50D026  Do you think students would benefit from being...\n",
       "2  00367BB2546B  Thomas Jefferson once states that \"it is wonde..."
      ]
     },
     "execution_count": 34,
     "metadata": {},
     "output_type": "execute_result"
    }
   ],
   "source": [
    "test.head()"
   ]
  },
  {
   "cell_type": "code",
   "execution_count": 35,
   "id": "93374711",
   "metadata": {
    "execution": {
     "iopub.execute_input": "2022-11-21T13:46:49.121916Z",
     "iopub.status.busy": "2022-11-21T13:46:49.121029Z",
     "iopub.status.idle": "2022-11-21T13:46:49.273815Z",
     "shell.execute_reply": "2022-11-21T13:46:49.272336Z"
    },
    "papermill": {
     "duration": 0.187987,
     "end_time": "2022-11-21T13:46:49.276978",
     "exception": false,
     "start_time": "2022-11-21T13:46:49.088991",
     "status": "completed"
    },
    "tags": []
   },
   "outputs": [],
   "source": [
    "test['num_words'] = test['full_text'].apply(word_count)\n",
    "test['num_sents'] = test['full_text'].apply(sent_count)\n",
    "test['avg_word_length'] = test['full_text'].apply(avg_length)\n",
    "test['avg_word_sent'] = test['full_text'].apply(avg_word_sentence)\n",
    "test['noun_count'], test['adj_count'], test['verb_count'], test['adv_count'], test['adp_count'],test['conj_count'], test['det_count'], test['pron_count'], test['punct_count']  = zip(*test['full_text'].map(pos_tags))\n",
    "                                                         \n",
    "t1=test.copy()"
   ]
  },
  {
   "cell_type": "code",
   "execution_count": 36,
   "id": "b8460888",
   "metadata": {
    "execution": {
     "iopub.execute_input": "2022-11-21T13:46:49.339968Z",
     "iopub.status.busy": "2022-11-21T13:46:49.339179Z",
     "iopub.status.idle": "2022-11-21T13:46:49.357142Z",
     "shell.execute_reply": "2022-11-21T13:46:49.355952Z"
    },
    "papermill": {
     "duration": 0.052321,
     "end_time": "2022-11-21T13:46:49.359625",
     "exception": false,
     "start_time": "2022-11-21T13:46:49.307304",
     "status": "completed"
    },
    "tags": []
   },
   "outputs": [
    {
     "data": {
      "text/html": [
       "<div>\n",
       "<style scoped>\n",
       "    .dataframe tbody tr th:only-of-type {\n",
       "        vertical-align: middle;\n",
       "    }\n",
       "\n",
       "    .dataframe tbody tr th {\n",
       "        vertical-align: top;\n",
       "    }\n",
       "\n",
       "    .dataframe thead th {\n",
       "        text-align: right;\n",
       "    }\n",
       "</style>\n",
       "<table border=\"1\" class=\"dataframe\">\n",
       "  <thead>\n",
       "    <tr style=\"text-align: right;\">\n",
       "      <th></th>\n",
       "      <th>text_id</th>\n",
       "      <th>full_text</th>\n",
       "      <th>num_words</th>\n",
       "      <th>num_sents</th>\n",
       "      <th>avg_word_length</th>\n",
       "      <th>avg_word_sent</th>\n",
       "      <th>noun_count</th>\n",
       "      <th>adj_count</th>\n",
       "      <th>verb_count</th>\n",
       "      <th>adv_count</th>\n",
       "      <th>adp_count</th>\n",
       "      <th>conj_count</th>\n",
       "      <th>det_count</th>\n",
       "      <th>pron_count</th>\n",
       "      <th>punct_count</th>\n",
       "    </tr>\n",
       "  </thead>\n",
       "  <tbody>\n",
       "    <tr>\n",
       "      <th>0</th>\n",
       "      <td>0000C359D63E</td>\n",
       "      <td>when a person has no experience on a job their...</td>\n",
       "      <td>874</td>\n",
       "      <td>26</td>\n",
       "      <td>4.806867</td>\n",
       "      <td>33.615385</td>\n",
       "      <td>154</td>\n",
       "      <td>40</td>\n",
       "      <td>189</td>\n",
       "      <td>44</td>\n",
       "      <td>90</td>\n",
       "      <td>22</td>\n",
       "      <td>97</td>\n",
       "      <td>111</td>\n",
       "      <td>26</td>\n",
       "    </tr>\n",
       "    <tr>\n",
       "      <th>1</th>\n",
       "      <td>000BAD50D026</td>\n",
       "      <td>Do you think students would benefit from being...</td>\n",
       "      <td>421</td>\n",
       "      <td>17</td>\n",
       "      <td>4.584615</td>\n",
       "      <td>24.764706</td>\n",
       "      <td>88</td>\n",
       "      <td>14</td>\n",
       "      <td>87</td>\n",
       "      <td>18</td>\n",
       "      <td>54</td>\n",
       "      <td>19</td>\n",
       "      <td>19</td>\n",
       "      <td>59</td>\n",
       "      <td>17</td>\n",
       "    </tr>\n",
       "    <tr>\n",
       "      <th>2</th>\n",
       "      <td>00367BB2546B</td>\n",
       "      <td>Thomas Jefferson once states that \"it is wonde...</td>\n",
       "      <td>484</td>\n",
       "      <td>17</td>\n",
       "      <td>4.964497</td>\n",
       "      <td>28.470588</td>\n",
       "      <td>65</td>\n",
       "      <td>30</td>\n",
       "      <td>107</td>\n",
       "      <td>27</td>\n",
       "      <td>54</td>\n",
       "      <td>14</td>\n",
       "      <td>25</td>\n",
       "      <td>73</td>\n",
       "      <td>17</td>\n",
       "    </tr>\n",
       "  </tbody>\n",
       "</table>\n",
       "</div>"
      ],
      "text/plain": [
       "        text_id                                          full_text  num_words  \\\n",
       "0  0000C359D63E  when a person has no experience on a job their...        874   \n",
       "1  000BAD50D026  Do you think students would benefit from being...        421   \n",
       "2  00367BB2546B  Thomas Jefferson once states that \"it is wonde...        484   \n",
       "\n",
       "   num_sents  avg_word_length  avg_word_sent  noun_count  adj_count  \\\n",
       "0         26         4.806867      33.615385         154         40   \n",
       "1         17         4.584615      24.764706          88         14   \n",
       "2         17         4.964497      28.470588          65         30   \n",
       "\n",
       "   verb_count  adv_count  adp_count  conj_count  det_count  pron_count  \\\n",
       "0         189         44         90          22         97         111   \n",
       "1          87         18         54          19         19          59   \n",
       "2         107         27         54          14         25          73   \n",
       "\n",
       "   punct_count  \n",
       "0           26  \n",
       "1           17  \n",
       "2           17  "
      ]
     },
     "execution_count": 36,
     "metadata": {},
     "output_type": "execute_result"
    }
   ],
   "source": [
    "t1.head()"
   ]
  },
  {
   "cell_type": "code",
   "execution_count": 37,
   "id": "9d19cb66",
   "metadata": {
    "execution": {
     "iopub.execute_input": "2022-11-21T13:46:49.423162Z",
     "iopub.status.busy": "2022-11-21T13:46:49.422673Z",
     "iopub.status.idle": "2022-11-21T13:46:49.439592Z",
     "shell.execute_reply": "2022-11-21T13:46:49.438653Z"
    },
    "papermill": {
     "duration": 0.05168,
     "end_time": "2022-11-21T13:46:49.442004",
     "exception": false,
     "start_time": "2022-11-21T13:46:49.390324",
     "status": "completed"
    },
    "tags": []
   },
   "outputs": [
    {
     "data": {
      "text/html": [
       "<div>\n",
       "<style scoped>\n",
       "    .dataframe tbody tr th:only-of-type {\n",
       "        vertical-align: middle;\n",
       "    }\n",
       "\n",
       "    .dataframe tbody tr th {\n",
       "        vertical-align: top;\n",
       "    }\n",
       "\n",
       "    .dataframe thead th {\n",
       "        text-align: right;\n",
       "    }\n",
       "</style>\n",
       "<table border=\"1\" class=\"dataframe\">\n",
       "  <thead>\n",
       "    <tr style=\"text-align: right;\">\n",
       "      <th></th>\n",
       "      <th>num_words</th>\n",
       "      <th>num_sents</th>\n",
       "      <th>avg_word_length</th>\n",
       "      <th>avg_word_sent</th>\n",
       "      <th>noun_count</th>\n",
       "      <th>adj_count</th>\n",
       "      <th>verb_count</th>\n",
       "      <th>adv_count</th>\n",
       "      <th>adp_count</th>\n",
       "      <th>conj_count</th>\n",
       "      <th>det_count</th>\n",
       "      <th>pron_count</th>\n",
       "      <th>punct_count</th>\n",
       "    </tr>\n",
       "  </thead>\n",
       "  <tbody>\n",
       "    <tr>\n",
       "      <th>0</th>\n",
       "      <td>874</td>\n",
       "      <td>26</td>\n",
       "      <td>4.806867</td>\n",
       "      <td>33.615385</td>\n",
       "      <td>154</td>\n",
       "      <td>40</td>\n",
       "      <td>189</td>\n",
       "      <td>44</td>\n",
       "      <td>90</td>\n",
       "      <td>22</td>\n",
       "      <td>97</td>\n",
       "      <td>111</td>\n",
       "      <td>26</td>\n",
       "    </tr>\n",
       "    <tr>\n",
       "      <th>1</th>\n",
       "      <td>421</td>\n",
       "      <td>17</td>\n",
       "      <td>4.584615</td>\n",
       "      <td>24.764706</td>\n",
       "      <td>88</td>\n",
       "      <td>14</td>\n",
       "      <td>87</td>\n",
       "      <td>18</td>\n",
       "      <td>54</td>\n",
       "      <td>19</td>\n",
       "      <td>19</td>\n",
       "      <td>59</td>\n",
       "      <td>17</td>\n",
       "    </tr>\n",
       "    <tr>\n",
       "      <th>2</th>\n",
       "      <td>484</td>\n",
       "      <td>17</td>\n",
       "      <td>4.964497</td>\n",
       "      <td>28.470588</td>\n",
       "      <td>65</td>\n",
       "      <td>30</td>\n",
       "      <td>107</td>\n",
       "      <td>27</td>\n",
       "      <td>54</td>\n",
       "      <td>14</td>\n",
       "      <td>25</td>\n",
       "      <td>73</td>\n",
       "      <td>17</td>\n",
       "    </tr>\n",
       "  </tbody>\n",
       "</table>\n",
       "</div>"
      ],
      "text/plain": [
       "   num_words  num_sents  avg_word_length  avg_word_sent  noun_count  \\\n",
       "0        874         26         4.806867      33.615385         154   \n",
       "1        421         17         4.584615      24.764706          88   \n",
       "2        484         17         4.964497      28.470588          65   \n",
       "\n",
       "   adj_count  verb_count  adv_count  adp_count  conj_count  det_count  \\\n",
       "0         40         189         44         90          22         97   \n",
       "1         14          87         18         54          19         19   \n",
       "2         30         107         27         54          14         25   \n",
       "\n",
       "   pron_count  punct_count  \n",
       "0         111           26  \n",
       "1          59           17  \n",
       "2          73           17  "
      ]
     },
     "execution_count": 37,
     "metadata": {},
     "output_type": "execute_result"
    }
   ],
   "source": [
    "test=test.drop(columns=['full_text','text_id'])\n",
    "test.head()"
   ]
  },
  {
   "cell_type": "code",
   "execution_count": 38,
   "id": "545f7a03",
   "metadata": {
    "execution": {
     "iopub.execute_input": "2022-11-21T13:46:49.506069Z",
     "iopub.status.busy": "2022-11-21T13:46:49.505160Z",
     "iopub.status.idle": "2022-11-21T13:46:49.511595Z",
     "shell.execute_reply": "2022-11-21T13:46:49.510808Z"
    },
    "papermill": {
     "duration": 0.040711,
     "end_time": "2022-11-21T13:46:49.513706",
     "exception": false,
     "start_time": "2022-11-21T13:46:49.472995",
     "status": "completed"
    },
    "tags": []
   },
   "outputs": [
    {
     "data": {
      "text/plain": [
       "(3, 13)"
      ]
     },
     "execution_count": 38,
     "metadata": {},
     "output_type": "execute_result"
    }
   ],
   "source": [
    "test.shape"
   ]
  },
  {
   "cell_type": "code",
   "execution_count": 39,
   "id": "e4be8f7e",
   "metadata": {
    "execution": {
     "iopub.execute_input": "2022-11-21T13:46:49.578711Z",
     "iopub.status.busy": "2022-11-21T13:46:49.577939Z",
     "iopub.status.idle": "2022-11-21T13:46:49.973226Z",
     "shell.execute_reply": "2022-11-21T13:46:49.971943Z"
    },
    "papermill": {
     "duration": 0.431128,
     "end_time": "2022-11-21T13:46:49.976198",
     "exception": false,
     "start_time": "2022-11-21T13:46:49.545070",
     "status": "completed"
    },
    "tags": []
   },
   "outputs": [],
   "source": [
    "test1 = embedding_model1.predict(test).flatten()\n",
    "test1= [round(r,1) for r in test1]  \n",
    "\n",
    "test2 = embedding_model2.predict(test).flatten()\n",
    "test2= [round(r,1) for r in test2]\n",
    "test3 = embedding_model3.predict(test).flatten()\n",
    "test3= [round(r,1) for r in test3]\n",
    "\n",
    "test4 = embedding_model4.predict(test).flatten()\n",
    "test4= [round(r,1) for r in test4]\n",
    "\n",
    "test5 = embedding_model5.predict(test).flatten()\n",
    "test5= [round(r,1) for r in test5]\n",
    "\n",
    "test6 = embedding_model6.predict(test).flatten()\n",
    "test6= [round(r,1) for r in test6]\n"
   ]
  },
  {
   "cell_type": "code",
   "execution_count": 40,
   "id": "fa2e6bf3",
   "metadata": {
    "execution": {
     "iopub.execute_input": "2022-11-21T13:46:50.042168Z",
     "iopub.status.busy": "2022-11-21T13:46:50.041691Z",
     "iopub.status.idle": "2022-11-21T13:46:50.054964Z",
     "shell.execute_reply": "2022-11-21T13:46:50.053713Z"
    },
    "papermill": {
     "duration": 0.049622,
     "end_time": "2022-11-21T13:46:50.057407",
     "exception": false,
     "start_time": "2022-11-21T13:46:50.007785",
     "status": "completed"
    },
    "tags": []
   },
   "outputs": [],
   "source": [
    "final=pd.DataFrame()\n",
    "\n",
    "final['text_id']=t1[\"text_id\"]\n",
    "final['syntax']=test1\n",
    "final['cohesion']=test2\n",
    "final['vocabulary']=test3\n",
    "final['phraseology']=test4\n",
    "final['grammar']=test5\n",
    "final['conventions']=test6"
   ]
  },
  {
   "cell_type": "code",
   "execution_count": 41,
   "id": "2ded0700",
   "metadata": {
    "execution": {
     "iopub.execute_input": "2022-11-21T13:46:50.122915Z",
     "iopub.status.busy": "2022-11-21T13:46:50.122442Z",
     "iopub.status.idle": "2022-11-21T13:46:50.138268Z",
     "shell.execute_reply": "2022-11-21T13:46:50.137109Z"
    },
    "papermill": {
     "duration": 0.051861,
     "end_time": "2022-11-21T13:46:50.140434",
     "exception": false,
     "start_time": "2022-11-21T13:46:50.088573",
     "status": "completed"
    },
    "tags": []
   },
   "outputs": [
    {
     "data": {
      "text/html": [
       "<div>\n",
       "<style scoped>\n",
       "    .dataframe tbody tr th:only-of-type {\n",
       "        vertical-align: middle;\n",
       "    }\n",
       "\n",
       "    .dataframe tbody tr th {\n",
       "        vertical-align: top;\n",
       "    }\n",
       "\n",
       "    .dataframe thead th {\n",
       "        text-align: right;\n",
       "    }\n",
       "</style>\n",
       "<table border=\"1\" class=\"dataframe\">\n",
       "  <thead>\n",
       "    <tr style=\"text-align: right;\">\n",
       "      <th></th>\n",
       "      <th>text_id</th>\n",
       "      <th>syntax</th>\n",
       "      <th>cohesion</th>\n",
       "      <th>vocabulary</th>\n",
       "      <th>phraseology</th>\n",
       "      <th>grammar</th>\n",
       "      <th>conventions</th>\n",
       "    </tr>\n",
       "  </thead>\n",
       "  <tbody>\n",
       "    <tr>\n",
       "      <th>0</th>\n",
       "      <td>0000C359D63E</td>\n",
       "      <td>3.1</td>\n",
       "      <td>0.0</td>\n",
       "      <td>0.0</td>\n",
       "      <td>3.2</td>\n",
       "      <td>3.1</td>\n",
       "      <td>0.0</td>\n",
       "    </tr>\n",
       "    <tr>\n",
       "      <th>1</th>\n",
       "      <td>000BAD50D026</td>\n",
       "      <td>3.1</td>\n",
       "      <td>0.0</td>\n",
       "      <td>0.0</td>\n",
       "      <td>3.2</td>\n",
       "      <td>3.1</td>\n",
       "      <td>0.0</td>\n",
       "    </tr>\n",
       "    <tr>\n",
       "      <th>2</th>\n",
       "      <td>00367BB2546B</td>\n",
       "      <td>3.1</td>\n",
       "      <td>0.0</td>\n",
       "      <td>0.0</td>\n",
       "      <td>3.2</td>\n",
       "      <td>3.1</td>\n",
       "      <td>0.0</td>\n",
       "    </tr>\n",
       "  </tbody>\n",
       "</table>\n",
       "</div>"
      ],
      "text/plain": [
       "        text_id  syntax  cohesion  vocabulary  phraseology  grammar  \\\n",
       "0  0000C359D63E     3.1       0.0         0.0          3.2      3.1   \n",
       "1  000BAD50D026     3.1       0.0         0.0          3.2      3.1   \n",
       "2  00367BB2546B     3.1       0.0         0.0          3.2      3.1   \n",
       "\n",
       "   conventions  \n",
       "0          0.0  \n",
       "1          0.0  \n",
       "2          0.0  "
      ]
     },
     "execution_count": 41,
     "metadata": {},
     "output_type": "execute_result"
    }
   ],
   "source": [
    "final"
   ]
  },
  {
   "cell_type": "code",
   "execution_count": 42,
   "id": "3d9ff8a5",
   "metadata": {
    "execution": {
     "iopub.execute_input": "2022-11-21T13:46:50.205593Z",
     "iopub.status.busy": "2022-11-21T13:46:50.205081Z",
     "iopub.status.idle": "2022-11-21T13:46:50.213482Z",
     "shell.execute_reply": "2022-11-21T13:46:50.212555Z"
    },
    "papermill": {
     "duration": 0.043732,
     "end_time": "2022-11-21T13:46:50.215805",
     "exception": false,
     "start_time": "2022-11-21T13:46:50.172073",
     "status": "completed"
    },
    "tags": []
   },
   "outputs": [],
   "source": [
    "final.to_csv('submission.csv', index=False)"
   ]
  },
  {
   "cell_type": "code",
   "execution_count": null,
   "id": "5ef7dd99",
   "metadata": {
    "papermill": {
     "duration": 0.0312,
     "end_time": "2022-11-21T13:46:50.278190",
     "exception": false,
     "start_time": "2022-11-21T13:46:50.246990",
     "status": "completed"
    },
    "tags": []
   },
   "outputs": [],
   "source": []
  }
 ],
 "metadata": {
  "kernelspec": {
   "display_name": "Python 3",
   "language": "python",
   "name": "python3"
  },
  "language_info": {
   "codemirror_mode": {
    "name": "ipython",
    "version": 3
   },
   "file_extension": ".py",
   "mimetype": "text/x-python",
   "name": "python",
   "nbconvert_exporter": "python",
   "pygments_lexer": "ipython3",
   "version": "3.7.12"
  },
  "papermill": {
   "default_parameters": {},
   "duration": 193.259013,
   "end_time": "2022-11-21T13:46:53.867608",
   "environment_variables": {},
   "exception": null,
   "input_path": "__notebook__.ipynb",
   "output_path": "__notebook__.ipynb",
   "parameters": {},
   "start_time": "2022-11-21T13:43:40.608595",
   "version": "2.3.4"
  }
 },
 "nbformat": 4,
 "nbformat_minor": 5
}
