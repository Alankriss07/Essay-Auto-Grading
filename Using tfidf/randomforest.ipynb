{
 "cells": [
  {
   "cell_type": "code",
   "execution_count": 1,
   "id": "ea48ad88",
   "metadata": {
    "_cell_guid": "b1076dfc-b9ad-4769-8c92-a6c4dae69d19",
    "_uuid": "8f2839f25d086af736a60e9eeb907d3b93b6e0e5",
    "execution": {
     "iopub.execute_input": "2022-11-24T15:56:36.032143Z",
     "iopub.status.busy": "2022-11-24T15:56:36.031220Z",
     "iopub.status.idle": "2022-11-24T15:56:36.048736Z",
     "shell.execute_reply": "2022-11-24T15:56:36.046953Z"
    },
    "papermill": {
     "duration": 0.037315,
     "end_time": "2022-11-24T15:56:36.053344",
     "exception": false,
     "start_time": "2022-11-24T15:56:36.016029",
     "status": "completed"
    },
    "tags": []
   },
   "outputs": [
    {
     "name": "stdout",
     "output_type": "stream",
     "text": [
      "/kaggle/input/feedback-prize-english-language-learning/sample_submission.csv\n",
      "/kaggle/input/feedback-prize-english-language-learning/train.csv\n",
      "/kaggle/input/feedback-prize-english-language-learning/test.csv\n"
     ]
    }
   ],
   "source": [
    "# This Python 3 environment comes with many helpful analytics libraries installed\n",
    "# It is defined by the kaggle/python Docker image: https://github.com/kaggle/docker-python\n",
    "# For example, here's several helpful packages to load\n",
    "\n",
    "import numpy as np # linear algebra\n",
    "import pandas as pd # data processing, CSV file I/O (e.g. pd.read_csv)\n",
    "\n",
    "# Input data files are available in the read-only \"../input/\" directory\n",
    "# For example, running this (by clicking run or pressing Shift+Enter) will list all files under the input directory\n",
    "\n",
    "import os\n",
    "for dirname, _, filenames in os.walk('/kaggle/input'):\n",
    "    for filename in filenames:\n",
    "        print(os.path.join(dirname, filename))\n",
    "\n",
    "# You can write up to 20GB to the current directory (/kaggle/working/) that gets preserved as output when you create a version using \"Save & Run All\" \n",
    "# You can also write temporary files to /kaggle/temp/, but they won't be saved outside of the current session"
   ]
  },
  {
   "cell_type": "code",
   "execution_count": 2,
   "id": "0ad4513a",
   "metadata": {
    "execution": {
     "iopub.execute_input": "2022-11-24T15:56:36.082700Z",
     "iopub.status.busy": "2022-11-24T15:56:36.082273Z",
     "iopub.status.idle": "2022-11-24T15:56:36.087623Z",
     "shell.execute_reply": "2022-11-24T15:56:36.086391Z"
    },
    "papermill": {
     "duration": 0.02282,
     "end_time": "2022-11-24T15:56:36.090040",
     "exception": false,
     "start_time": "2022-11-24T15:56:36.067220",
     "status": "completed"
    },
    "tags": []
   },
   "outputs": [],
   "source": [
    "import pandas as pd\n",
    "import numpy as np"
   ]
  },
  {
   "cell_type": "code",
   "execution_count": 3,
   "id": "b64bc988",
   "metadata": {
    "execution": {
     "iopub.execute_input": "2022-11-24T15:56:36.115959Z",
     "iopub.status.busy": "2022-11-24T15:56:36.115583Z",
     "iopub.status.idle": "2022-11-24T15:56:36.379127Z",
     "shell.execute_reply": "2022-11-24T15:56:36.377927Z"
    },
    "papermill": {
     "duration": 0.281646,
     "end_time": "2022-11-24T15:56:36.382518",
     "exception": false,
     "start_time": "2022-11-24T15:56:36.100872",
     "status": "completed"
    },
    "tags": []
   },
   "outputs": [],
   "source": [
    "X=pd.read_csv(\"/kaggle/input/feedback-prize-english-language-learning/train.csv\")\n",
    "test=pd.read_csv(\"/kaggle/input/feedback-prize-english-language-learning/test.csv\")"
   ]
  },
  {
   "cell_type": "code",
   "execution_count": 4,
   "id": "946f0244",
   "metadata": {
    "execution": {
     "iopub.execute_input": "2022-11-24T15:56:36.404019Z",
     "iopub.status.busy": "2022-11-24T15:56:36.403615Z",
     "iopub.status.idle": "2022-11-24T15:56:36.437701Z",
     "shell.execute_reply": "2022-11-24T15:56:36.436253Z"
    },
    "papermill": {
     "duration": 0.048227,
     "end_time": "2022-11-24T15:56:36.440614",
     "exception": false,
     "start_time": "2022-11-24T15:56:36.392387",
     "status": "completed"
    },
    "tags": []
   },
   "outputs": [
    {
     "data": {
      "text/html": [
       "<div>\n",
       "<style scoped>\n",
       "    .dataframe tbody tr th:only-of-type {\n",
       "        vertical-align: middle;\n",
       "    }\n",
       "\n",
       "    .dataframe tbody tr th {\n",
       "        vertical-align: top;\n",
       "    }\n",
       "\n",
       "    .dataframe thead th {\n",
       "        text-align: right;\n",
       "    }\n",
       "</style>\n",
       "<table border=\"1\" class=\"dataframe\">\n",
       "  <thead>\n",
       "    <tr style=\"text-align: right;\">\n",
       "      <th></th>\n",
       "      <th>text_id</th>\n",
       "      <th>full_text</th>\n",
       "      <th>cohesion</th>\n",
       "      <th>syntax</th>\n",
       "      <th>vocabulary</th>\n",
       "      <th>phraseology</th>\n",
       "      <th>grammar</th>\n",
       "      <th>conventions</th>\n",
       "    </tr>\n",
       "  </thead>\n",
       "  <tbody>\n",
       "    <tr>\n",
       "      <th>0</th>\n",
       "      <td>0016926B079C</td>\n",
       "      <td>I think that students would benefit from learn...</td>\n",
       "      <td>3.5</td>\n",
       "      <td>3.5</td>\n",
       "      <td>3.0</td>\n",
       "      <td>3.0</td>\n",
       "      <td>4.0</td>\n",
       "      <td>3.0</td>\n",
       "    </tr>\n",
       "    <tr>\n",
       "      <th>1</th>\n",
       "      <td>0022683E9EA5</td>\n",
       "      <td>When a problem is a change you have to let it ...</td>\n",
       "      <td>2.5</td>\n",
       "      <td>2.5</td>\n",
       "      <td>3.0</td>\n",
       "      <td>2.0</td>\n",
       "      <td>2.0</td>\n",
       "      <td>2.5</td>\n",
       "    </tr>\n",
       "    <tr>\n",
       "      <th>2</th>\n",
       "      <td>00299B378633</td>\n",
       "      <td>Dear, Principal\\n\\nIf u change the school poli...</td>\n",
       "      <td>3.0</td>\n",
       "      <td>3.5</td>\n",
       "      <td>3.0</td>\n",
       "      <td>3.0</td>\n",
       "      <td>3.0</td>\n",
       "      <td>2.5</td>\n",
       "    </tr>\n",
       "    <tr>\n",
       "      <th>3</th>\n",
       "      <td>003885A45F42</td>\n",
       "      <td>The best time in life is when you become yours...</td>\n",
       "      <td>4.5</td>\n",
       "      <td>4.5</td>\n",
       "      <td>4.5</td>\n",
       "      <td>4.5</td>\n",
       "      <td>4.0</td>\n",
       "      <td>5.0</td>\n",
       "    </tr>\n",
       "    <tr>\n",
       "      <th>4</th>\n",
       "      <td>0049B1DF5CCC</td>\n",
       "      <td>Small act of kindness can impact in other peop...</td>\n",
       "      <td>2.5</td>\n",
       "      <td>3.0</td>\n",
       "      <td>3.0</td>\n",
       "      <td>3.0</td>\n",
       "      <td>2.5</td>\n",
       "      <td>2.5</td>\n",
       "    </tr>\n",
       "  </tbody>\n",
       "</table>\n",
       "</div>"
      ],
      "text/plain": [
       "        text_id                                          full_text  cohesion  \\\n",
       "0  0016926B079C  I think that students would benefit from learn...       3.5   \n",
       "1  0022683E9EA5  When a problem is a change you have to let it ...       2.5   \n",
       "2  00299B378633  Dear, Principal\\n\\nIf u change the school poli...       3.0   \n",
       "3  003885A45F42  The best time in life is when you become yours...       4.5   \n",
       "4  0049B1DF5CCC  Small act of kindness can impact in other peop...       2.5   \n",
       "\n",
       "   syntax  vocabulary  phraseology  grammar  conventions  \n",
       "0     3.5         3.0          3.0      4.0          3.0  \n",
       "1     2.5         3.0          2.0      2.0          2.5  \n",
       "2     3.5         3.0          3.0      3.0          2.5  \n",
       "3     4.5         4.5          4.5      4.0          5.0  \n",
       "4     3.0         3.0          3.0      2.5          2.5  "
      ]
     },
     "execution_count": 4,
     "metadata": {},
     "output_type": "execute_result"
    }
   ],
   "source": [
    "X.head()"
   ]
  },
  {
   "cell_type": "code",
   "execution_count": 5,
   "id": "d0e5c8ca",
   "metadata": {
    "execution": {
     "iopub.execute_input": "2022-11-24T15:56:36.462688Z",
     "iopub.status.busy": "2022-11-24T15:56:36.462247Z",
     "iopub.status.idle": "2022-11-24T15:56:36.473143Z",
     "shell.execute_reply": "2022-11-24T15:56:36.471946Z"
    },
    "papermill": {
     "duration": 0.024882,
     "end_time": "2022-11-24T15:56:36.475561",
     "exception": false,
     "start_time": "2022-11-24T15:56:36.450679",
     "status": "completed"
    },
    "tags": []
   },
   "outputs": [
    {
     "data": {
      "text/html": [
       "<div>\n",
       "<style scoped>\n",
       "    .dataframe tbody tr th:only-of-type {\n",
       "        vertical-align: middle;\n",
       "    }\n",
       "\n",
       "    .dataframe tbody tr th {\n",
       "        vertical-align: top;\n",
       "    }\n",
       "\n",
       "    .dataframe thead th {\n",
       "        text-align: right;\n",
       "    }\n",
       "</style>\n",
       "<table border=\"1\" class=\"dataframe\">\n",
       "  <thead>\n",
       "    <tr style=\"text-align: right;\">\n",
       "      <th></th>\n",
       "      <th>text_id</th>\n",
       "      <th>full_text</th>\n",
       "    </tr>\n",
       "  </thead>\n",
       "  <tbody>\n",
       "    <tr>\n",
       "      <th>0</th>\n",
       "      <td>0000C359D63E</td>\n",
       "      <td>when a person has no experience on a job their...</td>\n",
       "    </tr>\n",
       "    <tr>\n",
       "      <th>1</th>\n",
       "      <td>000BAD50D026</td>\n",
       "      <td>Do you think students would benefit from being...</td>\n",
       "    </tr>\n",
       "    <tr>\n",
       "      <th>2</th>\n",
       "      <td>00367BB2546B</td>\n",
       "      <td>Thomas Jefferson once states that \"it is wonde...</td>\n",
       "    </tr>\n",
       "  </tbody>\n",
       "</table>\n",
       "</div>"
      ],
      "text/plain": [
       "        text_id                                          full_text\n",
       "0  0000C359D63E  when a person has no experience on a job their...\n",
       "1  000BAD50D026  Do you think students would benefit from being...\n",
       "2  00367BB2546B  Thomas Jefferson once states that \"it is wonde..."
      ]
     },
     "execution_count": 5,
     "metadata": {},
     "output_type": "execute_result"
    }
   ],
   "source": [
    "test.head()"
   ]
  },
  {
   "cell_type": "code",
   "execution_count": 6,
   "id": "d5b9cfdc",
   "metadata": {
    "execution": {
     "iopub.execute_input": "2022-11-24T15:56:36.497990Z",
     "iopub.status.busy": "2022-11-24T15:56:36.497139Z",
     "iopub.status.idle": "2022-11-24T15:56:37.634129Z",
     "shell.execute_reply": "2022-11-24T15:56:37.633209Z"
    },
    "papermill": {
     "duration": 1.151279,
     "end_time": "2022-11-24T15:56:37.636902",
     "exception": false,
     "start_time": "2022-11-24T15:56:36.485623",
     "status": "completed"
    },
    "tags": []
   },
   "outputs": [],
   "source": [
    "from sklearn.feature_extraction.text import TfidfVectorizer\n",
    "X1=X[\"full_text\"]\n",
    "t1=test[\"full_text\"]"
   ]
  },
  {
   "cell_type": "code",
   "execution_count": 7,
   "id": "7daa43f9",
   "metadata": {
    "execution": {
     "iopub.execute_input": "2022-11-24T15:56:37.659604Z",
     "iopub.status.busy": "2022-11-24T15:56:37.659144Z",
     "iopub.status.idle": "2022-11-24T15:56:37.668497Z",
     "shell.execute_reply": "2022-11-24T15:56:37.667293Z"
    },
    "papermill": {
     "duration": 0.023884,
     "end_time": "2022-11-24T15:56:37.670908",
     "exception": false,
     "start_time": "2022-11-24T15:56:37.647024",
     "status": "completed"
    },
    "tags": []
   },
   "outputs": [
    {
     "data": {
      "text/plain": [
       "0       I think that students would benefit from learn...\n",
       "1       When a problem is a change you have to let it ...\n",
       "2       Dear, Principal\\n\\nIf u change the school poli...\n",
       "3       The best time in life is when you become yours...\n",
       "4       Small act of kindness can impact in other peop...\n",
       "                              ...                        \n",
       "3906    I believe using cellphones in class for educat...\n",
       "3907    Working alone, students do not have to argue w...\n",
       "3908    \"A problem is a chance for you to do your best...\n",
       "3909    Many people disagree with Albert Schweitzer's ...\n",
       "3910    Do you think that failure is the main thing fo...\n",
       "Name: full_text, Length: 3911, dtype: object"
      ]
     },
     "execution_count": 7,
     "metadata": {},
     "output_type": "execute_result"
    }
   ],
   "source": [
    "X1"
   ]
  },
  {
   "cell_type": "code",
   "execution_count": 8,
   "id": "7f8affac",
   "metadata": {
    "execution": {
     "iopub.execute_input": "2022-11-24T15:56:37.693351Z",
     "iopub.status.busy": "2022-11-24T15:56:37.692117Z",
     "iopub.status.idle": "2022-11-24T15:56:37.700548Z",
     "shell.execute_reply": "2022-11-24T15:56:37.699457Z"
    },
    "papermill": {
     "duration": 0.021928,
     "end_time": "2022-11-24T15:56:37.702811",
     "exception": false,
     "start_time": "2022-11-24T15:56:37.680883",
     "status": "completed"
    },
    "tags": []
   },
   "outputs": [
    {
     "data": {
      "text/plain": [
       "0    when a person has no experience on a job their...\n",
       "1    Do you think students would benefit from being...\n",
       "2    Thomas Jefferson once states that \"it is wonde...\n",
       "Name: full_text, dtype: object"
      ]
     },
     "execution_count": 8,
     "metadata": {},
     "output_type": "execute_result"
    }
   ],
   "source": [
    "t1"
   ]
  },
  {
   "cell_type": "code",
   "execution_count": 9,
   "id": "734aeba6",
   "metadata": {
    "execution": {
     "iopub.execute_input": "2022-11-24T15:56:37.725109Z",
     "iopub.status.busy": "2022-11-24T15:56:37.724314Z",
     "iopub.status.idle": "2022-11-24T15:56:37.730110Z",
     "shell.execute_reply": "2022-11-24T15:56:37.728967Z"
    },
    "papermill": {
     "duration": 0.019689,
     "end_time": "2022-11-24T15:56:37.732571",
     "exception": false,
     "start_time": "2022-11-24T15:56:37.712882",
     "status": "completed"
    },
    "tags": []
   },
   "outputs": [],
   "source": [
    "X_new=X1.append(t1,ignore_index=True)"
   ]
  },
  {
   "cell_type": "code",
   "execution_count": 10,
   "id": "a83cd1b6",
   "metadata": {
    "execution": {
     "iopub.execute_input": "2022-11-24T15:56:37.754444Z",
     "iopub.status.busy": "2022-11-24T15:56:37.754054Z",
     "iopub.status.idle": "2022-11-24T15:56:37.763010Z",
     "shell.execute_reply": "2022-11-24T15:56:37.761824Z"
    },
    "papermill": {
     "duration": 0.022878,
     "end_time": "2022-11-24T15:56:37.765527",
     "exception": false,
     "start_time": "2022-11-24T15:56:37.742649",
     "status": "completed"
    },
    "tags": []
   },
   "outputs": [
    {
     "data": {
      "text/plain": [
       "0       I think that students would benefit from learn...\n",
       "1       When a problem is a change you have to let it ...\n",
       "2       Dear, Principal\\n\\nIf u change the school poli...\n",
       "3       The best time in life is when you become yours...\n",
       "4       Small act of kindness can impact in other peop...\n",
       "                              ...                        \n",
       "3909    Many people disagree with Albert Schweitzer's ...\n",
       "3910    Do you think that failure is the main thing fo...\n",
       "3911    when a person has no experience on a job their...\n",
       "3912    Do you think students would benefit from being...\n",
       "3913    Thomas Jefferson once states that \"it is wonde...\n",
       "Name: full_text, Length: 3914, dtype: object"
      ]
     },
     "execution_count": 10,
     "metadata": {},
     "output_type": "execute_result"
    }
   ],
   "source": [
    "X_new"
   ]
  },
  {
   "cell_type": "code",
   "execution_count": 11,
   "id": "9eed6009",
   "metadata": {
    "execution": {
     "iopub.execute_input": "2022-11-24T15:56:37.787835Z",
     "iopub.status.busy": "2022-11-24T15:56:37.787404Z",
     "iopub.status.idle": "2022-11-24T15:56:39.006991Z",
     "shell.execute_reply": "2022-11-24T15:56:39.005852Z"
    },
    "papermill": {
     "duration": 1.234064,
     "end_time": "2022-11-24T15:56:39.009877",
     "exception": false,
     "start_time": "2022-11-24T15:56:37.775813",
     "status": "completed"
    },
    "tags": []
   },
   "outputs": [],
   "source": [
    "tfidf = TfidfVectorizer()\n",
    "result = tfidf.fit_transform(X_new)"
   ]
  },
  {
   "cell_type": "code",
   "execution_count": 12,
   "id": "80ec1a71",
   "metadata": {
    "execution": {
     "iopub.execute_input": "2022-11-24T15:56:39.033759Z",
     "iopub.status.busy": "2022-11-24T15:56:39.032622Z",
     "iopub.status.idle": "2022-11-24T15:56:40.015544Z",
     "shell.execute_reply": "2022-11-24T15:56:40.014410Z"
    },
    "papermill": {
     "duration": 0.997544,
     "end_time": "2022-11-24T15:56:40.018338",
     "exception": false,
     "start_time": "2022-11-24T15:56:39.020794",
     "status": "completed"
    },
    "tags": []
   },
   "outputs": [],
   "source": [
    "tfidf=result.toarray()"
   ]
  },
  {
   "cell_type": "code",
   "execution_count": 13,
   "id": "a2368844",
   "metadata": {
    "execution": {
     "iopub.execute_input": "2022-11-24T15:56:40.041663Z",
     "iopub.status.busy": "2022-11-24T15:56:40.041194Z",
     "iopub.status.idle": "2022-11-24T15:56:40.048373Z",
     "shell.execute_reply": "2022-11-24T15:56:40.047156Z"
    },
    "papermill": {
     "duration": 0.021893,
     "end_time": "2022-11-24T15:56:40.050965",
     "exception": false,
     "start_time": "2022-11-24T15:56:40.029072",
     "status": "completed"
    },
    "tags": []
   },
   "outputs": [
    {
     "data": {
      "text/plain": [
       "(3, 2)"
      ]
     },
     "execution_count": 13,
     "metadata": {},
     "output_type": "execute_result"
    }
   ],
   "source": [
    "test.shape"
   ]
  },
  {
   "cell_type": "code",
   "execution_count": 14,
   "id": "93957df5",
   "metadata": {
    "execution": {
     "iopub.execute_input": "2022-11-24T15:56:40.075118Z",
     "iopub.status.busy": "2022-11-24T15:56:40.074298Z",
     "iopub.status.idle": "2022-11-24T15:56:40.081955Z",
     "shell.execute_reply": "2022-11-24T15:56:40.080550Z"
    },
    "papermill": {
     "duration": 0.022204,
     "end_time": "2022-11-24T15:56:40.084384",
     "exception": false,
     "start_time": "2022-11-24T15:56:40.062180",
     "status": "completed"
    },
    "tags": []
   },
   "outputs": [
    {
     "data": {
      "text/plain": [
       "(3911, 8)"
      ]
     },
     "execution_count": 14,
     "metadata": {},
     "output_type": "execute_result"
    }
   ],
   "source": [
    "X.shape"
   ]
  },
  {
   "cell_type": "code",
   "execution_count": 15,
   "id": "d1fb7f4f",
   "metadata": {
    "execution": {
     "iopub.execute_input": "2022-11-24T15:56:40.108106Z",
     "iopub.status.busy": "2022-11-24T15:56:40.107380Z",
     "iopub.status.idle": "2022-11-24T15:56:40.112131Z",
     "shell.execute_reply": "2022-11-24T15:56:40.111272Z"
    },
    "papermill": {
     "duration": 0.019438,
     "end_time": "2022-11-24T15:56:40.114372",
     "exception": false,
     "start_time": "2022-11-24T15:56:40.094934",
     "status": "completed"
    },
    "tags": []
   },
   "outputs": [],
   "source": [
    "test=tfidf[len(X1):]\n",
    "X2=tfidf[:len(X1)]"
   ]
  },
  {
   "cell_type": "code",
   "execution_count": 16,
   "id": "79d74a06",
   "metadata": {
    "execution": {
     "iopub.execute_input": "2022-11-24T15:56:40.136740Z",
     "iopub.status.busy": "2022-11-24T15:56:40.136262Z",
     "iopub.status.idle": "2022-11-24T15:56:40.142793Z",
     "shell.execute_reply": "2022-11-24T15:56:40.141822Z"
    },
    "papermill": {
     "duration": 0.020155,
     "end_time": "2022-11-24T15:56:40.144849",
     "exception": false,
     "start_time": "2022-11-24T15:56:40.124694",
     "status": "completed"
    },
    "tags": []
   },
   "outputs": [
    {
     "data": {
      "text/plain": [
       "(3911, 21370)"
      ]
     },
     "execution_count": 16,
     "metadata": {},
     "output_type": "execute_result"
    }
   ],
   "source": [
    "X2.shape"
   ]
  },
  {
   "cell_type": "code",
   "execution_count": 17,
   "id": "55399063",
   "metadata": {
    "execution": {
     "iopub.execute_input": "2022-11-24T15:56:40.168113Z",
     "iopub.status.busy": "2022-11-24T15:56:40.167423Z",
     "iopub.status.idle": "2022-11-24T15:56:40.172902Z",
     "shell.execute_reply": "2022-11-24T15:56:40.172104Z"
    },
    "papermill": {
     "duration": 0.019677,
     "end_time": "2022-11-24T15:56:40.174936",
     "exception": false,
     "start_time": "2022-11-24T15:56:40.155259",
     "status": "completed"
    },
    "tags": []
   },
   "outputs": [
    {
     "data": {
      "text/plain": [
       "(3, 21370)"
      ]
     },
     "execution_count": 17,
     "metadata": {},
     "output_type": "execute_result"
    }
   ],
   "source": [
    "test.shape"
   ]
  },
  {
   "cell_type": "code",
   "execution_count": 18,
   "id": "428abac8",
   "metadata": {
    "execution": {
     "iopub.execute_input": "2022-11-24T15:56:40.198682Z",
     "iopub.status.busy": "2022-11-24T15:56:40.198013Z",
     "iopub.status.idle": "2022-11-24T15:56:40.202321Z",
     "shell.execute_reply": "2022-11-24T15:56:40.201533Z"
    },
    "papermill": {
     "duration": 0.019315,
     "end_time": "2022-11-24T15:56:40.204957",
     "exception": false,
     "start_time": "2022-11-24T15:56:40.185642",
     "status": "completed"
    },
    "tags": []
   },
   "outputs": [],
   "source": [
    "IP=X2.shape[1]"
   ]
  },
  {
   "cell_type": "code",
   "execution_count": 19,
   "id": "2e174944",
   "metadata": {
    "execution": {
     "iopub.execute_input": "2022-11-24T15:56:40.228945Z",
     "iopub.status.busy": "2022-11-24T15:56:40.227793Z",
     "iopub.status.idle": "2022-11-24T15:56:40.234767Z",
     "shell.execute_reply": "2022-11-24T15:56:40.233443Z"
    },
    "papermill": {
     "duration": 0.02176,
     "end_time": "2022-11-24T15:56:40.237499",
     "exception": false,
     "start_time": "2022-11-24T15:56:40.215739",
     "status": "completed"
    },
    "tags": []
   },
   "outputs": [
    {
     "data": {
      "text/plain": [
       "21370"
      ]
     },
     "execution_count": 19,
     "metadata": {},
     "output_type": "execute_result"
    }
   ],
   "source": [
    "IP"
   ]
  },
  {
   "cell_type": "code",
   "execution_count": 20,
   "id": "7121c27c",
   "metadata": {
    "execution": {
     "iopub.execute_input": "2022-11-24T15:56:40.261385Z",
     "iopub.status.busy": "2022-11-24T15:56:40.260709Z",
     "iopub.status.idle": "2022-11-24T15:56:40.276021Z",
     "shell.execute_reply": "2022-11-24T15:56:40.274920Z"
    },
    "papermill": {
     "duration": 0.030202,
     "end_time": "2022-11-24T15:56:40.278531",
     "exception": false,
     "start_time": "2022-11-24T15:56:40.248329",
     "status": "completed"
    },
    "tags": []
   },
   "outputs": [],
   "source": [
    "X1_train = X.loc[:int(len(X1.index)*0.8)]\n",
    "y_train = X1_train[['syntax','cohesion','vocabulary','phraseology','grammar','conventions']]\n",
    "X1_val = X.loc[int(len(X1.index)*0.8)+1:int(len(X1.index)*0.9)]\n",
    "y_val = X1_val[['syntax','cohesion','vocabulary','phraseology','grammar','conventions']]\n",
    "X1_test = X.loc[int(len(X1.index)*0.9)+1:]\n",
    "y_test = X1_test[['syntax','cohesion','vocabulary','phraseology','grammar','conventions']]"
   ]
  },
  {
   "cell_type": "code",
   "execution_count": 21,
   "id": "715fd08b",
   "metadata": {
    "execution": {
     "iopub.execute_input": "2022-11-24T15:56:40.302031Z",
     "iopub.status.busy": "2022-11-24T15:56:40.301351Z",
     "iopub.status.idle": "2022-11-24T15:56:40.307350Z",
     "shell.execute_reply": "2022-11-24T15:56:40.306565Z"
    },
    "papermill": {
     "duration": 0.020652,
     "end_time": "2022-11-24T15:56:40.309868",
     "exception": false,
     "start_time": "2022-11-24T15:56:40.289216",
     "status": "completed"
    },
    "tags": []
   },
   "outputs": [],
   "source": [
    "tfidf_train=X2[:int(len(X.index)*0.8)+1]\n",
    "tfidf_val=X2[int(len(X.index)*0.8)+1:int(len(X.index)*0.9)+1]\n",
    "tfidf_test=X2[int(len(X.index)*0.9)+1:]"
   ]
  },
  {
   "cell_type": "code",
   "execution_count": 22,
   "id": "677b5ef7",
   "metadata": {
    "execution": {
     "iopub.execute_input": "2022-11-24T15:56:40.333507Z",
     "iopub.status.busy": "2022-11-24T15:56:40.332798Z",
     "iopub.status.idle": "2022-11-24T15:56:40.341368Z",
     "shell.execute_reply": "2022-11-24T15:56:40.340555Z"
    },
    "papermill": {
     "duration": 0.02349,
     "end_time": "2022-11-24T15:56:40.343946",
     "exception": false,
     "start_time": "2022-11-24T15:56:40.320456",
     "status": "completed"
    },
    "tags": []
   },
   "outputs": [],
   "source": [
    "y1_train=y_train[\"syntax\"]\n",
    "y2_train=y_train[\"cohesion\"]\n",
    "y3_train=y_train[\"vocabulary\"]\n",
    "y4_train=y_train[\"phraseology\"]\n",
    "y5_train=y_train[\"grammar\"]\n",
    "y6_train=y_train[\"conventions\"]\n",
    "\n",
    "y1_val=y_val[\"syntax\"]\n",
    "y2_val=y_val[\"cohesion\"]\n",
    "y3_val=y_val[\"vocabulary\"]\n",
    "y4_val=y_val[\"phraseology\"]\n",
    "y5_val=y_val[\"grammar\"]\n",
    "y6_val=y_val[\"conventions\"]\n",
    "\n",
    "y1_test=y_test[\"syntax\"]\n",
    "y2_test=y_test[\"cohesion\"]\n",
    "y3_test=y_test[\"vocabulary\"]\n",
    "y4_test=y_test[\"phraseology\"]\n",
    "y5_test=y_test[\"grammar\"]\n",
    "y6_test=y_test[\"conventions\"]"
   ]
  },
  {
   "cell_type": "code",
   "execution_count": 23,
   "id": "24a73616",
   "metadata": {
    "execution": {
     "iopub.execute_input": "2022-11-24T15:56:40.368099Z",
     "iopub.status.busy": "2022-11-24T15:56:40.367403Z",
     "iopub.status.idle": "2022-11-24T15:56:40.373827Z",
     "shell.execute_reply": "2022-11-24T15:56:40.372250Z"
    },
    "papermill": {
     "duration": 0.022259,
     "end_time": "2022-11-24T15:56:40.377252",
     "exception": false,
     "start_time": "2022-11-24T15:56:40.354993",
     "status": "completed"
    },
    "tags": []
   },
   "outputs": [
    {
     "name": "stdout",
     "output_type": "stream",
     "text": [
      "(3129, 21370)\n",
      "(3129,)\n",
      "(391, 21370)\n",
      "(391,)\n",
      "(391, 21370)\n",
      "(391, 6)\n"
     ]
    }
   ],
   "source": [
    "print(tfidf_train.shape)\n",
    "print(y1_train.shape)\n",
    "print(tfidf_val.shape)\n",
    "print(y1_val.shape)\n",
    "print(tfidf_test.shape)\n",
    "print(y_test.shape)"
   ]
  },
  {
   "cell_type": "code",
   "execution_count": 24,
   "id": "dec51c5a",
   "metadata": {
    "execution": {
     "iopub.execute_input": "2022-11-24T15:56:40.401826Z",
     "iopub.status.busy": "2022-11-24T15:56:40.401409Z",
     "iopub.status.idle": "2022-11-24T15:56:40.697945Z",
     "shell.execute_reply": "2022-11-24T15:56:40.696724Z"
    },
    "papermill": {
     "duration": 0.312807,
     "end_time": "2022-11-24T15:56:40.701670",
     "exception": false,
     "start_time": "2022-11-24T15:56:40.388863",
     "status": "completed"
    },
    "tags": []
   },
   "outputs": [],
   "source": [
    "from sklearn.ensemble import RandomForestRegressor\n",
    "from sklearn.svm import SVR\n",
    "from sklearn.linear_model import LinearRegression\n",
    "from sklearn.metrics import mean_squared_error"
   ]
  },
  {
   "cell_type": "code",
   "execution_count": 25,
   "id": "a79cbbf9",
   "metadata": {
    "execution": {
     "iopub.execute_input": "2022-11-24T15:56:40.725601Z",
     "iopub.status.busy": "2022-11-24T15:56:40.724351Z",
     "iopub.status.idle": "2022-11-24T16:01:19.834631Z",
     "shell.execute_reply": "2022-11-24T16:01:19.833276Z"
    },
    "papermill": {
     "duration": 279.125322,
     "end_time": "2022-11-24T16:01:19.837615",
     "exception": false,
     "start_time": "2022-11-24T15:56:40.712293",
     "status": "completed"
    },
    "tags": []
   },
   "outputs": [],
   "source": [
    "rf1 = RandomForestRegressor(n_estimators = 100, random_state = 42)\n",
    "rf1.fit(tfidf_train, y1_train)\n",
    "# pickle.dump(rf, open('Saved_Models/RF_with_PP', 'wb') = [round(r,1) for r in y_pred]\n",
    "# rf = pickle.load(open('Saved_Models/RF_wth_pp', 'rb'))\n",
    "\n",
    "y1_pred = rf1.predict(tfidf_test)\n",
    "y1_pred = [round(r,1) for r in y1_pred]\n"
   ]
  },
  {
   "cell_type": "code",
   "execution_count": 26,
   "id": "caff83d5",
   "metadata": {
    "execution": {
     "iopub.execute_input": "2022-11-24T16:01:19.861353Z",
     "iopub.status.busy": "2022-11-24T16:01:19.860974Z",
     "iopub.status.idle": "2022-11-24T16:05:43.819878Z",
     "shell.execute_reply": "2022-11-24T16:05:43.818814Z"
    },
    "papermill": {
     "duration": 263.973828,
     "end_time": "2022-11-24T16:05:43.822706",
     "exception": false,
     "start_time": "2022-11-24T16:01:19.848878",
     "status": "completed"
    },
    "tags": []
   },
   "outputs": [],
   "source": [
    "rf2 = RandomForestRegressor(n_estimators = 100, random_state = 42)\n",
    "rf2.fit(tfidf_train, y2_train)\n",
    "# pickle.dump(rf, open('Saved_Models/RF_with_PP', 'wb') = [round(r,1) for r in y_pred]\n",
    "# rf = pickle.load(open('Saved_Models/RF_wth_pp', 'rb'))\n",
    "\n",
    "y2_pred = rf2.predict(tfidf_test)\n",
    "y2_pred = [round(r,1) for r in y2_pred]\n",
    "\n"
   ]
  },
  {
   "cell_type": "code",
   "execution_count": 27,
   "id": "b6c10853",
   "metadata": {
    "execution": {
     "iopub.execute_input": "2022-11-24T16:05:43.846368Z",
     "iopub.status.busy": "2022-11-24T16:05:43.845987Z",
     "iopub.status.idle": "2022-11-24T16:10:21.491875Z",
     "shell.execute_reply": "2022-11-24T16:10:21.490643Z"
    },
    "papermill": {
     "duration": 277.661069,
     "end_time": "2022-11-24T16:10:21.494992",
     "exception": false,
     "start_time": "2022-11-24T16:05:43.833923",
     "status": "completed"
    },
    "tags": []
   },
   "outputs": [],
   "source": [
    "rf3 = RandomForestRegressor(n_estimators = 100, random_state = 42)\n",
    "rf3.fit(tfidf_train, y3_train)\n",
    "# pickle.dump(rf, open('Saved_Models/RF_with_PP', 'wb') = [round(r,1) for r in y_pred]\n",
    "# rf = pickle.load(open('Saved_Models/RF_wth_pp', 'rb'))\n",
    "\n",
    "y3_pred = rf3.predict(tfidf_test)\n",
    "y3_pred = [round(r,1) for r in y3_pred]"
   ]
  },
  {
   "cell_type": "code",
   "execution_count": 28,
   "id": "c16bea79",
   "metadata": {
    "execution": {
     "iopub.execute_input": "2022-11-24T16:10:21.520051Z",
     "iopub.status.busy": "2022-11-24T16:10:21.519627Z",
     "iopub.status.idle": "2022-11-24T16:14:48.547219Z",
     "shell.execute_reply": "2022-11-24T16:14:48.545966Z"
    },
    "papermill": {
     "duration": 267.043301,
     "end_time": "2022-11-24T16:14:48.550130",
     "exception": false,
     "start_time": "2022-11-24T16:10:21.506829",
     "status": "completed"
    },
    "tags": []
   },
   "outputs": [],
   "source": [
    "rf4 = RandomForestRegressor(n_estimators = 100, random_state = 42)\n",
    "rf4.fit(tfidf_train, y4_train)\n",
    "# pickle.dump(rf, open('Saved_Models/RF_with_PP', 'wb') = [round(r,1) for r in y_pred]\n",
    "# rf = pickle.load(open('Saved_Models/RF_wth_pp', 'rb'))\n",
    "\n",
    "y4_pred = rf4.predict(tfidf_test)\n",
    "y4_pred = [round(r,1) for r in y4_pred]"
   ]
  },
  {
   "cell_type": "code",
   "execution_count": 29,
   "id": "f89ce3f1",
   "metadata": {
    "execution": {
     "iopub.execute_input": "2022-11-24T16:14:48.574762Z",
     "iopub.status.busy": "2022-11-24T16:14:48.573594Z",
     "iopub.status.idle": "2022-11-24T16:19:20.883888Z",
     "shell.execute_reply": "2022-11-24T16:19:20.882715Z"
    },
    "papermill": {
     "duration": 272.325428,
     "end_time": "2022-11-24T16:19:20.886762",
     "exception": false,
     "start_time": "2022-11-24T16:14:48.561334",
     "status": "completed"
    },
    "tags": []
   },
   "outputs": [],
   "source": [
    "rf5 = RandomForestRegressor(n_estimators = 100, random_state = 42)\n",
    "rf5.fit(tfidf_train, y5_train)\n",
    "# pickle.dump(rf, open('Saved_Models/RF_with_PP', 'wb') = [round(r,1) for r in y_pred]\n",
    "# rf = pickle.load(open('Saved_Models/RF_wth_pp', 'rb'))\n",
    "\n",
    "y5_pred = rf5.predict(tfidf_test)\n",
    "y5_pred = [round(r,1) for r in y5_pred]"
   ]
  },
  {
   "cell_type": "code",
   "execution_count": 30,
   "id": "79fb21e5",
   "metadata": {
    "execution": {
     "iopub.execute_input": "2022-11-24T16:19:20.912437Z",
     "iopub.status.busy": "2022-11-24T16:19:20.912007Z",
     "iopub.status.idle": "2022-11-24T16:24:02.210193Z",
     "shell.execute_reply": "2022-11-24T16:24:02.208894Z"
    },
    "papermill": {
     "duration": 281.314023,
     "end_time": "2022-11-24T16:24:02.213060",
     "exception": false,
     "start_time": "2022-11-24T16:19:20.899037",
     "status": "completed"
    },
    "tags": []
   },
   "outputs": [],
   "source": [
    "rf6 = RandomForestRegressor(n_estimators = 100, random_state = 42)\n",
    "rf6.fit(tfidf_train, y6_train)\n",
    "# pickle.dump(rf, open('Saved_Models/RF_with_PP', 'wb') = [round(r,1) for r in y_pred]\n",
    "# rf = pickle.load(open('Saved_Models/RF_wth_pp', 'rb'))\n",
    "\n",
    "y6_pred = rf6.predict(tfidf_test)\n",
    "y6_pred = [round(r,1) for r in y6_pred]"
   ]
  },
  {
   "cell_type": "code",
   "execution_count": 31,
   "id": "fee46826",
   "metadata": {
    "execution": {
     "iopub.execute_input": "2022-11-24T16:24:02.236872Z",
     "iopub.status.busy": "2022-11-24T16:24:02.236451Z",
     "iopub.status.idle": "2022-11-24T16:24:02.255919Z",
     "shell.execute_reply": "2022-11-24T16:24:02.254563Z"
    },
    "papermill": {
     "duration": 0.034441,
     "end_time": "2022-11-24T16:24:02.258839",
     "exception": false,
     "start_time": "2022-11-24T16:24:02.224398",
     "status": "completed"
    },
    "tags": []
   },
   "outputs": [],
   "source": [
    "t1=pd.read_csv(\"/kaggle/input/feedback-prize-english-language-learning/test.csv\")"
   ]
  },
  {
   "cell_type": "code",
   "execution_count": 32,
   "id": "3aba8a3d",
   "metadata": {
    "execution": {
     "iopub.execute_input": "2022-11-24T16:24:02.283254Z",
     "iopub.status.busy": "2022-11-24T16:24:02.282659Z",
     "iopub.status.idle": "2022-11-24T16:24:02.295257Z",
     "shell.execute_reply": "2022-11-24T16:24:02.294059Z"
    },
    "papermill": {
     "duration": 0.028214,
     "end_time": "2022-11-24T16:24:02.297969",
     "exception": false,
     "start_time": "2022-11-24T16:24:02.269755",
     "status": "completed"
    },
    "tags": []
   },
   "outputs": [],
   "source": [
    "final=pd.DataFrame()\n",
    "\n",
    "#final['text_id']=t1[\"text_id\"]\n",
    "final['syntax']=y1_pred\n",
    "final['cohesion']=y2_pred\n",
    "final['vocabulary']=y3_pred\n",
    "final['phraseology']=y4_pred\n",
    "final['grammar']=y5_pred\n",
    "final['conventions']=y6_pred"
   ]
  },
  {
   "cell_type": "code",
   "execution_count": 33,
   "id": "120b7faa",
   "metadata": {
    "execution": {
     "iopub.execute_input": "2022-11-24T16:24:02.321559Z",
     "iopub.status.busy": "2022-11-24T16:24:02.321120Z",
     "iopub.status.idle": "2022-11-24T16:24:02.343316Z",
     "shell.execute_reply": "2022-11-24T16:24:02.342000Z"
    },
    "papermill": {
     "duration": 0.036762,
     "end_time": "2022-11-24T16:24:02.345730",
     "exception": false,
     "start_time": "2022-11-24T16:24:02.308968",
     "status": "completed"
    },
    "tags": []
   },
   "outputs": [
    {
     "data": {
      "text/html": [
       "<div>\n",
       "<style scoped>\n",
       "    .dataframe tbody tr th:only-of-type {\n",
       "        vertical-align: middle;\n",
       "    }\n",
       "\n",
       "    .dataframe tbody tr th {\n",
       "        vertical-align: top;\n",
       "    }\n",
       "\n",
       "    .dataframe thead th {\n",
       "        text-align: right;\n",
       "    }\n",
       "</style>\n",
       "<table border=\"1\" class=\"dataframe\">\n",
       "  <thead>\n",
       "    <tr style=\"text-align: right;\">\n",
       "      <th></th>\n",
       "      <th>syntax</th>\n",
       "      <th>cohesion</th>\n",
       "      <th>vocabulary</th>\n",
       "      <th>phraseology</th>\n",
       "      <th>grammar</th>\n",
       "      <th>conventions</th>\n",
       "    </tr>\n",
       "  </thead>\n",
       "  <tbody>\n",
       "    <tr>\n",
       "      <th>0</th>\n",
       "      <td>3.2</td>\n",
       "      <td>3.4</td>\n",
       "      <td>3.5</td>\n",
       "      <td>3.5</td>\n",
       "      <td>3.4</td>\n",
       "      <td>3.2</td>\n",
       "    </tr>\n",
       "    <tr>\n",
       "      <th>1</th>\n",
       "      <td>3.0</td>\n",
       "      <td>3.0</td>\n",
       "      <td>3.3</td>\n",
       "      <td>3.2</td>\n",
       "      <td>2.9</td>\n",
       "      <td>2.9</td>\n",
       "    </tr>\n",
       "    <tr>\n",
       "      <th>2</th>\n",
       "      <td>3.6</td>\n",
       "      <td>3.4</td>\n",
       "      <td>3.6</td>\n",
       "      <td>3.4</td>\n",
       "      <td>3.3</td>\n",
       "      <td>3.4</td>\n",
       "    </tr>\n",
       "    <tr>\n",
       "      <th>3</th>\n",
       "      <td>3.1</td>\n",
       "      <td>3.1</td>\n",
       "      <td>3.1</td>\n",
       "      <td>2.9</td>\n",
       "      <td>3.2</td>\n",
       "      <td>2.8</td>\n",
       "    </tr>\n",
       "    <tr>\n",
       "      <th>4</th>\n",
       "      <td>3.0</td>\n",
       "      <td>3.1</td>\n",
       "      <td>3.1</td>\n",
       "      <td>3.1</td>\n",
       "      <td>2.9</td>\n",
       "      <td>3.1</td>\n",
       "    </tr>\n",
       "    <tr>\n",
       "      <th>...</th>\n",
       "      <td>...</td>\n",
       "      <td>...</td>\n",
       "      <td>...</td>\n",
       "      <td>...</td>\n",
       "      <td>...</td>\n",
       "      <td>...</td>\n",
       "    </tr>\n",
       "    <tr>\n",
       "      <th>386</th>\n",
       "      <td>3.1</td>\n",
       "      <td>3.1</td>\n",
       "      <td>3.3</td>\n",
       "      <td>3.4</td>\n",
       "      <td>3.3</td>\n",
       "      <td>3.2</td>\n",
       "    </tr>\n",
       "    <tr>\n",
       "      <th>387</th>\n",
       "      <td>3.4</td>\n",
       "      <td>3.4</td>\n",
       "      <td>3.6</td>\n",
       "      <td>3.3</td>\n",
       "      <td>3.2</td>\n",
       "      <td>3.5</td>\n",
       "    </tr>\n",
       "    <tr>\n",
       "      <th>388</th>\n",
       "      <td>2.8</td>\n",
       "      <td>3.0</td>\n",
       "      <td>3.2</td>\n",
       "      <td>3.2</td>\n",
       "      <td>3.1</td>\n",
       "      <td>2.9</td>\n",
       "    </tr>\n",
       "    <tr>\n",
       "      <th>389</th>\n",
       "      <td>3.3</td>\n",
       "      <td>3.4</td>\n",
       "      <td>3.5</td>\n",
       "      <td>3.1</td>\n",
       "      <td>3.1</td>\n",
       "      <td>3.3</td>\n",
       "    </tr>\n",
       "    <tr>\n",
       "      <th>390</th>\n",
       "      <td>3.0</td>\n",
       "      <td>3.1</td>\n",
       "      <td>3.1</td>\n",
       "      <td>2.8</td>\n",
       "      <td>2.9</td>\n",
       "      <td>3.1</td>\n",
       "    </tr>\n",
       "  </tbody>\n",
       "</table>\n",
       "<p>391 rows × 6 columns</p>\n",
       "</div>"
      ],
      "text/plain": [
       "     syntax  cohesion  vocabulary  phraseology  grammar  conventions\n",
       "0       3.2       3.4         3.5          3.5      3.4          3.2\n",
       "1       3.0       3.0         3.3          3.2      2.9          2.9\n",
       "2       3.6       3.4         3.6          3.4      3.3          3.4\n",
       "3       3.1       3.1         3.1          2.9      3.2          2.8\n",
       "4       3.0       3.1         3.1          3.1      2.9          3.1\n",
       "..      ...       ...         ...          ...      ...          ...\n",
       "386     3.1       3.1         3.3          3.4      3.3          3.2\n",
       "387     3.4       3.4         3.6          3.3      3.2          3.5\n",
       "388     2.8       3.0         3.2          3.2      3.1          2.9\n",
       "389     3.3       3.4         3.5          3.1      3.1          3.3\n",
       "390     3.0       3.1         3.1          2.8      2.9          3.1\n",
       "\n",
       "[391 rows x 6 columns]"
      ]
     },
     "execution_count": 33,
     "metadata": {},
     "output_type": "execute_result"
    }
   ],
   "source": [
    "final"
   ]
  },
  {
   "cell_type": "code",
   "execution_count": 34,
   "id": "70d212c2",
   "metadata": {
    "execution": {
     "iopub.execute_input": "2022-11-24T16:24:02.369334Z",
     "iopub.status.busy": "2022-11-24T16:24:02.368926Z",
     "iopub.status.idle": "2022-11-24T16:24:02.376131Z",
     "shell.execute_reply": "2022-11-24T16:24:02.374939Z"
    },
    "papermill": {
     "duration": 0.021943,
     "end_time": "2022-11-24T16:24:02.378605",
     "exception": false,
     "start_time": "2022-11-24T16:24:02.356662",
     "status": "completed"
    },
    "tags": []
   },
   "outputs": [
    {
     "data": {
      "text/plain": [
       "(3, 21370)"
      ]
     },
     "execution_count": 34,
     "metadata": {},
     "output_type": "execute_result"
    }
   ],
   "source": [
    "test.shape"
   ]
  },
  {
   "cell_type": "code",
   "execution_count": 35,
   "id": "3247c1db",
   "metadata": {
    "execution": {
     "iopub.execute_input": "2022-11-24T16:24:02.403205Z",
     "iopub.status.busy": "2022-11-24T16:24:02.402765Z",
     "iopub.status.idle": "2022-11-24T16:24:02.469425Z",
     "shell.execute_reply": "2022-11-24T16:24:02.468214Z"
    },
    "papermill": {
     "duration": 0.082452,
     "end_time": "2022-11-24T16:24:02.472176",
     "exception": false,
     "start_time": "2022-11-24T16:24:02.389724",
     "status": "completed"
    },
    "tags": []
   },
   "outputs": [],
   "source": [
    "test1 = rf1.predict(test).flatten()\n",
    "test1= [round(r,1) for r in test1]  \n",
    "\n",
    "test2 = rf2.predict(test).flatten()\n",
    "test2= [round(r,1) for r in test2]\n",
    "\n",
    "test3 = rf3.predict(test).flatten()\n",
    "test3= [round(r,1) for r in test3]\n",
    "\n",
    "test4 = rf4.predict(test).flatten()\n",
    "test4= [round(r,1) for r in test4]\n",
    "\n",
    "test5 = rf5.predict(test).flatten()\n",
    "test5= [round(r,1) for r in test5]\n",
    "\n",
    "test6 =rf6.predict(test).flatten()\n",
    "test6= [round(r,1) for r in test6]"
   ]
  },
  {
   "cell_type": "code",
   "execution_count": 36,
   "id": "ba81e353",
   "metadata": {
    "execution": {
     "iopub.execute_input": "2022-11-24T16:24:02.496060Z",
     "iopub.status.busy": "2022-11-24T16:24:02.495627Z",
     "iopub.status.idle": "2022-11-24T16:24:02.503602Z",
     "shell.execute_reply": "2022-11-24T16:24:02.502342Z"
    },
    "papermill": {
     "duration": 0.022641,
     "end_time": "2022-11-24T16:24:02.505942",
     "exception": false,
     "start_time": "2022-11-24T16:24:02.483301",
     "status": "completed"
    },
    "tags": []
   },
   "outputs": [],
   "source": [
    "t1=pd.read_csv(\"/kaggle/input/feedback-prize-english-language-learning/test.csv\")"
   ]
  },
  {
   "cell_type": "code",
   "execution_count": 37,
   "id": "401b1149",
   "metadata": {
    "execution": {
     "iopub.execute_input": "2022-11-24T16:24:02.529702Z",
     "iopub.status.busy": "2022-11-24T16:24:02.529267Z",
     "iopub.status.idle": "2022-11-24T16:24:02.541887Z",
     "shell.execute_reply": "2022-11-24T16:24:02.540718Z"
    },
    "papermill": {
     "duration": 0.027316,
     "end_time": "2022-11-24T16:24:02.544335",
     "exception": false,
     "start_time": "2022-11-24T16:24:02.517019",
     "status": "completed"
    },
    "tags": []
   },
   "outputs": [],
   "source": [
    "final=pd.DataFrame()\n",
    "\n",
    "final['text_id']=t1[\"text_id\"]\n",
    "final['syntax']=test1\n",
    "final['cohesion']=test2\n",
    "final['vocabulary']=test3\n",
    "final['phraseology']=test4\n",
    "final['grammar']=test5\n",
    "final['conventions']=test6"
   ]
  },
  {
   "cell_type": "code",
   "execution_count": 38,
   "id": "42d0f8cd",
   "metadata": {
    "execution": {
     "iopub.execute_input": "2022-11-24T16:24:02.568508Z",
     "iopub.status.busy": "2022-11-24T16:24:02.568045Z",
     "iopub.status.idle": "2022-11-24T16:24:02.576620Z",
     "shell.execute_reply": "2022-11-24T16:24:02.575595Z"
    },
    "papermill": {
     "duration": 0.023664,
     "end_time": "2022-11-24T16:24:02.579048",
     "exception": false,
     "start_time": "2022-11-24T16:24:02.555384",
     "status": "completed"
    },
    "tags": []
   },
   "outputs": [],
   "source": [
    "final.to_csv('submission.csv', index=False)"
   ]
  },
  {
   "cell_type": "code",
   "execution_count": 39,
   "id": "974ad376",
   "metadata": {
    "execution": {
     "iopub.execute_input": "2022-11-24T16:24:02.603213Z",
     "iopub.status.busy": "2022-11-24T16:24:02.602241Z",
     "iopub.status.idle": "2022-11-24T16:24:02.616323Z",
     "shell.execute_reply": "2022-11-24T16:24:02.615248Z"
    },
    "papermill": {
     "duration": 0.02833,
     "end_time": "2022-11-24T16:24:02.618489",
     "exception": false,
     "start_time": "2022-11-24T16:24:02.590159",
     "status": "completed"
    },
    "tags": []
   },
   "outputs": [
    {
     "data": {
      "text/html": [
       "<div>\n",
       "<style scoped>\n",
       "    .dataframe tbody tr th:only-of-type {\n",
       "        vertical-align: middle;\n",
       "    }\n",
       "\n",
       "    .dataframe tbody tr th {\n",
       "        vertical-align: top;\n",
       "    }\n",
       "\n",
       "    .dataframe thead th {\n",
       "        text-align: right;\n",
       "    }\n",
       "</style>\n",
       "<table border=\"1\" class=\"dataframe\">\n",
       "  <thead>\n",
       "    <tr style=\"text-align: right;\">\n",
       "      <th></th>\n",
       "      <th>text_id</th>\n",
       "      <th>syntax</th>\n",
       "      <th>cohesion</th>\n",
       "      <th>vocabulary</th>\n",
       "      <th>phraseology</th>\n",
       "      <th>grammar</th>\n",
       "      <th>conventions</th>\n",
       "    </tr>\n",
       "  </thead>\n",
       "  <tbody>\n",
       "    <tr>\n",
       "      <th>0</th>\n",
       "      <td>0000C359D63E</td>\n",
       "      <td>3.0</td>\n",
       "      <td>3.1</td>\n",
       "      <td>3.1</td>\n",
       "      <td>3.2</td>\n",
       "      <td>3.0</td>\n",
       "      <td>3.2</td>\n",
       "    </tr>\n",
       "    <tr>\n",
       "      <th>1</th>\n",
       "      <td>000BAD50D026</td>\n",
       "      <td>2.8</td>\n",
       "      <td>2.8</td>\n",
       "      <td>3.0</td>\n",
       "      <td>2.9</td>\n",
       "      <td>3.0</td>\n",
       "      <td>2.9</td>\n",
       "    </tr>\n",
       "    <tr>\n",
       "      <th>2</th>\n",
       "      <td>00367BB2546B</td>\n",
       "      <td>3.2</td>\n",
       "      <td>3.5</td>\n",
       "      <td>3.6</td>\n",
       "      <td>3.4</td>\n",
       "      <td>3.2</td>\n",
       "      <td>3.4</td>\n",
       "    </tr>\n",
       "  </tbody>\n",
       "</table>\n",
       "</div>"
      ],
      "text/plain": [
       "        text_id  syntax  cohesion  vocabulary  phraseology  grammar  \\\n",
       "0  0000C359D63E     3.0       3.1         3.1          3.2      3.0   \n",
       "1  000BAD50D026     2.8       2.8         3.0          2.9      3.0   \n",
       "2  00367BB2546B     3.2       3.5         3.6          3.4      3.2   \n",
       "\n",
       "   conventions  \n",
       "0          3.2  \n",
       "1          2.9  \n",
       "2          3.4  "
      ]
     },
     "execution_count": 39,
     "metadata": {},
     "output_type": "execute_result"
    }
   ],
   "source": [
    "final"
   ]
  },
  {
   "cell_type": "code",
   "execution_count": null,
   "id": "1ff3f1c2",
   "metadata": {
    "papermill": {
     "duration": 0.010943,
     "end_time": "2022-11-24T16:24:02.640730",
     "exception": false,
     "start_time": "2022-11-24T16:24:02.629787",
     "status": "completed"
    },
    "tags": []
   },
   "outputs": [],
   "source": []
  }
 ],
 "metadata": {
  "kernelspec": {
   "display_name": "Python 3",
   "language": "python",
   "name": "python3"
  },
  "language_info": {
   "codemirror_mode": {
    "name": "ipython",
    "version": 3
   },
   "file_extension": ".py",
   "mimetype": "text/x-python",
   "name": "python",
   "nbconvert_exporter": "python",
   "pygments_lexer": "ipython3",
   "version": "3.7.12"
  },
  "papermill": {
   "default_parameters": {},
   "duration": 1656.59423,
   "end_time": "2022-11-24T16:24:03.476329",
   "environment_variables": {},
   "exception": null,
   "input_path": "__notebook__.ipynb",
   "output_path": "__notebook__.ipynb",
   "parameters": {},
   "start_time": "2022-11-24T15:56:26.882099",
   "version": "2.3.4"
  }
 },
 "nbformat": 4,
 "nbformat_minor": 5
}
