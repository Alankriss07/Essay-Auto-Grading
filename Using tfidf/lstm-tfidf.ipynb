{
 "cells": [
  {
   "cell_type": "code",
   "execution_count": 1,
   "id": "8ae6998a",
   "metadata": {
    "_cell_guid": "b1076dfc-b9ad-4769-8c92-a6c4dae69d19",
    "_uuid": "8f2839f25d086af736a60e9eeb907d3b93b6e0e5",
    "execution": {
     "iopub.execute_input": "2022-11-24T18:53:49.210951Z",
     "iopub.status.busy": "2022-11-24T18:53:49.210495Z",
     "iopub.status.idle": "2022-11-24T18:53:49.223737Z",
     "shell.execute_reply": "2022-11-24T18:53:49.222699Z"
    },
    "papermill": {
     "duration": 0.029593,
     "end_time": "2022-11-24T18:53:49.226480",
     "exception": false,
     "start_time": "2022-11-24T18:53:49.196887",
     "status": "completed"
    },
    "tags": []
   },
   "outputs": [
    {
     "name": "stdout",
     "output_type": "stream",
     "text": [
      "/kaggle/input/feedback-prize-english-language-learning/sample_submission.csv\n",
      "/kaggle/input/feedback-prize-english-language-learning/train.csv\n",
      "/kaggle/input/feedback-prize-english-language-learning/test.csv\n"
     ]
    }
   ],
   "source": [
    "# This Python 3 environment comes with many helpful analytics libraries installed\n",
    "# It is defined by the kaggle/python Docker image: https://github.com/kaggle/docker-python\n",
    "# For example, here's several helpful packages to load\n",
    "\n",
    "import numpy as np # linear algebra\n",
    "import pandas as pd # data processing, CSV file I/O (e.g. pd.read_csv)\n",
    "\n",
    "# Input data files are available in the read-only \"../input/\" directory\n",
    "# For example, running this (by clicking run or pressing Shift+Enter) will list all files under the input directory\n",
    "\n",
    "import os\n",
    "for dirname, _, filenames in os.walk('/kaggle/input'):\n",
    "    for filename in filenames:\n",
    "        print(os.path.join(dirname, filename))\n",
    "\n",
    "# You can write up to 20GB to the current directory (/kaggle/working/) that gets preserved as output when you create a version using \"Save & Run All\" \n",
    "# You can also write temporary files to /kaggle/temp/, but they won't be saved outside of the current session"
   ]
  },
  {
   "cell_type": "code",
   "execution_count": 2,
   "id": "71de5e71",
   "metadata": {
    "execution": {
     "iopub.execute_input": "2022-11-24T18:53:49.252569Z",
     "iopub.status.busy": "2022-11-24T18:53:49.251716Z",
     "iopub.status.idle": "2022-11-24T18:53:49.256337Z",
     "shell.execute_reply": "2022-11-24T18:53:49.255381Z"
    },
    "papermill": {
     "duration": 0.020526,
     "end_time": "2022-11-24T18:53:49.258347",
     "exception": false,
     "start_time": "2022-11-24T18:53:49.237821",
     "status": "completed"
    },
    "tags": []
   },
   "outputs": [],
   "source": [
    "import pandas as pd\n",
    "import numpy as np"
   ]
  },
  {
   "cell_type": "code",
   "execution_count": 3,
   "id": "19fd123a",
   "metadata": {
    "execution": {
     "iopub.execute_input": "2022-11-24T18:53:49.281346Z",
     "iopub.status.busy": "2022-11-24T18:53:49.280676Z",
     "iopub.status.idle": "2022-11-24T18:53:50.846950Z",
     "shell.execute_reply": "2022-11-24T18:53:50.845700Z"
    },
    "papermill": {
     "duration": 1.580898,
     "end_time": "2022-11-24T18:53:50.849792",
     "exception": false,
     "start_time": "2022-11-24T18:53:49.268894",
     "status": "completed"
    },
    "tags": []
   },
   "outputs": [],
   "source": [
    "from nltk.tokenize import sent_tokenize, word_tokenize"
   ]
  },
  {
   "cell_type": "code",
   "execution_count": null,
   "id": "c8ff8897",
   "metadata": {
    "papermill": {
     "duration": 0.010276,
     "end_time": "2022-11-24T18:53:50.870722",
     "exception": false,
     "start_time": "2022-11-24T18:53:50.860446",
     "status": "completed"
    },
    "tags": []
   },
   "outputs": [],
   "source": []
  },
  {
   "cell_type": "code",
   "execution_count": 4,
   "id": "a200ee20",
   "metadata": {
    "execution": {
     "iopub.execute_input": "2022-11-24T18:53:50.893280Z",
     "iopub.status.busy": "2022-11-24T18:53:50.892785Z",
     "iopub.status.idle": "2022-11-24T18:53:51.127371Z",
     "shell.execute_reply": "2022-11-24T18:53:51.126369Z"
    },
    "papermill": {
     "duration": 0.248818,
     "end_time": "2022-11-24T18:53:51.129951",
     "exception": false,
     "start_time": "2022-11-24T18:53:50.881133",
     "status": "completed"
    },
    "tags": []
   },
   "outputs": [],
   "source": [
    "X=pd.read_csv(\"/kaggle/input/feedback-prize-english-language-learning/train.csv\")\n",
    "test=pd.read_csv(\"/kaggle/input/feedback-prize-english-language-learning/test.csv\")"
   ]
  },
  {
   "cell_type": "code",
   "execution_count": 5,
   "id": "d4d74e08",
   "metadata": {
    "execution": {
     "iopub.execute_input": "2022-11-24T18:53:51.153257Z",
     "iopub.status.busy": "2022-11-24T18:53:51.152639Z",
     "iopub.status.idle": "2022-11-24T18:53:51.176516Z",
     "shell.execute_reply": "2022-11-24T18:53:51.175694Z"
    },
    "papermill": {
     "duration": 0.037667,
     "end_time": "2022-11-24T18:53:51.178551",
     "exception": false,
     "start_time": "2022-11-24T18:53:51.140884",
     "status": "completed"
    },
    "tags": []
   },
   "outputs": [
    {
     "data": {
      "text/html": [
       "<div>\n",
       "<style scoped>\n",
       "    .dataframe tbody tr th:only-of-type {\n",
       "        vertical-align: middle;\n",
       "    }\n",
       "\n",
       "    .dataframe tbody tr th {\n",
       "        vertical-align: top;\n",
       "    }\n",
       "\n",
       "    .dataframe thead th {\n",
       "        text-align: right;\n",
       "    }\n",
       "</style>\n",
       "<table border=\"1\" class=\"dataframe\">\n",
       "  <thead>\n",
       "    <tr style=\"text-align: right;\">\n",
       "      <th></th>\n",
       "      <th>text_id</th>\n",
       "      <th>full_text</th>\n",
       "      <th>cohesion</th>\n",
       "      <th>syntax</th>\n",
       "      <th>vocabulary</th>\n",
       "      <th>phraseology</th>\n",
       "      <th>grammar</th>\n",
       "      <th>conventions</th>\n",
       "    </tr>\n",
       "  </thead>\n",
       "  <tbody>\n",
       "    <tr>\n",
       "      <th>0</th>\n",
       "      <td>0016926B079C</td>\n",
       "      <td>I think that students would benefit from learn...</td>\n",
       "      <td>3.5</td>\n",
       "      <td>3.5</td>\n",
       "      <td>3.0</td>\n",
       "      <td>3.0</td>\n",
       "      <td>4.0</td>\n",
       "      <td>3.0</td>\n",
       "    </tr>\n",
       "    <tr>\n",
       "      <th>1</th>\n",
       "      <td>0022683E9EA5</td>\n",
       "      <td>When a problem is a change you have to let it ...</td>\n",
       "      <td>2.5</td>\n",
       "      <td>2.5</td>\n",
       "      <td>3.0</td>\n",
       "      <td>2.0</td>\n",
       "      <td>2.0</td>\n",
       "      <td>2.5</td>\n",
       "    </tr>\n",
       "    <tr>\n",
       "      <th>2</th>\n",
       "      <td>00299B378633</td>\n",
       "      <td>Dear, Principal\\n\\nIf u change the school poli...</td>\n",
       "      <td>3.0</td>\n",
       "      <td>3.5</td>\n",
       "      <td>3.0</td>\n",
       "      <td>3.0</td>\n",
       "      <td>3.0</td>\n",
       "      <td>2.5</td>\n",
       "    </tr>\n",
       "    <tr>\n",
       "      <th>3</th>\n",
       "      <td>003885A45F42</td>\n",
       "      <td>The best time in life is when you become yours...</td>\n",
       "      <td>4.5</td>\n",
       "      <td>4.5</td>\n",
       "      <td>4.5</td>\n",
       "      <td>4.5</td>\n",
       "      <td>4.0</td>\n",
       "      <td>5.0</td>\n",
       "    </tr>\n",
       "    <tr>\n",
       "      <th>4</th>\n",
       "      <td>0049B1DF5CCC</td>\n",
       "      <td>Small act of kindness can impact in other peop...</td>\n",
       "      <td>2.5</td>\n",
       "      <td>3.0</td>\n",
       "      <td>3.0</td>\n",
       "      <td>3.0</td>\n",
       "      <td>2.5</td>\n",
       "      <td>2.5</td>\n",
       "    </tr>\n",
       "  </tbody>\n",
       "</table>\n",
       "</div>"
      ],
      "text/plain": [
       "        text_id                                          full_text  cohesion  \\\n",
       "0  0016926B079C  I think that students would benefit from learn...       3.5   \n",
       "1  0022683E9EA5  When a problem is a change you have to let it ...       2.5   \n",
       "2  00299B378633  Dear, Principal\\n\\nIf u change the school poli...       3.0   \n",
       "3  003885A45F42  The best time in life is when you become yours...       4.5   \n",
       "4  0049B1DF5CCC  Small act of kindness can impact in other peop...       2.5   \n",
       "\n",
       "   syntax  vocabulary  phraseology  grammar  conventions  \n",
       "0     3.5         3.0          3.0      4.0          3.0  \n",
       "1     2.5         3.0          2.0      2.0          2.5  \n",
       "2     3.5         3.0          3.0      3.0          2.5  \n",
       "3     4.5         4.5          4.5      4.0          5.0  \n",
       "4     3.0         3.0          3.0      2.5          2.5  "
      ]
     },
     "execution_count": 5,
     "metadata": {},
     "output_type": "execute_result"
    }
   ],
   "source": [
    "X.head()"
   ]
  },
  {
   "cell_type": "code",
   "execution_count": 6,
   "id": "e747befe",
   "metadata": {
    "execution": {
     "iopub.execute_input": "2022-11-24T18:53:51.201862Z",
     "iopub.status.busy": "2022-11-24T18:53:51.201203Z",
     "iopub.status.idle": "2022-11-24T18:53:51.210077Z",
     "shell.execute_reply": "2022-11-24T18:53:51.209344Z"
    },
    "papermill": {
     "duration": 0.022549,
     "end_time": "2022-11-24T18:53:51.211982",
     "exception": false,
     "start_time": "2022-11-24T18:53:51.189433",
     "status": "completed"
    },
    "tags": []
   },
   "outputs": [
    {
     "data": {
      "text/html": [
       "<div>\n",
       "<style scoped>\n",
       "    .dataframe tbody tr th:only-of-type {\n",
       "        vertical-align: middle;\n",
       "    }\n",
       "\n",
       "    .dataframe tbody tr th {\n",
       "        vertical-align: top;\n",
       "    }\n",
       "\n",
       "    .dataframe thead th {\n",
       "        text-align: right;\n",
       "    }\n",
       "</style>\n",
       "<table border=\"1\" class=\"dataframe\">\n",
       "  <thead>\n",
       "    <tr style=\"text-align: right;\">\n",
       "      <th></th>\n",
       "      <th>text_id</th>\n",
       "      <th>full_text</th>\n",
       "    </tr>\n",
       "  </thead>\n",
       "  <tbody>\n",
       "    <tr>\n",
       "      <th>0</th>\n",
       "      <td>0000C359D63E</td>\n",
       "      <td>when a person has no experience on a job their...</td>\n",
       "    </tr>\n",
       "    <tr>\n",
       "      <th>1</th>\n",
       "      <td>000BAD50D026</td>\n",
       "      <td>Do you think students would benefit from being...</td>\n",
       "    </tr>\n",
       "    <tr>\n",
       "      <th>2</th>\n",
       "      <td>00367BB2546B</td>\n",
       "      <td>Thomas Jefferson once states that \"it is wonde...</td>\n",
       "    </tr>\n",
       "  </tbody>\n",
       "</table>\n",
       "</div>"
      ],
      "text/plain": [
       "        text_id                                          full_text\n",
       "0  0000C359D63E  when a person has no experience on a job their...\n",
       "1  000BAD50D026  Do you think students would benefit from being...\n",
       "2  00367BB2546B  Thomas Jefferson once states that \"it is wonde..."
      ]
     },
     "execution_count": 6,
     "metadata": {},
     "output_type": "execute_result"
    }
   ],
   "source": [
    "test.head()"
   ]
  },
  {
   "cell_type": "code",
   "execution_count": 7,
   "id": "0ffffe22",
   "metadata": {
    "execution": {
     "iopub.execute_input": "2022-11-24T18:53:51.235674Z",
     "iopub.status.busy": "2022-11-24T18:53:51.235001Z",
     "iopub.status.idle": "2022-11-24T18:53:51.238951Z",
     "shell.execute_reply": "2022-11-24T18:53:51.238229Z"
    },
    "papermill": {
     "duration": 0.018088,
     "end_time": "2022-11-24T18:53:51.240962",
     "exception": false,
     "start_time": "2022-11-24T18:53:51.222874",
     "status": "completed"
    },
    "tags": []
   },
   "outputs": [],
   "source": [
    "from sklearn.feature_extraction.text import TfidfVectorizer"
   ]
  },
  {
   "cell_type": "code",
   "execution_count": 8,
   "id": "ee3d290e",
   "metadata": {
    "execution": {
     "iopub.execute_input": "2022-11-24T18:53:51.264963Z",
     "iopub.status.busy": "2022-11-24T18:53:51.264593Z",
     "iopub.status.idle": "2022-11-24T18:53:51.272083Z",
     "shell.execute_reply": "2022-11-24T18:53:51.271051Z"
    },
    "papermill": {
     "duration": 0.022286,
     "end_time": "2022-11-24T18:53:51.274160",
     "exception": false,
     "start_time": "2022-11-24T18:53:51.251874",
     "status": "completed"
    },
    "tags": []
   },
   "outputs": [],
   "source": [
    "X1=X[\"full_text\"]\n",
    "t1=test[\"full_text\"]"
   ]
  },
  {
   "cell_type": "code",
   "execution_count": 9,
   "id": "419459e1",
   "metadata": {
    "execution": {
     "iopub.execute_input": "2022-11-24T18:53:51.298145Z",
     "iopub.status.busy": "2022-11-24T18:53:51.297490Z",
     "iopub.status.idle": "2022-11-24T18:53:51.305807Z",
     "shell.execute_reply": "2022-11-24T18:53:51.304730Z"
    },
    "papermill": {
     "duration": 0.022792,
     "end_time": "2022-11-24T18:53:51.308021",
     "exception": false,
     "start_time": "2022-11-24T18:53:51.285229",
     "status": "completed"
    },
    "tags": []
   },
   "outputs": [
    {
     "data": {
      "text/plain": [
       "0       I think that students would benefit from learn...\n",
       "1       When a problem is a change you have to let it ...\n",
       "2       Dear, Principal\\n\\nIf u change the school poli...\n",
       "3       The best time in life is when you become yours...\n",
       "4       Small act of kindness can impact in other peop...\n",
       "                              ...                        \n",
       "3906    I believe using cellphones in class for educat...\n",
       "3907    Working alone, students do not have to argue w...\n",
       "3908    \"A problem is a chance for you to do your best...\n",
       "3909    Many people disagree with Albert Schweitzer's ...\n",
       "3910    Do you think that failure is the main thing fo...\n",
       "Name: full_text, Length: 3911, dtype: object"
      ]
     },
     "execution_count": 9,
     "metadata": {},
     "output_type": "execute_result"
    }
   ],
   "source": [
    "X1"
   ]
  },
  {
   "cell_type": "code",
   "execution_count": 10,
   "id": "302c5f4b",
   "metadata": {
    "execution": {
     "iopub.execute_input": "2022-11-24T18:53:51.333894Z",
     "iopub.status.busy": "2022-11-24T18:53:51.333106Z",
     "iopub.status.idle": "2022-11-24T18:53:51.340649Z",
     "shell.execute_reply": "2022-11-24T18:53:51.339793Z"
    },
    "papermill": {
     "duration": 0.022226,
     "end_time": "2022-11-24T18:53:51.342787",
     "exception": false,
     "start_time": "2022-11-24T18:53:51.320561",
     "status": "completed"
    },
    "tags": []
   },
   "outputs": [
    {
     "data": {
      "text/plain": [
       "0    when a person has no experience on a job their...\n",
       "1    Do you think students would benefit from being...\n",
       "2    Thomas Jefferson once states that \"it is wonde...\n",
       "Name: full_text, dtype: object"
      ]
     },
     "execution_count": 10,
     "metadata": {},
     "output_type": "execute_result"
    }
   ],
   "source": [
    "t1"
   ]
  },
  {
   "cell_type": "code",
   "execution_count": 11,
   "id": "0723f7fd",
   "metadata": {
    "execution": {
     "iopub.execute_input": "2022-11-24T18:53:51.367275Z",
     "iopub.status.busy": "2022-11-24T18:53:51.366533Z",
     "iopub.status.idle": "2022-11-24T18:53:51.372256Z",
     "shell.execute_reply": "2022-11-24T18:53:51.371480Z"
    },
    "papermill": {
     "duration": 0.02071,
     "end_time": "2022-11-24T18:53:51.374685",
     "exception": false,
     "start_time": "2022-11-24T18:53:51.353975",
     "status": "completed"
    },
    "tags": []
   },
   "outputs": [],
   "source": [
    "X_new=X1.append(t1,ignore_index=True)"
   ]
  },
  {
   "cell_type": "code",
   "execution_count": 12,
   "id": "a4e23ffc",
   "metadata": {
    "execution": {
     "iopub.execute_input": "2022-11-24T18:53:51.399042Z",
     "iopub.status.busy": "2022-11-24T18:53:51.398392Z",
     "iopub.status.idle": "2022-11-24T18:53:52.549581Z",
     "shell.execute_reply": "2022-11-24T18:53:52.548407Z"
    },
    "papermill": {
     "duration": 1.166696,
     "end_time": "2022-11-24T18:53:52.552414",
     "exception": false,
     "start_time": "2022-11-24T18:53:51.385718",
     "status": "completed"
    },
    "tags": []
   },
   "outputs": [],
   "source": [
    "tfidf = TfidfVectorizer()\n",
    "result = tfidf.fit_transform(X_new)"
   ]
  },
  {
   "cell_type": "code",
   "execution_count": 13,
   "id": "cc5b1ce9",
   "metadata": {
    "execution": {
     "iopub.execute_input": "2022-11-24T18:53:52.576819Z",
     "iopub.status.busy": "2022-11-24T18:53:52.576411Z",
     "iopub.status.idle": "2022-11-24T18:53:53.387584Z",
     "shell.execute_reply": "2022-11-24T18:53:53.386314Z"
    },
    "papermill": {
     "duration": 0.826314,
     "end_time": "2022-11-24T18:53:53.390245",
     "exception": false,
     "start_time": "2022-11-24T18:53:52.563931",
     "status": "completed"
    },
    "tags": []
   },
   "outputs": [],
   "source": [
    "tfidf=result.toarray()"
   ]
  },
  {
   "cell_type": "code",
   "execution_count": 14,
   "id": "d31e5fa1",
   "metadata": {
    "execution": {
     "iopub.execute_input": "2022-11-24T18:53:53.417930Z",
     "iopub.status.busy": "2022-11-24T18:53:53.417110Z",
     "iopub.status.idle": "2022-11-24T18:53:53.423663Z",
     "shell.execute_reply": "2022-11-24T18:53:53.422661Z"
    },
    "papermill": {
     "duration": 0.022044,
     "end_time": "2022-11-24T18:53:53.425812",
     "exception": false,
     "start_time": "2022-11-24T18:53:53.403768",
     "status": "completed"
    },
    "tags": []
   },
   "outputs": [
    {
     "data": {
      "text/plain": [
       "(3914, 21370)"
      ]
     },
     "execution_count": 14,
     "metadata": {},
     "output_type": "execute_result"
    }
   ],
   "source": [
    "tfidf.shape"
   ]
  },
  {
   "cell_type": "code",
   "execution_count": 15,
   "id": "1c2003da",
   "metadata": {
    "execution": {
     "iopub.execute_input": "2022-11-24T18:53:53.450115Z",
     "iopub.status.busy": "2022-11-24T18:53:53.449697Z",
     "iopub.status.idle": "2022-11-24T18:53:53.454981Z",
     "shell.execute_reply": "2022-11-24T18:53:53.453940Z"
    },
    "papermill": {
     "duration": 0.019891,
     "end_time": "2022-11-24T18:53:53.457037",
     "exception": false,
     "start_time": "2022-11-24T18:53:53.437146",
     "status": "completed"
    },
    "tags": []
   },
   "outputs": [],
   "source": [
    "test=tfidf[len(X1):]\n",
    "X2=tfidf[:len(X1)]"
   ]
  },
  {
   "cell_type": "code",
   "execution_count": 16,
   "id": "c87feb73",
   "metadata": {
    "execution": {
     "iopub.execute_input": "2022-11-24T18:53:53.481352Z",
     "iopub.status.busy": "2022-11-24T18:53:53.480920Z",
     "iopub.status.idle": "2022-11-24T18:53:53.487740Z",
     "shell.execute_reply": "2022-11-24T18:53:53.486676Z"
    },
    "papermill": {
     "duration": 0.021674,
     "end_time": "2022-11-24T18:53:53.490089",
     "exception": false,
     "start_time": "2022-11-24T18:53:53.468415",
     "status": "completed"
    },
    "tags": []
   },
   "outputs": [
    {
     "data": {
      "text/plain": [
       "(3, 21370)"
      ]
     },
     "execution_count": 16,
     "metadata": {},
     "output_type": "execute_result"
    }
   ],
   "source": [
    "test.shape"
   ]
  },
  {
   "cell_type": "code",
   "execution_count": 17,
   "id": "24b43e76",
   "metadata": {
    "execution": {
     "iopub.execute_input": "2022-11-24T18:53:53.514777Z",
     "iopub.status.busy": "2022-11-24T18:53:53.514048Z",
     "iopub.status.idle": "2022-11-24T18:53:53.520981Z",
     "shell.execute_reply": "2022-11-24T18:53:53.519955Z"
    },
    "papermill": {
     "duration": 0.021476,
     "end_time": "2022-11-24T18:53:53.523000",
     "exception": false,
     "start_time": "2022-11-24T18:53:53.501524",
     "status": "completed"
    },
    "tags": []
   },
   "outputs": [
    {
     "data": {
      "text/plain": [
       "(3911, 8)"
      ]
     },
     "execution_count": 17,
     "metadata": {},
     "output_type": "execute_result"
    }
   ],
   "source": [
    "X.shape"
   ]
  },
  {
   "cell_type": "code",
   "execution_count": 18,
   "id": "5de134f0",
   "metadata": {
    "execution": {
     "iopub.execute_input": "2022-11-24T18:53:53.547998Z",
     "iopub.status.busy": "2022-11-24T18:53:53.547042Z",
     "iopub.status.idle": "2022-11-24T18:53:53.553889Z",
     "shell.execute_reply": "2022-11-24T18:53:53.552900Z"
    },
    "papermill": {
     "duration": 0.021562,
     "end_time": "2022-11-24T18:53:53.556087",
     "exception": false,
     "start_time": "2022-11-24T18:53:53.534525",
     "status": "completed"
    },
    "tags": []
   },
   "outputs": [
    {
     "data": {
      "text/plain": [
       "(3911, 21370)"
      ]
     },
     "execution_count": 18,
     "metadata": {},
     "output_type": "execute_result"
    }
   ],
   "source": [
    "X2.shape"
   ]
  },
  {
   "cell_type": "code",
   "execution_count": 19,
   "id": "02a6a1a8",
   "metadata": {
    "execution": {
     "iopub.execute_input": "2022-11-24T18:53:53.580677Z",
     "iopub.status.busy": "2022-11-24T18:53:53.580312Z",
     "iopub.status.idle": "2022-11-24T18:53:53.584371Z",
     "shell.execute_reply": "2022-11-24T18:53:53.583541Z"
    },
    "papermill": {
     "duration": 0.018908,
     "end_time": "2022-11-24T18:53:53.586456",
     "exception": false,
     "start_time": "2022-11-24T18:53:53.567548",
     "status": "completed"
    },
    "tags": []
   },
   "outputs": [],
   "source": [
    "IP=X2.shape[1]"
   ]
  },
  {
   "cell_type": "code",
   "execution_count": 20,
   "id": "93c91107",
   "metadata": {
    "execution": {
     "iopub.execute_input": "2022-11-24T18:53:53.611392Z",
     "iopub.status.busy": "2022-11-24T18:53:53.610688Z",
     "iopub.status.idle": "2022-11-24T18:53:53.617045Z",
     "shell.execute_reply": "2022-11-24T18:53:53.616042Z"
    },
    "papermill": {
     "duration": 0.021003,
     "end_time": "2022-11-24T18:53:53.619030",
     "exception": false,
     "start_time": "2022-11-24T18:53:53.598027",
     "status": "completed"
    },
    "tags": []
   },
   "outputs": [
    {
     "data": {
      "text/plain": [
       "21370"
      ]
     },
     "execution_count": 20,
     "metadata": {},
     "output_type": "execute_result"
    }
   ],
   "source": [
    "IP"
   ]
  },
  {
   "cell_type": "code",
   "execution_count": 21,
   "id": "6f1f3289",
   "metadata": {
    "execution": {
     "iopub.execute_input": "2022-11-24T18:53:53.643261Z",
     "iopub.status.busy": "2022-11-24T18:53:53.642866Z",
     "iopub.status.idle": "2022-11-24T18:53:53.655618Z",
     "shell.execute_reply": "2022-11-24T18:53:53.654815Z"
    },
    "papermill": {
     "duration": 0.027165,
     "end_time": "2022-11-24T18:53:53.657609",
     "exception": false,
     "start_time": "2022-11-24T18:53:53.630444",
     "status": "completed"
    },
    "tags": []
   },
   "outputs": [],
   "source": [
    "X1_train = X.loc[:int(len(X1.index)*0.8)]\n",
    "y_train = X1_train[['syntax','cohesion','vocabulary','phraseology','grammar','conventions']]\n",
    "X1_val = X.loc[int(len(X1.index)*0.8)+1:int(len(X1.index)*0.9)]\n",
    "y_val = X1_val[['syntax','cohesion','vocabulary','phraseology','grammar','conventions']]\n",
    "X1_test = X.loc[int(len(X1.index)*0.9)+1:]\n",
    "y_test = X1_test[['syntax','cohesion','vocabulary','phraseology','grammar','conventions']]"
   ]
  },
  {
   "cell_type": "code",
   "execution_count": 22,
   "id": "9107dba0",
   "metadata": {
    "execution": {
     "iopub.execute_input": "2022-11-24T18:53:53.681913Z",
     "iopub.status.busy": "2022-11-24T18:53:53.681551Z",
     "iopub.status.idle": "2022-11-24T18:53:53.686617Z",
     "shell.execute_reply": "2022-11-24T18:53:53.685839Z"
    },
    "papermill": {
     "duration": 0.019431,
     "end_time": "2022-11-24T18:53:53.688483",
     "exception": false,
     "start_time": "2022-11-24T18:53:53.669052",
     "status": "completed"
    },
    "tags": []
   },
   "outputs": [],
   "source": [
    "tfidf_train=X2[:int(len(X.index)*0.8)+1]\n",
    "tfidf_val=X2[int(len(X.index)*0.8)+1:int(len(X.index)*0.9)+1]\n",
    "tfidf_test=X2[int(len(X.index)*0.9)+1:]"
   ]
  },
  {
   "cell_type": "code",
   "execution_count": 23,
   "id": "8aa28587",
   "metadata": {
    "execution": {
     "iopub.execute_input": "2022-11-24T18:53:53.713158Z",
     "iopub.status.busy": "2022-11-24T18:53:53.712492Z",
     "iopub.status.idle": "2022-11-24T18:53:53.717714Z",
     "shell.execute_reply": "2022-11-24T18:53:53.716662Z"
    },
    "papermill": {
     "duration": 0.020575,
     "end_time": "2022-11-24T18:53:53.720421",
     "exception": false,
     "start_time": "2022-11-24T18:53:53.699846",
     "status": "completed"
    },
    "tags": []
   },
   "outputs": [
    {
     "name": "stdout",
     "output_type": "stream",
     "text": [
      "(3129, 21370)\n",
      "(391, 21370)\n",
      "(391, 21370)\n"
     ]
    }
   ],
   "source": [
    "print(tfidf_train.shape)\n",
    "print(tfidf_test.shape)\n",
    "print(tfidf_val.shape)"
   ]
  },
  {
   "cell_type": "code",
   "execution_count": 24,
   "id": "360b3e11",
   "metadata": {
    "execution": {
     "iopub.execute_input": "2022-11-24T18:53:53.746015Z",
     "iopub.status.busy": "2022-11-24T18:53:53.745613Z",
     "iopub.status.idle": "2022-11-24T18:53:53.755364Z",
     "shell.execute_reply": "2022-11-24T18:53:53.754247Z"
    },
    "papermill": {
     "duration": 0.025017,
     "end_time": "2022-11-24T18:53:53.757602",
     "exception": false,
     "start_time": "2022-11-24T18:53:53.732585",
     "status": "completed"
    },
    "tags": []
   },
   "outputs": [],
   "source": [
    "y1_train=y_train[\"syntax\"]\n",
    "y2_train=y_train[\"cohesion\"]\n",
    "y3_train=y_train[\"vocabulary\"]\n",
    "y4_train=y_train[\"phraseology\"]\n",
    "y5_train=y_train[\"grammar\"]\n",
    "y6_train=y_train[\"conventions\"]\n",
    "\n",
    "y1_val=y_val[\"syntax\"]\n",
    "y2_val=y_val[\"cohesion\"]\n",
    "y3_val=y_val[\"vocabulary\"]\n",
    "y4_val=y_val[\"phraseology\"]\n",
    "y5_val=y_val[\"grammar\"]\n",
    "y6_val=y_val[\"conventions\"]\n",
    "\n",
    "y1_test=y_test[\"syntax\"]\n",
    "y2_test=y_test[\"cohesion\"]\n",
    "y3_test=y_test[\"vocabulary\"]\n",
    "y4_test=y_test[\"phraseology\"]\n",
    "y5_test=y_test[\"grammar\"]\n",
    "y6_test=y_test[\"conventions\"]"
   ]
  },
  {
   "cell_type": "code",
   "execution_count": 25,
   "id": "b5de171d",
   "metadata": {
    "execution": {
     "iopub.execute_input": "2022-11-24T18:53:53.783241Z",
     "iopub.status.busy": "2022-11-24T18:53:53.782218Z",
     "iopub.status.idle": "2022-11-24T18:53:53.789382Z",
     "shell.execute_reply": "2022-11-24T18:53:53.787917Z"
    },
    "papermill": {
     "duration": 0.022643,
     "end_time": "2022-11-24T18:53:53.792020",
     "exception": false,
     "start_time": "2022-11-24T18:53:53.769377",
     "status": "completed"
    },
    "tags": []
   },
   "outputs": [
    {
     "name": "stdout",
     "output_type": "stream",
     "text": [
      "(3129, 21370)\n",
      "(3129,)\n",
      "(391, 21370)\n",
      "(391,)\n",
      "(391, 21370)\n",
      "(391,)\n"
     ]
    }
   ],
   "source": [
    "print(tfidf_train.shape)\n",
    "print(y1_train.shape)\n",
    "print(tfidf_val.shape)\n",
    "print(y1_val.shape)\n",
    "print(tfidf_test.shape)\n",
    "print(y1_test.shape)"
   ]
  },
  {
   "cell_type": "code",
   "execution_count": 26,
   "id": "3690b4d8",
   "metadata": {
    "execution": {
     "iopub.execute_input": "2022-11-24T18:53:53.818121Z",
     "iopub.status.busy": "2022-11-24T18:53:53.817574Z",
     "iopub.status.idle": "2022-11-24T18:53:59.557864Z",
     "shell.execute_reply": "2022-11-24T18:53:59.556697Z"
    },
    "papermill": {
     "duration": 5.756707,
     "end_time": "2022-11-24T18:53:59.560946",
     "exception": false,
     "start_time": "2022-11-24T18:53:53.804239",
     "status": "completed"
    },
    "tags": []
   },
   "outputs": [],
   "source": [
    "import tensorflow as tf\n",
    "from tensorflow.keras.layers import Embedding, LSTM, Dense, Dropout, Lambda, Flatten, Bidirectional\n",
    "from tensorflow.keras.models import Sequential, load_model, model_from_config\n",
    "import tensorflow.keras.backend as K \n",
    "from sklearn.metrics import mean_squared_error"
   ]
  },
  {
   "cell_type": "code",
   "execution_count": 27,
   "id": "79a80e4f",
   "metadata": {
    "execution": {
     "iopub.execute_input": "2022-11-24T18:53:59.587353Z",
     "iopub.status.busy": "2022-11-24T18:53:59.586275Z",
     "iopub.status.idle": "2022-11-24T18:53:59.592878Z",
     "shell.execute_reply": "2022-11-24T18:53:59.591631Z"
    },
    "papermill": {
     "duration": 0.022308,
     "end_time": "2022-11-24T18:53:59.595260",
     "exception": false,
     "start_time": "2022-11-24T18:53:59.572952",
     "status": "completed"
    },
    "tags": []
   },
   "outputs": [
    {
     "name": "stdout",
     "output_type": "stream",
     "text": [
      "(3129, 21370)\n",
      "(391, 21370)\n",
      "(391, 21370)\n"
     ]
    }
   ],
   "source": [
    "print(tfidf_train.shape)\n",
    "print(tfidf_val.shape)\n",
    "print(tfidf_test.shape)"
   ]
  },
  {
   "cell_type": "code",
   "execution_count": 28,
   "id": "030ee96f",
   "metadata": {
    "execution": {
     "iopub.execute_input": "2022-11-24T18:53:59.620921Z",
     "iopub.status.busy": "2022-11-24T18:53:59.620317Z",
     "iopub.status.idle": "2022-11-24T18:54:00.441790Z",
     "shell.execute_reply": "2022-11-24T18:54:00.440216Z"
    },
    "papermill": {
     "duration": 0.837224,
     "end_time": "2022-11-24T18:54:00.444149",
     "exception": false,
     "start_time": "2022-11-24T18:53:59.606925",
     "status": "completed"
    },
    "tags": []
   },
   "outputs": [
    {
     "name": "stdout",
     "output_type": "stream",
     "text": [
      "(3129, 1, 21370)\n",
      "(391, 1, 21370)\n",
      "(391, 1, 21370)\n"
     ]
    }
   ],
   "source": [
    "lstm_embed_train = []\n",
    "for i in range(0,len(tfidf_train)):\n",
    "    lstm_embed_train.append(np.asarray([tfidf_train[i]]))\n",
    "\n",
    "lstm_embed_test = []\n",
    "for i in range(0,len(tfidf_test)):\n",
    "    lstm_embed_test.append(np.asarray([tfidf_test[i]]))\n",
    "\n",
    "lstm_embed_val = []\n",
    "for i in range(0,len(tfidf_val)):\n",
    "    lstm_embed_val.append(np.asarray([tfidf_val[i]]))\n",
    "\n",
    "lstm_embed_test = np.asarray(lstm_embed_test)\n",
    "lstm_embed_train = np.asarray(lstm_embed_train)\n",
    "lstm_embed_val = np.asarray(lstm_embed_val)\n",
    "print(lstm_embed_train.shape)\n",
    "print(lstm_embed_val.shape)\n",
    "print(lstm_embed_test.shape)"
   ]
  },
  {
   "cell_type": "code",
   "execution_count": 29,
   "id": "1b46f701",
   "metadata": {
    "execution": {
     "iopub.execute_input": "2022-11-24T18:54:00.469645Z",
     "iopub.status.busy": "2022-11-24T18:54:00.469259Z",
     "iopub.status.idle": "2022-11-24T18:54:00.474808Z",
     "shell.execute_reply": "2022-11-24T18:54:00.473514Z"
    },
    "papermill": {
     "duration": 0.021268,
     "end_time": "2022-11-24T18:54:00.477297",
     "exception": false,
     "start_time": "2022-11-24T18:54:00.456029",
     "status": "completed"
    },
    "tags": []
   },
   "outputs": [
    {
     "name": "stdout",
     "output_type": "stream",
     "text": [
      "(3129, 21370)\n",
      "(391, 21370)\n",
      "(391, 21370)\n"
     ]
    }
   ],
   "source": [
    "print(tfidf_train.shape)\n",
    "print(tfidf_val.shape)\n",
    "print(tfidf_test.shape)"
   ]
  },
  {
   "cell_type": "code",
   "execution_count": 30,
   "id": "b1474ca5",
   "metadata": {
    "execution": {
     "iopub.execute_input": "2022-11-24T18:54:00.502646Z",
     "iopub.status.busy": "2022-11-24T18:54:00.502250Z",
     "iopub.status.idle": "2022-11-24T18:54:00.511608Z",
     "shell.execute_reply": "2022-11-24T18:54:00.510440Z"
    },
    "papermill": {
     "duration": 0.024663,
     "end_time": "2022-11-24T18:54:00.513711",
     "exception": false,
     "start_time": "2022-11-24T18:54:00.489048",
     "status": "completed"
    },
    "tags": []
   },
   "outputs": [
    {
     "data": {
      "text/plain": [
       "(3, 1, 21370)"
      ]
     },
     "execution_count": 30,
     "metadata": {},
     "output_type": "execute_result"
    }
   ],
   "source": [
    "lstm_embed_train_final = []\n",
    "for i in range(0,len(test)):\n",
    "    lstm_embed_train_final.append(np.asarray([test[i]]))\n",
    "lstm_embed_test_final = np.asarray(lstm_embed_train_final)\n",
    "lstm_embed_test_final.shape"
   ]
  },
  {
   "cell_type": "code",
   "execution_count": 31,
   "id": "b51fdf15",
   "metadata": {
    "execution": {
     "iopub.execute_input": "2022-11-24T18:54:00.540111Z",
     "iopub.status.busy": "2022-11-24T18:54:00.539403Z",
     "iopub.status.idle": "2022-11-24T18:54:00.546613Z",
     "shell.execute_reply": "2022-11-24T18:54:00.545566Z"
    },
    "papermill": {
     "duration": 0.022816,
     "end_time": "2022-11-24T18:54:00.548877",
     "exception": false,
     "start_time": "2022-11-24T18:54:00.526061",
     "status": "completed"
    },
    "tags": []
   },
   "outputs": [],
   "source": [
    "def get_model_lstm():\n",
    "    \"\"\"Define the model.\"\"\"\n",
    "    \n",
    "    model = Sequential()\n",
    "    model.add(LSTM(128, input_shape=[1,IP], activation = 'tanh',return_sequences=True))\n",
    "    model.add(Dropout(0.4))\n",
    "    model.add(Dense(32, activation='tanh'))\n",
    "    model.add(Dropout(0.4))\n",
    "    model.add(Dense(1, activation='relu'))\n",
    "\n",
    "    model.summary()\n",
    "    model.compile(loss='mean_squared_error', optimizer='rmsprop', metrics=['accuracy'])\n",
    "\n",
    "    return model"
   ]
  },
  {
   "cell_type": "code",
   "execution_count": 32,
   "id": "3c22d265",
   "metadata": {
    "execution": {
     "iopub.execute_input": "2022-11-24T18:54:00.574779Z",
     "iopub.status.busy": "2022-11-24T18:54:00.574080Z",
     "iopub.status.idle": "2022-11-24T19:03:55.506603Z",
     "shell.execute_reply": "2022-11-24T19:03:55.505241Z"
    },
    "papermill": {
     "duration": 594.948519,
     "end_time": "2022-11-24T19:03:55.509389",
     "exception": false,
     "start_time": "2022-11-24T18:54:00.560870",
     "status": "completed"
    },
    "tags": []
   },
   "outputs": [
    {
     "name": "stderr",
     "output_type": "stream",
     "text": [
      "2022-11-24 18:54:00.614113: I tensorflow/core/common_runtime/process_util.cc:146] Creating new thread pool with default inter op setting: 2. Tune using inter_op_parallelism_threads for best performance.\n"
     ]
    },
    {
     "name": "stdout",
     "output_type": "stream",
     "text": [
      "Model: \"sequential\"\n",
      "_________________________________________________________________\n",
      "Layer (type)                 Output Shape              Param #   \n",
      "=================================================================\n",
      "lstm (LSTM)                  (None, 1, 128)            11007488  \n",
      "_________________________________________________________________\n",
      "dropout (Dropout)            (None, 1, 128)            0         \n",
      "_________________________________________________________________\n",
      "dense (Dense)                (None, 1, 32)             4128      \n",
      "_________________________________________________________________\n",
      "dropout_1 (Dropout)          (None, 1, 32)             0         \n",
      "_________________________________________________________________\n",
      "dense_1 (Dense)              (None, 1, 1)              33        \n",
      "=================================================================\n",
      "Total params: 11,011,649\n",
      "Trainable params: 11,011,649\n",
      "Non-trainable params: 0\n",
      "_________________________________________________________________\n"
     ]
    },
    {
     "name": "stderr",
     "output_type": "stream",
     "text": [
      "2022-11-24 18:54:01.482198: I tensorflow/compiler/mlir/mlir_graph_optimization_pass.cc:185] None of the MLIR Optimization Passes are enabled (registered 2)\n"
     ]
    },
    {
     "name": "stdout",
     "output_type": "stream",
     "text": [
      "Epoch 1/100\n",
      "98/98 [==============================] - 9s 66ms/step - loss: 1.4689 - accuracy: 0.0029 - val_loss: 0.3982 - val_accuracy: 0.0026\n",
      "Epoch 2/100\n",
      "98/98 [==============================] - 6s 61ms/step - loss: 0.5370 - accuracy: 0.0029 - val_loss: 0.3468 - val_accuracy: 0.0026\n",
      "Epoch 3/100\n",
      "98/98 [==============================] - 6s 61ms/step - loss: 0.4737 - accuracy: 0.0029 - val_loss: 0.3293 - val_accuracy: 0.0026\n",
      "Epoch 4/100\n",
      "98/98 [==============================] - 6s 61ms/step - loss: 0.4292 - accuracy: 0.0029 - val_loss: 0.3180 - val_accuracy: 0.0026\n",
      "Epoch 5/100\n",
      "98/98 [==============================] - 6s 60ms/step - loss: 0.3893 - accuracy: 0.0029 - val_loss: 0.3212 - val_accuracy: 0.0026\n",
      "Epoch 6/100\n",
      "98/98 [==============================] - 6s 59ms/step - loss: 0.3465 - accuracy: 0.0029 - val_loss: 0.3262 - val_accuracy: 0.0026\n",
      "Epoch 7/100\n",
      "98/98 [==============================] - 6s 60ms/step - loss: 0.3231 - accuracy: 0.0029 - val_loss: 0.3337 - val_accuracy: 0.0026\n",
      "Epoch 8/100\n",
      "98/98 [==============================] - 6s 63ms/step - loss: 0.3100 - accuracy: 0.0029 - val_loss: 0.3601 - val_accuracy: 0.0026\n",
      "Epoch 9/100\n",
      "98/98 [==============================] - 6s 59ms/step - loss: 0.2816 - accuracy: 0.0029 - val_loss: 0.3465 - val_accuracy: 0.0026\n",
      "Epoch 10/100\n",
      "98/98 [==============================] - 6s 59ms/step - loss: 0.2743 - accuracy: 0.0029 - val_loss: 0.3550 - val_accuracy: 0.0026\n",
      "Epoch 11/100\n",
      "98/98 [==============================] - 6s 60ms/step - loss: 0.2634 - accuracy: 0.0029 - val_loss: 0.3448 - val_accuracy: 0.0026\n",
      "Epoch 12/100\n",
      "98/98 [==============================] - 6s 59ms/step - loss: 0.2435 - accuracy: 0.0029 - val_loss: 0.3523 - val_accuracy: 0.0026\n",
      "Epoch 13/100\n",
      "98/98 [==============================] - 6s 62ms/step - loss: 0.2379 - accuracy: 0.0029 - val_loss: 0.3571 - val_accuracy: 0.0026\n",
      "Epoch 14/100\n",
      "98/98 [==============================] - 6s 59ms/step - loss: 0.2242 - accuracy: 0.0029 - val_loss: 0.3561 - val_accuracy: 0.0026\n",
      "Epoch 15/100\n",
      "98/98 [==============================] - 6s 60ms/step - loss: 0.2121 - accuracy: 0.0029 - val_loss: 0.3757 - val_accuracy: 0.0026\n",
      "Epoch 16/100\n",
      "98/98 [==============================] - 6s 59ms/step - loss: 0.2101 - accuracy: 0.0029 - val_loss: 0.3602 - val_accuracy: 0.0026\n",
      "Epoch 17/100\n",
      "98/98 [==============================] - 6s 60ms/step - loss: 0.1991 - accuracy: 0.0029 - val_loss: 0.3625 - val_accuracy: 0.0026\n",
      "Epoch 18/100\n",
      "98/98 [==============================] - 6s 59ms/step - loss: 0.1866 - accuracy: 0.0029 - val_loss: 0.3662 - val_accuracy: 0.0026\n",
      "Epoch 19/100\n",
      "98/98 [==============================] - 6s 62ms/step - loss: 0.1848 - accuracy: 0.0029 - val_loss: 0.3745 - val_accuracy: 0.0026\n",
      "Epoch 20/100\n",
      "98/98 [==============================] - 6s 59ms/step - loss: 0.1785 - accuracy: 0.0029 - val_loss: 0.3839 - val_accuracy: 0.0026\n",
      "Epoch 21/100\n",
      "98/98 [==============================] - 6s 59ms/step - loss: 0.1740 - accuracy: 0.0029 - val_loss: 0.3971 - val_accuracy: 0.0026\n",
      "Epoch 22/100\n",
      "98/98 [==============================] - 6s 59ms/step - loss: 0.1641 - accuracy: 0.0029 - val_loss: 0.3625 - val_accuracy: 0.0026\n",
      "Epoch 23/100\n",
      "98/98 [==============================] - 6s 59ms/step - loss: 0.1634 - accuracy: 0.0029 - val_loss: 0.3781 - val_accuracy: 0.0026\n",
      "Epoch 24/100\n",
      "98/98 [==============================] - 6s 62ms/step - loss: 0.1486 - accuracy: 0.0029 - val_loss: 0.3861 - val_accuracy: 0.0026\n",
      "Epoch 25/100\n",
      "98/98 [==============================] - 6s 59ms/step - loss: 0.1504 - accuracy: 0.0029 - val_loss: 0.3828 - val_accuracy: 0.0026\n",
      "Epoch 26/100\n",
      "98/98 [==============================] - 6s 60ms/step - loss: 0.1328 - accuracy: 0.0029 - val_loss: 0.3774 - val_accuracy: 0.0026\n",
      "Epoch 27/100\n",
      "98/98 [==============================] - 6s 59ms/step - loss: 0.1385 - accuracy: 0.0029 - val_loss: 0.3850 - val_accuracy: 0.0026\n",
      "Epoch 28/100\n",
      "98/98 [==============================] - 6s 59ms/step - loss: 0.1296 - accuracy: 0.0029 - val_loss: 0.3832 - val_accuracy: 0.0026\n",
      "Epoch 29/100\n",
      "98/98 [==============================] - 6s 59ms/step - loss: 0.1171 - accuracy: 0.0029 - val_loss: 0.3958 - val_accuracy: 0.0026\n",
      "Epoch 30/100\n",
      "98/98 [==============================] - 6s 62ms/step - loss: 0.1245 - accuracy: 0.0029 - val_loss: 0.3910 - val_accuracy: 0.0026\n",
      "Epoch 31/100\n",
      "98/98 [==============================] - 6s 59ms/step - loss: 0.1172 - accuracy: 0.0029 - val_loss: 0.3975 - val_accuracy: 0.0026\n",
      "Epoch 32/100\n",
      "98/98 [==============================] - 6s 59ms/step - loss: 0.1095 - accuracy: 0.0029 - val_loss: 0.3968 - val_accuracy: 0.0026\n",
      "Epoch 33/100\n",
      "98/98 [==============================] - 6s 59ms/step - loss: 0.1048 - accuracy: 0.0029 - val_loss: 0.4003 - val_accuracy: 0.0026\n",
      "Epoch 34/100\n",
      "98/98 [==============================] - 6s 59ms/step - loss: 0.1038 - accuracy: 0.0029 - val_loss: 0.3928 - val_accuracy: 0.0026\n",
      "Epoch 35/100\n",
      "98/98 [==============================] - 6s 62ms/step - loss: 0.0965 - accuracy: 0.0029 - val_loss: 0.3978 - val_accuracy: 0.0026\n",
      "Epoch 36/100\n",
      "98/98 [==============================] - 6s 60ms/step - loss: 0.0941 - accuracy: 0.0029 - val_loss: 0.4017 - val_accuracy: 0.0026\n",
      "Epoch 37/100\n",
      "98/98 [==============================] - 6s 60ms/step - loss: 0.0898 - accuracy: 0.0029 - val_loss: 0.4087 - val_accuracy: 0.0026\n",
      "Epoch 38/100\n",
      "98/98 [==============================] - 6s 59ms/step - loss: 0.0856 - accuracy: 0.0029 - val_loss: 0.4083 - val_accuracy: 0.0026\n",
      "Epoch 39/100\n",
      "98/98 [==============================] - 6s 59ms/step - loss: 0.0864 - accuracy: 0.0029 - val_loss: 0.4190 - val_accuracy: 0.0026\n",
      "Epoch 40/100\n",
      "98/98 [==============================] - 6s 62ms/step - loss: 0.0807 - accuracy: 0.0029 - val_loss: 0.4131 - val_accuracy: 0.0026\n",
      "Epoch 41/100\n",
      "98/98 [==============================] - 6s 60ms/step - loss: 0.0784 - accuracy: 0.0029 - val_loss: 0.4110 - val_accuracy: 0.0026\n",
      "Epoch 42/100\n",
      "98/98 [==============================] - 6s 59ms/step - loss: 0.0743 - accuracy: 0.0029 - val_loss: 0.4134 - val_accuracy: 0.0026\n",
      "Epoch 43/100\n",
      "98/98 [==============================] - 6s 59ms/step - loss: 0.0741 - accuracy: 0.0029 - val_loss: 0.4122 - val_accuracy: 0.0026\n",
      "Epoch 44/100\n",
      "98/98 [==============================] - 6s 59ms/step - loss: 0.0694 - accuracy: 0.0029 - val_loss: 0.4110 - val_accuracy: 0.0026\n",
      "Epoch 45/100\n",
      "98/98 [==============================] - 6s 59ms/step - loss: 0.0680 - accuracy: 0.0026 - val_loss: 0.4238 - val_accuracy: 0.0026\n",
      "Epoch 46/100\n",
      "98/98 [==============================] - 6s 62ms/step - loss: 0.0641 - accuracy: 0.0029 - val_loss: 0.4125 - val_accuracy: 0.0026\n",
      "Epoch 47/100\n",
      "98/98 [==============================] - 6s 59ms/step - loss: 0.0607 - accuracy: 0.0029 - val_loss: 0.4164 - val_accuracy: 0.0026\n",
      "Epoch 48/100\n",
      "98/98 [==============================] - 6s 59ms/step - loss: 0.0586 - accuracy: 0.0029 - val_loss: 0.4240 - val_accuracy: 0.0026\n",
      "Epoch 49/100\n",
      "98/98 [==============================] - 6s 60ms/step - loss: 0.0580 - accuracy: 0.0029 - val_loss: 0.4156 - val_accuracy: 0.0026\n",
      "Epoch 50/100\n",
      "98/98 [==============================] - 6s 59ms/step - loss: 0.0544 - accuracy: 0.0029 - val_loss: 0.4100 - val_accuracy: 0.0026\n",
      "Epoch 51/100\n",
      "98/98 [==============================] - 6s 64ms/step - loss: 0.0522 - accuracy: 0.0029 - val_loss: 0.4193 - val_accuracy: 0.0026\n",
      "Epoch 52/100\n",
      "98/98 [==============================] - 6s 59ms/step - loss: 0.0527 - accuracy: 0.0029 - val_loss: 0.4185 - val_accuracy: 0.0026\n",
      "Epoch 53/100\n",
      "98/98 [==============================] - 6s 60ms/step - loss: 0.0509 - accuracy: 0.0029 - val_loss: 0.4223 - val_accuracy: 0.0026\n",
      "Epoch 54/100\n",
      "98/98 [==============================] - 6s 60ms/step - loss: 0.0463 - accuracy: 0.0029 - val_loss: 0.4150 - val_accuracy: 0.0026\n",
      "Epoch 55/100\n",
      "98/98 [==============================] - 6s 60ms/step - loss: 0.0463 - accuracy: 0.0029 - val_loss: 0.4217 - val_accuracy: 0.0026\n",
      "Epoch 56/100\n",
      "98/98 [==============================] - 6s 59ms/step - loss: 0.0446 - accuracy: 0.0026 - val_loss: 0.4047 - val_accuracy: 0.0026\n",
      "Epoch 57/100\n",
      "98/98 [==============================] - 6s 62ms/step - loss: 0.0420 - accuracy: 0.0029 - val_loss: 0.4171 - val_accuracy: 0.0026\n",
      "Epoch 58/100\n",
      "98/98 [==============================] - 6s 60ms/step - loss: 0.0402 - accuracy: 0.0026 - val_loss: 0.4180 - val_accuracy: 0.0026\n",
      "Epoch 59/100\n",
      "98/98 [==============================] - 6s 60ms/step - loss: 0.0396 - accuracy: 0.0029 - val_loss: 0.4207 - val_accuracy: 0.0026\n",
      "Epoch 60/100\n",
      "98/98 [==============================] - 6s 60ms/step - loss: 0.0404 - accuracy: 0.0029 - val_loss: 0.4231 - val_accuracy: 0.0026\n",
      "Epoch 61/100\n",
      "98/98 [==============================] - 6s 60ms/step - loss: 0.0395 - accuracy: 0.0026 - val_loss: 0.4173 - val_accuracy: 0.0026\n",
      "Epoch 62/100\n",
      "98/98 [==============================] - 6s 64ms/step - loss: 0.0359 - accuracy: 0.0029 - val_loss: 0.4267 - val_accuracy: 0.0026\n",
      "Epoch 63/100\n",
      "98/98 [==============================] - 6s 59ms/step - loss: 0.0357 - accuracy: 0.0029 - val_loss: 0.4256 - val_accuracy: 0.0026\n",
      "Epoch 64/100\n",
      "98/98 [==============================] - 6s 60ms/step - loss: 0.0352 - accuracy: 0.0029 - val_loss: 0.4249 - val_accuracy: 0.0026\n",
      "Epoch 65/100\n",
      "98/98 [==============================] - 6s 60ms/step - loss: 0.0310 - accuracy: 0.0029 - val_loss: 0.4123 - val_accuracy: 0.0026\n",
      "Epoch 66/100\n",
      "98/98 [==============================] - 6s 60ms/step - loss: 0.0338 - accuracy: 0.0029 - val_loss: 0.4305 - val_accuracy: 0.0026\n",
      "Epoch 67/100\n",
      "98/98 [==============================] - 6s 63ms/step - loss: 0.0326 - accuracy: 0.0029 - val_loss: 0.4248 - val_accuracy: 0.0026\n",
      "Epoch 68/100\n",
      "98/98 [==============================] - 6s 60ms/step - loss: 0.0299 - accuracy: 0.0029 - val_loss: 0.4180 - val_accuracy: 0.0026\n",
      "Epoch 69/100\n",
      "98/98 [==============================] - 6s 60ms/step - loss: 0.0304 - accuracy: 0.0029 - val_loss: 0.4267 - val_accuracy: 0.0026\n",
      "Epoch 70/100\n",
      "98/98 [==============================] - 6s 60ms/step - loss: 0.0305 - accuracy: 0.0029 - val_loss: 0.4244 - val_accuracy: 0.0026\n",
      "Epoch 71/100\n",
      "98/98 [==============================] - 6s 61ms/step - loss: 0.0262 - accuracy: 0.0029 - val_loss: 0.4321 - val_accuracy: 0.0026\n",
      "Epoch 72/100\n",
      "98/98 [==============================] - 6s 60ms/step - loss: 0.0272 - accuracy: 0.0029 - val_loss: 0.4433 - val_accuracy: 0.0026\n",
      "Epoch 73/100\n",
      "98/98 [==============================] - 6s 63ms/step - loss: 0.0261 - accuracy: 0.0026 - val_loss: 0.4209 - val_accuracy: 0.0026\n",
      "Epoch 74/100\n",
      "98/98 [==============================] - 6s 59ms/step - loss: 0.0253 - accuracy: 0.0029 - val_loss: 0.4363 - val_accuracy: 0.0026\n",
      "Epoch 75/100\n",
      "98/98 [==============================] - 6s 60ms/step - loss: 0.0256 - accuracy: 0.0029 - val_loss: 0.4371 - val_accuracy: 0.0026\n",
      "Epoch 76/100\n",
      "98/98 [==============================] - 6s 59ms/step - loss: 0.0259 - accuracy: 0.0026 - val_loss: 0.4228 - val_accuracy: 0.0026\n",
      "Epoch 77/100\n",
      "98/98 [==============================] - 6s 61ms/step - loss: 0.0253 - accuracy: 0.0029 - val_loss: 0.4367 - val_accuracy: 0.0026\n",
      "Epoch 78/100\n",
      "98/98 [==============================] - 6s 63ms/step - loss: 0.0245 - accuracy: 0.0026 - val_loss: 0.4249 - val_accuracy: 0.0026\n",
      "Epoch 79/100\n",
      "98/98 [==============================] - 6s 60ms/step - loss: 0.0229 - accuracy: 0.0029 - val_loss: 0.4291 - val_accuracy: 0.0026\n",
      "Epoch 80/100\n",
      "98/98 [==============================] - 6s 60ms/step - loss: 0.0229 - accuracy: 0.0029 - val_loss: 0.4145 - val_accuracy: 0.0026\n",
      "Epoch 81/100\n",
      "98/98 [==============================] - 6s 59ms/step - loss: 0.0221 - accuracy: 0.0029 - val_loss: 0.4284 - val_accuracy: 0.0026\n",
      "Epoch 82/100\n",
      "98/98 [==============================] - 6s 61ms/step - loss: 0.0207 - accuracy: 0.0029 - val_loss: 0.4285 - val_accuracy: 0.0026\n",
      "Epoch 83/100\n",
      "98/98 [==============================] - 6s 63ms/step - loss: 0.0230 - accuracy: 0.0029 - val_loss: 0.4376 - val_accuracy: 0.0026\n",
      "Epoch 84/100\n",
      "98/98 [==============================] - 6s 60ms/step - loss: 0.0202 - accuracy: 0.0026 - val_loss: 0.4315 - val_accuracy: 0.0026\n",
      "Epoch 85/100\n",
      "98/98 [==============================] - 6s 59ms/step - loss: 0.0207 - accuracy: 0.0029 - val_loss: 0.4303 - val_accuracy: 0.0026\n",
      "Epoch 86/100\n",
      "98/98 [==============================] - 6s 60ms/step - loss: 0.0206 - accuracy: 0.0026 - val_loss: 0.4462 - val_accuracy: 0.0026\n",
      "Epoch 87/100\n",
      "98/98 [==============================] - 6s 60ms/step - loss: 0.0202 - accuracy: 0.0029 - val_loss: 0.4354 - val_accuracy: 0.0026\n",
      "Epoch 88/100\n",
      "98/98 [==============================] - 6s 61ms/step - loss: 0.0194 - accuracy: 0.0029 - val_loss: 0.4388 - val_accuracy: 0.0026\n",
      "Epoch 89/100\n",
      "98/98 [==============================] - 6s 62ms/step - loss: 0.0204 - accuracy: 0.0029 - val_loss: 0.4245 - val_accuracy: 0.0026\n",
      "Epoch 90/100\n",
      "98/98 [==============================] - 6s 60ms/step - loss: 0.0191 - accuracy: 0.0029 - val_loss: 0.4400 - val_accuracy: 0.0026\n",
      "Epoch 91/100\n",
      "98/98 [==============================] - 6s 60ms/step - loss: 0.0189 - accuracy: 0.0022 - val_loss: 0.4529 - val_accuracy: 0.0026\n",
      "Epoch 92/100\n",
      "98/98 [==============================] - 6s 60ms/step - loss: 0.0195 - accuracy: 0.0029 - val_loss: 0.4279 - val_accuracy: 0.0026\n",
      "Epoch 93/100\n",
      "98/98 [==============================] - 6s 61ms/step - loss: 0.0188 - accuracy: 0.0029 - val_loss: 0.4316 - val_accuracy: 0.0026\n",
      "Epoch 94/100\n",
      "98/98 [==============================] - 6s 62ms/step - loss: 0.0182 - accuracy: 0.0029 - val_loss: 0.4362 - val_accuracy: 0.0026\n",
      "Epoch 95/100\n",
      "98/98 [==============================] - 6s 60ms/step - loss: 0.0185 - accuracy: 0.0029 - val_loss: 0.4320 - val_accuracy: 0.0026\n",
      "Epoch 96/100\n",
      "98/98 [==============================] - 6s 59ms/step - loss: 0.0175 - accuracy: 0.0029 - val_loss: 0.4359 - val_accuracy: 0.0026\n",
      "Epoch 97/100\n",
      "98/98 [==============================] - 6s 60ms/step - loss: 0.0180 - accuracy: 0.0029 - val_loss: 0.4271 - val_accuracy: 0.0026\n",
      "Epoch 98/100\n",
      "98/98 [==============================] - 6s 60ms/step - loss: 0.0183 - accuracy: 0.0029 - val_loss: 0.4427 - val_accuracy: 0.0026\n",
      "Epoch 99/100\n",
      "98/98 [==============================] - 6s 60ms/step - loss: 0.0173 - accuracy: 0.0029 - val_loss: 0.4312 - val_accuracy: 0.0026\n",
      "Epoch 100/100\n",
      "98/98 [==============================] - 6s 63ms/step - loss: 0.0171 - accuracy: 0.0029 - val_loss: 0.4434 - val_accuracy: 0.0026\n"
     ]
    },
    {
     "data": {
      "text/plain": [
       "3"
      ]
     },
     "execution_count": 32,
     "metadata": {},
     "output_type": "execute_result"
    }
   ],
   "source": [
    "lstm_model1 = get_model_lstm()\n",
    "lstm_model1.fit(lstm_embed_train, y1_train, epochs=100,validation_data=(lstm_embed_val,y1_val))\n",
    "lstm_result_1 = lstm_model1.predict(lstm_embed_test_final).flatten()\n",
    "lstm_result_1 = [int(r) for r in lstm_result_1]\n",
    "len(lstm_result_1)"
   ]
  },
  {
   "cell_type": "code",
   "execution_count": 33,
   "id": "a9aa1ba3",
   "metadata": {
    "execution": {
     "iopub.execute_input": "2022-11-24T19:03:56.768576Z",
     "iopub.status.busy": "2022-11-24T19:03:56.767762Z",
     "iopub.status.idle": "2022-11-24T19:13:55.584780Z",
     "shell.execute_reply": "2022-11-24T19:13:55.583553Z"
    },
    "papermill": {
     "duration": 599.442134,
     "end_time": "2022-11-24T19:13:55.587354",
     "exception": false,
     "start_time": "2022-11-24T19:03:56.145220",
     "status": "completed"
    },
    "tags": []
   },
   "outputs": [
    {
     "name": "stdout",
     "output_type": "stream",
     "text": [
      "Model: \"sequential_1\"\n",
      "_________________________________________________________________\n",
      "Layer (type)                 Output Shape              Param #   \n",
      "=================================================================\n",
      "lstm_1 (LSTM)                (None, 1, 128)            11007488  \n",
      "_________________________________________________________________\n",
      "dropout_2 (Dropout)          (None, 1, 128)            0         \n",
      "_________________________________________________________________\n",
      "dense_2 (Dense)              (None, 1, 32)             4128      \n",
      "_________________________________________________________________\n",
      "dropout_3 (Dropout)          (None, 1, 32)             0         \n",
      "_________________________________________________________________\n",
      "dense_3 (Dense)              (None, 1, 1)              33        \n",
      "=================================================================\n",
      "Total params: 11,011,649\n",
      "Trainable params: 11,011,649\n",
      "Non-trainable params: 0\n",
      "_________________________________________________________________\n",
      "Epoch 1/100\n",
      "98/98 [==============================] - 9s 66ms/step - loss: 1.5516 - accuracy: 0.0019 - val_loss: 0.3858 - val_accuracy: 0.0026\n",
      "Epoch 2/100\n",
      "98/98 [==============================] - 6s 61ms/step - loss: 0.5982 - accuracy: 0.0022 - val_loss: 0.3445 - val_accuracy: 0.0026\n",
      "Epoch 3/100\n",
      "98/98 [==============================] - 6s 60ms/step - loss: 0.5045 - accuracy: 0.0022 - val_loss: 0.3188 - val_accuracy: 0.0026\n",
      "Epoch 4/100\n",
      "98/98 [==============================] - 6s 63ms/step - loss: 0.4390 - accuracy: 0.0022 - val_loss: 0.3250 - val_accuracy: 0.0026\n",
      "Epoch 5/100\n",
      "98/98 [==============================] - 6s 61ms/step - loss: 0.3955 - accuracy: 0.0022 - val_loss: 0.3265 - val_accuracy: 0.0026\n",
      "Epoch 6/100\n",
      "98/98 [==============================] - 6s 60ms/step - loss: 0.3619 - accuracy: 0.0022 - val_loss: 0.3288 - val_accuracy: 0.0026\n",
      "Epoch 7/100\n",
      "98/98 [==============================] - 6s 61ms/step - loss: 0.3464 - accuracy: 0.0022 - val_loss: 0.3226 - val_accuracy: 0.0026\n",
      "Epoch 8/100\n",
      "98/98 [==============================] - 6s 60ms/step - loss: 0.3344 - accuracy: 0.0022 - val_loss: 0.3379 - val_accuracy: 0.0026\n",
      "Epoch 9/100\n",
      "98/98 [==============================] - 6s 64ms/step - loss: 0.3045 - accuracy: 0.0022 - val_loss: 0.3348 - val_accuracy: 0.0026\n",
      "Epoch 10/100\n",
      "98/98 [==============================] - 6s 60ms/step - loss: 0.2876 - accuracy: 0.0022 - val_loss: 0.3380 - val_accuracy: 0.0026\n",
      "Epoch 11/100\n",
      "98/98 [==============================] - 6s 61ms/step - loss: 0.2781 - accuracy: 0.0022 - val_loss: 0.3519 - val_accuracy: 0.0026\n",
      "Epoch 12/100\n",
      "98/98 [==============================] - 6s 60ms/step - loss: 0.2609 - accuracy: 0.0022 - val_loss: 0.3610 - val_accuracy: 0.0026\n",
      "Epoch 13/100\n",
      "98/98 [==============================] - 6s 60ms/step - loss: 0.2585 - accuracy: 0.0022 - val_loss: 0.3918 - val_accuracy: 0.0026\n",
      "Epoch 14/100\n",
      "98/98 [==============================] - 6s 60ms/step - loss: 0.2531 - accuracy: 0.0022 - val_loss: 0.3765 - val_accuracy: 0.0026\n",
      "Epoch 15/100\n",
      "98/98 [==============================] - 6s 64ms/step - loss: 0.2251 - accuracy: 0.0022 - val_loss: 0.3797 - val_accuracy: 0.0026\n",
      "Epoch 16/100\n",
      "98/98 [==============================] - 6s 60ms/step - loss: 0.2151 - accuracy: 0.0022 - val_loss: 0.3859 - val_accuracy: 0.0026\n",
      "Epoch 17/100\n",
      "98/98 [==============================] - 6s 60ms/step - loss: 0.2291 - accuracy: 0.0022 - val_loss: 0.3669 - val_accuracy: 0.0026\n",
      "Epoch 18/100\n",
      "98/98 [==============================] - 6s 60ms/step - loss: 0.2099 - accuracy: 0.0022 - val_loss: 0.3885 - val_accuracy: 0.0026\n",
      "Epoch 19/100\n",
      "98/98 [==============================] - 6s 60ms/step - loss: 0.1942 - accuracy: 0.0022 - val_loss: 0.3924 - val_accuracy: 0.0026\n",
      "Epoch 20/100\n",
      "98/98 [==============================] - 6s 64ms/step - loss: 0.2035 - accuracy: 0.0022 - val_loss: 0.4229 - val_accuracy: 0.0026\n",
      "Epoch 21/100\n",
      "98/98 [==============================] - 6s 61ms/step - loss: 0.1923 - accuracy: 0.0022 - val_loss: 0.4019 - val_accuracy: 0.0026\n",
      "Epoch 22/100\n",
      "98/98 [==============================] - 6s 61ms/step - loss: 0.1825 - accuracy: 0.0022 - val_loss: 0.4019 - val_accuracy: 0.0026\n",
      "Epoch 23/100\n",
      "98/98 [==============================] - 6s 60ms/step - loss: 0.1718 - accuracy: 0.0022 - val_loss: 0.4101 - val_accuracy: 0.0026\n",
      "Epoch 24/100\n",
      "98/98 [==============================] - 6s 61ms/step - loss: 0.1652 - accuracy: 0.0022 - val_loss: 0.4186 - val_accuracy: 0.0026\n",
      "Epoch 25/100\n",
      "98/98 [==============================] - 6s 63ms/step - loss: 0.1585 - accuracy: 0.0022 - val_loss: 0.4043 - val_accuracy: 0.0026\n",
      "Epoch 26/100\n",
      "98/98 [==============================] - 6s 61ms/step - loss: 0.1588 - accuracy: 0.0022 - val_loss: 0.4073 - val_accuracy: 0.0026\n",
      "Epoch 27/100\n",
      "98/98 [==============================] - 6s 61ms/step - loss: 0.1567 - accuracy: 0.0022 - val_loss: 0.4099 - val_accuracy: 0.0026\n",
      "Epoch 28/100\n",
      "98/98 [==============================] - 6s 60ms/step - loss: 0.1466 - accuracy: 0.0022 - val_loss: 0.4266 - val_accuracy: 0.0026\n",
      "Epoch 29/100\n",
      "98/98 [==============================] - 6s 60ms/step - loss: 0.1306 - accuracy: 0.0022 - val_loss: 0.4384 - val_accuracy: 0.0026\n",
      "Epoch 30/100\n",
      "98/98 [==============================] - 6s 60ms/step - loss: 0.1324 - accuracy: 0.0022 - val_loss: 0.4183 - val_accuracy: 0.0026\n",
      "Epoch 31/100\n",
      "98/98 [==============================] - 6s 64ms/step - loss: 0.1284 - accuracy: 0.0022 - val_loss: 0.4474 - val_accuracy: 0.0026\n",
      "Epoch 32/100\n",
      "98/98 [==============================] - 6s 60ms/step - loss: 0.1196 - accuracy: 0.0022 - val_loss: 0.4234 - val_accuracy: 0.0026\n",
      "Epoch 33/100\n",
      "98/98 [==============================] - 6s 60ms/step - loss: 0.1190 - accuracy: 0.0022 - val_loss: 0.4285 - val_accuracy: 0.0026\n",
      "Epoch 34/100\n",
      "98/98 [==============================] - 6s 59ms/step - loss: 0.1120 - accuracy: 0.0022 - val_loss: 0.4245 - val_accuracy: 0.0026\n",
      "Epoch 35/100\n",
      "98/98 [==============================] - 6s 60ms/step - loss: 0.1064 - accuracy: 0.0022 - val_loss: 0.4226 - val_accuracy: 0.0026\n",
      "Epoch 36/100\n",
      "98/98 [==============================] - 6s 62ms/step - loss: 0.1047 - accuracy: 0.0022 - val_loss: 0.4229 - val_accuracy: 0.0026\n",
      "Epoch 37/100\n",
      "98/98 [==============================] - 6s 60ms/step - loss: 0.1044 - accuracy: 0.0022 - val_loss: 0.4276 - val_accuracy: 0.0026\n",
      "Epoch 38/100\n",
      "98/98 [==============================] - 6s 60ms/step - loss: 0.0996 - accuracy: 0.0022 - val_loss: 0.4222 - val_accuracy: 0.0026\n",
      "Epoch 39/100\n",
      "98/98 [==============================] - 6s 60ms/step - loss: 0.0968 - accuracy: 0.0022 - val_loss: 0.4255 - val_accuracy: 0.0026\n",
      "Epoch 40/100\n",
      "98/98 [==============================] - 6s 60ms/step - loss: 0.0898 - accuracy: 0.0022 - val_loss: 0.4341 - val_accuracy: 0.0026\n",
      "Epoch 41/100\n",
      "98/98 [==============================] - 6s 63ms/step - loss: 0.0838 - accuracy: 0.0022 - val_loss: 0.4347 - val_accuracy: 0.0026\n",
      "Epoch 42/100\n",
      "98/98 [==============================] - 6s 61ms/step - loss: 0.0834 - accuracy: 0.0022 - val_loss: 0.4310 - val_accuracy: 0.0026\n",
      "Epoch 43/100\n",
      "98/98 [==============================] - 6s 60ms/step - loss: 0.0791 - accuracy: 0.0022 - val_loss: 0.4338 - val_accuracy: 0.0026\n",
      "Epoch 44/100\n",
      "98/98 [==============================] - 6s 60ms/step - loss: 0.0792 - accuracy: 0.0022 - val_loss: 0.4462 - val_accuracy: 0.0026\n",
      "Epoch 45/100\n",
      "98/98 [==============================] - 6s 60ms/step - loss: 0.0778 - accuracy: 0.0022 - val_loss: 0.4400 - val_accuracy: 0.0026\n",
      "Epoch 46/100\n",
      "98/98 [==============================] - 6s 60ms/step - loss: 0.0734 - accuracy: 0.0022 - val_loss: 0.4383 - val_accuracy: 0.0026\n",
      "Epoch 47/100\n",
      "98/98 [==============================] - 6s 63ms/step - loss: 0.0703 - accuracy: 0.0022 - val_loss: 0.4492 - val_accuracy: 0.0026\n",
      "Epoch 48/100\n",
      "98/98 [==============================] - 6s 60ms/step - loss: 0.0665 - accuracy: 0.0022 - val_loss: 0.4500 - val_accuracy: 0.0026\n",
      "Epoch 49/100\n",
      "98/98 [==============================] - 6s 59ms/step - loss: 0.0652 - accuracy: 0.0022 - val_loss: 0.4622 - val_accuracy: 0.0026\n",
      "Epoch 50/100\n",
      "98/98 [==============================] - 6s 60ms/step - loss: 0.0638 - accuracy: 0.0022 - val_loss: 0.4482 - val_accuracy: 0.0026\n",
      "Epoch 51/100\n",
      "98/98 [==============================] - 6s 60ms/step - loss: 0.0612 - accuracy: 0.0022 - val_loss: 0.4622 - val_accuracy: 0.0026\n",
      "Epoch 52/100\n",
      "98/98 [==============================] - 6s 63ms/step - loss: 0.0591 - accuracy: 0.0022 - val_loss: 0.4462 - val_accuracy: 0.0026\n",
      "Epoch 53/100\n",
      "98/98 [==============================] - 6s 61ms/step - loss: 0.0546 - accuracy: 0.0022 - val_loss: 0.4516 - val_accuracy: 0.0026\n",
      "Epoch 54/100\n",
      "98/98 [==============================] - 6s 59ms/step - loss: 0.0557 - accuracy: 0.0022 - val_loss: 0.4330 - val_accuracy: 0.0026\n",
      "Epoch 55/100\n",
      "98/98 [==============================] - 6s 60ms/step - loss: 0.0517 - accuracy: 0.0022 - val_loss: 0.4496 - val_accuracy: 0.0026\n",
      "Epoch 56/100\n",
      "98/98 [==============================] - 6s 59ms/step - loss: 0.0501 - accuracy: 0.0022 - val_loss: 0.4474 - val_accuracy: 0.0026\n",
      "Epoch 57/100\n",
      "98/98 [==============================] - 6s 62ms/step - loss: 0.0503 - accuracy: 0.0019 - val_loss: 0.4501 - val_accuracy: 0.0026\n",
      "Epoch 58/100\n",
      "98/98 [==============================] - 6s 61ms/step - loss: 0.0493 - accuracy: 0.0022 - val_loss: 0.4655 - val_accuracy: 0.0026\n",
      "Epoch 59/100\n",
      "98/98 [==============================] - 6s 59ms/step - loss: 0.0456 - accuracy: 0.0019 - val_loss: 0.4481 - val_accuracy: 0.0026\n",
      "Epoch 60/100\n",
      "98/98 [==============================] - 6s 59ms/step - loss: 0.0445 - accuracy: 0.0022 - val_loss: 0.4571 - val_accuracy: 0.0026\n",
      "Epoch 61/100\n",
      "98/98 [==============================] - 6s 60ms/step - loss: 0.0440 - accuracy: 0.0022 - val_loss: 0.4613 - val_accuracy: 0.0026\n",
      "Epoch 62/100\n",
      "98/98 [==============================] - 6s 60ms/step - loss: 0.0383 - accuracy: 0.0022 - val_loss: 0.4596 - val_accuracy: 0.0026\n",
      "Epoch 63/100\n",
      "98/98 [==============================] - 6s 64ms/step - loss: 0.0390 - accuracy: 0.0022 - val_loss: 0.4588 - val_accuracy: 0.0026\n",
      "Epoch 64/100\n",
      "98/98 [==============================] - 6s 60ms/step - loss: 0.0381 - accuracy: 0.0022 - val_loss: 0.4700 - val_accuracy: 0.0026\n",
      "Epoch 65/100\n",
      "98/98 [==============================] - 6s 60ms/step - loss: 0.0371 - accuracy: 0.0022 - val_loss: 0.4551 - val_accuracy: 0.0026\n",
      "Epoch 66/100\n",
      "98/98 [==============================] - 6s 60ms/step - loss: 0.0354 - accuracy: 0.0022 - val_loss: 0.4734 - val_accuracy: 0.0026\n",
      "Epoch 67/100\n",
      "98/98 [==============================] - 6s 59ms/step - loss: 0.0366 - accuracy: 0.0022 - val_loss: 0.4709 - val_accuracy: 0.0026\n",
      "Epoch 68/100\n",
      "98/98 [==============================] - 6s 63ms/step - loss: 0.0342 - accuracy: 0.0022 - val_loss: 0.4809 - val_accuracy: 0.0026\n",
      "Epoch 69/100\n",
      "98/98 [==============================] - 6s 61ms/step - loss: 0.0323 - accuracy: 0.0022 - val_loss: 0.4951 - val_accuracy: 0.0026\n",
      "Epoch 70/100\n",
      "98/98 [==============================] - 6s 60ms/step - loss: 0.0309 - accuracy: 0.0022 - val_loss: 0.4706 - val_accuracy: 0.0026\n",
      "Epoch 71/100\n",
      "98/98 [==============================] - 6s 60ms/step - loss: 0.0310 - accuracy: 0.0022 - val_loss: 0.4989 - val_accuracy: 0.0026\n",
      "Epoch 72/100\n",
      "98/98 [==============================] - 6s 60ms/step - loss: 0.0302 - accuracy: 0.0022 - val_loss: 0.4875 - val_accuracy: 0.0026\n",
      "Epoch 73/100\n",
      "98/98 [==============================] - 6s 61ms/step - loss: 0.0290 - accuracy: 0.0022 - val_loss: 0.4704 - val_accuracy: 0.0026\n",
      "Epoch 74/100\n",
      "98/98 [==============================] - 6s 64ms/step - loss: 0.0288 - accuracy: 0.0022 - val_loss: 0.4923 - val_accuracy: 0.0026\n",
      "Epoch 75/100\n",
      "98/98 [==============================] - 6s 60ms/step - loss: 0.0277 - accuracy: 0.0022 - val_loss: 0.4676 - val_accuracy: 0.0026\n",
      "Epoch 76/100\n",
      "98/98 [==============================] - 6s 60ms/step - loss: 0.0269 - accuracy: 0.0022 - val_loss: 0.4866 - val_accuracy: 0.0026\n",
      "Epoch 77/100\n",
      "98/98 [==============================] - 6s 60ms/step - loss: 0.0274 - accuracy: 0.0019 - val_loss: 0.4939 - val_accuracy: 0.0026\n",
      "Epoch 78/100\n",
      "98/98 [==============================] - 6s 60ms/step - loss: 0.0262 - accuracy: 0.0022 - val_loss: 0.4789 - val_accuracy: 0.0026\n",
      "Epoch 79/100\n",
      "98/98 [==============================] - 6s 64ms/step - loss: 0.0254 - accuracy: 0.0022 - val_loss: 0.4785 - val_accuracy: 0.0026\n",
      "Epoch 80/100\n",
      "98/98 [==============================] - 6s 60ms/step - loss: 0.0241 - accuracy: 0.0019 - val_loss: 0.4977 - val_accuracy: 0.0026\n",
      "Epoch 81/100\n",
      "98/98 [==============================] - 6s 60ms/step - loss: 0.0259 - accuracy: 0.0016 - val_loss: 0.4736 - val_accuracy: 0.0026\n",
      "Epoch 82/100\n",
      "98/98 [==============================] - 6s 59ms/step - loss: 0.0236 - accuracy: 0.0022 - val_loss: 0.4815 - val_accuracy: 0.0026\n",
      "Epoch 83/100\n",
      "98/98 [==============================] - 6s 60ms/step - loss: 0.0248 - accuracy: 0.0022 - val_loss: 0.4754 - val_accuracy: 0.0026\n",
      "Epoch 84/100\n",
      "98/98 [==============================] - 6s 62ms/step - loss: 0.0211 - accuracy: 0.0022 - val_loss: 0.4608 - val_accuracy: 0.0026\n",
      "Epoch 85/100\n",
      "98/98 [==============================] - 6s 61ms/step - loss: 0.0230 - accuracy: 0.0019 - val_loss: 0.4823 - val_accuracy: 0.0026\n",
      "Epoch 86/100\n",
      "98/98 [==============================] - 6s 59ms/step - loss: 0.0224 - accuracy: 0.0019 - val_loss: 0.4750 - val_accuracy: 0.0026\n",
      "Epoch 87/100\n",
      "98/98 [==============================] - 6s 60ms/step - loss: 0.0218 - accuracy: 0.0022 - val_loss: 0.4929 - val_accuracy: 0.0026\n",
      "Epoch 88/100\n",
      "98/98 [==============================] - 6s 60ms/step - loss: 0.0214 - accuracy: 0.0022 - val_loss: 0.4810 - val_accuracy: 0.0026\n",
      "Epoch 89/100\n",
      "98/98 [==============================] - 6s 60ms/step - loss: 0.0208 - accuracy: 0.0022 - val_loss: 0.4706 - val_accuracy: 0.0026\n",
      "Epoch 90/100\n",
      "98/98 [==============================] - 6s 64ms/step - loss: 0.0221 - accuracy: 0.0022 - val_loss: 0.4857 - val_accuracy: 0.0026\n",
      "Epoch 91/100\n",
      "98/98 [==============================] - 6s 60ms/step - loss: 0.0199 - accuracy: 0.0019 - val_loss: 0.4728 - val_accuracy: 0.0026\n",
      "Epoch 92/100\n",
      "98/98 [==============================] - 6s 60ms/step - loss: 0.0207 - accuracy: 0.0022 - val_loss: 0.4755 - val_accuracy: 0.0026\n",
      "Epoch 93/100\n",
      "98/98 [==============================] - 6s 60ms/step - loss: 0.0212 - accuracy: 0.0022 - val_loss: 0.4811 - val_accuracy: 0.0026\n",
      "Epoch 94/100\n",
      "98/98 [==============================] - 6s 60ms/step - loss: 0.0192 - accuracy: 0.0022 - val_loss: 0.5063 - val_accuracy: 0.0026\n",
      "Epoch 95/100\n",
      "98/98 [==============================] - 6s 62ms/step - loss: 0.0193 - accuracy: 0.0022 - val_loss: 0.4774 - val_accuracy: 0.0026\n",
      "Epoch 96/100\n",
      "98/98 [==============================] - 6s 61ms/step - loss: 0.0194 - accuracy: 0.0022 - val_loss: 0.4932 - val_accuracy: 0.0026\n",
      "Epoch 97/100\n",
      "98/98 [==============================] - 6s 60ms/step - loss: 0.0204 - accuracy: 0.0022 - val_loss: 0.4785 - val_accuracy: 0.0026\n",
      "Epoch 98/100\n",
      "98/98 [==============================] - 6s 60ms/step - loss: 0.0191 - accuracy: 0.0022 - val_loss: 0.4633 - val_accuracy: 0.0026\n",
      "Epoch 99/100\n",
      "98/98 [==============================] - 6s 59ms/step - loss: 0.0198 - accuracy: 0.0022 - val_loss: 0.4937 - val_accuracy: 0.0026\n",
      "Epoch 100/100\n",
      "98/98 [==============================] - 6s 62ms/step - loss: 0.0191 - accuracy: 0.0019 - val_loss: 0.4905 - val_accuracy: 0.0026\n"
     ]
    },
    {
     "data": {
      "text/plain": [
       "3"
      ]
     },
     "execution_count": 33,
     "metadata": {},
     "output_type": "execute_result"
    }
   ],
   "source": [
    "lstm_model2 = get_model_lstm()\n",
    "lstm_model2.fit(lstm_embed_train, y2_train, epochs=100,validation_data=(lstm_embed_val,y2_val))\n",
    "lstm_result_2 = lstm_model2.predict(lstm_embed_test_final).flatten()\n",
    "lstm_result_2 = [int(r) for r in lstm_result_2]\n",
    "len(lstm_result_2)"
   ]
  },
  {
   "cell_type": "code",
   "execution_count": 34,
   "id": "80466925",
   "metadata": {
    "execution": {
     "iopub.execute_input": "2022-11-24T19:13:58.214530Z",
     "iopub.status.busy": "2022-11-24T19:13:58.214103Z",
     "iopub.status.idle": "2022-11-24T19:23:59.355245Z",
     "shell.execute_reply": "2022-11-24T19:23:59.353898Z"
    },
    "papermill": {
     "duration": 602.458731,
     "end_time": "2022-11-24T19:23:59.357780",
     "exception": false,
     "start_time": "2022-11-24T19:13:56.899049",
     "status": "completed"
    },
    "tags": []
   },
   "outputs": [
    {
     "name": "stdout",
     "output_type": "stream",
     "text": [
      "Model: \"sequential_2\"\n",
      "_________________________________________________________________\n",
      "Layer (type)                 Output Shape              Param #   \n",
      "=================================================================\n",
      "lstm_2 (LSTM)                (None, 1, 128)            11007488  \n",
      "_________________________________________________________________\n",
      "dropout_4 (Dropout)          (None, 1, 128)            0         \n",
      "_________________________________________________________________\n",
      "dense_4 (Dense)              (None, 1, 32)             4128      \n",
      "_________________________________________________________________\n",
      "dropout_5 (Dropout)          (None, 1, 32)             0         \n",
      "_________________________________________________________________\n",
      "dense_5 (Dense)              (None, 1, 1)              33        \n",
      "=================================================================\n",
      "Total params: 11,011,649\n",
      "Trainable params: 11,011,649\n",
      "Non-trainable params: 0\n",
      "_________________________________________________________________\n",
      "Epoch 1/100\n",
      "98/98 [==============================] - 9s 66ms/step - loss: 1.5184 - accuracy: 6.3918e-04 - val_loss: 0.2840 - val_accuracy: 0.0000e+00\n",
      "Epoch 2/100\n",
      "98/98 [==============================] - 6s 60ms/step - loss: 0.5118 - accuracy: 6.3918e-04 - val_loss: 0.2442 - val_accuracy: 0.0000e+00\n",
      "Epoch 3/100\n",
      "98/98 [==============================] - 6s 60ms/step - loss: 0.4637 - accuracy: 6.3918e-04 - val_loss: 0.2270 - val_accuracy: 0.0000e+00\n",
      "Epoch 4/100\n",
      "98/98 [==============================] - 6s 61ms/step - loss: 0.3932 - accuracy: 6.3918e-04 - val_loss: 0.2304 - val_accuracy: 0.0000e+00\n",
      "Epoch 5/100\n",
      "98/98 [==============================] - 6s 62ms/step - loss: 0.3765 - accuracy: 6.3918e-04 - val_loss: 0.2347 - val_accuracy: 0.0000e+00\n",
      "Epoch 6/100\n",
      "98/98 [==============================] - 6s 59ms/step - loss: 0.3453 - accuracy: 6.3918e-04 - val_loss: 0.2550 - val_accuracy: 0.0000e+00\n",
      "Epoch 7/100\n",
      "98/98 [==============================] - 6s 59ms/step - loss: 0.3225 - accuracy: 6.3918e-04 - val_loss: 0.2544 - val_accuracy: 0.0000e+00\n",
      "Epoch 8/100\n",
      "98/98 [==============================] - 6s 60ms/step - loss: 0.3168 - accuracy: 6.3918e-04 - val_loss: 0.2380 - val_accuracy: 0.0000e+00\n",
      "Epoch 9/100\n",
      "98/98 [==============================] - 6s 59ms/step - loss: 0.2965 - accuracy: 6.3918e-04 - val_loss: 0.2493 - val_accuracy: 0.0000e+00\n",
      "Epoch 10/100\n",
      "98/98 [==============================] - 6s 63ms/step - loss: 0.2743 - accuracy: 6.3918e-04 - val_loss: 0.2494 - val_accuracy: 0.0000e+00\n",
      "Epoch 11/100\n",
      "98/98 [==============================] - 6s 61ms/step - loss: 0.2549 - accuracy: 6.3918e-04 - val_loss: 0.2520 - val_accuracy: 0.0000e+00\n",
      "Epoch 12/100\n",
      "98/98 [==============================] - 6s 60ms/step - loss: 0.2500 - accuracy: 6.3918e-04 - val_loss: 0.2533 - val_accuracy: 0.0000e+00\n",
      "Epoch 13/100\n",
      "98/98 [==============================] - 6s 60ms/step - loss: 0.2395 - accuracy: 6.3918e-04 - val_loss: 0.2717 - val_accuracy: 0.0000e+00\n",
      "Epoch 14/100\n",
      "98/98 [==============================] - 6s 60ms/step - loss: 0.2437 - accuracy: 6.3918e-04 - val_loss: 0.2589 - val_accuracy: 0.0000e+00\n",
      "Epoch 15/100\n",
      "98/98 [==============================] - 6s 63ms/step - loss: 0.2297 - accuracy: 6.3918e-04 - val_loss: 0.2515 - val_accuracy: 0.0000e+00\n",
      "Epoch 16/100\n",
      "98/98 [==============================] - 6s 61ms/step - loss: 0.2236 - accuracy: 6.3918e-04 - val_loss: 0.2480 - val_accuracy: 0.0000e+00\n",
      "Epoch 17/100\n",
      "98/98 [==============================] - 6s 60ms/step - loss: 0.2000 - accuracy: 6.3918e-04 - val_loss: 0.2594 - val_accuracy: 0.0000e+00\n",
      "Epoch 18/100\n",
      "98/98 [==============================] - 6s 60ms/step - loss: 0.2022 - accuracy: 6.3918e-04 - val_loss: 0.2645 - val_accuracy: 0.0000e+00\n",
      "Epoch 19/100\n",
      "98/98 [==============================] - 6s 60ms/step - loss: 0.1907 - accuracy: 6.3918e-04 - val_loss: 0.2776 - val_accuracy: 0.0000e+00\n",
      "Epoch 20/100\n",
      "98/98 [==============================] - 6s 60ms/step - loss: 0.1934 - accuracy: 6.3918e-04 - val_loss: 0.2690 - val_accuracy: 0.0000e+00\n",
      "Epoch 21/100\n",
      "98/98 [==============================] - 6s 63ms/step - loss: 0.1750 - accuracy: 6.3918e-04 - val_loss: 0.2972 - val_accuracy: 0.0000e+00\n",
      "Epoch 22/100\n",
      "98/98 [==============================] - 6s 60ms/step - loss: 0.1810 - accuracy: 6.3918e-04 - val_loss: 0.2676 - val_accuracy: 0.0000e+00\n",
      "Epoch 23/100\n",
      "98/98 [==============================] - 6s 60ms/step - loss: 0.1683 - accuracy: 6.3918e-04 - val_loss: 0.2675 - val_accuracy: 0.0000e+00\n",
      "Epoch 24/100\n",
      "98/98 [==============================] - 6s 60ms/step - loss: 0.1638 - accuracy: 6.3918e-04 - val_loss: 0.2716 - val_accuracy: 0.0000e+00\n",
      "Epoch 25/100\n",
      "98/98 [==============================] - 6s 60ms/step - loss: 0.1513 - accuracy: 6.3918e-04 - val_loss: 0.2676 - val_accuracy: 0.0000e+00\n",
      "Epoch 26/100\n",
      "98/98 [==============================] - 6s 62ms/step - loss: 0.1532 - accuracy: 6.3918e-04 - val_loss: 0.2644 - val_accuracy: 0.0000e+00\n",
      "Epoch 27/100\n",
      "98/98 [==============================] - 6s 62ms/step - loss: 0.1393 - accuracy: 6.3918e-04 - val_loss: 0.2670 - val_accuracy: 0.0000e+00\n",
      "Epoch 28/100\n",
      "98/98 [==============================] - 6s 60ms/step - loss: 0.1333 - accuracy: 6.3918e-04 - val_loss: 0.2711 - val_accuracy: 0.0000e+00\n",
      "Epoch 29/100\n",
      "98/98 [==============================] - 6s 60ms/step - loss: 0.1293 - accuracy: 6.3918e-04 - val_loss: 0.2790 - val_accuracy: 0.0000e+00\n",
      "Epoch 30/100\n",
      "98/98 [==============================] - 6s 60ms/step - loss: 0.1243 - accuracy: 6.3918e-04 - val_loss: 0.2790 - val_accuracy: 0.0000e+00\n",
      "Epoch 31/100\n",
      "98/98 [==============================] - 6s 62ms/step - loss: 0.1230 - accuracy: 6.3918e-04 - val_loss: 0.2859 - val_accuracy: 0.0000e+00\n",
      "Epoch 32/100\n",
      "98/98 [==============================] - 6s 61ms/step - loss: 0.1167 - accuracy: 6.3918e-04 - val_loss: 0.2898 - val_accuracy: 0.0000e+00\n",
      "Epoch 33/100\n",
      "98/98 [==============================] - 6s 60ms/step - loss: 0.1101 - accuracy: 6.3918e-04 - val_loss: 0.2956 - val_accuracy: 0.0000e+00\n",
      "Epoch 34/100\n",
      "98/98 [==============================] - 6s 60ms/step - loss: 0.1047 - accuracy: 6.3918e-04 - val_loss: 0.2977 - val_accuracy: 0.0000e+00\n",
      "Epoch 35/100\n",
      "98/98 [==============================] - 6s 60ms/step - loss: 0.1047 - accuracy: 6.3918e-04 - val_loss: 0.2943 - val_accuracy: 0.0000e+00\n",
      "Epoch 36/100\n",
      "98/98 [==============================] - 6s 60ms/step - loss: 0.0956 - accuracy: 6.3918e-04 - val_loss: 0.3009 - val_accuracy: 0.0000e+00\n",
      "Epoch 37/100\n",
      "98/98 [==============================] - 6s 63ms/step - loss: 0.0950 - accuracy: 6.3918e-04 - val_loss: 0.3013 - val_accuracy: 0.0000e+00\n",
      "Epoch 38/100\n",
      "98/98 [==============================] - 6s 61ms/step - loss: 0.0887 - accuracy: 6.3918e-04 - val_loss: 0.2977 - val_accuracy: 0.0000e+00\n",
      "Epoch 39/100\n",
      "98/98 [==============================] - 6s 60ms/step - loss: 0.0895 - accuracy: 6.3918e-04 - val_loss: 0.2969 - val_accuracy: 0.0000e+00\n",
      "Epoch 40/100\n",
      "98/98 [==============================] - 6s 60ms/step - loss: 0.0829 - accuracy: 6.3918e-04 - val_loss: 0.2946 - val_accuracy: 0.0000e+00\n",
      "Epoch 41/100\n",
      "98/98 [==============================] - 6s 60ms/step - loss: 0.0778 - accuracy: 6.3918e-04 - val_loss: 0.3039 - val_accuracy: 0.0000e+00\n",
      "Epoch 42/100\n",
      "98/98 [==============================] - 6s 63ms/step - loss: 0.0805 - accuracy: 6.3918e-04 - val_loss: 0.3023 - val_accuracy: 0.0000e+00\n",
      "Epoch 43/100\n",
      "98/98 [==============================] - 6s 62ms/step - loss: 0.0785 - accuracy: 6.3918e-04 - val_loss: 0.3023 - val_accuracy: 0.0000e+00\n",
      "Epoch 44/100\n",
      "98/98 [==============================] - 6s 61ms/step - loss: 0.0682 - accuracy: 6.3918e-04 - val_loss: 0.3142 - val_accuracy: 0.0000e+00\n",
      "Epoch 45/100\n",
      "98/98 [==============================] - 6s 60ms/step - loss: 0.0690 - accuracy: 6.3918e-04 - val_loss: 0.3050 - val_accuracy: 0.0000e+00\n",
      "Epoch 46/100\n",
      "98/98 [==============================] - 6s 60ms/step - loss: 0.0628 - accuracy: 6.3918e-04 - val_loss: 0.3114 - val_accuracy: 0.0000e+00\n",
      "Epoch 47/100\n",
      "98/98 [==============================] - 6s 63ms/step - loss: 0.0632 - accuracy: 6.3918e-04 - val_loss: 0.3162 - val_accuracy: 0.0000e+00\n",
      "Epoch 48/100\n",
      "98/98 [==============================] - 6s 60ms/step - loss: 0.0582 - accuracy: 6.3918e-04 - val_loss: 0.3153 - val_accuracy: 0.0000e+00\n",
      "Epoch 49/100\n",
      "98/98 [==============================] - 6s 61ms/step - loss: 0.0576 - accuracy: 6.3918e-04 - val_loss: 0.3134 - val_accuracy: 0.0000e+00\n",
      "Epoch 50/100\n",
      "98/98 [==============================] - 6s 60ms/step - loss: 0.0568 - accuracy: 6.3918e-04 - val_loss: 0.3163 - val_accuracy: 0.0000e+00\n",
      "Epoch 51/100\n",
      "98/98 [==============================] - 6s 60ms/step - loss: 0.0527 - accuracy: 6.3918e-04 - val_loss: 0.3100 - val_accuracy: 0.0000e+00\n",
      "Epoch 52/100\n",
      "98/98 [==============================] - 6s 60ms/step - loss: 0.0496 - accuracy: 6.3918e-04 - val_loss: 0.3322 - val_accuracy: 0.0000e+00\n",
      "Epoch 53/100\n",
      "98/98 [==============================] - 6s 63ms/step - loss: 0.0502 - accuracy: 6.3918e-04 - val_loss: 0.3282 - val_accuracy: 0.0000e+00\n",
      "Epoch 54/100\n",
      "98/98 [==============================] - 6s 61ms/step - loss: 0.0480 - accuracy: 6.3918e-04 - val_loss: 0.3271 - val_accuracy: 0.0000e+00\n",
      "Epoch 55/100\n",
      "98/98 [==============================] - 6s 61ms/step - loss: 0.0461 - accuracy: 6.3918e-04 - val_loss: 0.3221 - val_accuracy: 0.0000e+00\n",
      "Epoch 56/100\n",
      "98/98 [==============================] - 6s 60ms/step - loss: 0.0440 - accuracy: 6.3918e-04 - val_loss: 0.3251 - val_accuracy: 0.0000e+00\n",
      "Epoch 57/100\n",
      "98/98 [==============================] - 6s 60ms/step - loss: 0.0435 - accuracy: 3.1959e-04 - val_loss: 0.3229 - val_accuracy: 0.0000e+00\n",
      "Epoch 58/100\n",
      "98/98 [==============================] - 6s 63ms/step - loss: 0.0402 - accuracy: 6.3918e-04 - val_loss: 0.3259 - val_accuracy: 0.0000e+00\n",
      "Epoch 59/100\n",
      "98/98 [==============================] - 6s 60ms/step - loss: 0.0383 - accuracy: 6.3918e-04 - val_loss: 0.3258 - val_accuracy: 0.0000e+00\n",
      "Epoch 60/100\n",
      "98/98 [==============================] - 6s 62ms/step - loss: 0.0366 - accuracy: 6.3918e-04 - val_loss: 0.3330 - val_accuracy: 0.0000e+00\n",
      "Epoch 61/100\n",
      "98/98 [==============================] - 6s 60ms/step - loss: 0.0358 - accuracy: 6.3918e-04 - val_loss: 0.3238 - val_accuracy: 0.0000e+00\n",
      "Epoch 62/100\n",
      "98/98 [==============================] - 6s 61ms/step - loss: 0.0352 - accuracy: 6.3918e-04 - val_loss: 0.3282 - val_accuracy: 0.0000e+00\n",
      "Epoch 63/100\n",
      "98/98 [==============================] - 6s 64ms/step - loss: 0.0317 - accuracy: 6.3918e-04 - val_loss: 0.3498 - val_accuracy: 0.0000e+00\n",
      "Epoch 64/100\n",
      "98/98 [==============================] - 6s 60ms/step - loss: 0.0320 - accuracy: 6.3918e-04 - val_loss: 0.3331 - val_accuracy: 0.0000e+00\n",
      "Epoch 65/100\n",
      "98/98 [==============================] - 6s 62ms/step - loss: 0.0310 - accuracy: 6.3918e-04 - val_loss: 0.3352 - val_accuracy: 0.0000e+00\n",
      "Epoch 66/100\n",
      "98/98 [==============================] - 6s 61ms/step - loss: 0.0291 - accuracy: 6.3918e-04 - val_loss: 0.3490 - val_accuracy: 0.0000e+00\n",
      "Epoch 67/100\n",
      "98/98 [==============================] - 6s 61ms/step - loss: 0.0278 - accuracy: 6.3918e-04 - val_loss: 0.3447 - val_accuracy: 0.0000e+00\n",
      "Epoch 68/100\n",
      "98/98 [==============================] - 6s 61ms/step - loss: 0.0280 - accuracy: 6.3918e-04 - val_loss: 0.3394 - val_accuracy: 0.0000e+00\n",
      "Epoch 69/100\n",
      "98/98 [==============================] - 6s 62ms/step - loss: 0.0266 - accuracy: 6.3918e-04 - val_loss: 0.3402 - val_accuracy: 0.0000e+00\n",
      "Epoch 70/100\n",
      "98/98 [==============================] - 6s 61ms/step - loss: 0.0257 - accuracy: 6.3918e-04 - val_loss: 0.3582 - val_accuracy: 0.0000e+00\n",
      "Epoch 71/100\n",
      "98/98 [==============================] - 6s 62ms/step - loss: 0.0246 - accuracy: 6.3918e-04 - val_loss: 0.3487 - val_accuracy: 0.0000e+00\n",
      "Epoch 72/100\n",
      "98/98 [==============================] - 6s 60ms/step - loss: 0.0246 - accuracy: 6.3918e-04 - val_loss: 0.3299 - val_accuracy: 0.0000e+00\n",
      "Epoch 73/100\n",
      "98/98 [==============================] - 6s 60ms/step - loss: 0.0229 - accuracy: 6.3918e-04 - val_loss: 0.3429 - val_accuracy: 0.0000e+00\n",
      "Epoch 74/100\n",
      "98/98 [==============================] - 6s 63ms/step - loss: 0.0241 - accuracy: 6.3918e-04 - val_loss: 0.3388 - val_accuracy: 0.0000e+00\n",
      "Epoch 75/100\n",
      "98/98 [==============================] - 6s 60ms/step - loss: 0.0214 - accuracy: 6.3918e-04 - val_loss: 0.3436 - val_accuracy: 0.0000e+00\n",
      "Epoch 76/100\n",
      "98/98 [==============================] - 6s 62ms/step - loss: 0.0216 - accuracy: 6.3918e-04 - val_loss: 0.3445 - val_accuracy: 0.0000e+00\n",
      "Epoch 77/100\n",
      "98/98 [==============================] - 6s 61ms/step - loss: 0.0205 - accuracy: 6.3918e-04 - val_loss: 0.3406 - val_accuracy: 0.0000e+00\n",
      "Epoch 78/100\n",
      "98/98 [==============================] - 6s 60ms/step - loss: 0.0197 - accuracy: 6.3918e-04 - val_loss: 0.3361 - val_accuracy: 0.0000e+00\n",
      "Epoch 79/100\n",
      "98/98 [==============================] - 6s 64ms/step - loss: 0.0186 - accuracy: 6.3918e-04 - val_loss: 0.3358 - val_accuracy: 0.0000e+00\n",
      "Epoch 80/100\n",
      "98/98 [==============================] - 6s 60ms/step - loss: 0.0204 - accuracy: 6.3918e-04 - val_loss: 0.3392 - val_accuracy: 0.0000e+00\n",
      "Epoch 81/100\n",
      "98/98 [==============================] - 6s 61ms/step - loss: 0.0186 - accuracy: 6.3918e-04 - val_loss: 0.3325 - val_accuracy: 0.0000e+00\n",
      "Epoch 82/100\n",
      "98/98 [==============================] - 6s 62ms/step - loss: 0.0177 - accuracy: 6.3918e-04 - val_loss: 0.3382 - val_accuracy: 0.0000e+00\n",
      "Epoch 83/100\n",
      "98/98 [==============================] - 6s 60ms/step - loss: 0.0181 - accuracy: 6.3918e-04 - val_loss: 0.3326 - val_accuracy: 0.0000e+00\n",
      "Epoch 84/100\n",
      "98/98 [==============================] - 6s 62ms/step - loss: 0.0173 - accuracy: 6.3918e-04 - val_loss: 0.3428 - val_accuracy: 0.0000e+00\n",
      "Epoch 85/100\n",
      "98/98 [==============================] - 6s 60ms/step - loss: 0.0179 - accuracy: 6.3918e-04 - val_loss: 0.3378 - val_accuracy: 0.0000e+00\n",
      "Epoch 86/100\n",
      "98/98 [==============================] - 6s 60ms/step - loss: 0.0165 - accuracy: 6.3918e-04 - val_loss: 0.3414 - val_accuracy: 0.0000e+00\n",
      "Epoch 87/100\n",
      "98/98 [==============================] - 6s 61ms/step - loss: 0.0164 - accuracy: 6.3918e-04 - val_loss: 0.3498 - val_accuracy: 0.0000e+00\n",
      "Epoch 88/100\n",
      "98/98 [==============================] - 6s 61ms/step - loss: 0.0164 - accuracy: 6.3918e-04 - val_loss: 0.3444 - val_accuracy: 0.0000e+00\n",
      "Epoch 89/100\n",
      "98/98 [==============================] - 6s 61ms/step - loss: 0.0177 - accuracy: 6.3918e-04 - val_loss: 0.3430 - val_accuracy: 0.0000e+00\n",
      "Epoch 90/100\n",
      "98/98 [==============================] - 6s 62ms/step - loss: 0.0158 - accuracy: 3.1959e-04 - val_loss: 0.3455 - val_accuracy: 0.0000e+00\n",
      "Epoch 91/100\n",
      "98/98 [==============================] - 6s 60ms/step - loss: 0.0161 - accuracy: 6.3918e-04 - val_loss: 0.3323 - val_accuracy: 0.0000e+00\n",
      "Epoch 92/100\n",
      "98/98 [==============================] - 6s 60ms/step - loss: 0.0153 - accuracy: 6.3918e-04 - val_loss: 0.3497 - val_accuracy: 0.0000e+00\n",
      "Epoch 93/100\n",
      "98/98 [==============================] - 6s 63ms/step - loss: 0.0159 - accuracy: 6.3918e-04 - val_loss: 0.3396 - val_accuracy: 0.0000e+00\n",
      "Epoch 94/100\n",
      "98/98 [==============================] - 6s 60ms/step - loss: 0.0151 - accuracy: 6.3918e-04 - val_loss: 0.3400 - val_accuracy: 0.0000e+00\n",
      "Epoch 95/100\n",
      "98/98 [==============================] - 6s 63ms/step - loss: 0.0156 - accuracy: 6.3918e-04 - val_loss: 0.3400 - val_accuracy: 0.0000e+00\n",
      "Epoch 96/100\n",
      "98/98 [==============================] - 6s 61ms/step - loss: 0.0150 - accuracy: 6.3918e-04 - val_loss: 0.3353 - val_accuracy: 0.0000e+00\n",
      "Epoch 97/100\n",
      "98/98 [==============================] - 6s 60ms/step - loss: 0.0147 - accuracy: 6.3918e-04 - val_loss: 0.3433 - val_accuracy: 0.0000e+00\n",
      "Epoch 98/100\n",
      "98/98 [==============================] - 6s 61ms/step - loss: 0.0151 - accuracy: 6.3918e-04 - val_loss: 0.3395 - val_accuracy: 0.0000e+00\n",
      "Epoch 99/100\n",
      "98/98 [==============================] - 6s 61ms/step - loss: 0.0144 - accuracy: 6.3918e-04 - val_loss: 0.3406 - val_accuracy: 0.0000e+00\n",
      "Epoch 100/100\n",
      "98/98 [==============================] - 6s 62ms/step - loss: 0.0141 - accuracy: 6.3918e-04 - val_loss: 0.3573 - val_accuracy: 0.0000e+00\n"
     ]
    },
    {
     "data": {
      "text/plain": [
       "3"
      ]
     },
     "execution_count": 34,
     "metadata": {},
     "output_type": "execute_result"
    }
   ],
   "source": [
    "lstm_model3 = get_model_lstm()\n",
    "lstm_model3.fit(lstm_embed_train, y3_train, epochs=100,validation_data=(lstm_embed_val,y3_val))\n",
    "lstm_result_3 = lstm_model3.predict(lstm_embed_test_final).flatten()\n",
    "lstm_result_3 = [int(r) for r in lstm_result_3]\n",
    "len(lstm_result_3)"
   ]
  },
  {
   "cell_type": "code",
   "execution_count": 35,
   "id": "419dc017",
   "metadata": {
    "execution": {
     "iopub.execute_input": "2022-11-24T19:24:03.224125Z",
     "iopub.status.busy": "2022-11-24T19:24:03.223721Z",
     "iopub.status.idle": "2022-11-24T19:34:01.729138Z",
     "shell.execute_reply": "2022-11-24T19:34:01.728207Z"
    },
    "papermill": {
     "duration": 600.439474,
     "end_time": "2022-11-24T19:34:01.731912",
     "exception": false,
     "start_time": "2022-11-24T19:24:01.292438",
     "status": "completed"
    },
    "tags": []
   },
   "outputs": [
    {
     "name": "stdout",
     "output_type": "stream",
     "text": [
      "Model: \"sequential_3\"\n",
      "_________________________________________________________________\n",
      "Layer (type)                 Output Shape              Param #   \n",
      "=================================================================\n",
      "lstm_3 (LSTM)                (None, 1, 128)            11007488  \n",
      "_________________________________________________________________\n",
      "dropout_6 (Dropout)          (None, 1, 128)            0         \n",
      "_________________________________________________________________\n",
      "dense_6 (Dense)              (None, 1, 32)             4128      \n",
      "_________________________________________________________________\n",
      "dropout_7 (Dropout)          (None, 1, 32)             0         \n",
      "_________________________________________________________________\n",
      "dense_7 (Dense)              (None, 1, 1)              33        \n",
      "=================================================================\n",
      "Total params: 11,011,649\n",
      "Trainable params: 11,011,649\n",
      "Non-trainable params: 0\n",
      "_________________________________________________________________\n",
      "Epoch 1/100\n",
      "98/98 [==============================] - 9s 66ms/step - loss: 1.5475 - accuracy: 0.0029 - val_loss: 0.3512 - val_accuracy: 0.0000e+00\n",
      "Epoch 2/100\n",
      "98/98 [==============================] - 6s 60ms/step - loss: 0.5597 - accuracy: 0.0029 - val_loss: 0.3028 - val_accuracy: 0.0000e+00\n",
      "Epoch 3/100\n",
      "98/98 [==============================] - 6s 60ms/step - loss: 0.4780 - accuracy: 0.0029 - val_loss: 0.2906 - val_accuracy: 0.0000e+00\n",
      "Epoch 4/100\n",
      "98/98 [==============================] - 6s 63ms/step - loss: 0.4101 - accuracy: 0.0029 - val_loss: 0.2983 - val_accuracy: 0.0000e+00\n",
      "Epoch 5/100\n",
      "98/98 [==============================] - 6s 62ms/step - loss: 0.3887 - accuracy: 0.0029 - val_loss: 0.3016 - val_accuracy: 0.0000e+00\n",
      "Epoch 6/100\n",
      "98/98 [==============================] - 6s 60ms/step - loss: 0.3700 - accuracy: 0.0029 - val_loss: 0.3125 - val_accuracy: 0.0000e+00\n",
      "Epoch 7/100\n",
      "98/98 [==============================] - 6s 60ms/step - loss: 0.3277 - accuracy: 0.0029 - val_loss: 0.3097 - val_accuracy: 0.0000e+00\n",
      "Epoch 8/100\n",
      "98/98 [==============================] - 6s 60ms/step - loss: 0.3113 - accuracy: 0.0029 - val_loss: 0.3098 - val_accuracy: 0.0000e+00\n",
      "Epoch 9/100\n",
      "98/98 [==============================] - 6s 59ms/step - loss: 0.3036 - accuracy: 0.0029 - val_loss: 0.3167 - val_accuracy: 0.0000e+00\n",
      "Epoch 10/100\n",
      "98/98 [==============================] - 6s 63ms/step - loss: 0.2866 - accuracy: 0.0029 - val_loss: 0.3590 - val_accuracy: 0.0000e+00\n",
      "Epoch 11/100\n",
      "98/98 [==============================] - 6s 63ms/step - loss: 0.2719 - accuracy: 0.0029 - val_loss: 0.3276 - val_accuracy: 0.0000e+00\n",
      "Epoch 12/100\n",
      "98/98 [==============================] - 6s 60ms/step - loss: 0.2671 - accuracy: 0.0029 - val_loss: 0.3362 - val_accuracy: 0.0000e+00\n",
      "Epoch 13/100\n",
      "98/98 [==============================] - 6s 60ms/step - loss: 0.2511 - accuracy: 0.0029 - val_loss: 0.3304 - val_accuracy: 0.0000e+00\n",
      "Epoch 14/100\n",
      "98/98 [==============================] - 6s 60ms/step - loss: 0.2487 - accuracy: 0.0029 - val_loss: 0.3544 - val_accuracy: 0.0000e+00\n",
      "Epoch 15/100\n",
      "98/98 [==============================] - 6s 63ms/step - loss: 0.2333 - accuracy: 0.0029 - val_loss: 0.3444 - val_accuracy: 0.0000e+00\n",
      "Epoch 16/100\n",
      "98/98 [==============================] - 6s 60ms/step - loss: 0.2136 - accuracy: 0.0029 - val_loss: 0.3615 - val_accuracy: 0.0000e+00\n",
      "Epoch 17/100\n",
      "98/98 [==============================] - 6s 61ms/step - loss: 0.2065 - accuracy: 0.0029 - val_loss: 0.3545 - val_accuracy: 0.0000e+00\n",
      "Epoch 18/100\n",
      "98/98 [==============================] - 6s 59ms/step - loss: 0.2035 - accuracy: 0.0029 - val_loss: 0.3580 - val_accuracy: 0.0000e+00\n",
      "Epoch 19/100\n",
      "98/98 [==============================] - 6s 60ms/step - loss: 0.1972 - accuracy: 0.0029 - val_loss: 0.3738 - val_accuracy: 0.0000e+00\n",
      "Epoch 20/100\n",
      "98/98 [==============================] - 6s 63ms/step - loss: 0.1835 - accuracy: 0.0029 - val_loss: 0.3795 - val_accuracy: 0.0000e+00\n",
      "Epoch 21/100\n",
      "98/98 [==============================] - 6s 60ms/step - loss: 0.1788 - accuracy: 0.0029 - val_loss: 0.3668 - val_accuracy: 0.0000e+00\n",
      "Epoch 22/100\n",
      "98/98 [==============================] - 6s 62ms/step - loss: 0.1696 - accuracy: 0.0029 - val_loss: 0.3765 - val_accuracy: 0.0000e+00\n",
      "Epoch 23/100\n",
      "98/98 [==============================] - 6s 60ms/step - loss: 0.1726 - accuracy: 0.0026 - val_loss: 0.3648 - val_accuracy: 0.0000e+00\n",
      "Epoch 24/100\n",
      "98/98 [==============================] - 6s 60ms/step - loss: 0.1591 - accuracy: 0.0029 - val_loss: 0.3770 - val_accuracy: 0.0000e+00\n",
      "Epoch 25/100\n",
      "98/98 [==============================] - 6s 59ms/step - loss: 0.1523 - accuracy: 0.0029 - val_loss: 0.3865 - val_accuracy: 0.0000e+00\n",
      "Epoch 26/100\n",
      "98/98 [==============================] - 6s 62ms/step - loss: 0.1615 - accuracy: 0.0029 - val_loss: 0.3826 - val_accuracy: 0.0000e+00\n",
      "Epoch 27/100\n",
      "98/98 [==============================] - 6s 59ms/step - loss: 0.1451 - accuracy: 0.0029 - val_loss: 0.3779 - val_accuracy: 0.0000e+00\n",
      "Epoch 28/100\n",
      "98/98 [==============================] - 6s 61ms/step - loss: 0.1381 - accuracy: 0.0029 - val_loss: 0.3927 - val_accuracy: 0.0000e+00\n",
      "Epoch 29/100\n",
      "98/98 [==============================] - 6s 59ms/step - loss: 0.1420 - accuracy: 0.0029 - val_loss: 0.3739 - val_accuracy: 0.0000e+00\n",
      "Epoch 30/100\n",
      "98/98 [==============================] - 6s 59ms/step - loss: 0.1255 - accuracy: 0.0029 - val_loss: 0.3887 - val_accuracy: 0.0000e+00\n",
      "Epoch 31/100\n",
      "98/98 [==============================] - 6s 62ms/step - loss: 0.1304 - accuracy: 0.0029 - val_loss: 0.3885 - val_accuracy: 0.0000e+00\n",
      "Epoch 32/100\n",
      "98/98 [==============================] - 6s 59ms/step - loss: 0.1185 - accuracy: 0.0029 - val_loss: 0.4085 - val_accuracy: 0.0000e+00\n",
      "Epoch 33/100\n",
      "98/98 [==============================] - 6s 60ms/step - loss: 0.1118 - accuracy: 0.0029 - val_loss: 0.3906 - val_accuracy: 0.0000e+00\n",
      "Epoch 34/100\n",
      "98/98 [==============================] - 6s 61ms/step - loss: 0.1083 - accuracy: 0.0029 - val_loss: 0.3959 - val_accuracy: 0.0000e+00\n",
      "Epoch 35/100\n",
      "98/98 [==============================] - 6s 59ms/step - loss: 0.1066 - accuracy: 0.0029 - val_loss: 0.3968 - val_accuracy: 0.0000e+00\n",
      "Epoch 36/100\n",
      "98/98 [==============================] - 6s 60ms/step - loss: 0.1040 - accuracy: 0.0029 - val_loss: 0.3893 - val_accuracy: 0.0000e+00\n",
      "Epoch 37/100\n",
      "98/98 [==============================] - 6s 61ms/step - loss: 0.1013 - accuracy: 0.0029 - val_loss: 0.3863 - val_accuracy: 0.0000e+00\n",
      "Epoch 38/100\n",
      "98/98 [==============================] - 6s 59ms/step - loss: 0.0995 - accuracy: 0.0029 - val_loss: 0.4030 - val_accuracy: 0.0000e+00\n",
      "Epoch 39/100\n",
      "98/98 [==============================] - 6s 61ms/step - loss: 0.0931 - accuracy: 0.0029 - val_loss: 0.3914 - val_accuracy: 0.0000e+00\n",
      "Epoch 40/100\n",
      "98/98 [==============================] - 6s 59ms/step - loss: 0.0893 - accuracy: 0.0029 - val_loss: 0.3959 - val_accuracy: 0.0000e+00\n",
      "Epoch 41/100\n",
      "98/98 [==============================] - 6s 60ms/step - loss: 0.0852 - accuracy: 0.0029 - val_loss: 0.4053 - val_accuracy: 0.0000e+00\n",
      "Epoch 42/100\n",
      "98/98 [==============================] - 6s 62ms/step - loss: 0.0860 - accuracy: 0.0029 - val_loss: 0.3999 - val_accuracy: 0.0000e+00\n",
      "Epoch 43/100\n",
      "98/98 [==============================] - 6s 59ms/step - loss: 0.0775 - accuracy: 0.0029 - val_loss: 0.4032 - val_accuracy: 0.0000e+00\n",
      "Epoch 44/100\n",
      "98/98 [==============================] - 6s 59ms/step - loss: 0.0752 - accuracy: 0.0029 - val_loss: 0.4004 - val_accuracy: 0.0000e+00\n",
      "Epoch 45/100\n",
      "98/98 [==============================] - 6s 62ms/step - loss: 0.0744 - accuracy: 0.0029 - val_loss: 0.4122 - val_accuracy: 0.0000e+00\n",
      "Epoch 46/100\n",
      "98/98 [==============================] - 6s 59ms/step - loss: 0.0737 - accuracy: 0.0029 - val_loss: 0.3977 - val_accuracy: 0.0000e+00\n",
      "Epoch 47/100\n",
      "98/98 [==============================] - 6s 62ms/step - loss: 0.0688 - accuracy: 0.0029 - val_loss: 0.4126 - val_accuracy: 0.0000e+00\n",
      "Epoch 48/100\n",
      "98/98 [==============================] - 6s 59ms/step - loss: 0.0673 - accuracy: 0.0029 - val_loss: 0.4097 - val_accuracy: 0.0000e+00\n",
      "Epoch 49/100\n",
      "98/98 [==============================] - 6s 59ms/step - loss: 0.0592 - accuracy: 0.0029 - val_loss: 0.4231 - val_accuracy: 0.0000e+00\n",
      "Epoch 50/100\n",
      "98/98 [==============================] - 6s 61ms/step - loss: 0.0614 - accuracy: 0.0029 - val_loss: 0.4348 - val_accuracy: 0.0000e+00\n",
      "Epoch 51/100\n",
      "98/98 [==============================] - 6s 61ms/step - loss: 0.0611 - accuracy: 0.0029 - val_loss: 0.4190 - val_accuracy: 0.0000e+00\n",
      "Epoch 52/100\n",
      "98/98 [==============================] - 6s 60ms/step - loss: 0.0556 - accuracy: 0.0026 - val_loss: 0.4426 - val_accuracy: 0.0000e+00\n",
      "Epoch 53/100\n",
      "98/98 [==============================] - 6s 61ms/step - loss: 0.0535 - accuracy: 0.0029 - val_loss: 0.4464 - val_accuracy: 0.0000e+00\n",
      "Epoch 54/100\n",
      "98/98 [==============================] - 6s 59ms/step - loss: 0.0525 - accuracy: 0.0029 - val_loss: 0.4227 - val_accuracy: 0.0000e+00\n",
      "Epoch 55/100\n",
      "98/98 [==============================] - 6s 59ms/step - loss: 0.0496 - accuracy: 0.0026 - val_loss: 0.4259 - val_accuracy: 0.0000e+00\n",
      "Epoch 56/100\n",
      "98/98 [==============================] - 6s 62ms/step - loss: 0.0480 - accuracy: 0.0029 - val_loss: 0.4383 - val_accuracy: 0.0000e+00\n",
      "Epoch 57/100\n",
      "98/98 [==============================] - 6s 61ms/step - loss: 0.0460 - accuracy: 0.0029 - val_loss: 0.4347 - val_accuracy: 0.0000e+00\n",
      "Epoch 58/100\n",
      "98/98 [==============================] - 6s 62ms/step - loss: 0.0447 - accuracy: 0.0029 - val_loss: 0.4179 - val_accuracy: 0.0000e+00\n",
      "Epoch 59/100\n",
      "98/98 [==============================] - 6s 59ms/step - loss: 0.0428 - accuracy: 0.0029 - val_loss: 0.4385 - val_accuracy: 0.0000e+00\n",
      "Epoch 60/100\n",
      "98/98 [==============================] - 6s 60ms/step - loss: 0.0419 - accuracy: 0.0029 - val_loss: 0.4452 - val_accuracy: 0.0000e+00\n",
      "Epoch 61/100\n",
      "98/98 [==============================] - 6s 60ms/step - loss: 0.0402 - accuracy: 0.0026 - val_loss: 0.4323 - val_accuracy: 0.0000e+00\n",
      "Epoch 62/100\n",
      "98/98 [==============================] - 6s 62ms/step - loss: 0.0391 - accuracy: 0.0026 - val_loss: 0.4433 - val_accuracy: 0.0000e+00\n",
      "Epoch 63/100\n",
      "98/98 [==============================] - 6s 62ms/step - loss: 0.0390 - accuracy: 0.0029 - val_loss: 0.4352 - val_accuracy: 0.0000e+00\n",
      "Epoch 64/100\n",
      "98/98 [==============================] - 6s 59ms/step - loss: 0.0398 - accuracy: 0.0029 - val_loss: 0.4211 - val_accuracy: 0.0000e+00\n",
      "Epoch 65/100\n",
      "98/98 [==============================] - 6s 60ms/step - loss: 0.0350 - accuracy: 0.0029 - val_loss: 0.4219 - val_accuracy: 0.0000e+00\n",
      "Epoch 66/100\n",
      "98/98 [==============================] - 6s 59ms/step - loss: 0.0346 - accuracy: 0.0029 - val_loss: 0.4276 - val_accuracy: 0.0000e+00\n",
      "Epoch 67/100\n",
      "98/98 [==============================] - 6s 59ms/step - loss: 0.0351 - accuracy: 0.0022 - val_loss: 0.4302 - val_accuracy: 0.0000e+00\n",
      "Epoch 68/100\n",
      "98/98 [==============================] - 6s 62ms/step - loss: 0.0304 - accuracy: 0.0029 - val_loss: 0.4341 - val_accuracy: 0.0000e+00\n",
      "Epoch 69/100\n",
      "98/98 [==============================] - 6s 63ms/step - loss: 0.0311 - accuracy: 0.0029 - val_loss: 0.4180 - val_accuracy: 0.0000e+00\n",
      "Epoch 70/100\n",
      "98/98 [==============================] - 6s 60ms/step - loss: 0.0300 - accuracy: 0.0029 - val_loss: 0.4385 - val_accuracy: 0.0000e+00\n",
      "Epoch 71/100\n",
      "98/98 [==============================] - 6s 61ms/step - loss: 0.0297 - accuracy: 0.0022 - val_loss: 0.4209 - val_accuracy: 0.0000e+00\n",
      "Epoch 72/100\n",
      "98/98 [==============================] - 6s 61ms/step - loss: 0.0272 - accuracy: 0.0029 - val_loss: 0.4279 - val_accuracy: 0.0000e+00\n",
      "Epoch 73/100\n",
      "98/98 [==============================] - 6s 61ms/step - loss: 0.0295 - accuracy: 0.0029 - val_loss: 0.4326 - val_accuracy: 0.0000e+00\n",
      "Epoch 74/100\n",
      "98/98 [==============================] - 6s 63ms/step - loss: 0.0251 - accuracy: 0.0029 - val_loss: 0.4342 - val_accuracy: 0.0000e+00\n",
      "Epoch 75/100\n",
      "98/98 [==============================] - 6s 60ms/step - loss: 0.0276 - accuracy: 0.0029 - val_loss: 0.4306 - val_accuracy: 0.0000e+00\n",
      "Epoch 76/100\n",
      "98/98 [==============================] - 6s 60ms/step - loss: 0.0246 - accuracy: 0.0029 - val_loss: 0.4436 - val_accuracy: 0.0000e+00\n",
      "Epoch 77/100\n",
      "98/98 [==============================] - 6s 61ms/step - loss: 0.0255 - accuracy: 0.0029 - val_loss: 0.4468 - val_accuracy: 0.0000e+00\n",
      "Epoch 78/100\n",
      "98/98 [==============================] - 6s 60ms/step - loss: 0.0232 - accuracy: 0.0029 - val_loss: 0.4325 - val_accuracy: 0.0000e+00\n",
      "Epoch 79/100\n",
      "98/98 [==============================] - 6s 65ms/step - loss: 0.0250 - accuracy: 0.0026 - val_loss: 0.4531 - val_accuracy: 0.0000e+00\n",
      "Epoch 80/100\n",
      "98/98 [==============================] - 6s 60ms/step - loss: 0.0245 - accuracy: 0.0026 - val_loss: 0.4659 - val_accuracy: 0.0000e+00\n",
      "Epoch 81/100\n",
      "98/98 [==============================] - 6s 60ms/step - loss: 0.0231 - accuracy: 0.0029 - val_loss: 0.4481 - val_accuracy: 0.0000e+00\n",
      "Epoch 82/100\n",
      "98/98 [==============================] - 6s 60ms/step - loss: 0.0229 - accuracy: 0.0026 - val_loss: 0.4435 - val_accuracy: 0.0000e+00\n",
      "Epoch 83/100\n",
      "98/98 [==============================] - 6s 59ms/step - loss: 0.0222 - accuracy: 0.0029 - val_loss: 0.4499 - val_accuracy: 0.0000e+00\n",
      "Epoch 84/100\n",
      "98/98 [==============================] - 6s 60ms/step - loss: 0.0219 - accuracy: 0.0029 - val_loss: 0.4377 - val_accuracy: 0.0000e+00\n",
      "Epoch 85/100\n",
      "98/98 [==============================] - 6s 66ms/step - loss: 0.0205 - accuracy: 0.0029 - val_loss: 0.4356 - val_accuracy: 0.0000e+00\n",
      "Epoch 86/100\n",
      "98/98 [==============================] - 6s 60ms/step - loss: 0.0213 - accuracy: 0.0026 - val_loss: 0.4367 - val_accuracy: 0.0000e+00\n",
      "Epoch 87/100\n",
      "98/98 [==============================] - 6s 60ms/step - loss: 0.0213 - accuracy: 0.0029 - val_loss: 0.4437 - val_accuracy: 0.0000e+00\n",
      "Epoch 88/100\n",
      "98/98 [==============================] - 6s 59ms/step - loss: 0.0198 - accuracy: 0.0029 - val_loss: 0.4525 - val_accuracy: 0.0000e+00\n",
      "Epoch 89/100\n",
      "98/98 [==============================] - 6s 60ms/step - loss: 0.0214 - accuracy: 0.0029 - val_loss: 0.4559 - val_accuracy: 0.0000e+00\n",
      "Epoch 90/100\n",
      "98/98 [==============================] - 6s 63ms/step - loss: 0.0196 - accuracy: 0.0029 - val_loss: 0.4465 - val_accuracy: 0.0000e+00\n",
      "Epoch 91/100\n",
      "98/98 [==============================] - 6s 62ms/step - loss: 0.0200 - accuracy: 0.0029 - val_loss: 0.4433 - val_accuracy: 0.0000e+00\n",
      "Epoch 92/100\n",
      "98/98 [==============================] - 6s 60ms/step - loss: 0.0201 - accuracy: 0.0029 - val_loss: 0.4392 - val_accuracy: 0.0000e+00\n",
      "Epoch 93/100\n",
      "98/98 [==============================] - 6s 60ms/step - loss: 0.0192 - accuracy: 0.0029 - val_loss: 0.4405 - val_accuracy: 0.0000e+00\n",
      "Epoch 94/100\n",
      "98/98 [==============================] - 6s 60ms/step - loss: 0.0185 - accuracy: 0.0029 - val_loss: 0.4415 - val_accuracy: 0.0000e+00\n",
      "Epoch 95/100\n",
      "98/98 [==============================] - 6s 63ms/step - loss: 0.0187 - accuracy: 0.0029 - val_loss: 0.4331 - val_accuracy: 0.0000e+00\n",
      "Epoch 96/100\n",
      "98/98 [==============================] - 6s 61ms/step - loss: 0.0183 - accuracy: 0.0029 - val_loss: 0.4580 - val_accuracy: 0.0000e+00\n",
      "Epoch 97/100\n",
      "98/98 [==============================] - 6s 62ms/step - loss: 0.0192 - accuracy: 0.0029 - val_loss: 0.4528 - val_accuracy: 0.0000e+00\n",
      "Epoch 98/100\n",
      "98/98 [==============================] - 6s 60ms/step - loss: 0.0184 - accuracy: 0.0029 - val_loss: 0.4380 - val_accuracy: 0.0000e+00\n",
      "Epoch 99/100\n",
      "98/98 [==============================] - 6s 61ms/step - loss: 0.0195 - accuracy: 0.0029 - val_loss: 0.4498 - val_accuracy: 0.0000e+00\n",
      "Epoch 100/100\n",
      "98/98 [==============================] - 6s 61ms/step - loss: 0.0169 - accuracy: 0.0029 - val_loss: 0.4524 - val_accuracy: 0.0000e+00\n"
     ]
    },
    {
     "data": {
      "text/plain": [
       "3"
      ]
     },
     "execution_count": 35,
     "metadata": {},
     "output_type": "execute_result"
    }
   ],
   "source": [
    "lstm_model4 = get_model_lstm()\n",
    "lstm_model4.fit(lstm_embed_train, y4_train, epochs=100,validation_data=(lstm_embed_val,y4_val))\n",
    "lstm_result_4 = lstm_model4.predict(lstm_embed_test_final).flatten()\n",
    "lstm_result_4 = [int(r) for r in lstm_result_4]\n",
    "len(lstm_result_4)"
   ]
  },
  {
   "cell_type": "code",
   "execution_count": 36,
   "id": "a995abb5",
   "metadata": {
    "execution": {
     "iopub.execute_input": "2022-11-24T19:34:06.939605Z",
     "iopub.status.busy": "2022-11-24T19:34:06.939146Z",
     "iopub.status.idle": "2022-11-24T19:44:04.277323Z",
     "shell.execute_reply": "2022-11-24T19:44:04.276060Z"
    },
    "papermill": {
     "duration": 599.920531,
     "end_time": "2022-11-24T19:44:04.279692",
     "exception": false,
     "start_time": "2022-11-24T19:34:04.359161",
     "status": "completed"
    },
    "tags": []
   },
   "outputs": [
    {
     "name": "stdout",
     "output_type": "stream",
     "text": [
      "Model: \"sequential_4\"\n",
      "_________________________________________________________________\n",
      "Layer (type)                 Output Shape              Param #   \n",
      "=================================================================\n",
      "lstm_4 (LSTM)                (None, 1, 128)            11007488  \n",
      "_________________________________________________________________\n",
      "dropout_8 (Dropout)          (None, 1, 128)            0         \n",
      "_________________________________________________________________\n",
      "dense_8 (Dense)              (None, 1, 32)             4128      \n",
      "_________________________________________________________________\n",
      "dropout_9 (Dropout)          (None, 1, 32)             0         \n",
      "_________________________________________________________________\n",
      "dense_9 (Dense)              (None, 1, 1)              33        \n",
      "=================================================================\n",
      "Total params: 11,011,649\n",
      "Trainable params: 11,011,649\n",
      "Non-trainable params: 0\n",
      "_________________________________________________________________\n",
      "Epoch 1/100\n",
      "98/98 [==============================] - 9s 66ms/step - loss: 1.5716 - accuracy: 0.0019 - val_loss: 0.4772 - val_accuracy: 0.0000e+00\n",
      "Epoch 2/100\n",
      "98/98 [==============================] - 6s 60ms/step - loss: 0.6152 - accuracy: 0.0022 - val_loss: 0.3952 - val_accuracy: 0.0000e+00\n",
      "Epoch 3/100\n",
      "98/98 [==============================] - 6s 60ms/step - loss: 0.4960 - accuracy: 0.0022 - val_loss: 0.3770 - val_accuracy: 0.0000e+00\n",
      "Epoch 4/100\n",
      "98/98 [==============================] - 6s 62ms/step - loss: 0.4518 - accuracy: 0.0022 - val_loss: 0.3799 - val_accuracy: 0.0000e+00\n",
      "Epoch 5/100\n",
      "98/98 [==============================] - 6s 63ms/step - loss: 0.4201 - accuracy: 0.0022 - val_loss: 0.3947 - val_accuracy: 0.0000e+00\n",
      "Epoch 6/100\n",
      "98/98 [==============================] - 6s 60ms/step - loss: 0.3857 - accuracy: 0.0022 - val_loss: 0.3926 - val_accuracy: 0.0000e+00\n",
      "Epoch 7/100\n",
      "98/98 [==============================] - 6s 59ms/step - loss: 0.3432 - accuracy: 0.0022 - val_loss: 0.4173 - val_accuracy: 0.0000e+00\n",
      "Epoch 8/100\n",
      "98/98 [==============================] - 6s 59ms/step - loss: 0.3241 - accuracy: 0.0022 - val_loss: 0.4131 - val_accuracy: 0.0000e+00\n",
      "Epoch 9/100\n",
      "98/98 [==============================] - 6s 59ms/step - loss: 0.3108 - accuracy: 0.0022 - val_loss: 0.4080 - val_accuracy: 0.0000e+00\n",
      "Epoch 10/100\n",
      "98/98 [==============================] - 6s 62ms/step - loss: 0.2954 - accuracy: 0.0022 - val_loss: 0.4324 - val_accuracy: 0.0000e+00\n",
      "Epoch 11/100\n",
      "98/98 [==============================] - 6s 63ms/step - loss: 0.2673 - accuracy: 0.0022 - val_loss: 0.4493 - val_accuracy: 0.0000e+00\n",
      "Epoch 12/100\n",
      "98/98 [==============================] - 6s 60ms/step - loss: 0.2656 - accuracy: 0.0022 - val_loss: 0.4401 - val_accuracy: 0.0000e+00\n",
      "Epoch 13/100\n",
      "98/98 [==============================] - 6s 59ms/step - loss: 0.2541 - accuracy: 0.0022 - val_loss: 0.4407 - val_accuracy: 0.0000e+00\n",
      "Epoch 14/100\n",
      "98/98 [==============================] - 6s 59ms/step - loss: 0.2362 - accuracy: 0.0022 - val_loss: 0.4441 - val_accuracy: 0.0000e+00\n",
      "Epoch 15/100\n",
      "98/98 [==============================] - 6s 62ms/step - loss: 0.2339 - accuracy: 0.0022 - val_loss: 0.4566 - val_accuracy: 0.0000e+00\n",
      "Epoch 16/100\n",
      "98/98 [==============================] - 6s 59ms/step - loss: 0.2303 - accuracy: 0.0022 - val_loss: 0.4796 - val_accuracy: 0.0000e+00\n",
      "Epoch 17/100\n",
      "98/98 [==============================] - 6s 63ms/step - loss: 0.2143 - accuracy: 0.0022 - val_loss: 0.4615 - val_accuracy: 0.0000e+00\n",
      "Epoch 18/100\n",
      "98/98 [==============================] - 6s 59ms/step - loss: 0.2099 - accuracy: 0.0022 - val_loss: 0.4660 - val_accuracy: 0.0000e+00\n",
      "Epoch 19/100\n",
      "98/98 [==============================] - 6s 60ms/step - loss: 0.1944 - accuracy: 0.0022 - val_loss: 0.4696 - val_accuracy: 0.0000e+00\n",
      "Epoch 20/100\n",
      "98/98 [==============================] - 6s 62ms/step - loss: 0.1858 - accuracy: 0.0022 - val_loss: 0.4809 - val_accuracy: 0.0000e+00\n",
      "Epoch 21/100\n",
      "98/98 [==============================] - 6s 60ms/step - loss: 0.1795 - accuracy: 0.0022 - val_loss: 0.4875 - val_accuracy: 0.0000e+00\n",
      "Epoch 22/100\n",
      "98/98 [==============================] - 6s 59ms/step - loss: 0.1786 - accuracy: 0.0022 - val_loss: 0.4898 - val_accuracy: 0.0000e+00\n",
      "Epoch 23/100\n",
      "98/98 [==============================] - 6s 63ms/step - loss: 0.1687 - accuracy: 0.0022 - val_loss: 0.5147 - val_accuracy: 0.0000e+00\n",
      "Epoch 24/100\n",
      "98/98 [==============================] - 6s 59ms/step - loss: 0.1620 - accuracy: 0.0022 - val_loss: 0.4962 - val_accuracy: 0.0000e+00\n",
      "Epoch 25/100\n",
      "98/98 [==============================] - 6s 59ms/step - loss: 0.1589 - accuracy: 0.0022 - val_loss: 0.4963 - val_accuracy: 0.0000e+00\n",
      "Epoch 26/100\n",
      "98/98 [==============================] - 6s 64ms/step - loss: 0.1546 - accuracy: 0.0022 - val_loss: 0.4928 - val_accuracy: 0.0000e+00\n",
      "Epoch 27/100\n",
      "98/98 [==============================] - 6s 59ms/step - loss: 0.1511 - accuracy: 0.0022 - val_loss: 0.5016 - val_accuracy: 0.0000e+00\n",
      "Epoch 28/100\n",
      "98/98 [==============================] - 6s 61ms/step - loss: 0.1411 - accuracy: 0.0022 - val_loss: 0.5006 - val_accuracy: 0.0000e+00\n",
      "Epoch 29/100\n",
      "98/98 [==============================] - 6s 62ms/step - loss: 0.1358 - accuracy: 0.0022 - val_loss: 0.5193 - val_accuracy: 0.0000e+00\n",
      "Epoch 30/100\n",
      "98/98 [==============================] - 6s 60ms/step - loss: 0.1358 - accuracy: 0.0019 - val_loss: 0.5160 - val_accuracy: 0.0000e+00\n",
      "Epoch 31/100\n",
      "98/98 [==============================] - 6s 62ms/step - loss: 0.1223 - accuracy: 0.0022 - val_loss: 0.5222 - val_accuracy: 0.0000e+00\n",
      "Epoch 32/100\n",
      "98/98 [==============================] - 6s 59ms/step - loss: 0.1207 - accuracy: 0.0022 - val_loss: 0.5025 - val_accuracy: 0.0000e+00\n",
      "Epoch 33/100\n",
      "98/98 [==============================] - 6s 59ms/step - loss: 0.1165 - accuracy: 0.0022 - val_loss: 0.5134 - val_accuracy: 0.0000e+00\n",
      "Epoch 34/100\n",
      "98/98 [==============================] - 6s 61ms/step - loss: 0.1120 - accuracy: 0.0022 - val_loss: 0.5195 - val_accuracy: 0.0000e+00\n",
      "Epoch 35/100\n",
      "98/98 [==============================] - 6s 61ms/step - loss: 0.1135 - accuracy: 0.0022 - val_loss: 0.5244 - val_accuracy: 0.0000e+00\n",
      "Epoch 36/100\n",
      "98/98 [==============================] - 6s 59ms/step - loss: 0.1007 - accuracy: 0.0022 - val_loss: 0.5214 - val_accuracy: 0.0000e+00\n",
      "Epoch 37/100\n",
      "98/98 [==============================] - 6s 62ms/step - loss: 0.1041 - accuracy: 0.0022 - val_loss: 0.5366 - val_accuracy: 0.0000e+00\n",
      "Epoch 38/100\n",
      "98/98 [==============================] - 6s 60ms/step - loss: 0.0898 - accuracy: 0.0022 - val_loss: 0.5403 - val_accuracy: 0.0000e+00\n",
      "Epoch 39/100\n",
      "98/98 [==============================] - 6s 59ms/step - loss: 0.0947 - accuracy: 0.0022 - val_loss: 0.5302 - val_accuracy: 0.0000e+00\n",
      "Epoch 40/100\n",
      "98/98 [==============================] - 6s 61ms/step - loss: 0.0892 - accuracy: 0.0022 - val_loss: 0.5273 - val_accuracy: 0.0000e+00\n",
      "Epoch 41/100\n",
      "98/98 [==============================] - 6s 61ms/step - loss: 0.0881 - accuracy: 0.0022 - val_loss: 0.5546 - val_accuracy: 0.0000e+00\n",
      "Epoch 42/100\n",
      "98/98 [==============================] - 6s 62ms/step - loss: 0.0862 - accuracy: 0.0022 - val_loss: 0.5393 - val_accuracy: 0.0000e+00\n",
      "Epoch 43/100\n",
      "98/98 [==============================] - 6s 59ms/step - loss: 0.0812 - accuracy: 0.0022 - val_loss: 0.5344 - val_accuracy: 0.0000e+00\n",
      "Epoch 44/100\n",
      "98/98 [==============================] - 6s 59ms/step - loss: 0.0805 - accuracy: 0.0022 - val_loss: 0.5636 - val_accuracy: 0.0000e+00\n",
      "Epoch 45/100\n",
      "98/98 [==============================] - 6s 60ms/step - loss: 0.0778 - accuracy: 0.0022 - val_loss: 0.5500 - val_accuracy: 0.0000e+00\n",
      "Epoch 46/100\n",
      "98/98 [==============================] - 6s 61ms/step - loss: 0.0724 - accuracy: 0.0022 - val_loss: 0.5543 - val_accuracy: 0.0000e+00\n",
      "Epoch 47/100\n",
      "98/98 [==============================] - 6s 63ms/step - loss: 0.0684 - accuracy: 0.0022 - val_loss: 0.5463 - val_accuracy: 0.0000e+00\n",
      "Epoch 48/100\n",
      "98/98 [==============================] - 6s 59ms/step - loss: 0.0685 - accuracy: 0.0022 - val_loss: 0.5429 - val_accuracy: 0.0000e+00\n",
      "Epoch 49/100\n",
      "98/98 [==============================] - 6s 59ms/step - loss: 0.0628 - accuracy: 0.0022 - val_loss: 0.5425 - val_accuracy: 0.0000e+00\n",
      "Epoch 50/100\n",
      "98/98 [==============================] - 6s 59ms/step - loss: 0.0630 - accuracy: 0.0022 - val_loss: 0.5697 - val_accuracy: 0.0000e+00\n",
      "Epoch 51/100\n",
      "98/98 [==============================] - 6s 60ms/step - loss: 0.0614 - accuracy: 0.0022 - val_loss: 0.5492 - val_accuracy: 0.0000e+00\n",
      "Epoch 52/100\n",
      "98/98 [==============================] - 6s 62ms/step - loss: 0.0595 - accuracy: 0.0022 - val_loss: 0.5626 - val_accuracy: 0.0000e+00\n",
      "Epoch 53/100\n",
      "98/98 [==============================] - 6s 63ms/step - loss: 0.0554 - accuracy: 0.0022 - val_loss: 0.5819 - val_accuracy: 0.0000e+00\n",
      "Epoch 54/100\n",
      "98/98 [==============================] - 6s 59ms/step - loss: 0.0552 - accuracy: 0.0022 - val_loss: 0.5677 - val_accuracy: 0.0000e+00\n",
      "Epoch 55/100\n",
      "98/98 [==============================] - 6s 59ms/step - loss: 0.0527 - accuracy: 0.0022 - val_loss: 0.5704 - val_accuracy: 0.0000e+00\n",
      "Epoch 56/100\n",
      "98/98 [==============================] - 6s 61ms/step - loss: 0.0522 - accuracy: 0.0022 - val_loss: 0.5379 - val_accuracy: 0.0000e+00\n",
      "Epoch 57/100\n",
      "98/98 [==============================] - 6s 59ms/step - loss: 0.0480 - accuracy: 0.0022 - val_loss: 0.5717 - val_accuracy: 0.0000e+00\n",
      "Epoch 58/100\n",
      "98/98 [==============================] - 7s 67ms/step - loss: 0.0480 - accuracy: 0.0022 - val_loss: 0.5503 - val_accuracy: 0.0000e+00\n",
      "Epoch 59/100\n",
      "98/98 [==============================] - 6s 59ms/step - loss: 0.0454 - accuracy: 0.0022 - val_loss: 0.5710 - val_accuracy: 0.0000e+00\n",
      "Epoch 60/100\n",
      "98/98 [==============================] - 6s 60ms/step - loss: 0.0464 - accuracy: 0.0022 - val_loss: 0.5631 - val_accuracy: 0.0000e+00\n",
      "Epoch 61/100\n",
      "98/98 [==============================] - 6s 59ms/step - loss: 0.0452 - accuracy: 0.0022 - val_loss: 0.5932 - val_accuracy: 0.0000e+00\n",
      "Epoch 62/100\n",
      "98/98 [==============================] - 6s 59ms/step - loss: 0.0416 - accuracy: 0.0022 - val_loss: 0.5699 - val_accuracy: 0.0000e+00\n",
      "Epoch 63/100\n",
      "98/98 [==============================] - 6s 60ms/step - loss: 0.0388 - accuracy: 0.0022 - val_loss: 0.5538 - val_accuracy: 0.0000e+00\n",
      "Epoch 64/100\n",
      "98/98 [==============================] - 6s 64ms/step - loss: 0.0420 - accuracy: 0.0022 - val_loss: 0.5763 - val_accuracy: 0.0000e+00\n",
      "Epoch 65/100\n",
      "98/98 [==============================] - 6s 59ms/step - loss: 0.0404 - accuracy: 0.0019 - val_loss: 0.5873 - val_accuracy: 0.0000e+00\n",
      "Epoch 66/100\n",
      "98/98 [==============================] - 6s 59ms/step - loss: 0.0376 - accuracy: 0.0022 - val_loss: 0.5762 - val_accuracy: 0.0000e+00\n",
      "Epoch 67/100\n",
      "98/98 [==============================] - 6s 60ms/step - loss: 0.0368 - accuracy: 0.0022 - val_loss: 0.5646 - val_accuracy: 0.0000e+00\n",
      "Epoch 68/100\n",
      "98/98 [==============================] - 6s 60ms/step - loss: 0.0355 - accuracy: 0.0022 - val_loss: 0.5919 - val_accuracy: 0.0000e+00\n",
      "Epoch 69/100\n",
      "98/98 [==============================] - 6s 63ms/step - loss: 0.0353 - accuracy: 0.0016 - val_loss: 0.5804 - val_accuracy: 0.0000e+00\n",
      "Epoch 70/100\n",
      "98/98 [==============================] - 6s 64ms/step - loss: 0.0338 - accuracy: 0.0022 - val_loss: 0.5857 - val_accuracy: 0.0000e+00\n",
      "Epoch 71/100\n",
      "98/98 [==============================] - 6s 59ms/step - loss: 0.0333 - accuracy: 0.0022 - val_loss: 0.5842 - val_accuracy: 0.0000e+00\n",
      "Epoch 72/100\n",
      "98/98 [==============================] - 6s 59ms/step - loss: 0.0358 - accuracy: 0.0022 - val_loss: 0.5677 - val_accuracy: 0.0000e+00\n",
      "Epoch 73/100\n",
      "98/98 [==============================] - 6s 60ms/step - loss: 0.0322 - accuracy: 0.0022 - val_loss: 0.5829 - val_accuracy: 0.0000e+00\n",
      "Epoch 74/100\n",
      "98/98 [==============================] - 6s 62ms/step - loss: 0.0295 - accuracy: 0.0022 - val_loss: 0.5798 - val_accuracy: 0.0000e+00\n",
      "Epoch 75/100\n",
      "98/98 [==============================] - 6s 60ms/step - loss: 0.0295 - accuracy: 0.0022 - val_loss: 0.5824 - val_accuracy: 0.0000e+00\n",
      "Epoch 76/100\n",
      "98/98 [==============================] - 6s 63ms/step - loss: 0.0293 - accuracy: 0.0022 - val_loss: 0.5802 - val_accuracy: 0.0000e+00\n",
      "Epoch 77/100\n",
      "98/98 [==============================] - 6s 60ms/step - loss: 0.0277 - accuracy: 0.0022 - val_loss: 0.5670 - val_accuracy: 0.0000e+00\n",
      "Epoch 78/100\n",
      "98/98 [==============================] - 6s 59ms/step - loss: 0.0296 - accuracy: 0.0022 - val_loss: 0.5814 - val_accuracy: 0.0000e+00\n",
      "Epoch 79/100\n",
      "98/98 [==============================] - 6s 60ms/step - loss: 0.0273 - accuracy: 0.0022 - val_loss: 0.5735 - val_accuracy: 0.0000e+00\n",
      "Epoch 80/100\n",
      "98/98 [==============================] - 6s 62ms/step - loss: 0.0273 - accuracy: 0.0022 - val_loss: 0.5727 - val_accuracy: 0.0000e+00\n",
      "Epoch 81/100\n",
      "98/98 [==============================] - 6s 59ms/step - loss: 0.0268 - accuracy: 0.0022 - val_loss: 0.5705 - val_accuracy: 0.0000e+00\n",
      "Epoch 82/100\n",
      "98/98 [==============================] - 6s 64ms/step - loss: 0.0258 - accuracy: 0.0022 - val_loss: 0.5740 - val_accuracy: 0.0000e+00\n",
      "Epoch 83/100\n",
      "98/98 [==============================] - 6s 59ms/step - loss: 0.0263 - accuracy: 0.0022 - val_loss: 0.5696 - val_accuracy: 0.0000e+00\n",
      "Epoch 84/100\n",
      "98/98 [==============================] - 6s 59ms/step - loss: 0.0270 - accuracy: 0.0019 - val_loss: 0.5697 - val_accuracy: 0.0000e+00\n",
      "Epoch 85/100\n",
      "98/98 [==============================] - 6s 63ms/step - loss: 0.0266 - accuracy: 0.0022 - val_loss: 0.5706 - val_accuracy: 0.0000e+00\n",
      "Epoch 86/100\n",
      "98/98 [==============================] - 6s 60ms/step - loss: 0.0254 - accuracy: 0.0022 - val_loss: 0.5753 - val_accuracy: 0.0000e+00\n",
      "Epoch 87/100\n",
      "98/98 [==============================] - 6s 59ms/step - loss: 0.0247 - accuracy: 0.0022 - val_loss: 0.5852 - val_accuracy: 0.0000e+00\n",
      "Epoch 88/100\n",
      "98/98 [==============================] - 6s 63ms/step - loss: 0.0240 - accuracy: 0.0022 - val_loss: 0.5676 - val_accuracy: 0.0000e+00\n",
      "Epoch 89/100\n",
      "98/98 [==============================] - 6s 59ms/step - loss: 0.0228 - accuracy: 0.0019 - val_loss: 0.5811 - val_accuracy: 0.0000e+00\n",
      "Epoch 90/100\n",
      "98/98 [==============================] - 6s 62ms/step - loss: 0.0236 - accuracy: 0.0022 - val_loss: 0.5802 - val_accuracy: 0.0000e+00\n",
      "Epoch 91/100\n",
      "98/98 [==============================] - 6s 59ms/step - loss: 0.0235 - accuracy: 0.0022 - val_loss: 0.5724 - val_accuracy: 0.0000e+00\n",
      "Epoch 92/100\n",
      "98/98 [==============================] - 6s 59ms/step - loss: 0.0236 - accuracy: 0.0022 - val_loss: 0.5872 - val_accuracy: 0.0000e+00\n",
      "Epoch 93/100\n",
      "98/98 [==============================] - 6s 60ms/step - loss: 0.0227 - accuracy: 0.0022 - val_loss: 0.5707 - val_accuracy: 0.0000e+00\n",
      "Epoch 94/100\n",
      "98/98 [==============================] - 6s 63ms/step - loss: 0.0220 - accuracy: 0.0022 - val_loss: 0.5750 - val_accuracy: 0.0000e+00\n",
      "Epoch 95/100\n",
      "98/98 [==============================] - 6s 60ms/step - loss: 0.0233 - accuracy: 0.0022 - val_loss: 0.5565 - val_accuracy: 0.0000e+00\n",
      "Epoch 96/100\n",
      "98/98 [==============================] - 6s 61ms/step - loss: 0.0221 - accuracy: 0.0019 - val_loss: 0.5755 - val_accuracy: 0.0000e+00\n",
      "Epoch 97/100\n",
      "98/98 [==============================] - 6s 59ms/step - loss: 0.0202 - accuracy: 0.0022 - val_loss: 0.5658 - val_accuracy: 0.0000e+00\n",
      "Epoch 98/100\n",
      "98/98 [==============================] - 6s 59ms/step - loss: 0.0221 - accuracy: 0.0022 - val_loss: 0.5902 - val_accuracy: 0.0000e+00\n",
      "Epoch 99/100\n",
      "98/98 [==============================] - 6s 59ms/step - loss: 0.0198 - accuracy: 0.0022 - val_loss: 0.5832 - val_accuracy: 0.0000e+00\n",
      "Epoch 100/100\n",
      "98/98 [==============================] - 6s 63ms/step - loss: 0.0213 - accuracy: 0.0022 - val_loss: 0.5731 - val_accuracy: 0.0000e+00\n"
     ]
    },
    {
     "data": {
      "text/plain": [
       "3"
      ]
     },
     "execution_count": 36,
     "metadata": {},
     "output_type": "execute_result"
    }
   ],
   "source": [
    "lstm_model5 = get_model_lstm()\n",
    "lstm_model5.fit(lstm_embed_train, y5_train, epochs=100,validation_data=(lstm_embed_val,y5_val))\n",
    "lstm_result_5 = lstm_model5.predict(lstm_embed_test_final).flatten()\n",
    "lstm_result_5 = [int(r) for r in lstm_result_5]\n",
    "len(lstm_result_5)"
   ]
  },
  {
   "cell_type": "code",
   "execution_count": 37,
   "id": "77e6c444",
   "metadata": {
    "execution": {
     "iopub.execute_input": "2022-11-24T19:44:10.805807Z",
     "iopub.status.busy": "2022-11-24T19:44:10.805397Z",
     "iopub.status.idle": "2022-11-24T19:54:03.173220Z",
     "shell.execute_reply": "2022-11-24T19:54:03.172270Z"
    },
    "papermill": {
     "duration": 595.558339,
     "end_time": "2022-11-24T19:54:03.175849",
     "exception": false,
     "start_time": "2022-11-24T19:44:07.617510",
     "status": "completed"
    },
    "tags": []
   },
   "outputs": [
    {
     "name": "stdout",
     "output_type": "stream",
     "text": [
      "Model: \"sequential_5\"\n",
      "_________________________________________________________________\n",
      "Layer (type)                 Output Shape              Param #   \n",
      "=================================================================\n",
      "lstm_5 (LSTM)                (None, 1, 128)            11007488  \n",
      "_________________________________________________________________\n",
      "dropout_10 (Dropout)         (None, 1, 128)            0         \n",
      "_________________________________________________________________\n",
      "dense_10 (Dense)             (None, 1, 32)             4128      \n",
      "_________________________________________________________________\n",
      "dropout_11 (Dropout)         (None, 1, 32)             0         \n",
      "_________________________________________________________________\n",
      "dense_11 (Dense)             (None, 1, 1)              33        \n",
      "=================================================================\n",
      "Total params: 11,011,649\n",
      "Trainable params: 11,011,649\n",
      "Non-trainable params: 0\n",
      "_________________________________________________________________\n",
      "Epoch 1/100\n",
      "98/98 [==============================] - 9s 65ms/step - loss: 1.6264 - accuracy: 0.0038 - val_loss: 0.4015 - val_accuracy: 0.0051\n",
      "Epoch 2/100\n",
      "98/98 [==============================] - 6s 59ms/step - loss: 0.5946 - accuracy: 0.0042 - val_loss: 0.3375 - val_accuracy: 0.0051\n",
      "Epoch 3/100\n",
      "98/98 [==============================] - 6s 59ms/step - loss: 0.4955 - accuracy: 0.0042 - val_loss: 0.3244 - val_accuracy: 0.0051\n",
      "Epoch 4/100\n",
      "98/98 [==============================] - 6s 59ms/step - loss: 0.4513 - accuracy: 0.0042 - val_loss: 0.3500 - val_accuracy: 0.0051\n",
      "Epoch 5/100\n",
      "98/98 [==============================] - 6s 63ms/step - loss: 0.4131 - accuracy: 0.0042 - val_loss: 0.3125 - val_accuracy: 0.0051\n",
      "Epoch 6/100\n",
      "98/98 [==============================] - 6s 61ms/step - loss: 0.3654 - accuracy: 0.0042 - val_loss: 0.3424 - val_accuracy: 0.0051\n",
      "Epoch 7/100\n",
      "98/98 [==============================] - 6s 59ms/step - loss: 0.3492 - accuracy: 0.0042 - val_loss: 0.3427 - val_accuracy: 0.0051\n",
      "Epoch 8/100\n",
      "98/98 [==============================] - 6s 59ms/step - loss: 0.3329 - accuracy: 0.0042 - val_loss: 0.3392 - val_accuracy: 0.0051\n",
      "Epoch 9/100\n",
      "98/98 [==============================] - 6s 59ms/step - loss: 0.3110 - accuracy: 0.0042 - val_loss: 0.3590 - val_accuracy: 0.0051\n",
      "Epoch 10/100\n",
      "98/98 [==============================] - 6s 62ms/step - loss: 0.3039 - accuracy: 0.0042 - val_loss: 0.3686 - val_accuracy: 0.0051\n",
      "Epoch 11/100\n",
      "98/98 [==============================] - 6s 61ms/step - loss: 0.2858 - accuracy: 0.0042 - val_loss: 0.3719 - val_accuracy: 0.0051\n",
      "Epoch 12/100\n",
      "98/98 [==============================] - 6s 61ms/step - loss: 0.2710 - accuracy: 0.0042 - val_loss: 0.3666 - val_accuracy: 0.0051\n",
      "Epoch 13/100\n",
      "98/98 [==============================] - 6s 59ms/step - loss: 0.2425 - accuracy: 0.0042 - val_loss: 0.3739 - val_accuracy: 0.0051\n",
      "Epoch 14/100\n",
      "98/98 [==============================] - 6s 60ms/step - loss: 0.2474 - accuracy: 0.0042 - val_loss: 0.3822 - val_accuracy: 0.0051\n",
      "Epoch 15/100\n",
      "98/98 [==============================] - 6s 62ms/step - loss: 0.2279 - accuracy: 0.0042 - val_loss: 0.4002 - val_accuracy: 0.0051\n",
      "Epoch 16/100\n",
      "98/98 [==============================] - 6s 60ms/step - loss: 0.2254 - accuracy: 0.0042 - val_loss: 0.4083 - val_accuracy: 0.0051\n",
      "Epoch 17/100\n",
      "98/98 [==============================] - 6s 62ms/step - loss: 0.2157 - accuracy: 0.0042 - val_loss: 0.3889 - val_accuracy: 0.0051\n",
      "Epoch 18/100\n",
      "98/98 [==============================] - 6s 62ms/step - loss: 0.2092 - accuracy: 0.0042 - val_loss: 0.4152 - val_accuracy: 0.0051\n",
      "Epoch 19/100\n",
      "98/98 [==============================] - 6s 60ms/step - loss: 0.1963 - accuracy: 0.0042 - val_loss: 0.4176 - val_accuracy: 0.0051\n",
      "Epoch 20/100\n",
      "98/98 [==============================] - 6s 60ms/step - loss: 0.1966 - accuracy: 0.0042 - val_loss: 0.4205 - val_accuracy: 0.0051\n",
      "Epoch 21/100\n",
      "98/98 [==============================] - 6s 63ms/step - loss: 0.1812 - accuracy: 0.0042 - val_loss: 0.4461 - val_accuracy: 0.0051\n",
      "Epoch 22/100\n",
      "98/98 [==============================] - 6s 60ms/step - loss: 0.1780 - accuracy: 0.0042 - val_loss: 0.4407 - val_accuracy: 0.0051\n",
      "Epoch 23/100\n",
      "98/98 [==============================] - 6s 61ms/step - loss: 0.1720 - accuracy: 0.0042 - val_loss: 0.4278 - val_accuracy: 0.0051\n",
      "Epoch 24/100\n",
      "98/98 [==============================] - 6s 61ms/step - loss: 0.1611 - accuracy: 0.0042 - val_loss: 0.4252 - val_accuracy: 0.0051\n",
      "Epoch 25/100\n",
      "98/98 [==============================] - 6s 59ms/step - loss: 0.1602 - accuracy: 0.0042 - val_loss: 0.4312 - val_accuracy: 0.0051\n",
      "Epoch 26/100\n",
      "98/98 [==============================] - 6s 63ms/step - loss: 0.1540 - accuracy: 0.0042 - val_loss: 0.4506 - val_accuracy: 0.0051\n",
      "Epoch 27/100\n",
      "98/98 [==============================] - 6s 59ms/step - loss: 0.1460 - accuracy: 0.0042 - val_loss: 0.4486 - val_accuracy: 0.0051\n",
      "Epoch 28/100\n",
      "98/98 [==============================] - 6s 58ms/step - loss: 0.1455 - accuracy: 0.0042 - val_loss: 0.4571 - val_accuracy: 0.0051\n",
      "Epoch 29/100\n",
      "98/98 [==============================] - 6s 60ms/step - loss: 0.1398 - accuracy: 0.0042 - val_loss: 0.4597 - val_accuracy: 0.0051\n",
      "Epoch 30/100\n",
      "98/98 [==============================] - 6s 61ms/step - loss: 0.1278 - accuracy: 0.0042 - val_loss: 0.4503 - val_accuracy: 0.0051\n",
      "Epoch 31/100\n",
      "98/98 [==============================] - 6s 61ms/step - loss: 0.1292 - accuracy: 0.0042 - val_loss: 0.4458 - val_accuracy: 0.0051\n",
      "Epoch 32/100\n",
      "98/98 [==============================] - 6s 59ms/step - loss: 0.1297 - accuracy: 0.0042 - val_loss: 0.4557 - val_accuracy: 0.0051\n",
      "Epoch 33/100\n",
      "98/98 [==============================] - 6s 59ms/step - loss: 0.1210 - accuracy: 0.0042 - val_loss: 0.4521 - val_accuracy: 0.0051\n",
      "Epoch 34/100\n",
      "98/98 [==============================] - 6s 59ms/step - loss: 0.1154 - accuracy: 0.0042 - val_loss: 0.4733 - val_accuracy: 0.0051\n",
      "Epoch 35/100\n",
      "98/98 [==============================] - 6s 59ms/step - loss: 0.1122 - accuracy: 0.0042 - val_loss: 0.4574 - val_accuracy: 0.0051\n",
      "Epoch 36/100\n",
      "98/98 [==============================] - 6s 62ms/step - loss: 0.1076 - accuracy: 0.0042 - val_loss: 0.4535 - val_accuracy: 0.0051\n",
      "Epoch 37/100\n",
      "98/98 [==============================] - 6s 61ms/step - loss: 0.1035 - accuracy: 0.0042 - val_loss: 0.4566 - val_accuracy: 0.0051\n",
      "Epoch 38/100\n",
      "98/98 [==============================] - 6s 59ms/step - loss: 0.1027 - accuracy: 0.0042 - val_loss: 0.4627 - val_accuracy: 0.0051\n",
      "Epoch 39/100\n",
      "98/98 [==============================] - 6s 59ms/step - loss: 0.0949 - accuracy: 0.0042 - val_loss: 0.4592 - val_accuracy: 0.0051\n",
      "Epoch 40/100\n",
      "98/98 [==============================] - 6s 59ms/step - loss: 0.0943 - accuracy: 0.0042 - val_loss: 0.4793 - val_accuracy: 0.0051\n",
      "Epoch 41/100\n",
      "98/98 [==============================] - 6s 59ms/step - loss: 0.0893 - accuracy: 0.0042 - val_loss: 0.4985 - val_accuracy: 0.0051\n",
      "Epoch 42/100\n",
      "98/98 [==============================] - 7s 67ms/step - loss: 0.0850 - accuracy: 0.0042 - val_loss: 0.4893 - val_accuracy: 0.0051\n",
      "Epoch 43/100\n",
      "98/98 [==============================] - 6s 59ms/step - loss: 0.0842 - accuracy: 0.0042 - val_loss: 0.4729 - val_accuracy: 0.0051\n",
      "Epoch 44/100\n",
      "98/98 [==============================] - 6s 58ms/step - loss: 0.0783 - accuracy: 0.0042 - val_loss: 0.4678 - val_accuracy: 0.0051\n",
      "Epoch 45/100\n",
      "98/98 [==============================] - 6s 58ms/step - loss: 0.0761 - accuracy: 0.0042 - val_loss: 0.4668 - val_accuracy: 0.0051\n",
      "Epoch 46/100\n",
      "98/98 [==============================] - 6s 59ms/step - loss: 0.0748 - accuracy: 0.0042 - val_loss: 0.4773 - val_accuracy: 0.0051\n",
      "Epoch 47/100\n",
      "98/98 [==============================] - 6s 59ms/step - loss: 0.0714 - accuracy: 0.0042 - val_loss: 0.5014 - val_accuracy: 0.0051\n",
      "Epoch 48/100\n",
      "98/98 [==============================] - 7s 67ms/step - loss: 0.0654 - accuracy: 0.0038 - val_loss: 0.4866 - val_accuracy: 0.0051\n",
      "Epoch 49/100\n",
      "98/98 [==============================] - 6s 58ms/step - loss: 0.0668 - accuracy: 0.0038 - val_loss: 0.5133 - val_accuracy: 0.0051\n",
      "Epoch 50/100\n",
      "98/98 [==============================] - 6s 58ms/step - loss: 0.0605 - accuracy: 0.0035 - val_loss: 0.5218 - val_accuracy: 0.0051\n",
      "Epoch 51/100\n",
      "98/98 [==============================] - 6s 59ms/step - loss: 0.0598 - accuracy: 0.0042 - val_loss: 0.4852 - val_accuracy: 0.0051\n",
      "Epoch 52/100\n",
      "98/98 [==============================] - 6s 58ms/step - loss: 0.0613 - accuracy: 0.0042 - val_loss: 0.4974 - val_accuracy: 0.0051\n",
      "Epoch 53/100\n",
      "98/98 [==============================] - 6s 62ms/step - loss: 0.0540 - accuracy: 0.0042 - val_loss: 0.5144 - val_accuracy: 0.0051\n",
      "Epoch 54/100\n",
      "98/98 [==============================] - 6s 62ms/step - loss: 0.0546 - accuracy: 0.0042 - val_loss: 0.4943 - val_accuracy: 0.0051\n",
      "Epoch 55/100\n",
      "98/98 [==============================] - 6s 59ms/step - loss: 0.0513 - accuracy: 0.0042 - val_loss: 0.4934 - val_accuracy: 0.0051\n",
      "Epoch 56/100\n",
      "98/98 [==============================] - 6s 58ms/step - loss: 0.0528 - accuracy: 0.0042 - val_loss: 0.5126 - val_accuracy: 0.0051\n",
      "Epoch 57/100\n",
      "98/98 [==============================] - 6s 58ms/step - loss: 0.0471 - accuracy: 0.0038 - val_loss: 0.5342 - val_accuracy: 0.0051\n",
      "Epoch 58/100\n",
      "98/98 [==============================] - 6s 60ms/step - loss: 0.0471 - accuracy: 0.0038 - val_loss: 0.4965 - val_accuracy: 0.0051\n",
      "Epoch 59/100\n",
      "98/98 [==============================] - 6s 60ms/step - loss: 0.0455 - accuracy: 0.0038 - val_loss: 0.4990 - val_accuracy: 0.0051\n",
      "Epoch 60/100\n",
      "98/98 [==============================] - 6s 62ms/step - loss: 0.0443 - accuracy: 0.0042 - val_loss: 0.5175 - val_accuracy: 0.0051\n",
      "Epoch 61/100\n",
      "98/98 [==============================] - 6s 60ms/step - loss: 0.0422 - accuracy: 0.0042 - val_loss: 0.5009 - val_accuracy: 0.0051\n",
      "Epoch 62/100\n",
      "98/98 [==============================] - 6s 59ms/step - loss: 0.0429 - accuracy: 0.0042 - val_loss: 0.4958 - val_accuracy: 0.0051\n",
      "Epoch 63/100\n",
      "98/98 [==============================] - 6s 58ms/step - loss: 0.0392 - accuracy: 0.0042 - val_loss: 0.5320 - val_accuracy: 0.0051\n",
      "Epoch 64/100\n",
      "98/98 [==============================] - 6s 62ms/step - loss: 0.0389 - accuracy: 0.0042 - val_loss: 0.4774 - val_accuracy: 0.0051\n",
      "Epoch 65/100\n",
      "98/98 [==============================] - 6s 59ms/step - loss: 0.0378 - accuracy: 0.0038 - val_loss: 0.4895 - val_accuracy: 0.0051\n",
      "Epoch 66/100\n",
      "98/98 [==============================] - 6s 62ms/step - loss: 0.0364 - accuracy: 0.0042 - val_loss: 0.5278 - val_accuracy: 0.0051\n",
      "Epoch 67/100\n",
      "98/98 [==============================] - 6s 60ms/step - loss: 0.0368 - accuracy: 0.0042 - val_loss: 0.4903 - val_accuracy: 0.0051\n",
      "Epoch 68/100\n",
      "98/98 [==============================] - 6s 59ms/step - loss: 0.0346 - accuracy: 0.0042 - val_loss: 0.5134 - val_accuracy: 0.0051\n",
      "Epoch 69/100\n",
      "98/98 [==============================] - 6s 61ms/step - loss: 0.0311 - accuracy: 0.0042 - val_loss: 0.4958 - val_accuracy: 0.0051\n",
      "Epoch 70/100\n",
      "98/98 [==============================] - 6s 59ms/step - loss: 0.0306 - accuracy: 0.0042 - val_loss: 0.4966 - val_accuracy: 0.0051\n",
      "Epoch 71/100\n",
      "98/98 [==============================] - 6s 58ms/step - loss: 0.0320 - accuracy: 0.0038 - val_loss: 0.5009 - val_accuracy: 0.0051\n",
      "Epoch 72/100\n",
      "98/98 [==============================] - 6s 60ms/step - loss: 0.0315 - accuracy: 0.0038 - val_loss: 0.5258 - val_accuracy: 0.0051\n",
      "Epoch 73/100\n",
      "98/98 [==============================] - 6s 61ms/step - loss: 0.0295 - accuracy: 0.0042 - val_loss: 0.5030 - val_accuracy: 0.0051\n",
      "Epoch 74/100\n",
      "98/98 [==============================] - 6s 59ms/step - loss: 0.0296 - accuracy: 0.0042 - val_loss: 0.4999 - val_accuracy: 0.0051\n",
      "Epoch 75/100\n",
      "98/98 [==============================] - 6s 62ms/step - loss: 0.0275 - accuracy: 0.0042 - val_loss: 0.4966 - val_accuracy: 0.0051\n",
      "Epoch 76/100\n",
      "98/98 [==============================] - 6s 59ms/step - loss: 0.0281 - accuracy: 0.0042 - val_loss: 0.5138 - val_accuracy: 0.0051\n",
      "Epoch 77/100\n",
      "98/98 [==============================] - 6s 59ms/step - loss: 0.0260 - accuracy: 0.0042 - val_loss: 0.4769 - val_accuracy: 0.0051\n",
      "Epoch 78/100\n",
      "98/98 [==============================] - 6s 58ms/step - loss: 0.0260 - accuracy: 0.0042 - val_loss: 0.5058 - val_accuracy: 0.0051\n",
      "Epoch 79/100\n",
      "98/98 [==============================] - 6s 63ms/step - loss: 0.0268 - accuracy: 0.0042 - val_loss: 0.5230 - val_accuracy: 0.0051\n",
      "Epoch 80/100\n",
      "98/98 [==============================] - 6s 61ms/step - loss: 0.0253 - accuracy: 0.0042 - val_loss: 0.5085 - val_accuracy: 0.0051\n",
      "Epoch 81/100\n",
      "98/98 [==============================] - 6s 59ms/step - loss: 0.0271 - accuracy: 0.0038 - val_loss: 0.4756 - val_accuracy: 0.0051\n",
      "Epoch 82/100\n",
      "98/98 [==============================] - 6s 58ms/step - loss: 0.0242 - accuracy: 0.0042 - val_loss: 0.5168 - val_accuracy: 0.0051\n",
      "Epoch 83/100\n",
      "98/98 [==============================] - 6s 58ms/step - loss: 0.0233 - accuracy: 0.0042 - val_loss: 0.5080 - val_accuracy: 0.0051\n",
      "Epoch 84/100\n",
      "98/98 [==============================] - 6s 58ms/step - loss: 0.0232 - accuracy: 0.0042 - val_loss: 0.4964 - val_accuracy: 0.0051\n",
      "Epoch 85/100\n",
      "98/98 [==============================] - 6s 64ms/step - loss: 0.0229 - accuracy: 0.0042 - val_loss: 0.4976 - val_accuracy: 0.0051\n",
      "Epoch 86/100\n",
      "98/98 [==============================] - 6s 62ms/step - loss: 0.0216 - accuracy: 0.0042 - val_loss: 0.5246 - val_accuracy: 0.0051\n",
      "Epoch 87/100\n",
      "98/98 [==============================] - 6s 59ms/step - loss: 0.0218 - accuracy: 0.0042 - val_loss: 0.4862 - val_accuracy: 0.0051\n",
      "Epoch 88/100\n",
      "98/98 [==============================] - 6s 58ms/step - loss: 0.0232 - accuracy: 0.0042 - val_loss: 0.5171 - val_accuracy: 0.0051\n",
      "Epoch 89/100\n",
      "98/98 [==============================] - 6s 59ms/step - loss: 0.0208 - accuracy: 0.0042 - val_loss: 0.4986 - val_accuracy: 0.0051\n",
      "Epoch 90/100\n",
      "98/98 [==============================] - 6s 59ms/step - loss: 0.0212 - accuracy: 0.0042 - val_loss: 0.4950 - val_accuracy: 0.0051\n",
      "Epoch 91/100\n",
      "98/98 [==============================] - 7s 67ms/step - loss: 0.0206 - accuracy: 0.0042 - val_loss: 0.5108 - val_accuracy: 0.0051\n",
      "Epoch 92/100\n",
      "98/98 [==============================] - 6s 59ms/step - loss: 0.0225 - accuracy: 0.0038 - val_loss: 0.5022 - val_accuracy: 0.0051\n",
      "Epoch 93/100\n",
      "98/98 [==============================] - 6s 59ms/step - loss: 0.0205 - accuracy: 0.0042 - val_loss: 0.5132 - val_accuracy: 0.0051\n",
      "Epoch 94/100\n",
      "98/98 [==============================] - 6s 58ms/step - loss: 0.0211 - accuracy: 0.0038 - val_loss: 0.5322 - val_accuracy: 0.0051\n",
      "Epoch 95/100\n",
      "98/98 [==============================] - 6s 58ms/step - loss: 0.0213 - accuracy: 0.0038 - val_loss: 0.5328 - val_accuracy: 0.0051\n",
      "Epoch 96/100\n",
      "98/98 [==============================] - 6s 61ms/step - loss: 0.0219 - accuracy: 0.0038 - val_loss: 0.5125 - val_accuracy: 0.0051\n",
      "Epoch 97/100\n",
      "98/98 [==============================] - 6s 61ms/step - loss: 0.0196 - accuracy: 0.0042 - val_loss: 0.4867 - val_accuracy: 0.0051\n",
      "Epoch 98/100\n",
      "98/98 [==============================] - 6s 61ms/step - loss: 0.0201 - accuracy: 0.0042 - val_loss: 0.5019 - val_accuracy: 0.0051\n",
      "Epoch 99/100\n",
      "98/98 [==============================] - 6s 58ms/step - loss: 0.0190 - accuracy: 0.0038 - val_loss: 0.5062 - val_accuracy: 0.0051\n",
      "Epoch 100/100\n",
      "98/98 [==============================] - 6s 59ms/step - loss: 0.0189 - accuracy: 0.0042 - val_loss: 0.5161 - val_accuracy: 0.0051\n"
     ]
    },
    {
     "data": {
      "text/plain": [
       "3"
      ]
     },
     "execution_count": 37,
     "metadata": {},
     "output_type": "execute_result"
    }
   ],
   "source": [
    "lstm_model6 = get_model_lstm()\n",
    "lstm_model6.fit(lstm_embed_train, y6_train, epochs=100,validation_data=(lstm_embed_val,y6_val))\n",
    "lstm_result_6 = lstm_model6.predict(lstm_embed_test_final).flatten()\n",
    "lstm_result_6 = [int(r) for r in lstm_result_6]\n",
    "len(lstm_result_6)"
   ]
  },
  {
   "cell_type": "code",
   "execution_count": 38,
   "id": "73af79d6",
   "metadata": {
    "execution": {
     "iopub.execute_input": "2022-11-24T19:54:10.971132Z",
     "iopub.status.busy": "2022-11-24T19:54:10.970741Z",
     "iopub.status.idle": "2022-11-24T19:54:10.977490Z",
     "shell.execute_reply": "2022-11-24T19:54:10.976342Z"
    },
    "papermill": {
     "duration": 3.88064,
     "end_time": "2022-11-24T19:54:10.979761",
     "exception": false,
     "start_time": "2022-11-24T19:54:07.099121",
     "status": "completed"
    },
    "tags": []
   },
   "outputs": [
    {
     "data": {
      "text/plain": [
       "(3, 21370)"
      ]
     },
     "execution_count": 38,
     "metadata": {},
     "output_type": "execute_result"
    }
   ],
   "source": [
    "test.shape"
   ]
  },
  {
   "cell_type": "code",
   "execution_count": 39,
   "id": "b9446f95",
   "metadata": {
    "execution": {
     "iopub.execute_input": "2022-11-24T19:54:18.675558Z",
     "iopub.status.busy": "2022-11-24T19:54:18.675113Z",
     "iopub.status.idle": "2022-11-24T19:54:18.692490Z",
     "shell.execute_reply": "2022-11-24T19:54:18.691462Z"
    },
    "papermill": {
     "duration": 3.816429,
     "end_time": "2022-11-24T19:54:18.694897",
     "exception": false,
     "start_time": "2022-11-24T19:54:14.878468",
     "status": "completed"
    },
    "tags": []
   },
   "outputs": [],
   "source": [
    "t1=pd.read_csv(\"/kaggle/input/feedback-prize-english-language-learning/test.csv\")"
   ]
  },
  {
   "cell_type": "code",
   "execution_count": 40,
   "id": "9b881fe6",
   "metadata": {
    "execution": {
     "iopub.execute_input": "2022-11-24T19:54:26.482703Z",
     "iopub.status.busy": "2022-11-24T19:54:26.482249Z",
     "iopub.status.idle": "2022-11-24T19:54:26.494816Z",
     "shell.execute_reply": "2022-11-24T19:54:26.493941Z"
    },
    "papermill": {
     "duration": 3.887778,
     "end_time": "2022-11-24T19:54:26.496752",
     "exception": false,
     "start_time": "2022-11-24T19:54:22.608974",
     "status": "completed"
    },
    "tags": []
   },
   "outputs": [],
   "source": [
    "final=pd.DataFrame()\n",
    "\n",
    "final['text_id']=t1[\"text_id\"]\n",
    "final['syntax']=lstm_result_1\n",
    "final['cohesion']=lstm_result_2\n",
    "final['vocabulary']=lstm_result_3\n",
    "final['phraseology']=lstm_result_4\n",
    "final['grammar']=lstm_result_5\n",
    "final['conventions']=lstm_result_6"
   ]
  },
  {
   "cell_type": "code",
   "execution_count": 41,
   "id": "618fc6a4",
   "metadata": {
    "execution": {
     "iopub.execute_input": "2022-11-24T19:54:34.282155Z",
     "iopub.status.busy": "2022-11-24T19:54:34.281437Z",
     "iopub.status.idle": "2022-11-24T19:54:34.291942Z",
     "shell.execute_reply": "2022-11-24T19:54:34.291141Z"
    },
    "papermill": {
     "duration": 3.91251,
     "end_time": "2022-11-24T19:54:34.293810",
     "exception": false,
     "start_time": "2022-11-24T19:54:30.381300",
     "status": "completed"
    },
    "tags": []
   },
   "outputs": [
    {
     "data": {
      "text/html": [
       "<div>\n",
       "<style scoped>\n",
       "    .dataframe tbody tr th:only-of-type {\n",
       "        vertical-align: middle;\n",
       "    }\n",
       "\n",
       "    .dataframe tbody tr th {\n",
       "        vertical-align: top;\n",
       "    }\n",
       "\n",
       "    .dataframe thead th {\n",
       "        text-align: right;\n",
       "    }\n",
       "</style>\n",
       "<table border=\"1\" class=\"dataframe\">\n",
       "  <thead>\n",
       "    <tr style=\"text-align: right;\">\n",
       "      <th></th>\n",
       "      <th>text_id</th>\n",
       "      <th>syntax</th>\n",
       "      <th>cohesion</th>\n",
       "      <th>vocabulary</th>\n",
       "      <th>phraseology</th>\n",
       "      <th>grammar</th>\n",
       "      <th>conventions</th>\n",
       "    </tr>\n",
       "  </thead>\n",
       "  <tbody>\n",
       "    <tr>\n",
       "      <th>0</th>\n",
       "      <td>0000C359D63E</td>\n",
       "      <td>2</td>\n",
       "      <td>2</td>\n",
       "      <td>2</td>\n",
       "      <td>2</td>\n",
       "      <td>2</td>\n",
       "      <td>2</td>\n",
       "    </tr>\n",
       "    <tr>\n",
       "      <th>1</th>\n",
       "      <td>000BAD50D026</td>\n",
       "      <td>2</td>\n",
       "      <td>2</td>\n",
       "      <td>2</td>\n",
       "      <td>2</td>\n",
       "      <td>2</td>\n",
       "      <td>3</td>\n",
       "    </tr>\n",
       "    <tr>\n",
       "      <th>2</th>\n",
       "      <td>00367BB2546B</td>\n",
       "      <td>2</td>\n",
       "      <td>2</td>\n",
       "      <td>3</td>\n",
       "      <td>2</td>\n",
       "      <td>3</td>\n",
       "      <td>2</td>\n",
       "    </tr>\n",
       "  </tbody>\n",
       "</table>\n",
       "</div>"
      ],
      "text/plain": [
       "        text_id  syntax  cohesion  vocabulary  phraseology  grammar  \\\n",
       "0  0000C359D63E       2         2           2            2        2   \n",
       "1  000BAD50D026       2         2           2            2        2   \n",
       "2  00367BB2546B       2         2           3            2        3   \n",
       "\n",
       "   conventions  \n",
       "0            2  \n",
       "1            3  \n",
       "2            2  "
      ]
     },
     "execution_count": 41,
     "metadata": {},
     "output_type": "execute_result"
    }
   ],
   "source": [
    "final"
   ]
  },
  {
   "cell_type": "code",
   "execution_count": 42,
   "id": "59f89120",
   "metadata": {
    "execution": {
     "iopub.execute_input": "2022-11-24T19:54:42.055676Z",
     "iopub.status.busy": "2022-11-24T19:54:42.055258Z",
     "iopub.status.idle": "2022-11-24T19:54:42.064326Z",
     "shell.execute_reply": "2022-11-24T19:54:42.063497Z"
    },
    "papermill": {
     "duration": 3.856063,
     "end_time": "2022-11-24T19:54:42.066888",
     "exception": false,
     "start_time": "2022-11-24T19:54:38.210825",
     "status": "completed"
    },
    "tags": []
   },
   "outputs": [],
   "source": [
    "final.to_csv('submission.csv', index=False)"
   ]
  },
  {
   "cell_type": "code",
   "execution_count": null,
   "id": "68f745bd",
   "metadata": {
    "execution": {
     "iopub.execute_input": "2022-11-24T16:10:44.918616Z",
     "iopub.status.busy": "2022-11-24T16:10:44.918221Z",
     "iopub.status.idle": "2022-11-24T16:10:44.926768Z",
     "shell.execute_reply": "2022-11-24T16:10:44.925447Z",
     "shell.execute_reply.started": "2022-11-24T16:10:44.918576Z"
    },
    "papermill": {
     "duration": 3.799597,
     "end_time": "2022-11-24T19:54:49.803016",
     "exception": false,
     "start_time": "2022-11-24T19:54:46.003419",
     "status": "completed"
    },
    "tags": []
   },
   "outputs": [],
   "source": []
  },
  {
   "cell_type": "code",
   "execution_count": null,
   "id": "8540876c",
   "metadata": {
    "execution": {
     "iopub.execute_input": "2022-11-24T16:10:46.631774Z",
     "iopub.status.busy": "2022-11-24T16:10:46.631385Z",
     "iopub.status.idle": "2022-11-24T16:10:46.643887Z",
     "shell.execute_reply": "2022-11-24T16:10:46.642527Z",
     "shell.execute_reply.started": "2022-11-24T16:10:46.631741Z"
    },
    "papermill": {
     "duration": 3.876404,
     "end_time": "2022-11-24T19:54:57.574481",
     "exception": false,
     "start_time": "2022-11-24T19:54:53.698077",
     "status": "completed"
    },
    "tags": []
   },
   "outputs": [],
   "source": []
  },
  {
   "cell_type": "code",
   "execution_count": 43,
   "id": "91b95d85",
   "metadata": {
    "execution": {
     "iopub.execute_input": "2022-11-24T19:55:05.254129Z",
     "iopub.status.busy": "2022-11-24T19:55:05.253675Z",
     "iopub.status.idle": "2022-11-24T19:55:05.266136Z",
     "shell.execute_reply": "2022-11-24T19:55:05.265224Z"
    },
    "papermill": {
     "duration": 3.808477,
     "end_time": "2022-11-24T19:55:05.268383",
     "exception": false,
     "start_time": "2022-11-24T19:55:01.459906",
     "status": "completed"
    },
    "tags": []
   },
   "outputs": [
    {
     "data": {
      "text/html": [
       "<div>\n",
       "<style scoped>\n",
       "    .dataframe tbody tr th:only-of-type {\n",
       "        vertical-align: middle;\n",
       "    }\n",
       "\n",
       "    .dataframe tbody tr th {\n",
       "        vertical-align: top;\n",
       "    }\n",
       "\n",
       "    .dataframe thead th {\n",
       "        text-align: right;\n",
       "    }\n",
       "</style>\n",
       "<table border=\"1\" class=\"dataframe\">\n",
       "  <thead>\n",
       "    <tr style=\"text-align: right;\">\n",
       "      <th></th>\n",
       "      <th>text_id</th>\n",
       "      <th>syntax</th>\n",
       "      <th>cohesion</th>\n",
       "      <th>vocabulary</th>\n",
       "      <th>phraseology</th>\n",
       "      <th>grammar</th>\n",
       "      <th>conventions</th>\n",
       "    </tr>\n",
       "  </thead>\n",
       "  <tbody>\n",
       "    <tr>\n",
       "      <th>0</th>\n",
       "      <td>0000C359D63E</td>\n",
       "      <td>2</td>\n",
       "      <td>2</td>\n",
       "      <td>2</td>\n",
       "      <td>2</td>\n",
       "      <td>2</td>\n",
       "      <td>2</td>\n",
       "    </tr>\n",
       "    <tr>\n",
       "      <th>1</th>\n",
       "      <td>000BAD50D026</td>\n",
       "      <td>2</td>\n",
       "      <td>2</td>\n",
       "      <td>2</td>\n",
       "      <td>2</td>\n",
       "      <td>2</td>\n",
       "      <td>3</td>\n",
       "    </tr>\n",
       "    <tr>\n",
       "      <th>2</th>\n",
       "      <td>00367BB2546B</td>\n",
       "      <td>2</td>\n",
       "      <td>2</td>\n",
       "      <td>3</td>\n",
       "      <td>2</td>\n",
       "      <td>3</td>\n",
       "      <td>2</td>\n",
       "    </tr>\n",
       "  </tbody>\n",
       "</table>\n",
       "</div>"
      ],
      "text/plain": [
       "        text_id  syntax  cohesion  vocabulary  phraseology  grammar  \\\n",
       "0  0000C359D63E       2         2           2            2        2   \n",
       "1  000BAD50D026       2         2           2            2        2   \n",
       "2  00367BB2546B       2         2           3            2        3   \n",
       "\n",
       "   conventions  \n",
       "0            2  \n",
       "1            3  \n",
       "2            2  "
      ]
     },
     "execution_count": 43,
     "metadata": {},
     "output_type": "execute_result"
    }
   ],
   "source": [
    "final"
   ]
  },
  {
   "cell_type": "code",
   "execution_count": null,
   "id": "6e9f91fc",
   "metadata": {
    "execution": {
     "iopub.execute_input": "2022-11-24T16:10:51.652578Z",
     "iopub.status.busy": "2022-11-24T16:10:51.652102Z",
     "iopub.status.idle": "2022-11-24T16:10:51.662327Z",
     "shell.execute_reply": "2022-11-24T16:10:51.661046Z",
     "shell.execute_reply.started": "2022-11-24T16:10:51.652542Z"
    },
    "papermill": {
     "duration": 3.88522,
     "end_time": "2022-11-24T19:55:13.047895",
     "exception": false,
     "start_time": "2022-11-24T19:55:09.162675",
     "status": "completed"
    },
    "tags": []
   },
   "outputs": [],
   "source": []
  },
  {
   "cell_type": "code",
   "execution_count": null,
   "id": "d3a0fb6a",
   "metadata": {
    "papermill": {
     "duration": 3.782188,
     "end_time": "2022-11-24T19:55:20.802147",
     "exception": false,
     "start_time": "2022-11-24T19:55:17.019959",
     "status": "completed"
    },
    "tags": []
   },
   "outputs": [],
   "source": []
  }
 ],
 "metadata": {
  "kernelspec": {
   "display_name": "Python 3",
   "language": "python",
   "name": "python3"
  },
  "language_info": {
   "codemirror_mode": {
    "name": "ipython",
    "version": 3
   },
   "file_extension": ".py",
   "mimetype": "text/x-python",
   "name": "python",
   "nbconvert_exporter": "python",
   "pygments_lexer": "ipython3",
   "version": "3.7.12"
  },
  "papermill": {
   "default_parameters": {},
   "duration": 3708.421421,
   "end_time": "2022-11-24T19:55:28.153119",
   "environment_variables": {},
   "exception": null,
   "input_path": "__notebook__.ipynb",
   "output_path": "__notebook__.ipynb",
   "parameters": {},
   "start_time": "2022-11-24T18:53:39.731698",
   "version": "2.3.4"
  }
 },
 "nbformat": 4,
 "nbformat_minor": 5
}
