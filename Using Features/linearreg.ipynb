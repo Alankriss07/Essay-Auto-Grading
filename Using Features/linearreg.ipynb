{
 "cells": [
  {
   "cell_type": "code",
   "execution_count": 1,
   "id": "dac2f4c9",
   "metadata": {
    "_cell_guid": "b1076dfc-b9ad-4769-8c92-a6c4dae69d19",
    "_uuid": "8f2839f25d086af736a60e9eeb907d3b93b6e0e5",
    "execution": {
     "iopub.execute_input": "2022-11-24T19:11:24.455985Z",
     "iopub.status.busy": "2022-11-24T19:11:24.455463Z",
     "iopub.status.idle": "2022-11-24T19:11:24.470125Z",
     "shell.execute_reply": "2022-11-24T19:11:24.468484Z"
    },
    "papermill": {
     "duration": 0.028604,
     "end_time": "2022-11-24T19:11:24.473078",
     "exception": false,
     "start_time": "2022-11-24T19:11:24.444474",
     "status": "completed"
    },
    "tags": []
   },
   "outputs": [
    {
     "name": "stdout",
     "output_type": "stream",
     "text": [
      "/kaggle/input/feedback-prize-english-language-learning/sample_submission.csv\n",
      "/kaggle/input/feedback-prize-english-language-learning/train.csv\n",
      "/kaggle/input/feedback-prize-english-language-learning/test.csv\n"
     ]
    }
   ],
   "source": [
    "# This Python 3 environment comes with many helpful analytics libraries installed\n",
    "# It is defined by the kaggle/python Docker image: https://github.com/kaggle/docker-python\n",
    "# For example, here's several helpful packages to load\n",
    "\n",
    "import numpy as np # linear algebra\n",
    "import pandas as pd # data processing, CSV file I/O (e.g. pd.read_csv)\n",
    "\n",
    "# Input data files are available in the read-only \"../input/\" directory\n",
    "# For example, running this (by clicking run or pressing Shift+Enter) will list all files under the input directory\n",
    "\n",
    "import os\n",
    "for dirname, _, filenames in os.walk('/kaggle/input'):\n",
    "    for filename in filenames:\n",
    "        print(os.path.join(dirname, filename))\n",
    "\n",
    "# You can write up to 20GB to the current directory (/kaggle/working/) that gets preserved as output when you create a version using \"Save & Run All\" \n",
    "# You can also write temporary files to /kaggle/temp/, but they won't be saved outside of the current session"
   ]
  },
  {
   "cell_type": "code",
   "execution_count": 2,
   "id": "2436e39b",
   "metadata": {
    "execution": {
     "iopub.execute_input": "2022-11-24T19:11:24.490575Z",
     "iopub.status.busy": "2022-11-24T19:11:24.489893Z",
     "iopub.status.idle": "2022-11-24T19:11:53.954210Z",
     "shell.execute_reply": "2022-11-24T19:11:53.952443Z"
    },
    "papermill": {
     "duration": 29.476581,
     "end_time": "2022-11-24T19:11:53.957519",
     "exception": false,
     "start_time": "2022-11-24T19:11:24.480938",
     "status": "completed"
    },
    "tags": []
   },
   "outputs": [
    {
     "name": "stderr",
     "output_type": "stream",
     "text": [
      "[nltk_data] Error loading averaged_perceptron_tagger: <urlopen error\n",
      "[nltk_data]     [Errno -3] Temporary failure in name resolution>\n"
     ]
    },
    {
     "data": {
      "text/plain": [
       "False"
      ]
     },
     "execution_count": 2,
     "metadata": {},
     "output_type": "execute_result"
    }
   ],
   "source": [
    "import nltk\n",
    "import statistics\n",
    "import numpy as np\n",
    "import pickle as pkl\n",
    "from sklearn.metrics import cohen_kappa_score\n",
    "import pandas as pd\n",
    "import tensorflow as tf\n",
    "\n",
    "from tensorflow.keras.layers import Embedding, LSTM, Dense, Dropout, Lambda, Flatten, Bidirectional\n",
    "from tensorflow.keras.models import Sequential, load_model, model_from_config\n",
    "import tensorflow.keras.backend as K \n",
    "from sklearn.metrics import mean_squared_error\n",
    "\n",
    "from sklearn.ensemble import RandomForestRegressor\n",
    "from sklearn.svm import SVR\n",
    "from sklearn.linear_model import LinearRegression\n",
    "from sklearn.metrics import mean_squared_error\n",
    "\n",
    "#from textblob import Word\n",
    "import nltk\n",
    "nltk.download('averaged_perceptron_tagger') "
   ]
  },
  {
   "cell_type": "code",
   "execution_count": 3,
   "id": "987fe4f4",
   "metadata": {
    "execution": {
     "iopub.execute_input": "2022-11-24T19:11:53.977500Z",
     "iopub.status.busy": "2022-11-24T19:11:53.976339Z",
     "iopub.status.idle": "2022-11-24T19:11:54.279043Z",
     "shell.execute_reply": "2022-11-24T19:11:54.278103Z"
    },
    "papermill": {
     "duration": 0.31612,
     "end_time": "2022-11-24T19:11:54.282482",
     "exception": false,
     "start_time": "2022-11-24T19:11:53.966362",
     "status": "completed"
    },
    "tags": []
   },
   "outputs": [],
   "source": [
    "X=pd.read_csv(\"/kaggle/input/feedback-prize-english-language-learning/train.csv\")\n",
    "test=pd.read_csv(\"/kaggle/input/feedback-prize-english-language-learning/test.csv\")"
   ]
  },
  {
   "cell_type": "code",
   "execution_count": 4,
   "id": "c99dc27e",
   "metadata": {
    "execution": {
     "iopub.execute_input": "2022-11-24T19:11:54.301036Z",
     "iopub.status.busy": "2022-11-24T19:11:54.300565Z",
     "iopub.status.idle": "2022-11-24T19:11:54.320483Z",
     "shell.execute_reply": "2022-11-24T19:11:54.319502Z"
    },
    "papermill": {
     "duration": 0.031978,
     "end_time": "2022-11-24T19:11:54.323019",
     "exception": false,
     "start_time": "2022-11-24T19:11:54.291041",
     "status": "completed"
    },
    "tags": []
   },
   "outputs": [],
   "source": [
    "X1_train = X.loc[:int(len(X.index)*0.8)]\n",
    "y_train = X1_train[['syntax','cohesion','vocabulary','phraseology','grammar','conventions']]\n",
    "X1_val = X.loc[int(len(X.index)*0.8)+1:int(len(X.index)*0.9)]\n",
    "y_val = X1_val[['syntax','cohesion','vocabulary','phraseology','grammar','conventions']]\n",
    "X1_test = X.loc[int(len(X.index)*0.9)+1:]\n",
    "y_test = X1_test[['syntax','cohesion','vocabulary','phraseology','grammar','conventions']] \n",
    "\n",
    "#X1_train is only for extracting out y for each set."
   ]
  },
  {
   "cell_type": "code",
   "execution_count": 5,
   "id": "1f31e546",
   "metadata": {
    "execution": {
     "iopub.execute_input": "2022-11-24T19:11:54.341662Z",
     "iopub.status.busy": "2022-11-24T19:11:54.340945Z",
     "iopub.status.idle": "2022-11-24T19:11:54.356408Z",
     "shell.execute_reply": "2022-11-24T19:11:54.355043Z"
    },
    "papermill": {
     "duration": 0.028392,
     "end_time": "2022-11-24T19:11:54.359329",
     "exception": false,
     "start_time": "2022-11-24T19:11:54.330937",
     "status": "completed"
    },
    "tags": []
   },
   "outputs": [],
   "source": [
    "IP=14\n",
    "\n",
    "y1_train=y_train[\"syntax\"]\n",
    "y2_train=y_train[\"cohesion\"]\n",
    "y3_train=y_train[\"vocabulary\"]\n",
    "y4_train=y_train[\"phraseology\"]\n",
    "y5_train=y_train[\"grammar\"]\n",
    "y6_train=y_train[\"conventions\"]\n",
    "\n",
    "y1_val=y_val[\"syntax\"]\n",
    "y2_val=y_val[\"cohesion\"]\n",
    "y3_val=y_val[\"vocabulary\"]\n",
    "y4_val=y_val[\"phraseology\"]\n",
    "y5_val=y_val[\"grammar\"]\n",
    "y6_val=y_val[\"conventions\"]\n",
    "\n",
    "y1_test=y_test[\"syntax\"]\n",
    "y2_test=y_test[\"cohesion\"]\n",
    "y3_test=y_test[\"vocabulary\"]\n",
    "y4_test=y_test[\"phraseology\"]\n",
    "y5_test=y_test[\"grammar\"]\n",
    "y6_test=y_test[\"conventions\"]\n",
    "\n",
    "\n",
    "y1_train = np.asarray(y1_train)\n",
    "y1_val = np.asarray(y1_val)  \n",
    "\n",
    "y2_train = np.asarray(y2_train)\n",
    "y2_val = np.asarray(y2_val)  \n",
    "\n",
    "y3_train = np.asarray(y3_train)\n",
    "y3_val = np.asarray(y3_val)  \n",
    "\n",
    "y4_train = np.asarray(y4_train)\n",
    "y4_val = np.asarray(y4_val)  \n",
    "\n",
    "y5_train = np.asarray(y5_train)\n",
    "y5_val = np.asarray(y5_val)  \n",
    "\n",
    "y6_train = np.asarray(y6_train)\n",
    "y6_val = np.asarray(y6_val)  \n"
   ]
  },
  {
   "cell_type": "code",
   "execution_count": 6,
   "id": "b173f26a",
   "metadata": {
    "execution": {
     "iopub.execute_input": "2022-11-24T19:11:54.379728Z",
     "iopub.status.busy": "2022-11-24T19:11:54.379254Z",
     "iopub.status.idle": "2022-11-24T19:11:54.385202Z",
     "shell.execute_reply": "2022-11-24T19:11:54.383661Z"
    },
    "papermill": {
     "duration": 0.018174,
     "end_time": "2022-11-24T19:11:54.387645",
     "exception": false,
     "start_time": "2022-11-24T19:11:54.369471",
     "status": "completed"
    },
    "tags": []
   },
   "outputs": [],
   "source": [
    "from sklearn.feature_extraction.text import TfidfVectorizer"
   ]
  },
  {
   "cell_type": "code",
   "execution_count": 7,
   "id": "76ba134b",
   "metadata": {
    "execution": {
     "iopub.execute_input": "2022-11-24T19:11:54.407009Z",
     "iopub.status.busy": "2022-11-24T19:11:54.405935Z",
     "iopub.status.idle": "2022-11-24T19:11:54.412021Z",
     "shell.execute_reply": "2022-11-24T19:11:54.411082Z"
    },
    "papermill": {
     "duration": 0.018267,
     "end_time": "2022-11-24T19:11:54.414286",
     "exception": false,
     "start_time": "2022-11-24T19:11:54.396019",
     "status": "completed"
    },
    "tags": []
   },
   "outputs": [],
   "source": [
    "def tokenize_sentences(data):\n",
    "    sent_token = nltk.tokenize.sent_tokenize(data)\n",
    "    return sent_token, len(sent_token)\n",
    "\n",
    "# calls the tokenize_sentences method and returns the total number of sentences\n",
    "def sent_count(data):\n",
    "    return tokenize_sentences(data)[1]"
   ]
  },
  {
   "cell_type": "code",
   "execution_count": 8,
   "id": "0d067d78",
   "metadata": {
    "execution": {
     "iopub.execute_input": "2022-11-24T19:11:54.431832Z",
     "iopub.status.busy": "2022-11-24T19:11:54.431208Z",
     "iopub.status.idle": "2022-11-24T19:11:54.439418Z",
     "shell.execute_reply": "2022-11-24T19:11:54.438365Z"
    },
    "papermill": {
     "duration": 0.019546,
     "end_time": "2022-11-24T19:11:54.441680",
     "exception": false,
     "start_time": "2022-11-24T19:11:54.422134",
     "status": "completed"
    },
    "tags": []
   },
   "outputs": [],
   "source": [
    "def tokenize_words(data, punc=False, remove_stop_words=False, lower=True):\n",
    "    if lower:\n",
    "        word_tokens = nltk.tokenize.word_tokenize(data.lower())\n",
    "    else:\n",
    "        word_tokens = nltk.tokenize.word_tokenize(data)\n",
    "    if punc:\n",
    "        word_tokens = [word for word in word_tokens if word.isalnum()]\n",
    "    if remove_stop_words:\n",
    "        stop_words = get_stop_words()\n",
    "        word_tokens = [word for word in word_tokens if word not in stop_words]\n",
    "        \n",
    "    return word_tokens, list(set(word_tokens)), len(word_tokens)\n",
    "\n",
    "# calls the tokenize_words method and returns the total number of tokens\n",
    "def word_count(data):\n",
    "    return tokenize_words(data)[2]"
   ]
  },
  {
   "cell_type": "code",
   "execution_count": 9,
   "id": "13c221ea",
   "metadata": {
    "execution": {
     "iopub.execute_input": "2022-11-24T19:11:54.459724Z",
     "iopub.status.busy": "2022-11-24T19:11:54.459087Z",
     "iopub.status.idle": "2022-11-24T19:11:54.464867Z",
     "shell.execute_reply": "2022-11-24T19:11:54.463990Z"
    },
    "papermill": {
     "duration": 0.017703,
     "end_time": "2022-11-24T19:11:54.467297",
     "exception": false,
     "start_time": "2022-11-24T19:11:54.449594",
     "status": "completed"
    },
    "tags": []
   },
   "outputs": [],
   "source": [
    "def token_frequency(words):\n",
    "    frequency_of_tokens = nltk.FreqDist(words)\n",
    "    return frequency_of_tokens"
   ]
  },
  {
   "cell_type": "code",
   "execution_count": 10,
   "id": "1a435f32",
   "metadata": {
    "execution": {
     "iopub.execute_input": "2022-11-24T19:11:54.485450Z",
     "iopub.status.busy": "2022-11-24T19:11:54.484777Z",
     "iopub.status.idle": "2022-11-24T19:11:54.491362Z",
     "shell.execute_reply": "2022-11-24T19:11:54.490455Z"
    },
    "papermill": {
     "duration": 0.018335,
     "end_time": "2022-11-24T19:11:54.493691",
     "exception": false,
     "start_time": "2022-11-24T19:11:54.475356",
     "status": "completed"
    },
    "tags": []
   },
   "outputs": [],
   "source": [
    "def token_length(data):\n",
    "    words = tokenize_words(data)[0]\n",
    "    len_of_tokens = {}\n",
    "    for word in words:\n",
    "        len_of_tokens[word] = len(word)\n",
    "    return len_of_tokens\n",
    "# calls the token_length method and returns the average of token lengths\n",
    "def avg_length(words):\n",
    "    return statistics.mean(token_length(words).values())"
   ]
  },
  {
   "cell_type": "code",
   "execution_count": 11,
   "id": "ee4e0ec3",
   "metadata": {
    "execution": {
     "iopub.execute_input": "2022-11-24T19:11:54.511079Z",
     "iopub.status.busy": "2022-11-24T19:11:54.510647Z",
     "iopub.status.idle": "2022-11-24T19:11:54.516670Z",
     "shell.execute_reply": "2022-11-24T19:11:54.515424Z"
    },
    "papermill": {
     "duration": 0.017391,
     "end_time": "2022-11-24T19:11:54.518844",
     "exception": false,
     "start_time": "2022-11-24T19:11:54.501453",
     "status": "completed"
    },
    "tags": []
   },
   "outputs": [],
   "source": [
    "def sentence_length(sent):\n",
    "    len_of_sent = []\n",
    "    for s in sent:\n",
    "        len_of_sent.append(tokenize_words(s)[2])\n",
    "    return len_of_sent, statistics.mean(len_of_sent)\n",
    "def avg_word_sentence(data):\n",
    "        return sentence_length(tokenize_sentences(data)[0])[1]"
   ]
  },
  {
   "cell_type": "code",
   "execution_count": 12,
   "id": "9a3bcb08",
   "metadata": {
    "execution": {
     "iopub.execute_input": "2022-11-24T19:11:54.536187Z",
     "iopub.status.busy": "2022-11-24T19:11:54.535625Z",
     "iopub.status.idle": "2022-11-24T19:11:54.541163Z",
     "shell.execute_reply": "2022-11-24T19:11:54.540279Z"
    },
    "papermill": {
     "duration": 0.016945,
     "end_time": "2022-11-24T19:11:54.543496",
     "exception": false,
     "start_time": "2022-11-24T19:11:54.526551",
     "status": "completed"
    },
    "tags": []
   },
   "outputs": [],
   "source": [
    "def char_count(data):\n",
    "    return len(data.lower().replace(' ',''))"
   ]
  },
  {
   "cell_type": "code",
   "execution_count": 13,
   "id": "0c75fb13",
   "metadata": {
    "execution": {
     "iopub.execute_input": "2022-11-24T19:11:54.562231Z",
     "iopub.status.busy": "2022-11-24T19:11:54.561006Z",
     "iopub.status.idle": "2022-11-24T19:11:54.733090Z",
     "shell.execute_reply": "2022-11-24T19:11:54.731964Z"
    },
    "papermill": {
     "duration": 0.184355,
     "end_time": "2022-11-24T19:11:54.735700",
     "exception": false,
     "start_time": "2022-11-24T19:11:54.551345",
     "status": "completed"
    },
    "tags": []
   },
   "outputs": [
    {
     "data": {
      "text/plain": [
       "(3, 2, 1, 2, 4, 2, 2, 3, 1)"
      ]
     },
     "execution_count": 13,
     "metadata": {},
     "output_type": "execute_result"
    }
   ],
   "source": [
    "def pos_tags(data):\n",
    "    sent = tokenize_sentences(data)[0]\n",
    "    \n",
    "    noun_count = 0\n",
    "    adj_count = 0\n",
    "    verb_count = 0\n",
    "    adv_count = 0\n",
    "    adp_count=0\n",
    "    conj_count = 0\n",
    "    det_count = 0\n",
    "    prt_count = 0\n",
    "    pron_count = 0\n",
    "    punct_count=0\n",
    "    \n",
    "    \n",
    "    for s in sent:\n",
    "        tags = nltk.pos_tag(tokenize_words(s)[0])\n",
    "        #print(tags)\n",
    "        for tag in tags:\n",
    "            if tag[1][0] == 'N':\n",
    "                noun_count += 1\n",
    "            elif tag[1][0] == 'J':\n",
    "                adj_count += 1\n",
    "            elif tag[1][0] == 'V':\n",
    "                verb_count += 1\n",
    "            elif tag[1][0] == 'R':\n",
    "                adv_count += 1\n",
    "            elif tag[1] == 'IN':\n",
    "                adp_count += 1\n",
    "            elif tag[1] == 'CC':\n",
    "                conj_count += 1\n",
    "            elif tag[1] == 'DT':\n",
    "                det_count += 1\n",
    "            elif tag[1] == 'PRT':\n",
    "                prt_count += 1\n",
    "            elif tag[1] == 'PRP' or tag[1] == 'PRP$' :\n",
    "                pron_count += 1\n",
    "            elif tag[1] == '.':\n",
    "                punct_count += 1\n",
    "                \n",
    "    return noun_count,adj_count,verb_count,adv_count , adp_count , conj_count, det_count , pron_count , punct_count\n",
    "\n",
    "\n",
    "pos_tags(\" new good on at relly already and or the some year home at on he their his say told ! \")"
   ]
  },
  {
   "cell_type": "code",
   "execution_count": 14,
   "id": "8a294974",
   "metadata": {
    "execution": {
     "iopub.execute_input": "2022-11-24T19:11:54.753792Z",
     "iopub.status.busy": "2022-11-24T19:11:54.753360Z",
     "iopub.status.idle": "2022-11-24T19:12:06.445265Z",
     "shell.execute_reply": "2022-11-24T19:12:06.443802Z"
    },
    "papermill": {
     "duration": 11.704929,
     "end_time": "2022-11-24T19:12:06.448887",
     "exception": false,
     "start_time": "2022-11-24T19:11:54.743958",
     "status": "completed"
    },
    "tags": []
   },
   "outputs": [
    {
     "data": {
      "text/html": [
       "<div>\n",
       "<style scoped>\n",
       "    .dataframe tbody tr th:only-of-type {\n",
       "        vertical-align: middle;\n",
       "    }\n",
       "\n",
       "    .dataframe tbody tr th {\n",
       "        vertical-align: top;\n",
       "    }\n",
       "\n",
       "    .dataframe thead th {\n",
       "        text-align: right;\n",
       "    }\n",
       "</style>\n",
       "<table border=\"1\" class=\"dataframe\">\n",
       "  <thead>\n",
       "    <tr style=\"text-align: right;\">\n",
       "      <th></th>\n",
       "      <th>text_id</th>\n",
       "      <th>full_text</th>\n",
       "      <th>num_words</th>\n",
       "    </tr>\n",
       "  </thead>\n",
       "  <tbody>\n",
       "    <tr>\n",
       "      <th>0</th>\n",
       "      <td>0000C359D63E</td>\n",
       "      <td>when a person has no experience on a job their...</td>\n",
       "      <td>874</td>\n",
       "    </tr>\n",
       "    <tr>\n",
       "      <th>1</th>\n",
       "      <td>000BAD50D026</td>\n",
       "      <td>Do you think students would benefit from being...</td>\n",
       "      <td>421</td>\n",
       "    </tr>\n",
       "    <tr>\n",
       "      <th>2</th>\n",
       "      <td>00367BB2546B</td>\n",
       "      <td>Thomas Jefferson once states that \"it is wonde...</td>\n",
       "      <td>484</td>\n",
       "    </tr>\n",
       "  </tbody>\n",
       "</table>\n",
       "</div>"
      ],
      "text/plain": [
       "        text_id                                          full_text  num_words\n",
       "0  0000C359D63E  when a person has no experience on a job their...        874\n",
       "1  000BAD50D026  Do you think students would benefit from being...        421\n",
       "2  00367BB2546B  Thomas Jefferson once states that \"it is wonde...        484"
      ]
     },
     "execution_count": 14,
     "metadata": {},
     "output_type": "execute_result"
    }
   ],
   "source": [
    "X['num_words'] = X['full_text'].apply(word_count)\n",
    "test['num_words'] = test['full_text'].apply(word_count)\n",
    "test.head()  \n"
   ]
  },
  {
   "cell_type": "code",
   "execution_count": 15,
   "id": "815057a2",
   "metadata": {
    "execution": {
     "iopub.execute_input": "2022-11-24T19:12:06.468072Z",
     "iopub.status.busy": "2022-11-24T19:12:06.467621Z",
     "iopub.status.idle": "2022-11-24T19:12:08.539131Z",
     "shell.execute_reply": "2022-11-24T19:12:08.537867Z"
    },
    "papermill": {
     "duration": 2.083591,
     "end_time": "2022-11-24T19:12:08.541708",
     "exception": false,
     "start_time": "2022-11-24T19:12:06.458117",
     "status": "completed"
    },
    "tags": []
   },
   "outputs": [
    {
     "data": {
      "text/html": [
       "<div>\n",
       "<style scoped>\n",
       "    .dataframe tbody tr th:only-of-type {\n",
       "        vertical-align: middle;\n",
       "    }\n",
       "\n",
       "    .dataframe tbody tr th {\n",
       "        vertical-align: top;\n",
       "    }\n",
       "\n",
       "    .dataframe thead th {\n",
       "        text-align: right;\n",
       "    }\n",
       "</style>\n",
       "<table border=\"1\" class=\"dataframe\">\n",
       "  <thead>\n",
       "    <tr style=\"text-align: right;\">\n",
       "      <th></th>\n",
       "      <th>text_id</th>\n",
       "      <th>full_text</th>\n",
       "      <th>num_words</th>\n",
       "      <th>num_sents</th>\n",
       "    </tr>\n",
       "  </thead>\n",
       "  <tbody>\n",
       "    <tr>\n",
       "      <th>0</th>\n",
       "      <td>0000C359D63E</td>\n",
       "      <td>when a person has no experience on a job their...</td>\n",
       "      <td>874</td>\n",
       "      <td>26</td>\n",
       "    </tr>\n",
       "    <tr>\n",
       "      <th>1</th>\n",
       "      <td>000BAD50D026</td>\n",
       "      <td>Do you think students would benefit from being...</td>\n",
       "      <td>421</td>\n",
       "      <td>17</td>\n",
       "    </tr>\n",
       "    <tr>\n",
       "      <th>2</th>\n",
       "      <td>00367BB2546B</td>\n",
       "      <td>Thomas Jefferson once states that \"it is wonde...</td>\n",
       "      <td>484</td>\n",
       "      <td>17</td>\n",
       "    </tr>\n",
       "  </tbody>\n",
       "</table>\n",
       "</div>"
      ],
      "text/plain": [
       "        text_id                                          full_text  num_words  \\\n",
       "0  0000C359D63E  when a person has no experience on a job their...        874   \n",
       "1  000BAD50D026  Do you think students would benefit from being...        421   \n",
       "2  00367BB2546B  Thomas Jefferson once states that \"it is wonde...        484   \n",
       "\n",
       "   num_sents  \n",
       "0         26  \n",
       "1         17  \n",
       "2         17  "
      ]
     },
     "execution_count": 15,
     "metadata": {},
     "output_type": "execute_result"
    }
   ],
   "source": [
    "X['num_sents'] = X['full_text'].apply(sent_count)\n",
    "test['num_sents'] = test['full_text'].apply(sent_count)\n",
    "test.head()  "
   ]
  },
  {
   "cell_type": "code",
   "execution_count": 16,
   "id": "073c648a",
   "metadata": {
    "execution": {
     "iopub.execute_input": "2022-11-24T19:12:08.561139Z",
     "iopub.status.busy": "2022-11-24T19:12:08.560174Z",
     "iopub.status.idle": "2022-11-24T19:12:10.631788Z",
     "shell.execute_reply": "2022-11-24T19:12:10.630720Z"
    },
    "papermill": {
     "duration": 2.084113,
     "end_time": "2022-11-24T19:12:10.634487",
     "exception": false,
     "start_time": "2022-11-24T19:12:08.550374",
     "status": "completed"
    },
    "tags": []
   },
   "outputs": [
    {
     "data": {
      "text/html": [
       "<div>\n",
       "<style scoped>\n",
       "    .dataframe tbody tr th:only-of-type {\n",
       "        vertical-align: middle;\n",
       "    }\n",
       "\n",
       "    .dataframe tbody tr th {\n",
       "        vertical-align: top;\n",
       "    }\n",
       "\n",
       "    .dataframe thead th {\n",
       "        text-align: right;\n",
       "    }\n",
       "</style>\n",
       "<table border=\"1\" class=\"dataframe\">\n",
       "  <thead>\n",
       "    <tr style=\"text-align: right;\">\n",
       "      <th></th>\n",
       "      <th>text_id</th>\n",
       "      <th>full_text</th>\n",
       "      <th>num_words</th>\n",
       "      <th>num_sents</th>\n",
       "    </tr>\n",
       "  </thead>\n",
       "  <tbody>\n",
       "    <tr>\n",
       "      <th>0</th>\n",
       "      <td>0000C359D63E</td>\n",
       "      <td>when a person has no experience on a job their...</td>\n",
       "      <td>874</td>\n",
       "      <td>26</td>\n",
       "    </tr>\n",
       "    <tr>\n",
       "      <th>1</th>\n",
       "      <td>000BAD50D026</td>\n",
       "      <td>Do you think students would benefit from being...</td>\n",
       "      <td>421</td>\n",
       "      <td>17</td>\n",
       "    </tr>\n",
       "    <tr>\n",
       "      <th>2</th>\n",
       "      <td>00367BB2546B</td>\n",
       "      <td>Thomas Jefferson once states that \"it is wonde...</td>\n",
       "      <td>484</td>\n",
       "      <td>17</td>\n",
       "    </tr>\n",
       "  </tbody>\n",
       "</table>\n",
       "</div>"
      ],
      "text/plain": [
       "        text_id                                          full_text  num_words  \\\n",
       "0  0000C359D63E  when a person has no experience on a job their...        874   \n",
       "1  000BAD50D026  Do you think students would benefit from being...        421   \n",
       "2  00367BB2546B  Thomas Jefferson once states that \"it is wonde...        484   \n",
       "\n",
       "   num_sents  \n",
       "0         26  \n",
       "1         17  \n",
       "2         17  "
      ]
     },
     "execution_count": 16,
     "metadata": {},
     "output_type": "execute_result"
    }
   ],
   "source": [
    "X['num_sents'] = X['full_text'].apply(sent_count)\n",
    "test['num_sents'] = test['full_text'].apply(sent_count)\n",
    "test.head()  "
   ]
  },
  {
   "cell_type": "code",
   "execution_count": 17,
   "id": "d5774f26",
   "metadata": {
    "execution": {
     "iopub.execute_input": "2022-11-24T19:12:10.657096Z",
     "iopub.status.busy": "2022-11-24T19:12:10.655849Z",
     "iopub.status.idle": "2022-11-24T19:12:25.933667Z",
     "shell.execute_reply": "2022-11-24T19:12:25.932453Z"
    },
    "papermill": {
     "duration": 15.292614,
     "end_time": "2022-11-24T19:12:25.936222",
     "exception": false,
     "start_time": "2022-11-24T19:12:10.643608",
     "status": "completed"
    },
    "tags": []
   },
   "outputs": [
    {
     "data": {
      "text/html": [
       "<div>\n",
       "<style scoped>\n",
       "    .dataframe tbody tr th:only-of-type {\n",
       "        vertical-align: middle;\n",
       "    }\n",
       "\n",
       "    .dataframe tbody tr th {\n",
       "        vertical-align: top;\n",
       "    }\n",
       "\n",
       "    .dataframe thead th {\n",
       "        text-align: right;\n",
       "    }\n",
       "</style>\n",
       "<table border=\"1\" class=\"dataframe\">\n",
       "  <thead>\n",
       "    <tr style=\"text-align: right;\">\n",
       "      <th></th>\n",
       "      <th>text_id</th>\n",
       "      <th>full_text</th>\n",
       "      <th>num_words</th>\n",
       "      <th>num_sents</th>\n",
       "      <th>avg_word_sent</th>\n",
       "    </tr>\n",
       "  </thead>\n",
       "  <tbody>\n",
       "    <tr>\n",
       "      <th>0</th>\n",
       "      <td>0000C359D63E</td>\n",
       "      <td>when a person has no experience on a job their...</td>\n",
       "      <td>874</td>\n",
       "      <td>26</td>\n",
       "      <td>33.615385</td>\n",
       "    </tr>\n",
       "    <tr>\n",
       "      <th>1</th>\n",
       "      <td>000BAD50D026</td>\n",
       "      <td>Do you think students would benefit from being...</td>\n",
       "      <td>421</td>\n",
       "      <td>17</td>\n",
       "      <td>24.764706</td>\n",
       "    </tr>\n",
       "    <tr>\n",
       "      <th>2</th>\n",
       "      <td>00367BB2546B</td>\n",
       "      <td>Thomas Jefferson once states that \"it is wonde...</td>\n",
       "      <td>484</td>\n",
       "      <td>17</td>\n",
       "      <td>28.470588</td>\n",
       "    </tr>\n",
       "  </tbody>\n",
       "</table>\n",
       "</div>"
      ],
      "text/plain": [
       "        text_id                                          full_text  num_words  \\\n",
       "0  0000C359D63E  when a person has no experience on a job their...        874   \n",
       "1  000BAD50D026  Do you think students would benefit from being...        421   \n",
       "2  00367BB2546B  Thomas Jefferson once states that \"it is wonde...        484   \n",
       "\n",
       "   num_sents  avg_word_sent  \n",
       "0         26      33.615385  \n",
       "1         17      24.764706  \n",
       "2         17      28.470588  "
      ]
     },
     "execution_count": 17,
     "metadata": {},
     "output_type": "execute_result"
    }
   ],
   "source": [
    "X['avg_word_sent'] = X['full_text'].apply(avg_word_sentence)\n",
    "test['avg_word_sent'] = test['full_text'].apply(avg_word_sentence)\n",
    "test.head()  "
   ]
  },
  {
   "cell_type": "code",
   "execution_count": 18,
   "id": "9303cb08",
   "metadata": {
    "execution": {
     "iopub.execute_input": "2022-11-24T19:12:25.955417Z",
     "iopub.status.busy": "2022-11-24T19:12:25.955013Z",
     "iopub.status.idle": "2022-11-24T19:14:13.782862Z",
     "shell.execute_reply": "2022-11-24T19:14:13.781785Z"
    },
    "papermill": {
     "duration": 107.841098,
     "end_time": "2022-11-24T19:14:13.785841",
     "exception": false,
     "start_time": "2022-11-24T19:12:25.944743",
     "status": "completed"
    },
    "tags": []
   },
   "outputs": [],
   "source": [
    "X['noun_count'], X['adj_count'], X['verb_count'], X['adv_count'], X['adp_count'],X['conj_count'], X['det_count'], X['pron_count'], X['punct_count']  = zip(*X['full_text'].map(pos_tags))\n",
    "              \n",
    "test['noun_count'], test['adj_count'], test['verb_count'], test['adv_count'], test['adp_count'],test['conj_count'], test['det_count'], test['pron_count'], test['punct_count']  = zip(*test['full_text'].map(pos_tags))\n",
    "                  "
   ]
  },
  {
   "cell_type": "markdown",
   "id": "86e676a3",
   "metadata": {
    "papermill": {
     "duration": 0.008232,
     "end_time": "2022-11-24T19:14:13.802876",
     "exception": false,
     "start_time": "2022-11-24T19:14:13.794644",
     "status": "completed"
    },
    "tags": []
   },
   "source": []
  },
  {
   "cell_type": "code",
   "execution_count": 19,
   "id": "6bda52d1",
   "metadata": {
    "execution": {
     "iopub.execute_input": "2022-11-24T19:14:13.821506Z",
     "iopub.status.busy": "2022-11-24T19:14:13.821093Z",
     "iopub.status.idle": "2022-11-24T19:14:13.829529Z",
     "shell.execute_reply": "2022-11-24T19:14:13.828323Z"
    },
    "papermill": {
     "duration": 0.020897,
     "end_time": "2022-11-24T19:14:13.832220",
     "exception": false,
     "start_time": "2022-11-24T19:14:13.811323",
     "status": "completed"
    },
    "tags": []
   },
   "outputs": [
    {
     "name": "stdout",
     "output_type": "stream",
     "text": [
      "(3911, 20)\n"
     ]
    },
    {
     "data": {
      "text/plain": [
       "(3, 14)"
      ]
     },
     "execution_count": 19,
     "metadata": {},
     "output_type": "execute_result"
    }
   ],
   "source": [
    "X.head()\n",
    "test.head()\n",
    "print(X.shape)\n",
    "test.shape"
   ]
  },
  {
   "cell_type": "code",
   "execution_count": 20,
   "id": "f6bb6c92",
   "metadata": {
    "execution": {
     "iopub.execute_input": "2022-11-24T19:14:13.851421Z",
     "iopub.status.busy": "2022-11-24T19:14:13.850993Z",
     "iopub.status.idle": "2022-11-24T19:14:13.865123Z",
     "shell.execute_reply": "2022-11-24T19:14:13.863197Z"
    },
    "papermill": {
     "duration": 0.027124,
     "end_time": "2022-11-24T19:14:13.868144",
     "exception": false,
     "start_time": "2022-11-24T19:14:13.841020",
     "status": "completed"
    },
    "tags": []
   },
   "outputs": [
    {
     "name": "stdout",
     "output_type": "stream",
     "text": [
      "(391, 12)\n",
      "(391, 12)\n",
      "(3129, 12)\n"
     ]
    },
    {
     "data": {
      "text/plain": [
       "(3, 12)"
      ]
     },
     "execution_count": 20,
     "metadata": {},
     "output_type": "execute_result"
    }
   ],
   "source": [
    "features = X.iloc[:,8:]\n",
    "final_test = test.iloc[:,2:]\n",
    "# print(features.head)\n",
    "features_array = np.asarray(features)\n",
    "features_array_train = features_array[:3129]\n",
    "features_array_val = features_array[3129:3129+391]\n",
    "features_array_test = features_array[3129+391:]\n",
    "print(features_array_test.shape)\n",
    "print(features_array_val.shape)\n",
    "print(features_array_train.shape)\n",
    "final_test.shape\n"
   ]
  },
  {
   "cell_type": "code",
   "execution_count": 21,
   "id": "33bf6748",
   "metadata": {
    "execution": {
     "iopub.execute_input": "2022-11-24T19:14:13.888659Z",
     "iopub.status.busy": "2022-11-24T19:14:13.888227Z",
     "iopub.status.idle": "2022-11-24T19:14:13.982630Z",
     "shell.execute_reply": "2022-11-24T19:14:13.980787Z"
    },
    "papermill": {
     "duration": 0.110366,
     "end_time": "2022-11-24T19:14:13.987508",
     "exception": false,
     "start_time": "2022-11-24T19:14:13.877142",
     "status": "completed"
    },
    "tags": []
   },
   "outputs": [
    {
     "name": "stdout",
     "output_type": "stream",
     "text": [
      "0.33324808184143223 0.3563171355498721 0.2715089514066496 0.34687979539641944 0.4433759590792839 0.3734271099744245\n"
     ]
    }
   ],
   "source": [
    "lr1 = LinearRegression()\n",
    "lr2 = LinearRegression()\n",
    "lr3 = LinearRegression()\n",
    "lr4 = LinearRegression()\n",
    "lr5 = LinearRegression()\n",
    "lr6 = LinearRegression()\n",
    "\n",
    "lr1.fit(features_array_train, y1_train)\n",
    "lr2.fit(features_array_train, y2_train)\n",
    "lr3.fit(features_array_train, y3_train)\n",
    "lr4.fit(features_array_train, y4_train)\n",
    "lr5.fit(features_array_train, y5_train)\n",
    "lr6.fit(features_array_train, y6_train)\n",
    "\n",
    "\n",
    "\n",
    "y1_pred = lr1.predict(features_array_test)\n",
    "y2_pred = lr2.predict(features_array_test)\n",
    "y3_pred = lr3.predict(features_array_test)\n",
    "y4_pred = lr4.predict(features_array_test)\n",
    "y5_pred = lr5.predict(features_array_test)\n",
    "y6_pred = lr6.predict(features_array_test)\n",
    "\n",
    "y1_pred = [round(r,1) for r in y1_pred]\n",
    "y2_pred = [round(r,1) for r in y2_pred]\n",
    "y3_pred = [round(r,1) for r in y3_pred]\n",
    "y4_pred = [round(r,1) for r in y4_pred]\n",
    "y5_pred = [round(r,1) for r in y5_pred]\n",
    "y6_pred = [round(r,1) for r in y6_pred]\n",
    "\n",
    "\n",
    "values1 = mean_squared_error(y1_pred, y1_test)\n",
    "values2 = mean_squared_error(y2_pred, y2_test)\n",
    "values3 = mean_squared_error(y3_pred, y3_test)\n",
    "values4 = mean_squared_error(y4_pred, y4_test)\n",
    "values5 = mean_squared_error(y5_pred, y5_test)\n",
    "values6 = mean_squared_error(y6_pred, y6_test)\n",
    "\n",
    "\n",
    "print(values1,values2,values3,values4,values5,values6)  \n"
   ]
  },
  {
   "cell_type": "code",
   "execution_count": 22,
   "id": "381a32b3",
   "metadata": {
    "execution": {
     "iopub.execute_input": "2022-11-24T19:14:14.038417Z",
     "iopub.status.busy": "2022-11-24T19:14:14.036723Z",
     "iopub.status.idle": "2022-11-24T19:14:14.061566Z",
     "shell.execute_reply": "2022-11-24T19:14:14.060049Z"
    },
    "papermill": {
     "duration": 0.05284,
     "end_time": "2022-11-24T19:14:14.064345",
     "exception": false,
     "start_time": "2022-11-24T19:14:14.011505",
     "status": "completed"
    },
    "tags": []
   },
   "outputs": [
    {
     "name": "stdout",
     "output_type": "stream",
     "text": [
      "(3, 12)\n"
     ]
    },
    {
     "data": {
      "text/html": [
       "<div>\n",
       "<style scoped>\n",
       "    .dataframe tbody tr th:only-of-type {\n",
       "        vertical-align: middle;\n",
       "    }\n",
       "\n",
       "    .dataframe tbody tr th {\n",
       "        vertical-align: top;\n",
       "    }\n",
       "\n",
       "    .dataframe thead th {\n",
       "        text-align: right;\n",
       "    }\n",
       "</style>\n",
       "<table border=\"1\" class=\"dataframe\">\n",
       "  <thead>\n",
       "    <tr style=\"text-align: right;\">\n",
       "      <th></th>\n",
       "      <th>num_words</th>\n",
       "      <th>num_sents</th>\n",
       "      <th>avg_word_sent</th>\n",
       "      <th>noun_count</th>\n",
       "      <th>adj_count</th>\n",
       "      <th>verb_count</th>\n",
       "      <th>adv_count</th>\n",
       "      <th>adp_count</th>\n",
       "      <th>conj_count</th>\n",
       "      <th>det_count</th>\n",
       "      <th>pron_count</th>\n",
       "      <th>punct_count</th>\n",
       "    </tr>\n",
       "  </thead>\n",
       "  <tbody>\n",
       "    <tr>\n",
       "      <th>0</th>\n",
       "      <td>874</td>\n",
       "      <td>26</td>\n",
       "      <td>33.615385</td>\n",
       "      <td>154</td>\n",
       "      <td>40</td>\n",
       "      <td>189</td>\n",
       "      <td>44</td>\n",
       "      <td>90</td>\n",
       "      <td>22</td>\n",
       "      <td>97</td>\n",
       "      <td>111</td>\n",
       "      <td>26</td>\n",
       "    </tr>\n",
       "    <tr>\n",
       "      <th>1</th>\n",
       "      <td>421</td>\n",
       "      <td>17</td>\n",
       "      <td>24.764706</td>\n",
       "      <td>88</td>\n",
       "      <td>14</td>\n",
       "      <td>87</td>\n",
       "      <td>18</td>\n",
       "      <td>54</td>\n",
       "      <td>19</td>\n",
       "      <td>19</td>\n",
       "      <td>59</td>\n",
       "      <td>17</td>\n",
       "    </tr>\n",
       "    <tr>\n",
       "      <th>2</th>\n",
       "      <td>484</td>\n",
       "      <td>17</td>\n",
       "      <td>28.470588</td>\n",
       "      <td>65</td>\n",
       "      <td>30</td>\n",
       "      <td>107</td>\n",
       "      <td>27</td>\n",
       "      <td>54</td>\n",
       "      <td>14</td>\n",
       "      <td>25</td>\n",
       "      <td>73</td>\n",
       "      <td>17</td>\n",
       "    </tr>\n",
       "  </tbody>\n",
       "</table>\n",
       "</div>"
      ],
      "text/plain": [
       "   num_words  num_sents  avg_word_sent  noun_count  adj_count  verb_count  \\\n",
       "0        874         26      33.615385         154         40         189   \n",
       "1        421         17      24.764706          88         14          87   \n",
       "2        484         17      28.470588          65         30         107   \n",
       "\n",
       "   adv_count  adp_count  conj_count  det_count  pron_count  punct_count  \n",
       "0         44         90          22         97         111           26  \n",
       "1         18         54          19         19          59           17  \n",
       "2         27         54          14         25          73           17  "
      ]
     },
     "execution_count": 22,
     "metadata": {},
     "output_type": "execute_result"
    }
   ],
   "source": [
    "print(final_test.shape)\n",
    "final_test"
   ]
  },
  {
   "cell_type": "code",
   "execution_count": 23,
   "id": "23639b66",
   "metadata": {
    "execution": {
     "iopub.execute_input": "2022-11-24T19:14:14.086516Z",
     "iopub.status.busy": "2022-11-24T19:14:14.085438Z",
     "iopub.status.idle": "2022-11-24T19:14:14.109675Z",
     "shell.execute_reply": "2022-11-24T19:14:14.107792Z"
    },
    "papermill": {
     "duration": 0.038384,
     "end_time": "2022-11-24T19:14:14.112224",
     "exception": false,
     "start_time": "2022-11-24T19:14:14.073840",
     "status": "completed"
    },
    "tags": []
   },
   "outputs": [
    {
     "name": "stdout",
     "output_type": "stream",
     "text": [
      "[3.0, 2.9, 3.1]\n",
      "[3.0, 3.0, 3.1]\n",
      "[3.2, 3.1, 3.2]\n",
      "[3.0, 3.0, 3.1]\n",
      "[2.7, 2.9, 3.0]\n",
      "[2.9, 3.0, 3.1]\n"
     ]
    },
    {
     "name": "stderr",
     "output_type": "stream",
     "text": [
      "/opt/conda/lib/python3.7/site-packages/sklearn/base.py:444: UserWarning: X has feature names, but LinearRegression was fitted without feature names\n",
      "  f\"X has feature names, but {self.__class__.__name__} was fitted without\"\n",
      "/opt/conda/lib/python3.7/site-packages/sklearn/base.py:444: UserWarning: X has feature names, but LinearRegression was fitted without feature names\n",
      "  f\"X has feature names, but {self.__class__.__name__} was fitted without\"\n",
      "/opt/conda/lib/python3.7/site-packages/sklearn/base.py:444: UserWarning: X has feature names, but LinearRegression was fitted without feature names\n",
      "  f\"X has feature names, but {self.__class__.__name__} was fitted without\"\n",
      "/opt/conda/lib/python3.7/site-packages/sklearn/base.py:444: UserWarning: X has feature names, but LinearRegression was fitted without feature names\n",
      "  f\"X has feature names, but {self.__class__.__name__} was fitted without\"\n",
      "/opt/conda/lib/python3.7/site-packages/sklearn/base.py:444: UserWarning: X has feature names, but LinearRegression was fitted without feature names\n",
      "  f\"X has feature names, but {self.__class__.__name__} was fitted without\"\n",
      "/opt/conda/lib/python3.7/site-packages/sklearn/base.py:444: UserWarning: X has feature names, but LinearRegression was fitted without feature names\n",
      "  f\"X has feature names, but {self.__class__.__name__} was fitted without\"\n"
     ]
    }
   ],
   "source": [
    "y1_pred = lr1.predict(final_test)\n",
    "y2_pred = lr2.predict(final_test)\n",
    "y3_pred = lr3.predict(final_test)\n",
    "y4_pred = lr4.predict(final_test)\n",
    "y5_pred = lr5.predict(final_test)\n",
    "y6_pred = lr6.predict(final_test)\n",
    "\n",
    "\n",
    "test1 = [round(r,1) for r in y1_pred]\n",
    "test2 = [round(r,1) for r in y2_pred]\n",
    "test3 = [round(r,1) for r in y3_pred]\n",
    "test4 = [round(r,1) for r in y4_pred]\n",
    "test5 = [round(r,1) for r in y5_pred]\n",
    "test6 = [round(r,1) for r in y6_pred]\n",
    "\n",
    "\n",
    "print(test1)\n",
    "print(test2)\n",
    "print(test3)\n",
    "print(test4)\n",
    "print(test5)\n",
    "print(test6)\n"
   ]
  },
  {
   "cell_type": "code",
   "execution_count": 24,
   "id": "109526cf",
   "metadata": {
    "execution": {
     "iopub.execute_input": "2022-11-24T19:14:14.133662Z",
     "iopub.status.busy": "2022-11-24T19:14:14.133223Z",
     "iopub.status.idle": "2022-11-24T19:14:14.143954Z",
     "shell.execute_reply": "2022-11-24T19:14:14.142537Z"
    },
    "papermill": {
     "duration": 0.025557,
     "end_time": "2022-11-24T19:14:14.147831",
     "exception": false,
     "start_time": "2022-11-24T19:14:14.122274",
     "status": "completed"
    },
    "tags": []
   },
   "outputs": [],
   "source": [
    "t1=pd.read_csv(\"/kaggle/input/feedback-prize-english-language-learning/test.csv\")"
   ]
  },
  {
   "cell_type": "code",
   "execution_count": 25,
   "id": "7ea68311",
   "metadata": {
    "execution": {
     "iopub.execute_input": "2022-11-24T19:14:14.170536Z",
     "iopub.status.busy": "2022-11-24T19:14:14.170123Z",
     "iopub.status.idle": "2022-11-24T19:14:14.183448Z",
     "shell.execute_reply": "2022-11-24T19:14:14.182241Z"
    },
    "papermill": {
     "duration": 0.027079,
     "end_time": "2022-11-24T19:14:14.186065",
     "exception": false,
     "start_time": "2022-11-24T19:14:14.158986",
     "status": "completed"
    },
    "tags": []
   },
   "outputs": [],
   "source": [
    "final=pd.DataFrame()\n",
    "\n",
    "final['text_id']=t1[\"text_id\"]\n",
    "final['syntax']=test1\n",
    "final['cohesion']=test2\n",
    "final['vocabulary']=test3\n",
    "final['phraseology']=test4\n",
    "final['grammar']=test5\n",
    "final['conventions']=test6  "
   ]
  },
  {
   "cell_type": "code",
   "execution_count": 26,
   "id": "36158125",
   "metadata": {
    "execution": {
     "iopub.execute_input": "2022-11-24T19:14:14.206928Z",
     "iopub.status.busy": "2022-11-24T19:14:14.206508Z",
     "iopub.status.idle": "2022-11-24T19:14:14.217222Z",
     "shell.execute_reply": "2022-11-24T19:14:14.215578Z"
    },
    "papermill": {
     "duration": 0.024178,
     "end_time": "2022-11-24T19:14:14.219957",
     "exception": false,
     "start_time": "2022-11-24T19:14:14.195779",
     "status": "completed"
    },
    "tags": []
   },
   "outputs": [],
   "source": [
    "final.to_csv('submission.csv', index=False)"
   ]
  },
  {
   "cell_type": "code",
   "execution_count": 27,
   "id": "842572fb",
   "metadata": {
    "execution": {
     "iopub.execute_input": "2022-11-24T19:14:14.242159Z",
     "iopub.status.busy": "2022-11-24T19:14:14.240833Z",
     "iopub.status.idle": "2022-11-24T19:14:14.256839Z",
     "shell.execute_reply": "2022-11-24T19:14:14.255844Z"
    },
    "papermill": {
     "duration": 0.029823,
     "end_time": "2022-11-24T19:14:14.259367",
     "exception": false,
     "start_time": "2022-11-24T19:14:14.229544",
     "status": "completed"
    },
    "tags": []
   },
   "outputs": [
    {
     "data": {
      "text/html": [
       "<div>\n",
       "<style scoped>\n",
       "    .dataframe tbody tr th:only-of-type {\n",
       "        vertical-align: middle;\n",
       "    }\n",
       "\n",
       "    .dataframe tbody tr th {\n",
       "        vertical-align: top;\n",
       "    }\n",
       "\n",
       "    .dataframe thead th {\n",
       "        text-align: right;\n",
       "    }\n",
       "</style>\n",
       "<table border=\"1\" class=\"dataframe\">\n",
       "  <thead>\n",
       "    <tr style=\"text-align: right;\">\n",
       "      <th></th>\n",
       "      <th>text_id</th>\n",
       "      <th>syntax</th>\n",
       "      <th>cohesion</th>\n",
       "      <th>vocabulary</th>\n",
       "      <th>phraseology</th>\n",
       "      <th>grammar</th>\n",
       "      <th>conventions</th>\n",
       "    </tr>\n",
       "  </thead>\n",
       "  <tbody>\n",
       "    <tr>\n",
       "      <th>0</th>\n",
       "      <td>0000C359D63E</td>\n",
       "      <td>3.0</td>\n",
       "      <td>3.0</td>\n",
       "      <td>3.2</td>\n",
       "      <td>3.0</td>\n",
       "      <td>2.7</td>\n",
       "      <td>2.9</td>\n",
       "    </tr>\n",
       "    <tr>\n",
       "      <th>1</th>\n",
       "      <td>000BAD50D026</td>\n",
       "      <td>2.9</td>\n",
       "      <td>3.0</td>\n",
       "      <td>3.1</td>\n",
       "      <td>3.0</td>\n",
       "      <td>2.9</td>\n",
       "      <td>3.0</td>\n",
       "    </tr>\n",
       "    <tr>\n",
       "      <th>2</th>\n",
       "      <td>00367BB2546B</td>\n",
       "      <td>3.1</td>\n",
       "      <td>3.1</td>\n",
       "      <td>3.2</td>\n",
       "      <td>3.1</td>\n",
       "      <td>3.0</td>\n",
       "      <td>3.1</td>\n",
       "    </tr>\n",
       "  </tbody>\n",
       "</table>\n",
       "</div>"
      ],
      "text/plain": [
       "        text_id  syntax  cohesion  vocabulary  phraseology  grammar  \\\n",
       "0  0000C359D63E     3.0       3.0         3.2          3.0      2.7   \n",
       "1  000BAD50D026     2.9       3.0         3.1          3.0      2.9   \n",
       "2  00367BB2546B     3.1       3.1         3.2          3.1      3.0   \n",
       "\n",
       "   conventions  \n",
       "0          2.9  \n",
       "1          3.0  \n",
       "2          3.1  "
      ]
     },
     "execution_count": 27,
     "metadata": {},
     "output_type": "execute_result"
    }
   ],
   "source": [
    "final"
   ]
  },
  {
   "cell_type": "code",
   "execution_count": null,
   "id": "5d667782",
   "metadata": {
    "papermill": {
     "duration": 0.009139,
     "end_time": "2022-11-24T19:14:14.278485",
     "exception": false,
     "start_time": "2022-11-24T19:14:14.269346",
     "status": "completed"
    },
    "tags": []
   },
   "outputs": [],
   "source": []
  },
  {
   "cell_type": "code",
   "execution_count": null,
   "id": "a9ada8e0",
   "metadata": {
    "papermill": {
     "duration": 0.009712,
     "end_time": "2022-11-24T19:14:14.297680",
     "exception": false,
     "start_time": "2022-11-24T19:14:14.287968",
     "status": "completed"
    },
    "tags": []
   },
   "outputs": [],
   "source": []
  }
 ],
 "metadata": {
  "kernelspec": {
   "display_name": "Python 3",
   "language": "python",
   "name": "python3"
  },
  "language_info": {
   "codemirror_mode": {
    "name": "ipython",
    "version": 3
   },
   "file_extension": ".py",
   "mimetype": "text/x-python",
   "name": "python",
   "nbconvert_exporter": "python",
   "pygments_lexer": "ipython3",
   "version": "3.7.12"
  },
  "papermill": {
   "default_parameters": {},
   "duration": 182.352202,
   "end_time": "2022-11-24T19:14:17.299255",
   "environment_variables": {},
   "exception": null,
   "input_path": "__notebook__.ipynb",
   "output_path": "__notebook__.ipynb",
   "parameters": {},
   "start_time": "2022-11-24T19:11:14.947053",
   "version": "2.3.4"
  }
 },
 "nbformat": 4,
 "nbformat_minor": 5
}
